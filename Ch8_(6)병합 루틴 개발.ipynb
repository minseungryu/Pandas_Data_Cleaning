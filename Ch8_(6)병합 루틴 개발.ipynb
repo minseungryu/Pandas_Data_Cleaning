{
 "cells": [
  {
   "cell_type": "markdown",
   "id": "eddb88f8-d926-45ae-8b30-f80d265f06e8",
   "metadata": {},
   "source": [
    "# 병합 루틴 개발\n",
    "---\n",
    "### 데이터 : GHCN 데이터베이스의 countries, location\n",
    "- 두 데이터의 병합 기준 값 불일치 확인 후, 왼쪽 조인"
   ]
  },
  {
   "cell_type": "code",
   "execution_count": 15,
   "id": "85fee610-2f0b-4718-9caf-2319df7865df",
   "metadata": {},
   "outputs": [],
   "source": [
    "import pandas as pd\n",
    "countries = pd.read_csv('data/ltcountries.csv')\n",
    "locations = pd.read_csv('data/ltlocations.csv')"
   ]
  },
  {
   "cell_type": "code",
   "execution_count": 18,
   "id": "60e426fc-7e94-4fc2-9824-02084f4e1853",
   "metadata": {},
   "outputs": [],
   "source": [
    "# 병합 기준 열의 일치 여부 확인\n",
    "def checkmerge(dfleft, dfright, mergebyleft, mergebyright):\n",
    "    dfleft['inleft'] = \"Y\"\n",
    "    dfright['inright'] = \"Y\"\n",
    "    dfboth = pd.merge(dfleft[[mergebyleft, 'inleft']], dfright[[mergebyright, 'inright']],\n",
    "                     left_on=[mergebyleft], right_on=[mergebyright], how='outer')\n",
    "    dfboth.fillna('N', inplace=True)\n",
    "    print(pd.crosstab(dfboth.inleft, dfboth.inright))\n",
    "    print(dfboth.loc[(dfboth.inleft=='N') | (dfboth.inright=='N')].head(20))"
   ]
  },
  {
   "cell_type": "code",
   "execution_count": 19,
   "id": "f77686c0-c980-4625-80dc-8ba2e2e6f6df",
   "metadata": {},
   "outputs": [
    {
     "name": "stdout",
     "output_type": "stream",
     "text": [
      "inright  N      Y\n",
      "inleft           \n",
      "N        0      1\n",
      "Y        2  27472\n",
      "      countryid inleft inright\n",
      "9715         LQ      Y       N\n",
      "13103        ST      Y       N\n",
      "27474        FO      N       Y\n"
     ]
    }
   ],
   "source": [
    "checkmerge(countries.copy(), locations.copy(), 'countryid', 'countryid')"
   ]
  },
  {
   "cell_type": "code",
   "execution_count": 20,
   "id": "f6e35ee8-49ab-4da4-84ef-dbc971180380",
   "metadata": {},
   "outputs": [],
   "source": [
    "#국가와 위치 데이터 병합\n",
    "stations = pd.merge(countries, locations, left_on=['countryid'], right_on=['countryid'], how='left')\n"
   ]
  },
  {
   "cell_type": "code",
   "execution_count": 21,
   "id": "e1971797-d581-4222-bafa-5fbfc7c5d32b",
   "metadata": {},
   "outputs": [
    {
     "data": {
      "text/html": [
       "<div>\n",
       "<style scoped>\n",
       "    .dataframe tbody tr th:only-of-type {\n",
       "        vertical-align: middle;\n",
       "    }\n",
       "\n",
       "    .dataframe tbody tr th {\n",
       "        vertical-align: top;\n",
       "    }\n",
       "\n",
       "    .dataframe thead th {\n",
       "        text-align: right;\n",
       "    }\n",
       "</style>\n",
       "<table border=\"1\" class=\"dataframe\">\n",
       "  <thead>\n",
       "    <tr style=\"text-align: right;\">\n",
       "      <th></th>\n",
       "      <th>locationid</th>\n",
       "      <th>latitude</th>\n",
       "      <th>stnelev</th>\n",
       "      <th>country</th>\n",
       "    </tr>\n",
       "  </thead>\n",
       "  <tbody>\n",
       "    <tr>\n",
       "      <th>0</th>\n",
       "      <td>ACW00011604</td>\n",
       "      <td>57.7667</td>\n",
       "      <td>18.0</td>\n",
       "      <td>Antigua and Barbuda</td>\n",
       "    </tr>\n",
       "    <tr>\n",
       "      <th>1</th>\n",
       "      <td>AE000041196</td>\n",
       "      <td>25.3330</td>\n",
       "      <td>34.0</td>\n",
       "      <td>United Arab Emirates</td>\n",
       "    </tr>\n",
       "    <tr>\n",
       "      <th>2</th>\n",
       "      <td>AEM00041184</td>\n",
       "      <td>25.6170</td>\n",
       "      <td>31.0</td>\n",
       "      <td>United Arab Emirates</td>\n",
       "    </tr>\n",
       "    <tr>\n",
       "      <th>3</th>\n",
       "      <td>AEM00041194</td>\n",
       "      <td>25.2550</td>\n",
       "      <td>10.4</td>\n",
       "      <td>United Arab Emirates</td>\n",
       "    </tr>\n",
       "    <tr>\n",
       "      <th>4</th>\n",
       "      <td>AEM00041216</td>\n",
       "      <td>24.4300</td>\n",
       "      <td>3.0</td>\n",
       "      <td>United Arab Emirates</td>\n",
       "    </tr>\n",
       "    <tr>\n",
       "      <th>5</th>\n",
       "      <td>AEM00041217</td>\n",
       "      <td>24.4330</td>\n",
       "      <td>26.8</td>\n",
       "      <td>United Arab Emirates</td>\n",
       "    </tr>\n",
       "    <tr>\n",
       "      <th>6</th>\n",
       "      <td>AEM00041218</td>\n",
       "      <td>24.2620</td>\n",
       "      <td>264.9</td>\n",
       "      <td>United Arab Emirates</td>\n",
       "    </tr>\n",
       "    <tr>\n",
       "      <th>7</th>\n",
       "      <td>AF000040930</td>\n",
       "      <td>35.3170</td>\n",
       "      <td>3366.0</td>\n",
       "      <td>Afghanistan</td>\n",
       "    </tr>\n",
       "    <tr>\n",
       "      <th>8</th>\n",
       "      <td>AFM00040911</td>\n",
       "      <td>36.7000</td>\n",
       "      <td>378.0</td>\n",
       "      <td>Afghanistan</td>\n",
       "    </tr>\n",
       "    <tr>\n",
       "      <th>9</th>\n",
       "      <td>AFM00040938</td>\n",
       "      <td>34.2100</td>\n",
       "      <td>977.2</td>\n",
       "      <td>Afghanistan</td>\n",
       "    </tr>\n",
       "  </tbody>\n",
       "</table>\n",
       "</div>"
      ],
      "text/plain": [
       "    locationid  latitude  stnelev               country\n",
       "0  ACW00011604   57.7667     18.0   Antigua and Barbuda\n",
       "1  AE000041196   25.3330     34.0  United Arab Emirates\n",
       "2  AEM00041184   25.6170     31.0  United Arab Emirates\n",
       "3  AEM00041194   25.2550     10.4  United Arab Emirates\n",
       "4  AEM00041216   24.4300      3.0  United Arab Emirates\n",
       "5  AEM00041217   24.4330     26.8  United Arab Emirates\n",
       "6  AEM00041218   24.2620    264.9  United Arab Emirates\n",
       "7  AF000040930   35.3170   3366.0           Afghanistan\n",
       "8  AFM00040911   36.7000    378.0           Afghanistan\n",
       "9  AFM00040938   34.2100    977.2           Afghanistan"
      ]
     },
     "execution_count": 21,
     "metadata": {},
     "output_type": "execute_result"
    }
   ],
   "source": [
    "stations[['locationid', 'latitude', 'stnelev', 'country']].head(10)"
   ]
  },
  {
   "cell_type": "code",
   "execution_count": 22,
   "id": "c0c443a3-f784-4f1d-ab74-50cf68b90883",
   "metadata": {},
   "outputs": [
    {
     "data": {
      "text/plain": [
       "(27474, 7)"
      ]
     },
     "execution_count": 22,
     "metadata": {},
     "output_type": "execute_result"
    }
   ],
   "source": [
    "stations.shape"
   ]
  },
  {
   "cell_type": "markdown",
   "id": "ee4d1acf-c634-48eb-9a64-ef74e203b868",
   "metadata": {},
   "source": [
    "> 병합을 실행하기 전에 checkmerge 함수를 호출해, 여러 유형의 조인을 실행했을 때 어떤 결과를 예상할 수 있는지에 대해 충분한 정보를 얻을 수 있다!"
   ]
  }
 ],
 "metadata": {
  "kernelspec": {
   "display_name": "Python 3 (ipykernel)",
   "language": "python",
   "name": "python3"
  },
  "language_info": {
   "codemirror_mode": {
    "name": "ipython",
    "version": 3
   },
   "file_extension": ".py",
   "mimetype": "text/x-python",
   "name": "python",
   "nbconvert_exporter": "python",
   "pygments_lexer": "ipython3",
   "version": "3.9.13"
  }
 },
 "nbformat": 4,
 "nbformat_minor": 5
}
