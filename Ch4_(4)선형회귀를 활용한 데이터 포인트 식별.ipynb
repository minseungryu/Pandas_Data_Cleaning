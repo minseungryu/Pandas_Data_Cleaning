{
 "cells": [
  {
   "cell_type": "markdown",
   "id": "b1e6586b-1e8c-498c-94f3-b9cfbf2f96aa",
   "metadata": {},
   "source": [
    "# 통계 모델링을 활용해 이상값 식별\n",
    "### 선형회귀모델을 실행하여, 다변량 분석에 과도한 영향을 끼칠 수 있는 이상값의 존재를 확인하는 것이 목적\n",
    "---\n",
    "- 관심 변수 분포에 덜 의존적이며 일변량/이변량 분석에서 밝힐 수 있는 것보다 많은 것을 고려함\n",
    "- 선형 회귀를 활용해 목표변수 또는 종속변수의 모델에 아주 큰 영향을 미치는 관측(행) 식별하기\n",
    "    - 소수의 관측에서 한두 개의 변수가 너무 극단적일 경우 전체 관측에 대한 모델 적합을 저해할 수 있음을 시사"
   ]
  },
  {
   "cell_type": "code",
   "execution_count": 1,
   "id": "98b0b5f8-3e6a-4f9c-9e58-18b3dee3d84f",
   "metadata": {},
   "outputs": [],
   "source": [
    "import pandas as pd\n",
    "import numpy as np\n",
    "import matplotlib.pyplot as plt\n",
    "import statsmodels.api as sm"
   ]
  },
  {
   "cell_type": "code",
   "execution_count": 2,
   "id": "004cda82-a0a6-4f1b-9493-69001bf630fd",
   "metadata": {},
   "outputs": [],
   "source": [
    "covidtotals = pd.read_csv('./data/covidtotals.csv')\n",
    "covidtotals.set_index('iso_code', inplace = True)"
   ]
  },
  {
   "cell_type": "markdown",
   "id": "ef3c1fad-d9cf-4f87-9433-ece7c5dec71b",
   "metadata": {},
   "source": [
    "### (1) 분석에 필요한 열 선택\n",
    "    - 분석 파일 생성, 누락 데이터 행은 드롭"
   ]
  },
  {
   "cell_type": "code",
   "execution_count": 3,
   "id": "0d63b7d2-bf8d-4ff0-971c-7513b26a29dc",
   "metadata": {},
   "outputs": [
    {
     "data": {
      "text/html": [
       "<div>\n",
       "<style scoped>\n",
       "    .dataframe tbody tr th:only-of-type {\n",
       "        vertical-align: middle;\n",
       "    }\n",
       "\n",
       "    .dataframe tbody tr th {\n",
       "        vertical-align: top;\n",
       "    }\n",
       "\n",
       "    .dataframe thead th {\n",
       "        text-align: right;\n",
       "    }\n",
       "</style>\n",
       "<table border=\"1\" class=\"dataframe\">\n",
       "  <thead>\n",
       "    <tr style=\"text-align: right;\">\n",
       "      <th></th>\n",
       "      <th>total_cases_pm</th>\n",
       "      <th>pop_density</th>\n",
       "      <th>median_age</th>\n",
       "      <th>gdp_per_capita</th>\n",
       "    </tr>\n",
       "  </thead>\n",
       "  <tbody>\n",
       "    <tr>\n",
       "      <th>count</th>\n",
       "      <td>174.000000</td>\n",
       "      <td>174.000000</td>\n",
       "      <td>174.000000</td>\n",
       "      <td>174.000000</td>\n",
       "    </tr>\n",
       "    <tr>\n",
       "      <th>mean</th>\n",
       "      <td>1140.533040</td>\n",
       "      <td>208.114149</td>\n",
       "      <td>30.455172</td>\n",
       "      <td>18795.474305</td>\n",
       "    </tr>\n",
       "    <tr>\n",
       "      <th>std</th>\n",
       "      <td>2105.653807</td>\n",
       "      <td>641.886238</td>\n",
       "      <td>9.079167</td>\n",
       "      <td>19526.919150</td>\n",
       "    </tr>\n",
       "    <tr>\n",
       "      <th>min</th>\n",
       "      <td>0.894000</td>\n",
       "      <td>1.980000</td>\n",
       "      <td>15.100000</td>\n",
       "      <td>661.240000</td>\n",
       "    </tr>\n",
       "    <tr>\n",
       "      <th>25%</th>\n",
       "      <td>73.387000</td>\n",
       "      <td>35.972500</td>\n",
       "      <td>22.250000</td>\n",
       "      <td>4454.050250</td>\n",
       "    </tr>\n",
       "    <tr>\n",
       "      <th>50%</th>\n",
       "      <td>270.957500</td>\n",
       "      <td>82.024500</td>\n",
       "      <td>29.650000</td>\n",
       "      <td>12623.357500</td>\n",
       "    </tr>\n",
       "    <tr>\n",
       "      <th>75%</th>\n",
       "      <td>1376.313000</td>\n",
       "      <td>207.139250</td>\n",
       "      <td>38.700000</td>\n",
       "      <td>27114.374750</td>\n",
       "    </tr>\n",
       "    <tr>\n",
       "      <th>max</th>\n",
       "      <td>19753.146000</td>\n",
       "      <td>7915.731000</td>\n",
       "      <td>48.200000</td>\n",
       "      <td>116935.600000</td>\n",
       "    </tr>\n",
       "  </tbody>\n",
       "</table>\n",
       "</div>"
      ],
      "text/plain": [
       "       total_cases_pm  pop_density  median_age  gdp_per_capita\n",
       "count      174.000000   174.000000  174.000000      174.000000\n",
       "mean      1140.533040   208.114149   30.455172    18795.474305\n",
       "std       2105.653807   641.886238    9.079167    19526.919150\n",
       "min          0.894000     1.980000   15.100000      661.240000\n",
       "25%         73.387000    35.972500   22.250000     4454.050250\n",
       "50%        270.957500    82.024500   29.650000    12623.357500\n",
       "75%       1376.313000   207.139250   38.700000    27114.374750\n",
       "max      19753.146000  7915.731000   48.200000   116935.600000"
      ]
     },
     "execution_count": 3,
     "metadata": {},
     "output_type": "execute_result"
    }
   ],
   "source": [
    "xvars = ['pop_density', 'median_age', 'gdp_per_capita']\n",
    "covidanalysis = covidtotals.loc[:, ['total_cases_pm']+xvars].dropna()\n",
    "covidanalysis.describe()"
   ]
  },
  {
   "cell_type": "markdown",
   "id": "a00a55b3-af2b-4369-95b6-9d434f3e6b3d",
   "metadata": {},
   "source": [
    "### (2) 선형 회귀 모델 피팅\n",
    "    - 백만 명당 총확진자수의 예측변수일 것으로 근거가 있는 '인구밀도, 중위연령, 1인당 GDP'를 모델에 활용"
   ]
  },
  {
   "cell_type": "code",
   "execution_count": 4,
   "id": "b83cb367-7cca-4042-8eb7-bb31232a5e76",
   "metadata": {},
   "outputs": [],
   "source": [
    "def getlm(df):\n",
    "    Y = df.total_cases_pm\n",
    "    X = df[['pop_density', 'median_age', 'gdp_per_capita']]\n",
    "    X = sm.add_constant(X)\n",
    "    return sm.OLS(Y, X).fit()"
   ]
  },
  {
   "cell_type": "code",
   "execution_count": 5,
   "id": "2944b2ed-93cb-449a-af96-beebd89685b2",
   "metadata": {},
   "outputs": [
    {
     "data": {
      "text/html": [
       "<table class=\"simpletable\">\n",
       "<caption>OLS Regression Results</caption>\n",
       "<tr>\n",
       "  <th>Dep. Variable:</th>     <td>total_cases_pm</td>  <th>  R-squared:         </th> <td>   0.532</td>\n",
       "</tr>\n",
       "<tr>\n",
       "  <th>Model:</th>                   <td>OLS</td>       <th>  Adj. R-squared:    </th> <td>   0.524</td>\n",
       "</tr>\n",
       "<tr>\n",
       "  <th>Method:</th>             <td>Least Squares</td>  <th>  F-statistic:       </th> <td>   64.53</td>\n",
       "</tr>\n",
       "<tr>\n",
       "  <th>Date:</th>             <td>Tue, 09 Jan 2024</td> <th>  Prob (F-statistic):</th> <td>6.60e-28</td>\n",
       "</tr>\n",
       "<tr>\n",
       "  <th>Time:</th>                 <td>17:54:22</td>     <th>  Log-Likelihood:    </th> <td> -1511.8</td>\n",
       "</tr>\n",
       "<tr>\n",
       "  <th>No. Observations:</th>      <td>   174</td>      <th>  AIC:               </th> <td>   3032.</td>\n",
       "</tr>\n",
       "<tr>\n",
       "  <th>Df Residuals:</th>          <td>   170</td>      <th>  BIC:               </th> <td>   3044.</td>\n",
       "</tr>\n",
       "<tr>\n",
       "  <th>Df Model:</th>              <td>     3</td>      <th>                     </th>     <td> </td>   \n",
       "</tr>\n",
       "<tr>\n",
       "  <th>Covariance Type:</th>      <td>nonrobust</td>    <th>                     </th>     <td> </td>   \n",
       "</tr>\n",
       "</table>\n",
       "<table class=\"simpletable\">\n",
       "<tr>\n",
       "         <td></td>           <th>coef</th>     <th>std err</th>      <th>t</th>      <th>P>|t|</th>  <th>[0.025</th>    <th>0.975]</th>  \n",
       "</tr>\n",
       "<tr>\n",
       "  <th>const</th>          <td>  870.6234</td> <td>  423.490</td> <td>    2.056</td> <td> 0.041</td> <td>   34.647</td> <td> 1706.599</td>\n",
       "</tr>\n",
       "<tr>\n",
       "  <th>pop_density</th>    <td>    0.0368</td> <td>    0.179</td> <td>    0.205</td> <td> 0.838</td> <td>   -0.317</td> <td>    0.391</td>\n",
       "</tr>\n",
       "<tr>\n",
       "  <th>median_age</th>     <td>  -47.2963</td> <td>   15.871</td> <td>   -2.980</td> <td> 0.003</td> <td>  -78.627</td> <td>  -15.966</td>\n",
       "</tr>\n",
       "<tr>\n",
       "  <th>gdp_per_capita</th> <td>    0.0906</td> <td>    0.008</td> <td>   11.902</td> <td> 0.000</td> <td>    0.076</td> <td>    0.106</td>\n",
       "</tr>\n",
       "</table>\n",
       "<table class=\"simpletable\">\n",
       "<tr>\n",
       "  <th>Omnibus:</th>       <td>112.470</td> <th>  Durbin-Watson:     </th> <td>   2.205</td> \n",
       "</tr>\n",
       "<tr>\n",
       "  <th>Prob(Omnibus):</th> <td> 0.000</td>  <th>  Jarque-Bera (JB):  </th> <td>1398.340</td> \n",
       "</tr>\n",
       "<tr>\n",
       "  <th>Skew:</th>          <td> 2.126</td>  <th>  Prob(JB):          </th> <td>2.26e-304</td>\n",
       "</tr>\n",
       "<tr>\n",
       "  <th>Kurtosis:</th>      <td>16.221</td>  <th>  Cond. No.          </th> <td>1.04e+05</td> \n",
       "</tr>\n",
       "</table><br/><br/>Notes:<br/>[1] Standard Errors assume that the covariance matrix of the errors is correctly specified.<br/>[2] The condition number is large, 1.04e+05. This might indicate that there are<br/>strong multicollinearity or other numerical problems."
      ],
      "text/plain": [
       "<class 'statsmodels.iolib.summary.Summary'>\n",
       "\"\"\"\n",
       "                            OLS Regression Results                            \n",
       "==============================================================================\n",
       "Dep. Variable:         total_cases_pm   R-squared:                       0.532\n",
       "Model:                            OLS   Adj. R-squared:                  0.524\n",
       "Method:                 Least Squares   F-statistic:                     64.53\n",
       "Date:                Tue, 09 Jan 2024   Prob (F-statistic):           6.60e-28\n",
       "Time:                        17:54:22   Log-Likelihood:                -1511.8\n",
       "No. Observations:                 174   AIC:                             3032.\n",
       "Df Residuals:                     170   BIC:                             3044.\n",
       "Df Model:                           3                                         \n",
       "Covariance Type:            nonrobust                                         \n",
       "==================================================================================\n",
       "                     coef    std err          t      P>|t|      [0.025      0.975]\n",
       "----------------------------------------------------------------------------------\n",
       "const            870.6234    423.490      2.056      0.041      34.647    1706.599\n",
       "pop_density        0.0368      0.179      0.205      0.838      -0.317       0.391\n",
       "median_age       -47.2963     15.871     -2.980      0.003     -78.627     -15.966\n",
       "gdp_per_capita     0.0906      0.008     11.902      0.000       0.076       0.106\n",
       "==============================================================================\n",
       "Omnibus:                      112.470   Durbin-Watson:                   2.205\n",
       "Prob(Omnibus):                  0.000   Jarque-Bera (JB):             1398.340\n",
       "Skew:                           2.126   Prob(JB):                    2.26e-304\n",
       "Kurtosis:                      16.221   Cond. No.                     1.04e+05\n",
       "==============================================================================\n",
       "\n",
       "Notes:\n",
       "[1] Standard Errors assume that the covariance matrix of the errors is correctly specified.\n",
       "[2] The condition number is large, 1.04e+05. This might indicate that there are\n",
       "strong multicollinearity or other numerical problems.\n",
       "\"\"\""
      ]
     },
     "execution_count": 5,
     "metadata": {},
     "output_type": "execute_result"
    }
   ],
   "source": [
    "lm = getlm(covidanalysis)\n",
    "lm.summary()"
   ]
  },
  {
   "cell_type": "markdown",
   "id": "73025722-28ce-4cd4-b7e4-28506c7ed245",
   "metadata": {},
   "source": [
    "### (3) 모델에 큰 영향을 미치는 국가 식별(쿡의 거리)\n",
    "- 쿡의 거리(Cook's Distance)값이 0.5보다 큰 것은 면밀히 조사해야함\n",
    "- 쿡의 거리 : 관측개체가 모델에 얼마나 영향을 끼치는가를 나타냄"
   ]
  },
  {
   "cell_type": "code",
   "execution_count": 6,
   "id": "62804d45-0f31-4130-b9b4-338d59549c91",
   "metadata": {},
   "outputs": [],
   "source": [
    "influence = lm.get_influence().summary_frame()"
   ]
  },
  {
   "cell_type": "code",
   "execution_count": 8,
   "id": "30e909af-306d-4cfa-9cca-5ad10ddb58cf",
   "metadata": {},
   "outputs": [
    {
     "data": {
      "text/html": [
       "<div>\n",
       "<style scoped>\n",
       "    .dataframe tbody tr th:only-of-type {\n",
       "        vertical-align: middle;\n",
       "    }\n",
       "\n",
       "    .dataframe tbody tr th {\n",
       "        vertical-align: top;\n",
       "    }\n",
       "\n",
       "    .dataframe thead th {\n",
       "        text-align: right;\n",
       "    }\n",
       "</style>\n",
       "<table border=\"1\" class=\"dataframe\">\n",
       "  <thead>\n",
       "    <tr style=\"text-align: right;\">\n",
       "      <th></th>\n",
       "      <th>cooks_d</th>\n",
       "    </tr>\n",
       "    <tr>\n",
       "      <th>iso_code</th>\n",
       "      <th></th>\n",
       "    </tr>\n",
       "  </thead>\n",
       "  <tbody>\n",
       "    <tr>\n",
       "      <th>QAT</th>\n",
       "      <td>5.378600</td>\n",
       "    </tr>\n",
       "    <tr>\n",
       "      <th>SGP</th>\n",
       "      <td>3.484871</td>\n",
       "    </tr>\n",
       "  </tbody>\n",
       "</table>\n",
       "</div>"
      ],
      "text/plain": [
       "           cooks_d\n",
       "iso_code          \n",
       "QAT       5.378600\n",
       "SGP       3.484871"
      ]
     },
     "execution_count": 8,
     "metadata": {},
     "output_type": "execute_result"
    }
   ],
   "source": [
    "influence.loc[influence.cooks_d > 0.5]"
   ]
  },
  {
   "cell_type": "code",
   "execution_count": 9,
   "id": "d7173554-1f6f-406c-ae72-1780d8b4e7ef",
   "metadata": {},
   "outputs": [
    {
     "data": {
      "text/html": [
       "<div>\n",
       "<style scoped>\n",
       "    .dataframe tbody tr th:only-of-type {\n",
       "        vertical-align: middle;\n",
       "    }\n",
       "\n",
       "    .dataframe tbody tr th {\n",
       "        vertical-align: top;\n",
       "    }\n",
       "\n",
       "    .dataframe thead th {\n",
       "        text-align: right;\n",
       "    }\n",
       "</style>\n",
       "<table border=\"1\" class=\"dataframe\">\n",
       "  <thead>\n",
       "    <tr style=\"text-align: right;\">\n",
       "      <th></th>\n",
       "      <th>total_cases_pm</th>\n",
       "      <th>pop_density</th>\n",
       "      <th>median_age</th>\n",
       "      <th>gdp_per_capita</th>\n",
       "    </tr>\n",
       "    <tr>\n",
       "      <th>iso_code</th>\n",
       "      <th></th>\n",
       "      <th></th>\n",
       "      <th></th>\n",
       "      <th></th>\n",
       "    </tr>\n",
       "  </thead>\n",
       "  <tbody>\n",
       "    <tr>\n",
       "      <th>QAT</th>\n",
       "      <td>19753.146</td>\n",
       "      <td>227.322</td>\n",
       "      <td>31.9</td>\n",
       "      <td>116935.600</td>\n",
       "    </tr>\n",
       "    <tr>\n",
       "      <th>SGP</th>\n",
       "      <td>5962.727</td>\n",
       "      <td>7915.731</td>\n",
       "      <td>42.4</td>\n",
       "      <td>85535.383</td>\n",
       "    </tr>\n",
       "  </tbody>\n",
       "</table>\n",
       "</div>"
      ],
      "text/plain": [
       "          total_cases_pm  pop_density  median_age  gdp_per_capita\n",
       "iso_code                                                         \n",
       "QAT            19753.146      227.322        31.9      116935.600\n",
       "SGP             5962.727     7915.731        42.4       85535.383"
      ]
     },
     "execution_count": 9,
     "metadata": {},
     "output_type": "execute_result"
    }
   ],
   "source": [
    "covidanalysis.loc[influence.cooks_d > 0.5]"
   ]
  },
  {
   "cell_type": "markdown",
   "id": "804504f8-3901-445f-b98c-c07886afb477",
   "metadata": {},
   "source": [
    "### (4) 영향 플롯(influence plot) 그리기\n",
    "    - 쿡의 거리 값이 높은 국가를 큰 원으로 그린다"
   ]
  },
  {
   "cell_type": "code",
   "execution_count": 10,
   "id": "03e91d4b-5521-4881-957d-35141bd68122",
   "metadata": {},
   "outputs": [
    {
     "data": {
      "image/png": "[encoded data removed]",
      "text/plain": [
       "<Figure size 1000x600 with 1 Axes>"
      ]
     },
     "metadata": {},
     "output_type": "display_data"
    }
   ],
   "source": [
    "fig, ax = plt.subplots(figsize = (10, 6))\n",
    "sm.graphics.influence_plot(lm, ax = ax, criterion='cooks')\n",
    "plt.show()"
   ]
  },
  {
   "cell_type": "markdown",
   "id": "a94f1a69-d6b3-4e7f-b021-2be59060533d",
   "metadata": {},
   "source": [
    "### (5) 이상값 두 개를 빼고 모델 실행\n",
    "- median_age와 상수에 대한 추정값은 더이상 유의하지 않음\n",
    "- 이상치 2건을 제외한 결과, 모델에 극적인 효과가 있음"
   ]
  },
  {
   "cell_type": "code",
   "execution_count": 11,
   "id": "89bf4ce9-ed71-4f9c-8820-65ec4339a14a",
   "metadata": {},
   "outputs": [
    {
     "data": {
      "text/html": [
       "<table class=\"simpletable\">\n",
       "<caption>OLS Regression Results</caption>\n",
       "<tr>\n",
       "  <th>Dep. Variable:</th>     <td>total_cases_pm</td>  <th>  R-squared:         </th> <td>   0.425</td>\n",
       "</tr>\n",
       "<tr>\n",
       "  <th>Model:</th>                   <td>OLS</td>       <th>  Adj. R-squared:    </th> <td>   0.415</td>\n",
       "</tr>\n",
       "<tr>\n",
       "  <th>Method:</th>             <td>Least Squares</td>  <th>  F-statistic:       </th> <td>   41.46</td>\n",
       "</tr>\n",
       "<tr>\n",
       "  <th>Date:</th>             <td>Tue, 09 Jan 2024</td> <th>  Prob (F-statistic):</th> <td>4.16e-20</td>\n",
       "</tr>\n",
       "<tr>\n",
       "  <th>Time:</th>                 <td>18:01:51</td>     <th>  Log-Likelihood:    </th> <td> -1455.9</td>\n",
       "</tr>\n",
       "<tr>\n",
       "  <th>No. Observations:</th>      <td>   172</td>      <th>  AIC:               </th> <td>   2920.</td>\n",
       "</tr>\n",
       "<tr>\n",
       "  <th>Df Residuals:</th>          <td>   168</td>      <th>  BIC:               </th> <td>   2932.</td>\n",
       "</tr>\n",
       "<tr>\n",
       "  <th>Df Model:</th>              <td>     3</td>      <th>                     </th>     <td> </td>   \n",
       "</tr>\n",
       "<tr>\n",
       "  <th>Covariance Type:</th>      <td>nonrobust</td>    <th>                     </th>     <td> </td>   \n",
       "</tr>\n",
       "</table>\n",
       "<table class=\"simpletable\">\n",
       "<tr>\n",
       "         <td></td>           <th>coef</th>     <th>std err</th>      <th>t</th>      <th>P>|t|</th>  <th>[0.025</th>    <th>0.975]</th>  \n",
       "</tr>\n",
       "<tr>\n",
       "  <th>const</th>          <td>   23.2490</td> <td>  349.194</td> <td>    0.067</td> <td> 0.947</td> <td> -666.124</td> <td>  712.622</td>\n",
       "</tr>\n",
       "<tr>\n",
       "  <th>pop_density</th>    <td>    0.6852</td> <td>    0.344</td> <td>    1.989</td> <td> 0.048</td> <td>    0.005</td> <td>    1.365</td>\n",
       "</tr>\n",
       "<tr>\n",
       "  <th>median_age</th>     <td>   -4.6299</td> <td>   13.568</td> <td>   -0.341</td> <td> 0.733</td> <td>  -31.415</td> <td>   22.155</td>\n",
       "</tr>\n",
       "<tr>\n",
       "  <th>gdp_per_capita</th> <td>    0.0566</td> <td>    0.007</td> <td>    7.996</td> <td> 0.000</td> <td>    0.043</td> <td>    0.071</td>\n",
       "</tr>\n",
       "</table>\n",
       "<table class=\"simpletable\">\n",
       "<tr>\n",
       "  <th>Omnibus:</th>       <td>49.511</td> <th>  Durbin-Watson:     </th> <td>   2.203</td>\n",
       "</tr>\n",
       "<tr>\n",
       "  <th>Prob(Omnibus):</th> <td> 0.000</td> <th>  Jarque-Bera (JB):  </th> <td> 111.477</td>\n",
       "</tr>\n",
       "<tr>\n",
       "  <th>Skew:</th>          <td> 1.269</td> <th>  Prob(JB):          </th> <td>6.21e-25</td>\n",
       "</tr>\n",
       "<tr>\n",
       "  <th>Kurtosis:</th>      <td> 6.019</td> <th>  Cond. No.          </th> <td>9.82e+04</td>\n",
       "</tr>\n",
       "</table><br/><br/>Notes:<br/>[1] Standard Errors assume that the covariance matrix of the errors is correctly specified.<br/>[2] The condition number is large, 9.82e+04. This might indicate that there are<br/>strong multicollinearity or other numerical problems."
      ],
      "text/plain": [
       "<class 'statsmodels.iolib.summary.Summary'>\n",
       "\"\"\"\n",
       "                            OLS Regression Results                            \n",
       "==============================================================================\n",
       "Dep. Variable:         total_cases_pm   R-squared:                       0.425\n",
       "Model:                            OLS   Adj. R-squared:                  0.415\n",
       "Method:                 Least Squares   F-statistic:                     41.46\n",
       "Date:                Tue, 09 Jan 2024   Prob (F-statistic):           4.16e-20\n",
       "Time:                        18:01:51   Log-Likelihood:                -1455.9\n",
       "No. Observations:                 172   AIC:                             2920.\n",
       "Df Residuals:                     168   BIC:                             2932.\n",
       "Df Model:                           3                                         \n",
       "Covariance Type:            nonrobust                                         \n",
       "==================================================================================\n",
       "                     coef    std err          t      P>|t|      [0.025      0.975]\n",
       "----------------------------------------------------------------------------------\n",
       "const             23.2490    349.194      0.067      0.947    -666.124     712.622\n",
       "pop_density        0.6852      0.344      1.989      0.048       0.005       1.365\n",
       "median_age        -4.6299     13.568     -0.341      0.733     -31.415      22.155\n",
       "gdp_per_capita     0.0566      0.007      7.996      0.000       0.043       0.071\n",
       "==============================================================================\n",
       "Omnibus:                       49.511   Durbin-Watson:                   2.203\n",
       "Prob(Omnibus):                  0.000   Jarque-Bera (JB):              111.477\n",
       "Skew:                           1.269   Prob(JB):                     6.21e-25\n",
       "Kurtosis:                       6.019   Cond. No.                     9.82e+04\n",
       "==============================================================================\n",
       "\n",
       "Notes:\n",
       "[1] Standard Errors assume that the covariance matrix of the errors is correctly specified.\n",
       "[2] The condition number is large, 9.82e+04. This might indicate that there are\n",
       "strong multicollinearity or other numerical problems.\n",
       "\"\"\""
      ]
     },
     "execution_count": 11,
     "metadata": {},
     "output_type": "execute_result"
    }
   ],
   "source": [
    "covidanalysisminusoutliers = covidanalysis.loc[influence.cooks_d < 0.5]\n",
    "lm = getlm(covidanalysisminusoutliers)\n",
    "lm.summary()"
   ]
  }
 ],
 "metadata": {
  "kernelspec": {
   "display_name": "Python 3 (ipykernel)",
   "language": "python",
   "name": "python3"
  },
  "language_info": {
   "codemirror_mode": {
    "name": "ipython",
    "version": 3
   },
   "file_extension": ".py",
   "mimetype": "text/x-python",
   "name": "python",
   "nbconvert_exporter": "python",
   "pygments_lexer": "ipython3",
   "version": "3.9.13"
  }
 },
 "nbformat": 4,
 "nbformat_minor": 5
}
