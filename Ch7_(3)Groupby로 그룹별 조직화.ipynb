{
 "cells": [
  {
   "cell_type": "markdown",
   "id": "23a5a0ee-c6dd-452a-9d9a-bc17a4e97e6d",
   "metadata": {},
   "source": [
    "# (3)Groupby를 사용해 데이터를 그룹별로 조직화하기"
   ]
  },
  {
   "cell_type": "code",
   "execution_count": 1,
   "id": "312ff495-58a9-4288-bd5d-c4b6552ebf7a",
   "metadata": {},
   "outputs": [],
   "source": [
    "import pandas as pd\n",
    "import numpy as np\n",
    "coviddaily = pd.read_csv('data/coviddaily720.csv', parse_dates=['casedate'])"
   ]
  },
  {
   "cell_type": "markdown",
   "id": "6e551e6f-c56e-41a9-9fae-b48bb81bd6e2",
   "metadata": {},
   "source": [
    "### 판다스 groupby 데이터프레임 생성"
   ]
  },
  {
   "cell_type": "code",
   "execution_count": 2,
   "id": "63633ef7-e067-4fae-b383-54a9e34958f2",
   "metadata": {},
   "outputs": [],
   "source": [
    "countrytots = coviddaily.groupby(['location'])"
   ]
  },
  {
   "cell_type": "code",
   "execution_count": 3,
   "id": "7b965add-94c2-4e03-a401-dfc1fef1f8c1",
   "metadata": {},
   "outputs": [
    {
     "data": {
      "text/plain": [
       "pandas.core.groupby.generic.DataFrameGroupBy"
      ]
     },
     "execution_count": 3,
     "metadata": {},
     "output_type": "execute_result"
    }
   ],
   "source": [
    "type(countrytots)"
   ]
  },
  {
   "cell_type": "markdown",
   "id": "31435641-38b6-4d63-af23-223f5bb54926",
   "metadata": {},
   "source": [
    "### 국가별로 첫 행과 마지막 행의 데이터프레임 생성"
   ]
  },
  {
   "cell_type": "code",
   "execution_count": 4,
   "id": "ca099943-584d-458a-b34a-ac1ac1de362c",
   "metadata": {},
   "outputs": [
    {
     "data": {
      "text/html": [
       "<div>\n",
       "<style scoped>\n",
       "    .dataframe tbody tr th:only-of-type {\n",
       "        vertical-align: middle;\n",
       "    }\n",
       "\n",
       "    .dataframe tbody tr th {\n",
       "        vertical-align: top;\n",
       "    }\n",
       "\n",
       "    .dataframe thead th {\n",
       "        text-align: right;\n",
       "    }\n",
       "</style>\n",
       "<table border=\"1\" class=\"dataframe\">\n",
       "  <thead>\n",
       "    <tr style=\"text-align: right;\">\n",
       "      <th></th>\n",
       "      <th>iso_code</th>\n",
       "      <th>casedate</th>\n",
       "      <th>continent</th>\n",
       "      <th>new_cases</th>\n",
       "      <th>new_deaths</th>\n",
       "    </tr>\n",
       "    <tr>\n",
       "      <th>location</th>\n",
       "      <th></th>\n",
       "      <th></th>\n",
       "      <th></th>\n",
       "      <th></th>\n",
       "      <th></th>\n",
       "    </tr>\n",
       "  </thead>\n",
       "  <tbody>\n",
       "    <tr>\n",
       "      <th>Afghanistan</th>\n",
       "      <td>AFG</td>\n",
       "      <td>2019-12-31</td>\n",
       "      <td>Asia</td>\n",
       "      <td>0.0</td>\n",
       "      <td>0.0</td>\n",
       "    </tr>\n",
       "    <tr>\n",
       "      <th>Albania</th>\n",
       "      <td>ALB</td>\n",
       "      <td>2020-03-09</td>\n",
       "      <td>Europe</td>\n",
       "      <td>2.0</td>\n",
       "      <td>0.0</td>\n",
       "    </tr>\n",
       "    <tr>\n",
       "      <th>Algeria</th>\n",
       "      <td>DZA</td>\n",
       "      <td>2019-12-31</td>\n",
       "      <td>Africa</td>\n",
       "      <td>0.0</td>\n",
       "      <td>0.0</td>\n",
       "    </tr>\n",
       "    <tr>\n",
       "      <th>Andorra</th>\n",
       "      <td>AND</td>\n",
       "      <td>2020-03-03</td>\n",
       "      <td>Europe</td>\n",
       "      <td>1.0</td>\n",
       "      <td>0.0</td>\n",
       "    </tr>\n",
       "    <tr>\n",
       "      <th>Angola</th>\n",
       "      <td>AGO</td>\n",
       "      <td>2020-03-22</td>\n",
       "      <td>Africa</td>\n",
       "      <td>2.0</td>\n",
       "      <td>0.0</td>\n",
       "    </tr>\n",
       "  </tbody>\n",
       "</table>\n",
       "</div>"
      ],
      "text/plain": [
       "            iso_code   casedate continent  new_cases  new_deaths\n",
       "location                                                        \n",
       "Afghanistan      AFG 2019-12-31      Asia        0.0         0.0\n",
       "Albania          ALB 2020-03-09    Europe        2.0         0.0\n",
       "Algeria          DZA 2019-12-31    Africa        0.0         0.0\n",
       "Andorra          AND 2020-03-03    Europe        1.0         0.0\n",
       "Angola           AGO 2020-03-22    Africa        2.0         0.0"
      ]
     },
     "execution_count": 4,
     "metadata": {},
     "output_type": "execute_result"
    }
   ],
   "source": [
    "countrytots.first().iloc[0:5, 0:5]"
   ]
  },
  {
   "cell_type": "code",
   "execution_count": 5,
   "id": "d39bad4b-b96b-4800-b677-aeefb7b9c2b6",
   "metadata": {},
   "outputs": [
    {
     "data": {
      "text/html": [
       "<div>\n",
       "<style scoped>\n",
       "    .dataframe tbody tr th:only-of-type {\n",
       "        vertical-align: middle;\n",
       "    }\n",
       "\n",
       "    .dataframe tbody tr th {\n",
       "        vertical-align: top;\n",
       "    }\n",
       "\n",
       "    .dataframe thead th {\n",
       "        text-align: right;\n",
       "    }\n",
       "</style>\n",
       "<table border=\"1\" class=\"dataframe\">\n",
       "  <thead>\n",
       "    <tr style=\"text-align: right;\">\n",
       "      <th></th>\n",
       "      <th>iso_code</th>\n",
       "      <th>casedate</th>\n",
       "      <th>continent</th>\n",
       "      <th>new_cases</th>\n",
       "      <th>new_deaths</th>\n",
       "    </tr>\n",
       "    <tr>\n",
       "      <th>location</th>\n",
       "      <th></th>\n",
       "      <th></th>\n",
       "      <th></th>\n",
       "      <th></th>\n",
       "      <th></th>\n",
       "    </tr>\n",
       "  </thead>\n",
       "  <tbody>\n",
       "    <tr>\n",
       "      <th>Afghanistan</th>\n",
       "      <td>AFG</td>\n",
       "      <td>2020-07-12</td>\n",
       "      <td>Asia</td>\n",
       "      <td>85.0</td>\n",
       "      <td>16.0</td>\n",
       "    </tr>\n",
       "    <tr>\n",
       "      <th>Albania</th>\n",
       "      <td>ALB</td>\n",
       "      <td>2020-07-12</td>\n",
       "      <td>Europe</td>\n",
       "      <td>93.0</td>\n",
       "      <td>4.0</td>\n",
       "    </tr>\n",
       "    <tr>\n",
       "      <th>Algeria</th>\n",
       "      <td>DZA</td>\n",
       "      <td>2020-07-12</td>\n",
       "      <td>Africa</td>\n",
       "      <td>904.0</td>\n",
       "      <td>16.0</td>\n",
       "    </tr>\n",
       "    <tr>\n",
       "      <th>Andorra</th>\n",
       "      <td>AND</td>\n",
       "      <td>2020-07-12</td>\n",
       "      <td>Europe</td>\n",
       "      <td>0.0</td>\n",
       "      <td>0.0</td>\n",
       "    </tr>\n",
       "    <tr>\n",
       "      <th>Angola</th>\n",
       "      <td>AGO</td>\n",
       "      <td>2020-07-12</td>\n",
       "      <td>Africa</td>\n",
       "      <td>25.0</td>\n",
       "      <td>2.0</td>\n",
       "    </tr>\n",
       "  </tbody>\n",
       "</table>\n",
       "</div>"
      ],
      "text/plain": [
       "            iso_code   casedate continent  new_cases  new_deaths\n",
       "location                                                        \n",
       "Afghanistan      AFG 2020-07-12      Asia       85.0        16.0\n",
       "Albania          ALB 2020-07-12    Europe       93.0         4.0\n",
       "Algeria          DZA 2020-07-12    Africa      904.0        16.0\n",
       "Andorra          AND 2020-07-12    Europe        0.0         0.0\n",
       "Angola           AGO 2020-07-12    Africa       25.0         2.0"
      ]
     },
     "execution_count": 5,
     "metadata": {},
     "output_type": "execute_result"
    }
   ],
   "source": [
    "countrytots.last().iloc[0:5, 0:5]"
   ]
  },
  {
   "cell_type": "code",
   "execution_count": 6,
   "id": "8d153081-2dff-4c1f-97e8-db079f5fb000",
   "metadata": {},
   "outputs": [
    {
     "data": {
      "text/plain": [
       "pandas.core.frame.DataFrame"
      ]
     },
     "execution_count": 6,
     "metadata": {},
     "output_type": "execute_result"
    }
   ],
   "source": [
    "type(countrytots.last())"
   ]
  },
  {
   "cell_type": "markdown",
   "id": "ee2db9b0-17d7-40d9-844b-ba9cde73cbb5",
   "metadata": {},
   "source": [
    "### 국가별 전체 행 얻기"
   ]
  },
  {
   "cell_type": "code",
   "execution_count": 8,
   "id": "b5959b46-42f9-4060-a732-74c159f3dd85",
   "metadata": {},
   "outputs": [
    {
     "data": {
      "text/html": [
       "<div>\n",
       "<style scoped>\n",
       "    .dataframe tbody tr th:only-of-type {\n",
       "        vertical-align: middle;\n",
       "    }\n",
       "\n",
       "    .dataframe tbody tr th {\n",
       "        vertical-align: top;\n",
       "    }\n",
       "\n",
       "    .dataframe thead th {\n",
       "        text-align: right;\n",
       "    }\n",
       "</style>\n",
       "<table border=\"1\" class=\"dataframe\">\n",
       "  <thead>\n",
       "    <tr style=\"text-align: right;\">\n",
       "      <th></th>\n",
       "      <th>iso_code</th>\n",
       "      <th>casedate</th>\n",
       "      <th>location</th>\n",
       "      <th>continent</th>\n",
       "      <th>new_cases</th>\n",
       "    </tr>\n",
       "  </thead>\n",
       "  <tbody>\n",
       "    <tr>\n",
       "      <th>29099</th>\n",
       "      <td>ZWE</td>\n",
       "      <td>2020-03-21</td>\n",
       "      <td>Zimbabwe</td>\n",
       "      <td>Africa</td>\n",
       "      <td>1.0</td>\n",
       "    </tr>\n",
       "    <tr>\n",
       "      <th>29100</th>\n",
       "      <td>ZWE</td>\n",
       "      <td>2020-03-22</td>\n",
       "      <td>Zimbabwe</td>\n",
       "      <td>Africa</td>\n",
       "      <td>1.0</td>\n",
       "    </tr>\n",
       "    <tr>\n",
       "      <th>29101</th>\n",
       "      <td>ZWE</td>\n",
       "      <td>2020-03-23</td>\n",
       "      <td>Zimbabwe</td>\n",
       "      <td>Africa</td>\n",
       "      <td>0.0</td>\n",
       "    </tr>\n",
       "    <tr>\n",
       "      <th>29102</th>\n",
       "      <td>ZWE</td>\n",
       "      <td>2020-03-24</td>\n",
       "      <td>Zimbabwe</td>\n",
       "      <td>Africa</td>\n",
       "      <td>0.0</td>\n",
       "    </tr>\n",
       "    <tr>\n",
       "      <th>29103</th>\n",
       "      <td>ZWE</td>\n",
       "      <td>2020-03-25</td>\n",
       "      <td>Zimbabwe</td>\n",
       "      <td>Africa</td>\n",
       "      <td>0.0</td>\n",
       "    </tr>\n",
       "  </tbody>\n",
       "</table>\n",
       "</div>"
      ],
      "text/plain": [
       "      iso_code   casedate  location continent  new_cases\n",
       "29099      ZWE 2020-03-21  Zimbabwe    Africa        1.0\n",
       "29100      ZWE 2020-03-22  Zimbabwe    Africa        1.0\n",
       "29101      ZWE 2020-03-23  Zimbabwe    Africa        0.0\n",
       "29102      ZWE 2020-03-24  Zimbabwe    Africa        0.0\n",
       "29103      ZWE 2020-03-25  Zimbabwe    Africa        0.0"
      ]
     },
     "execution_count": 8,
     "metadata": {},
     "output_type": "execute_result"
    }
   ],
   "source": [
    "countrytots.get_group('Zimbabwe').iloc[0:5, 0:5]"
   ]
  },
  {
   "cell_type": "markdown",
   "id": "50c23e48-3846-4e54-bbb8-d6eeec01c043",
   "metadata": {},
   "source": [
    "### 그룹에 대해 루핑"
   ]
  },
  {
   "cell_type": "code",
   "execution_count": 9,
   "id": "4ff9b8b0-b115-4582-ae0d-2f012497804c",
   "metadata": {},
   "outputs": [
    {
     "name": "stdout",
     "output_type": "stream",
     "text": [
      "      iso_code   casedate location continent  new_cases\n",
      "14707      KWT 2019-12-31   Kuwait      Asia        0.0\n",
      "14708      KWT 2020-01-01   Kuwait      Asia        0.0\n",
      "14709      KWT 2020-01-02   Kuwait      Asia        0.0\n",
      "14710      KWT 2020-01-03   Kuwait      Asia        0.0\n",
      "14711      KWT 2020-01-04   Kuwait      Asia        0.0\n",
      "      iso_code   casedate location continent  new_cases\n",
      "17057      MLT 2020-03-07    Malta    Europe        1.0\n",
      "17058      MLT 2020-03-08    Malta    Europe        2.0\n",
      "17059      MLT 2020-03-09    Malta    Europe        0.0\n",
      "17060      MLT 2020-03-10    Malta    Europe        2.0\n",
      "17061      MLT 2020-03-11    Malta    Europe        1.0\n"
     ]
    }
   ],
   "source": [
    "for name, group in countrytots:\n",
    "    if (name in ['Malta', 'Kuwait']):\n",
    "        print(group.iloc[0:5, 0:5])"
   ]
  },
  {
   "cell_type": "markdown",
   "id": "60f518cc-958c-43ce-960f-45901e3fe27f",
   "metadata": {},
   "source": [
    "### 국가별 행 수"
   ]
  },
  {
   "cell_type": "code",
   "execution_count": 10,
   "id": "7aa090f7-e66d-4af2-882f-9429bca7ad60",
   "metadata": {},
   "outputs": [
    {
     "data": {
      "text/plain": [
       "location\n",
       "Afghanistan       185\n",
       "Albania           126\n",
       "Algeria           190\n",
       "Andorra           121\n",
       "Angola            113\n",
       "                 ... \n",
       "Vietnam           191\n",
       "Western Sahara     78\n",
       "Yemen              94\n",
       "Zambia            116\n",
       "Zimbabwe          114\n",
       "Length: 209, dtype: int64"
      ]
     },
     "execution_count": 10,
     "metadata": {},
     "output_type": "execute_result"
    }
   ],
   "source": [
    "countrytots.size()"
   ]
  },
  {
   "cell_type": "markdown",
   "id": "d6b3d59f-0fd6-465f-8064-5147f2d1e02d",
   "metadata": {},
   "source": [
    "### 국가별 요약통계"
   ]
  },
  {
   "cell_type": "code",
   "execution_count": 12,
   "id": "dcf59362-a073-4eb2-8b4a-1e18889cce0c",
   "metadata": {},
   "outputs": [
    {
     "data": {
      "text/html": [
       "<div>\n",
       "<style scoped>\n",
       "    .dataframe tbody tr th:only-of-type {\n",
       "        vertical-align: middle;\n",
       "    }\n",
       "\n",
       "    .dataframe tbody tr th {\n",
       "        vertical-align: top;\n",
       "    }\n",
       "\n",
       "    .dataframe thead th {\n",
       "        text-align: right;\n",
       "    }\n",
       "</style>\n",
       "<table border=\"1\" class=\"dataframe\">\n",
       "  <thead>\n",
       "    <tr style=\"text-align: right;\">\n",
       "      <th></th>\n",
       "      <th>count</th>\n",
       "      <th>mean</th>\n",
       "      <th>std</th>\n",
       "      <th>min</th>\n",
       "      <th>25%</th>\n",
       "      <th>50%</th>\n",
       "      <th>75%</th>\n",
       "      <th>max</th>\n",
       "    </tr>\n",
       "    <tr>\n",
       "      <th>location</th>\n",
       "      <th></th>\n",
       "      <th></th>\n",
       "      <th></th>\n",
       "      <th></th>\n",
       "      <th></th>\n",
       "      <th></th>\n",
       "      <th></th>\n",
       "      <th></th>\n",
       "    </tr>\n",
       "  </thead>\n",
       "  <tbody>\n",
       "    <tr>\n",
       "      <th>Afghanistan</th>\n",
       "      <td>185.0</td>\n",
       "      <td>186.221622</td>\n",
       "      <td>257.305202</td>\n",
       "      <td>0.0</td>\n",
       "      <td>0.0</td>\n",
       "      <td>37.0</td>\n",
       "      <td>302.00</td>\n",
       "      <td>1063.0</td>\n",
       "    </tr>\n",
       "    <tr>\n",
       "      <th>Albania</th>\n",
       "      <td>126.0</td>\n",
       "      <td>26.753968</td>\n",
       "      <td>24.651389</td>\n",
       "      <td>0.0</td>\n",
       "      <td>9.0</td>\n",
       "      <td>17.0</td>\n",
       "      <td>35.50</td>\n",
       "      <td>93.0</td>\n",
       "    </tr>\n",
       "    <tr>\n",
       "      <th>Algeria</th>\n",
       "      <td>190.0</td>\n",
       "      <td>98.484211</td>\n",
       "      <td>123.980103</td>\n",
       "      <td>0.0</td>\n",
       "      <td>0.0</td>\n",
       "      <td>88.0</td>\n",
       "      <td>149.75</td>\n",
       "      <td>904.0</td>\n",
       "    </tr>\n",
       "    <tr>\n",
       "      <th>Andorra</th>\n",
       "      <td>121.0</td>\n",
       "      <td>7.066116</td>\n",
       "      <td>12.716614</td>\n",
       "      <td>0.0</td>\n",
       "      <td>0.0</td>\n",
       "      <td>1.0</td>\n",
       "      <td>9.00</td>\n",
       "      <td>79.0</td>\n",
       "    </tr>\n",
       "    <tr>\n",
       "      <th>Angola</th>\n",
       "      <td>113.0</td>\n",
       "      <td>4.274336</td>\n",
       "      <td>8.509709</td>\n",
       "      <td>0.0</td>\n",
       "      <td>0.0</td>\n",
       "      <td>1.0</td>\n",
       "      <td>5.00</td>\n",
       "      <td>62.0</td>\n",
       "    </tr>\n",
       "  </tbody>\n",
       "</table>\n",
       "</div>"
      ],
      "text/plain": [
       "             count        mean         std  min  25%   50%     75%     max\n",
       "location                                                                  \n",
       "Afghanistan  185.0  186.221622  257.305202  0.0  0.0  37.0  302.00  1063.0\n",
       "Albania      126.0   26.753968   24.651389  0.0  9.0  17.0   35.50    93.0\n",
       "Algeria      190.0   98.484211  123.980103  0.0  0.0  88.0  149.75   904.0\n",
       "Andorra      121.0    7.066116   12.716614  0.0  0.0   1.0    9.00    79.0\n",
       "Angola       113.0    4.274336    8.509709  0.0  0.0   1.0    5.00    62.0"
      ]
     },
     "execution_count": 12,
     "metadata": {},
     "output_type": "execute_result"
    }
   ],
   "source": [
    "countrytots.new_cases.describe().head()"
   ]
  },
  {
   "cell_type": "code",
   "execution_count": 13,
   "id": "c0c165d3-b659-42c8-83be-327d3dbe7d93",
   "metadata": {},
   "outputs": [
    {
     "data": {
      "text/plain": [
       "location\n",
       "Afghanistan    34451.0\n",
       "Albania         3371.0\n",
       "Algeria        18712.0\n",
       "Andorra          855.0\n",
       "Angola           483.0\n",
       "Name: new_cases, dtype: float64"
      ]
     },
     "execution_count": 13,
     "metadata": {},
     "output_type": "execute_result"
    }
   ],
   "source": [
    "countrytots.new_cases.sum().head()"
   ]
  }
 ],
 "metadata": {
  "kernelspec": {
   "display_name": "Python 3 (ipykernel)",
   "language": "python",
   "name": "python3"
  },
  "language_info": {
   "codemirror_mode": {
    "name": "ipython",
    "version": 3
   },
   "file_extension": ".py",
   "mimetype": "text/x-python",
   "name": "python",
   "nbconvert_exporter": "python",
   "pygments_lexer": "ipython3",
   "version": "3.9.13"
  }
 },
 "nbformat": 4,
 "nbformat_minor": 5
}
