{
 "cells": [
  {
   "cell_type": "code",
   "execution_count": 1,
   "id": "e569fba8-a3b6-41bb-8f6e-2f334a023b48",
   "metadata": {},
   "outputs": [],
   "source": [
    "import pandas as pd\n",
    "import numpy as np\n",
    "import matplotlib.pyplot as plt\n",
    "import warnings\n",
    "warnings.filterwarnings('ignore')"
   ]
  },
  {
   "cell_type": "code",
   "execution_count": 2,
   "id": "21675bc4-b4a1-4290-8bb5-92a3ffdca3f2",
   "metadata": {},
   "outputs": [],
   "source": [
    "covidtotals = pd.read_csv('./data/covidtotalswithmissings.csv')"
   ]
  },
  {
   "cell_type": "code",
   "execution_count": 3,
   "id": "fe60c622-e3e6-4d4a-9f89-cb2fd240d819",
   "metadata": {},
   "outputs": [
    {
     "data": {
      "text/plain": [
       "Index(['iso_code', 'lastdate', 'location', 'total_cases', 'total_deaths',\n",
       "       'total_cases_pm', 'total_deaths_pm', 'population', 'pop_density',\n",
       "       'median_age', 'gdp_per_capita', 'hosp_beds'],\n",
       "      dtype='object')"
      ]
     },
     "execution_count": 3,
     "metadata": {},
     "output_type": "execute_result"
    }
   ],
   "source": [
    "covidtotals.columns"
   ]
  },
  {
   "cell_type": "code",
   "execution_count": 4,
   "id": "92161e4e-bfcb-49e5-80fa-c5c0a11c3404",
   "metadata": {},
   "outputs": [
    {
     "data": {
      "text/html": [
       "<div>\n",
       "<style scoped>\n",
       "    .dataframe tbody tr th:only-of-type {\n",
       "        vertical-align: middle;\n",
       "    }\n",
       "\n",
       "    .dataframe tbody tr th {\n",
       "        vertical-align: top;\n",
       "    }\n",
       "\n",
       "    .dataframe thead th {\n",
       "        text-align: right;\n",
       "    }\n",
       "</style>\n",
       "<table border=\"1\" class=\"dataframe\">\n",
       "  <thead>\n",
       "    <tr style=\"text-align: right;\">\n",
       "      <th></th>\n",
       "      <th>iso_code</th>\n",
       "      <th>lastdate</th>\n",
       "      <th>location</th>\n",
       "      <th>total_cases</th>\n",
       "      <th>total_deaths</th>\n",
       "      <th>total_cases_pm</th>\n",
       "      <th>total_deaths_pm</th>\n",
       "      <th>population</th>\n",
       "      <th>pop_density</th>\n",
       "      <th>median_age</th>\n",
       "      <th>gdp_per_capita</th>\n",
       "      <th>hosp_beds</th>\n",
       "    </tr>\n",
       "  </thead>\n",
       "  <tbody>\n",
       "    <tr>\n",
       "      <th>0</th>\n",
       "      <td>AFG</td>\n",
       "      <td>2020-06-01</td>\n",
       "      <td>Afghanistan</td>\n",
       "      <td>15205</td>\n",
       "      <td>257</td>\n",
       "      <td>390.589</td>\n",
       "      <td>6.602</td>\n",
       "      <td>38928341.0</td>\n",
       "      <td>54.422</td>\n",
       "      <td>18.6</td>\n",
       "      <td>1803.987</td>\n",
       "      <td>0.50</td>\n",
       "    </tr>\n",
       "    <tr>\n",
       "      <th>1</th>\n",
       "      <td>ALB</td>\n",
       "      <td>2020-06-01</td>\n",
       "      <td>Albania</td>\n",
       "      <td>1137</td>\n",
       "      <td>33</td>\n",
       "      <td>395.093</td>\n",
       "      <td>11.467</td>\n",
       "      <td>2877800.0</td>\n",
       "      <td>104.871</td>\n",
       "      <td>38.0</td>\n",
       "      <td>11803.431</td>\n",
       "      <td>2.89</td>\n",
       "    </tr>\n",
       "    <tr>\n",
       "      <th>2</th>\n",
       "      <td>DZA</td>\n",
       "      <td>2020-06-01</td>\n",
       "      <td>Algeria</td>\n",
       "      <td>9394</td>\n",
       "      <td>653</td>\n",
       "      <td>214.225</td>\n",
       "      <td>14.891</td>\n",
       "      <td>43851043.0</td>\n",
       "      <td>17.348</td>\n",
       "      <td>29.1</td>\n",
       "      <td>13913.839</td>\n",
       "      <td>1.90</td>\n",
       "    </tr>\n",
       "    <tr>\n",
       "      <th>3</th>\n",
       "      <td>AND</td>\n",
       "      <td>2020-06-01</td>\n",
       "      <td>Andorra</td>\n",
       "      <td>764</td>\n",
       "      <td>51</td>\n",
       "      <td>9888.048</td>\n",
       "      <td>660.066</td>\n",
       "      <td>77265.0</td>\n",
       "      <td>163.755</td>\n",
       "      <td>NaN</td>\n",
       "      <td>NaN</td>\n",
       "      <td>NaN</td>\n",
       "    </tr>\n",
       "    <tr>\n",
       "      <th>4</th>\n",
       "      <td>AGO</td>\n",
       "      <td>2020-06-01</td>\n",
       "      <td>Angola</td>\n",
       "      <td>86</td>\n",
       "      <td>4</td>\n",
       "      <td>2.617</td>\n",
       "      <td>0.122</td>\n",
       "      <td>32866268.0</td>\n",
       "      <td>23.890</td>\n",
       "      <td>16.8</td>\n",
       "      <td>5819.495</td>\n",
       "      <td>NaN</td>\n",
       "    </tr>\n",
       "  </tbody>\n",
       "</table>\n",
       "</div>"
      ],
      "text/plain": [
       "  iso_code    lastdate     location  total_cases  total_deaths  \\\n",
       "0      AFG  2020-06-01  Afghanistan        15205           257   \n",
       "1      ALB  2020-06-01      Albania         1137            33   \n",
       "2      DZA  2020-06-01      Algeria         9394           653   \n",
       "3      AND  2020-06-01      Andorra          764            51   \n",
       "4      AGO  2020-06-01       Angola           86             4   \n",
       "\n",
       "   total_cases_pm  total_deaths_pm  population  pop_density  median_age  \\\n",
       "0         390.589            6.602  38928341.0       54.422        18.6   \n",
       "1         395.093           11.467   2877800.0      104.871        38.0   \n",
       "2         214.225           14.891  43851043.0       17.348        29.1   \n",
       "3        9888.048          660.066     77265.0      163.755         NaN   \n",
       "4           2.617            0.122  32866268.0       23.890        16.8   \n",
       "\n",
       "   gdp_per_capita  hosp_beds  \n",
       "0        1803.987       0.50  \n",
       "1       11803.431       2.89  \n",
       "2       13913.839       1.90  \n",
       "3             NaN        NaN  \n",
       "4        5819.495        NaN  "
      ]
     },
     "execution_count": 4,
     "metadata": {},
     "output_type": "execute_result"
    }
   ],
   "source": [
    "covidtotals.head()"
   ]
  },
  {
   "cell_type": "code",
   "execution_count": 5,
   "id": "3f393fe8-9509-4dcd-abb4-3fedda2ad075",
   "metadata": {},
   "outputs": [],
   "source": [
    "totvars = ['location', 'total_cases', 'total_deaths',\n",
    "       'total_cases_pm', 'total_deaths_pm']"
   ]
  },
  {
   "cell_type": "code",
   "execution_count": 6,
   "id": "b42c621e-9723-41fd-b07b-e9c0d01c7624",
   "metadata": {},
   "outputs": [],
   "source": [
    "demovars = ['population', 'pop_density',\n",
    "       'median_age', 'gdp_per_capita', 'hosp_beds']"
   ]
  },
  {
   "cell_type": "markdown",
   "id": "8c388e2b-0810-4582-9bd9-674c074735e3",
   "metadata": {},
   "source": [
    "# 누락값\n",
    "## 인구통계변수 누락값 확인"
   ]
  },
  {
   "cell_type": "code",
   "execution_count": 7,
   "id": "40ddd918-5e59-437c-b04b-ffffda83a314",
   "metadata": {},
   "outputs": [
    {
     "data": {
      "text/plain": [
       "0    156\n",
       "1     24\n",
       "2     12\n",
       "3     10\n",
       "4      8\n",
       "dtype: int64"
      ]
     },
     "execution_count": 7,
     "metadata": {},
     "output_type": "execute_result"
    }
   ],
   "source": [
    "#국가별로 누락된 인구통계변수 개수 합산(행 방향) >> 5개 변수중 3개 누락 국가가 10개, 4개 누락 국가가 8개\n",
    "demovarsmisscnt = covidtotals[demovars].isnull().sum(axis = 1)\n",
    "demovarsmisscnt.value_counts()"
   ]
  },
  {
   "cell_type": "code",
   "execution_count": 41,
   "id": "93909bc1-77c6-473c-88e8-485e662f0c73",
   "metadata": {},
   "outputs": [
    {
     "data": {
      "text/plain": [
       "0      0\n",
       "1      0\n",
       "2      0\n",
       "3      3\n",
       "4      1\n",
       "      ..\n",
       "205    0\n",
       "206    3\n",
       "207    0\n",
       "208    0\n",
       "209    0\n",
       "Length: 210, dtype: int64"
      ]
     },
     "execution_count": 41,
     "metadata": {},
     "output_type": "execute_result"
    }
   ],
   "source": [
    "demovarsmisscnt"
   ]
  },
  {
   "cell_type": "code",
   "execution_count": 8,
   "id": "08a08c2b-cb96-4b00-98a1-906a67fae59b",
   "metadata": {},
   "outputs": [
    {
     "data": {
      "text/plain": [
       "population         0\n",
       "pop_density       12\n",
       "median_age        24\n",
       "gdp_per_capita    28\n",
       "hosp_beds         46\n",
       "dtype: int64"
      ]
     },
     "execution_count": 8,
     "metadata": {},
     "output_type": "execute_result"
    }
   ],
   "source": [
    "#인구통계열 누락데이터 확인(열 방향)\n",
    "covidtotals[demovars].isnull().sum(axis = 0)"
   ]
  },
  {
   "cell_type": "code",
   "execution_count": 9,
   "id": "dfe657a1-7dcc-40f1-9786-b09fa773147f",
   "metadata": {},
   "outputs": [
    {
     "data": {
      "text/plain": [
       "0      0\n",
       "1      0\n",
       "2      0\n",
       "3      3\n",
       "4      1\n",
       "      ..\n",
       "205    0\n",
       "206    3\n",
       "207    0\n",
       "208    0\n",
       "209    0\n",
       "Length: 210, dtype: int64"
      ]
     },
     "execution_count": 9,
     "metadata": {},
     "output_type": "execute_result"
    }
   ],
   "source": [
    "demovarsmisscnt"
   ]
  },
  {
   "cell_type": "markdown",
   "id": "f7bd1cd0-dd41-47e2-bfdd-5d5653ceeaa2",
   "metadata": {},
   "source": [
    "### 📍index alignment & bool indexing 응용\n",
    "- 인덱스 값끼리 연산\n",
    "- 시리즈를 이용해 누락값이 3개 이상인 국가 선별"
   ]
  },
  {
   "cell_type": "code",
   "execution_count": 10,
   "id": "fc0e295f-9339-4b06-a113-682e4e1b04d0",
   "metadata": {},
   "outputs": [
    {
     "data": {
      "text/html": [
       "<div>\n",
       "<style scoped>\n",
       "    .dataframe tbody tr th:only-of-type {\n",
       "        vertical-align: middle;\n",
       "    }\n",
       "\n",
       "    .dataframe tbody tr th {\n",
       "        vertical-align: top;\n",
       "    }\n",
       "\n",
       "    .dataframe thead th {\n",
       "        text-align: right;\n",
       "    }\n",
       "</style>\n",
       "<table border=\"1\" class=\"dataframe\">\n",
       "  <thead>\n",
       "    <tr style=\"text-align: right;\">\n",
       "      <th></th>\n",
       "      <th>3</th>\n",
       "      <th>5</th>\n",
       "      <th>24</th>\n",
       "      <th>28</th>\n",
       "      <th>64</th>\n",
       "    </tr>\n",
       "  </thead>\n",
       "  <tbody>\n",
       "    <tr>\n",
       "      <th>location</th>\n",
       "      <td>Andorra</td>\n",
       "      <td>Anguilla</td>\n",
       "      <td>Bonaire Sint Eustatius and Saba</td>\n",
       "      <td>British Virgin Islands</td>\n",
       "      <td>Faeroe Islands</td>\n",
       "    </tr>\n",
       "    <tr>\n",
       "      <th>iso_code</th>\n",
       "      <td>AND</td>\n",
       "      <td>AIA</td>\n",
       "      <td>BES</td>\n",
       "      <td>VGB</td>\n",
       "      <td>FRO</td>\n",
       "    </tr>\n",
       "    <tr>\n",
       "      <th>population</th>\n",
       "      <td>77265.0</td>\n",
       "      <td>15002.0</td>\n",
       "      <td>26221.0</td>\n",
       "      <td>30237.0</td>\n",
       "      <td>48865.0</td>\n",
       "    </tr>\n",
       "    <tr>\n",
       "      <th>pop_density</th>\n",
       "      <td>163.755</td>\n",
       "      <td>NaN</td>\n",
       "      <td>NaN</td>\n",
       "      <td>207.973</td>\n",
       "      <td>35.308</td>\n",
       "    </tr>\n",
       "    <tr>\n",
       "      <th>median_age</th>\n",
       "      <td>NaN</td>\n",
       "      <td>NaN</td>\n",
       "      <td>NaN</td>\n",
       "      <td>NaN</td>\n",
       "      <td>NaN</td>\n",
       "    </tr>\n",
       "    <tr>\n",
       "      <th>gdp_per_capita</th>\n",
       "      <td>NaN</td>\n",
       "      <td>NaN</td>\n",
       "      <td>NaN</td>\n",
       "      <td>NaN</td>\n",
       "      <td>NaN</td>\n",
       "    </tr>\n",
       "    <tr>\n",
       "      <th>hosp_beds</th>\n",
       "      <td>NaN</td>\n",
       "      <td>NaN</td>\n",
       "      <td>NaN</td>\n",
       "      <td>NaN</td>\n",
       "      <td>NaN</td>\n",
       "    </tr>\n",
       "  </tbody>\n",
       "</table>\n",
       "</div>"
      ],
      "text/plain": [
       "                     3         5                                24  \\\n",
       "location        Andorra  Anguilla  Bonaire Sint Eustatius and Saba   \n",
       "iso_code            AND       AIA                              BES   \n",
       "population      77265.0   15002.0                          26221.0   \n",
       "pop_density     163.755       NaN                              NaN   \n",
       "median_age          NaN       NaN                              NaN   \n",
       "gdp_per_capita      NaN       NaN                              NaN   \n",
       "hosp_beds           NaN       NaN                              NaN   \n",
       "\n",
       "                                    28              64  \n",
       "location        British Virgin Islands  Faeroe Islands  \n",
       "iso_code                           VGB             FRO  \n",
       "population                     30237.0         48865.0  \n",
       "pop_density                    207.973          35.308  \n",
       "median_age                         NaN             NaN  \n",
       "gdp_per_capita                     NaN             NaN  \n",
       "hosp_beds                          NaN             NaN  "
      ]
     },
     "execution_count": 10,
     "metadata": {},
     "output_type": "execute_result"
    }
   ],
   "source": [
    "# 인구통계 데이터 세 개 이상 누락된 국가 나열 >> 인덱스 얼라인먼트 사용\n",
    "covidtotals.loc[demovarsmisscnt >= 3, ['location', 'iso_code']+demovars].head(5).T"
   ]
  },
  {
   "cell_type": "code",
   "execution_count": 11,
   "id": "9956b959-defb-43ba-bce6-5219e87c8abd",
   "metadata": {},
   "outputs": [
    {
     "data": {
      "text/plain": [
       "pandas.core.series.Series"
      ]
     },
     "execution_count": 11,
     "metadata": {},
     "output_type": "execute_result"
    }
   ],
   "source": [
    "type(demovarsmisscnt)"
   ]
  },
  {
   "cell_type": "markdown",
   "id": "9bfd4383-9e03-49b0-bc8d-70d8d0a9f304",
   "metadata": {},
   "source": [
    "## 코로나19 데이터 누락값 확인"
   ]
  },
  {
   "cell_type": "code",
   "execution_count": 12,
   "id": "76cf2d05-d077-437e-9db7-83c65fee9bdc",
   "metadata": {},
   "outputs": [
    {
     "data": {
      "text/plain": [
       "location           0\n",
       "total_cases        0\n",
       "total_deaths       0\n",
       "total_cases_pm     1\n",
       "total_deaths_pm    1\n",
       "dtype: int64"
      ]
     },
     "execution_count": 12,
     "metadata": {},
     "output_type": "execute_result"
    }
   ],
   "source": [
    "# 코로나 데이터에서 누락값 확인 >> 1건(국가)\n",
    "covidtotals[totvars].isnull().sum(axis = 0)"
   ]
  },
  {
   "cell_type": "code",
   "execution_count": 13,
   "id": "4f017d33-8373-4737-b02e-9b265af031a3",
   "metadata": {},
   "outputs": [
    {
     "data": {
      "text/plain": [
       "0    209\n",
       "2      1\n",
       "dtype: int64"
      ]
     },
     "execution_count": 13,
     "metadata": {},
     "output_type": "execute_result"
    }
   ],
   "source": [
    "totvarsmisscnt = covidtotals[totvars].isnull().sum(axis = 1)\n",
    "totvarsmisscnt.value_counts()"
   ]
  },
  {
   "cell_type": "code",
   "execution_count": 14,
   "id": "96b13c58-3062-4791-80d0-db15b5684777",
   "metadata": {},
   "outputs": [
    {
     "data": {
      "text/html": [
       "<div>\n",
       "<style scoped>\n",
       "    .dataframe tbody tr th:only-of-type {\n",
       "        vertical-align: middle;\n",
       "    }\n",
       "\n",
       "    .dataframe tbody tr th {\n",
       "        vertical-align: top;\n",
       "    }\n",
       "\n",
       "    .dataframe thead th {\n",
       "        text-align: right;\n",
       "    }\n",
       "</style>\n",
       "<table border=\"1\" class=\"dataframe\">\n",
       "  <thead>\n",
       "    <tr style=\"text-align: right;\">\n",
       "      <th></th>\n",
       "      <th>87</th>\n",
       "    </tr>\n",
       "  </thead>\n",
       "  <tbody>\n",
       "    <tr>\n",
       "      <th>iso_code</th>\n",
       "      <td>HKG</td>\n",
       "    </tr>\n",
       "    <tr>\n",
       "      <th>lastdate</th>\n",
       "      <td>2020-05-26</td>\n",
       "    </tr>\n",
       "    <tr>\n",
       "      <th>location</th>\n",
       "      <td>Hong Kong</td>\n",
       "    </tr>\n",
       "    <tr>\n",
       "      <th>total_cases</th>\n",
       "      <td>0</td>\n",
       "    </tr>\n",
       "    <tr>\n",
       "      <th>total_deaths</th>\n",
       "      <td>0</td>\n",
       "    </tr>\n",
       "    <tr>\n",
       "      <th>total_cases_pm</th>\n",
       "      <td>NaN</td>\n",
       "    </tr>\n",
       "    <tr>\n",
       "      <th>total_deaths_pm</th>\n",
       "      <td>NaN</td>\n",
       "    </tr>\n",
       "    <tr>\n",
       "      <th>population</th>\n",
       "      <td>7496988.0</td>\n",
       "    </tr>\n",
       "    <tr>\n",
       "      <th>pop_density</th>\n",
       "      <td>7039.714</td>\n",
       "    </tr>\n",
       "    <tr>\n",
       "      <th>median_age</th>\n",
       "      <td>44.8</td>\n",
       "    </tr>\n",
       "    <tr>\n",
       "      <th>gdp_per_capita</th>\n",
       "      <td>56054.92</td>\n",
       "    </tr>\n",
       "    <tr>\n",
       "      <th>hosp_beds</th>\n",
       "      <td>NaN</td>\n",
       "    </tr>\n",
       "  </tbody>\n",
       "</table>\n",
       "</div>"
      ],
      "text/plain": [
       "                         87\n",
       "iso_code                HKG\n",
       "lastdate         2020-05-26\n",
       "location          Hong Kong\n",
       "total_cases               0\n",
       "total_deaths              0\n",
       "total_cases_pm          NaN\n",
       "total_deaths_pm         NaN\n",
       "population        7496988.0\n",
       "pop_density        7039.714\n",
       "median_age             44.8\n",
       "gdp_per_capita     56054.92\n",
       "hosp_beds               NaN"
      ]
     },
     "execution_count": 14,
     "metadata": {},
     "output_type": "execute_result"
    }
   ],
   "source": [
    "# 홍콩 데이터 누락 확인\n",
    "covidtotals.loc[totvarsmisscnt > 0].T"
   ]
  },
  {
   "cell_type": "code",
   "execution_count": 15,
   "id": "ac949bba-37d4-4abe-87ba-16542b6d8b11",
   "metadata": {},
   "outputs": [],
   "source": [
    "# 누락 데이터 채우기(fillna)\n",
    "covidtotals.total_cases_pm.fillna(covidtotals.total_cases/(covidtotals.population/1000000), inplace = True)\n",
    "covidtotals.total_deaths_pm.fillna(covidtotals.total_deaths/(covidtotals.population/1000000), inplace = True)"
   ]
  },
  {
   "cell_type": "code",
   "execution_count": 16,
   "id": "8f26dd96-3103-4754-b548-38c65ec2ebc6",
   "metadata": {},
   "outputs": [
    {
     "data": {
      "text/plain": [
       "location           0\n",
       "total_cases        0\n",
       "total_deaths       0\n",
       "total_cases_pm     0\n",
       "total_deaths_pm    0\n",
       "dtype: int64"
      ]
     },
     "execution_count": 16,
     "metadata": {},
     "output_type": "execute_result"
    }
   ],
   "source": [
    "covidtotals[totvars].isnull().sum(axis = 0)"
   ]
  },
  {
   "cell_type": "markdown",
   "id": "1d7be6a1-0be2-413d-8651-202b6217675e",
   "metadata": {},
   "source": [
    "# 이상값\n",
    "- 값이 예상대로인지 아닌지 가정을 할 때 변수 분포를 근거로 삼음\n",
    "- 이상값 식별을 위해 변수의 분포를 먼저 확인해야 함\n",
    "- 👉 기본적으로 **무엇이 이상값을 구성하는가에 대한 감각은 정규분포를 가정으로 빚어짐**"
   ]
  },
  {
   "cell_type": "code",
   "execution_count": 17,
   "id": "d8c40788-7b77-4cef-83b9-5d014cd4d3ca",
   "metadata": {},
   "outputs": [],
   "source": [
    "import statsmodels.api as sm\n",
    "import scipy.stats as scistat"
   ]
  },
  {
   "cell_type": "code",
   "execution_count": 18,
   "id": "837a871d-8220-4e75-89b9-3c28b8d86d21",
   "metadata": {},
   "outputs": [],
   "source": [
    "covidtotals = pd.read_csv('./data/covidtotals.csv')"
   ]
  },
  {
   "cell_type": "code",
   "execution_count": 19,
   "id": "66c2e8f1-b3ad-4293-9404-d1c062dbbfba",
   "metadata": {},
   "outputs": [
    {
     "data": {
      "text/html": [
       "<div>\n",
       "<style scoped>\n",
       "    .dataframe tbody tr th:only-of-type {\n",
       "        vertical-align: middle;\n",
       "    }\n",
       "\n",
       "    .dataframe tbody tr th {\n",
       "        vertical-align: top;\n",
       "    }\n",
       "\n",
       "    .dataframe thead th {\n",
       "        text-align: right;\n",
       "    }\n",
       "</style>\n",
       "<table border=\"1\" class=\"dataframe\">\n",
       "  <thead>\n",
       "    <tr style=\"text-align: right;\">\n",
       "      <th></th>\n",
       "      <th>iso_code</th>\n",
       "      <th>lastdate</th>\n",
       "      <th>location</th>\n",
       "      <th>total_cases</th>\n",
       "      <th>total_deaths</th>\n",
       "      <th>total_cases_pm</th>\n",
       "      <th>total_deaths_pm</th>\n",
       "      <th>population</th>\n",
       "      <th>pop_density</th>\n",
       "      <th>median_age</th>\n",
       "      <th>gdp_per_capita</th>\n",
       "      <th>hosp_beds</th>\n",
       "    </tr>\n",
       "  </thead>\n",
       "  <tbody>\n",
       "    <tr>\n",
       "      <th>0</th>\n",
       "      <td>AFG</td>\n",
       "      <td>2020-06-01</td>\n",
       "      <td>Afghanistan</td>\n",
       "      <td>15205</td>\n",
       "      <td>257</td>\n",
       "      <td>390.589</td>\n",
       "      <td>6.602</td>\n",
       "      <td>38928341.0</td>\n",
       "      <td>54.422</td>\n",
       "      <td>18.6</td>\n",
       "      <td>1803.987</td>\n",
       "      <td>0.50</td>\n",
       "    </tr>\n",
       "    <tr>\n",
       "      <th>1</th>\n",
       "      <td>ALB</td>\n",
       "      <td>2020-06-01</td>\n",
       "      <td>Albania</td>\n",
       "      <td>1137</td>\n",
       "      <td>33</td>\n",
       "      <td>395.093</td>\n",
       "      <td>11.467</td>\n",
       "      <td>2877800.0</td>\n",
       "      <td>104.871</td>\n",
       "      <td>38.0</td>\n",
       "      <td>11803.431</td>\n",
       "      <td>2.89</td>\n",
       "    </tr>\n",
       "    <tr>\n",
       "      <th>2</th>\n",
       "      <td>DZA</td>\n",
       "      <td>2020-06-01</td>\n",
       "      <td>Algeria</td>\n",
       "      <td>9394</td>\n",
       "      <td>653</td>\n",
       "      <td>214.225</td>\n",
       "      <td>14.891</td>\n",
       "      <td>43851043.0</td>\n",
       "      <td>17.348</td>\n",
       "      <td>29.1</td>\n",
       "      <td>13913.839</td>\n",
       "      <td>1.90</td>\n",
       "    </tr>\n",
       "    <tr>\n",
       "      <th>3</th>\n",
       "      <td>AND</td>\n",
       "      <td>2020-06-01</td>\n",
       "      <td>Andorra</td>\n",
       "      <td>764</td>\n",
       "      <td>51</td>\n",
       "      <td>9888.048</td>\n",
       "      <td>660.066</td>\n",
       "      <td>77265.0</td>\n",
       "      <td>163.755</td>\n",
       "      <td>NaN</td>\n",
       "      <td>NaN</td>\n",
       "      <td>NaN</td>\n",
       "    </tr>\n",
       "    <tr>\n",
       "      <th>4</th>\n",
       "      <td>AGO</td>\n",
       "      <td>2020-06-01</td>\n",
       "      <td>Angola</td>\n",
       "      <td>86</td>\n",
       "      <td>4</td>\n",
       "      <td>2.617</td>\n",
       "      <td>0.122</td>\n",
       "      <td>32866268.0</td>\n",
       "      <td>23.890</td>\n",
       "      <td>16.8</td>\n",
       "      <td>5819.495</td>\n",
       "      <td>NaN</td>\n",
       "    </tr>\n",
       "  </tbody>\n",
       "</table>\n",
       "</div>"
      ],
      "text/plain": [
       "  iso_code    lastdate     location  total_cases  total_deaths  \\\n",
       "0      AFG  2020-06-01  Afghanistan        15205           257   \n",
       "1      ALB  2020-06-01      Albania         1137            33   \n",
       "2      DZA  2020-06-01      Algeria         9394           653   \n",
       "3      AND  2020-06-01      Andorra          764            51   \n",
       "4      AGO  2020-06-01       Angola           86             4   \n",
       "\n",
       "   total_cases_pm  total_deaths_pm  population  pop_density  median_age  \\\n",
       "0         390.589            6.602  38928341.0       54.422        18.6   \n",
       "1         395.093           11.467   2877800.0      104.871        38.0   \n",
       "2         214.225           14.891  43851043.0       17.348        29.1   \n",
       "3        9888.048          660.066     77265.0      163.755         NaN   \n",
       "4           2.617            0.122  32866268.0       23.890        16.8   \n",
       "\n",
       "   gdp_per_capita  hosp_beds  \n",
       "0        1803.987       0.50  \n",
       "1       11803.431       2.89  \n",
       "2       13913.839       1.90  \n",
       "3             NaN        NaN  \n",
       "4        5819.495        NaN  "
      ]
     },
     "execution_count": 19,
     "metadata": {},
     "output_type": "execute_result"
    }
   ],
   "source": [
    "covidtotals.head()"
   ]
  },
  {
   "cell_type": "code",
   "execution_count": 20,
   "id": "95589504-28c5-4f93-b3da-151607384757",
   "metadata": {},
   "outputs": [],
   "source": [
    "covidtotals.set_index('iso_code', inplace = True)"
   ]
  },
  {
   "cell_type": "code",
   "execution_count": 21,
   "id": "1434f265-f124-4a35-80cd-952e7c5029dc",
   "metadata": {},
   "outputs": [
    {
     "data": {
      "text/html": [
       "<div>\n",
       "<style scoped>\n",
       "    .dataframe tbody tr th:only-of-type {\n",
       "        vertical-align: middle;\n",
       "    }\n",
       "\n",
       "    .dataframe tbody tr th {\n",
       "        vertical-align: top;\n",
       "    }\n",
       "\n",
       "    .dataframe thead th {\n",
       "        text-align: right;\n",
       "    }\n",
       "</style>\n",
       "<table border=\"1\" class=\"dataframe\">\n",
       "  <thead>\n",
       "    <tr style=\"text-align: right;\">\n",
       "      <th></th>\n",
       "      <th>total_cases</th>\n",
       "      <th>total_deaths</th>\n",
       "      <th>total_cases_pm</th>\n",
       "      <th>total_deaths_pm</th>\n",
       "    </tr>\n",
       "  </thead>\n",
       "  <tbody>\n",
       "    <tr>\n",
       "      <th>count</th>\n",
       "      <td>2.100000e+02</td>\n",
       "      <td>210.000000</td>\n",
       "      <td>209.000000</td>\n",
       "      <td>209.000000</td>\n",
       "    </tr>\n",
       "    <tr>\n",
       "      <th>mean</th>\n",
       "      <td>2.921614e+04</td>\n",
       "      <td>1770.714286</td>\n",
       "      <td>1361.842909</td>\n",
       "      <td>55.925440</td>\n",
       "    </tr>\n",
       "    <tr>\n",
       "      <th>std</th>\n",
       "      <td>1.363978e+05</td>\n",
       "      <td>8705.565857</td>\n",
       "      <td>2629.894101</td>\n",
       "      <td>145.081876</td>\n",
       "    </tr>\n",
       "    <tr>\n",
       "      <th>min</th>\n",
       "      <td>0.000000e+00</td>\n",
       "      <td>0.000000</td>\n",
       "      <td>0.894000</td>\n",
       "      <td>0.000000</td>\n",
       "    </tr>\n",
       "    <tr>\n",
       "      <th>25%</th>\n",
       "      <td>1.757500e+02</td>\n",
       "      <td>4.000000</td>\n",
       "      <td>96.785000</td>\n",
       "      <td>0.893000</td>\n",
       "    </tr>\n",
       "    <tr>\n",
       "      <th>50%</th>\n",
       "      <td>1.242500e+03</td>\n",
       "      <td>25.500000</td>\n",
       "      <td>281.997000</td>\n",
       "      <td>6.214000</td>\n",
       "    </tr>\n",
       "    <tr>\n",
       "      <th>75%</th>\n",
       "      <td>1.011700e+04</td>\n",
       "      <td>241.250000</td>\n",
       "      <td>1803.318000</td>\n",
       "      <td>32.158000</td>\n",
       "    </tr>\n",
       "    <tr>\n",
       "      <th>max</th>\n",
       "      <td>1.790191e+06</td>\n",
       "      <td>104383.000000</td>\n",
       "      <td>19771.348000</td>\n",
       "      <td>1237.551000</td>\n",
       "    </tr>\n",
       "  </tbody>\n",
       "</table>\n",
       "</div>"
      ],
      "text/plain": [
       "        total_cases   total_deaths  total_cases_pm  total_deaths_pm\n",
       "count  2.100000e+02     210.000000      209.000000       209.000000\n",
       "mean   2.921614e+04    1770.714286     1361.842909        55.925440\n",
       "std    1.363978e+05    8705.565857     2629.894101       145.081876\n",
       "min    0.000000e+00       0.000000        0.894000         0.000000\n",
       "25%    1.757500e+02       4.000000       96.785000         0.893000\n",
       "50%    1.242500e+03      25.500000      281.997000         6.214000\n",
       "75%    1.011700e+04     241.250000     1803.318000        32.158000\n",
       "max    1.790191e+06  104383.000000    19771.348000      1237.551000"
      ]
     },
     "execution_count": 21,
     "metadata": {},
     "output_type": "execute_result"
    }
   ],
   "source": [
    "covidtotalsonly = covidtotals.loc[:, totvars]\n",
    "covidtotalsonly.describe()"
   ]
  },
  {
   "cell_type": "markdown",
   "id": "24d38be8-fa8f-4f4d-8708-b940f1f3c694",
   "metadata": {},
   "source": [
    "### 백분위수 / 왜도와 첨도 확인"
   ]
  },
  {
   "cell_type": "code",
   "execution_count": 22,
   "id": "26677b60-5c47-4153-9bf8-577bed7812ba",
   "metadata": {},
   "outputs": [
    {
     "data": {
      "text/html": [
       "<div>\n",
       "<style scoped>\n",
       "    .dataframe tbody tr th:only-of-type {\n",
       "        vertical-align: middle;\n",
       "    }\n",
       "\n",
       "    .dataframe tbody tr th {\n",
       "        vertical-align: top;\n",
       "    }\n",
       "\n",
       "    .dataframe thead th {\n",
       "        text-align: right;\n",
       "    }\n",
       "</style>\n",
       "<table border=\"1\" class=\"dataframe\">\n",
       "  <thead>\n",
       "    <tr style=\"text-align: right;\">\n",
       "      <th></th>\n",
       "      <th>total_cases</th>\n",
       "      <th>total_deaths</th>\n",
       "      <th>total_cases_pm</th>\n",
       "      <th>total_deaths_pm</th>\n",
       "    </tr>\n",
       "  </thead>\n",
       "  <tbody>\n",
       "    <tr>\n",
       "      <th>0.0</th>\n",
       "      <td>0.0</td>\n",
       "      <td>0.0</td>\n",
       "      <td>0.8940</td>\n",
       "      <td>0.0000</td>\n",
       "    </tr>\n",
       "    <tr>\n",
       "      <th>0.1</th>\n",
       "      <td>22.9</td>\n",
       "      <td>0.0</td>\n",
       "      <td>18.4870</td>\n",
       "      <td>0.0000</td>\n",
       "    </tr>\n",
       "    <tr>\n",
       "      <th>0.2</th>\n",
       "      <td>105.2</td>\n",
       "      <td>2.0</td>\n",
       "      <td>56.7386</td>\n",
       "      <td>0.4008</td>\n",
       "    </tr>\n",
       "    <tr>\n",
       "      <th>0.3</th>\n",
       "      <td>302.0</td>\n",
       "      <td>6.7</td>\n",
       "      <td>118.2282</td>\n",
       "      <td>1.7348</td>\n",
       "    </tr>\n",
       "    <tr>\n",
       "      <th>0.4</th>\n",
       "      <td>762.0</td>\n",
       "      <td>12.0</td>\n",
       "      <td>214.9182</td>\n",
       "      <td>3.9734</td>\n",
       "    </tr>\n",
       "    <tr>\n",
       "      <th>0.5</th>\n",
       "      <td>1242.5</td>\n",
       "      <td>25.5</td>\n",
       "      <td>281.9970</td>\n",
       "      <td>6.2140</td>\n",
       "    </tr>\n",
       "    <tr>\n",
       "      <th>0.6</th>\n",
       "      <td>2514.6</td>\n",
       "      <td>54.6</td>\n",
       "      <td>546.0534</td>\n",
       "      <td>12.5644</td>\n",
       "    </tr>\n",
       "    <tr>\n",
       "      <th>0.7</th>\n",
       "      <td>6959.8</td>\n",
       "      <td>137.2</td>\n",
       "      <td>1074.0324</td>\n",
       "      <td>26.0638</td>\n",
       "    </tr>\n",
       "    <tr>\n",
       "      <th>0.8</th>\n",
       "      <td>16847.2</td>\n",
       "      <td>323.2</td>\n",
       "      <td>2208.7374</td>\n",
       "      <td>50.2896</td>\n",
       "    </tr>\n",
       "    <tr>\n",
       "      <th>0.9</th>\n",
       "      <td>46513.1</td>\n",
       "      <td>1616.9</td>\n",
       "      <td>3771.9956</td>\n",
       "      <td>139.5290</td>\n",
       "    </tr>\n",
       "    <tr>\n",
       "      <th>1.0</th>\n",
       "      <td>1790191.0</td>\n",
       "      <td>104383.0</td>\n",
       "      <td>19771.3480</td>\n",
       "      <td>1237.5510</td>\n",
       "    </tr>\n",
       "  </tbody>\n",
       "</table>\n",
       "</div>"
      ],
      "text/plain": [
       "     total_cases  total_deaths  total_cases_pm  total_deaths_pm\n",
       "0.0          0.0           0.0          0.8940           0.0000\n",
       "0.1         22.9           0.0         18.4870           0.0000\n",
       "0.2        105.2           2.0         56.7386           0.4008\n",
       "0.3        302.0           6.7        118.2282           1.7348\n",
       "0.4        762.0          12.0        214.9182           3.9734\n",
       "0.5       1242.5          25.5        281.9970           6.2140\n",
       "0.6       2514.6          54.6        546.0534          12.5644\n",
       "0.7       6959.8         137.2       1074.0324          26.0638\n",
       "0.8      16847.2         323.2       2208.7374          50.2896\n",
       "0.9      46513.1        1616.9       3771.9956         139.5290\n",
       "1.0    1790191.0      104383.0      19771.3480        1237.5510"
      ]
     },
     "execution_count": 22,
     "metadata": {},
     "output_type": "execute_result"
    }
   ],
   "source": [
    "covidtotalsonly.quantile(np.arange(0.0, 1.1, 0.1))"
   ]
  },
  {
   "cell_type": "code",
   "execution_count": 23,
   "id": "9a3a5af4-d118-4d9e-9cbd-a6659be5b229",
   "metadata": {},
   "outputs": [
    {
     "data": {
      "text/plain": [
       "total_cases        10.804275\n",
       "total_deaths        8.929816\n",
       "total_cases_pm      4.387402\n",
       "total_deaths_pm     4.663124\n",
       "dtype: float64"
      ]
     },
     "execution_count": 23,
     "metadata": {},
     "output_type": "execute_result"
    }
   ],
   "source": [
    "covidtotalsonly.skew()"
   ]
  },
  {
   "cell_type": "code",
   "execution_count": 24,
   "id": "f824572d-4055-4db4-816b-b1a8ce375207",
   "metadata": {},
   "outputs": [
    {
     "data": {
      "text/plain": [
       "total_cases        134.979577\n",
       "total_deaths        95.737841\n",
       "total_cases_pm      25.138915\n",
       "total_deaths_pm     27.105135\n",
       "dtype: float64"
      ]
     },
     "execution_count": 24,
     "metadata": {},
     "output_type": "execute_result"
    }
   ],
   "source": [
    "covidtotalsonly.kurt()"
   ]
  },
  {
   "cell_type": "markdown",
   "id": "39471e8d-dc5a-4bac-a80e-f018a63ceb07",
   "metadata": {},
   "source": [
    "### 정규성 검정\n",
    "- scipy 라이브러리 >> 샤피로 윌크 검정"
   ]
  },
  {
   "cell_type": "code",
   "execution_count": 25,
   "id": "60511a4b-1e33-43d4-8322-9e36c84912eb",
   "metadata": {},
   "outputs": [
    {
     "data": {
      "text/plain": [
       "3.753789128593843e-29"
      ]
     },
     "execution_count": 25,
     "metadata": {},
     "output_type": "execute_result"
    }
   ],
   "source": [
    "def testnorm(var, df):\n",
    "    stat, p = scistat.shapiro(df[var])\n",
    "    return p\n",
    "\n",
    "testnorm('total_cases', covidtotalsonly)"
   ]
  },
  {
   "cell_type": "code",
   "execution_count": 26,
   "id": "b3d8e8b8-930c-43a5-bc23-6556b1ac7665",
   "metadata": {},
   "outputs": [
    {
     "data": {
      "text/plain": [
       "4.3427896631016077e-29"
      ]
     },
     "execution_count": 26,
     "metadata": {},
     "output_type": "execute_result"
    }
   ],
   "source": [
    "testnorm('total_deaths', covidtotalsonly)"
   ]
  },
  {
   "cell_type": "code",
   "execution_count": 27,
   "id": "1ecbeaaf-8eb5-4f6b-b9b7-6fb55a1d2985",
   "metadata": {},
   "outputs": [
    {
     "data": {
      "text/plain": [
       "1.0"
      ]
     },
     "execution_count": 27,
     "metadata": {},
     "output_type": "execute_result"
    }
   ],
   "source": [
    "testnorm('total_cases_pm', covidtotalsonly)"
   ]
  },
  {
   "cell_type": "code",
   "execution_count": 28,
   "id": "9649a38e-d1e4-460a-870e-c5ba25b3d6ab",
   "metadata": {},
   "outputs": [
    {
     "data": {
      "text/plain": [
       "1.0"
      ]
     },
     "execution_count": 28,
     "metadata": {},
     "output_type": "execute_result"
    }
   ],
   "source": [
    "testnorm('total_deaths_pm', covidtotalsonly)"
   ]
  },
  {
   "cell_type": "markdown",
   "id": "5ae899bd-f82b-48bc-80a8-f00a986751bb",
   "metadata": {},
   "source": [
    "- qq plot(정규 분위수-분위수 그림)"
   ]
  },
  {
   "cell_type": "code",
   "execution_count": 29,
   "id": "e7e0d013-5579-4ba3-a680-b2d951b8775c",
   "metadata": {},
   "outputs": [
    {
     "data": {
      "text/plain": [
       "<function matplotlib.pyplot.show(close=None, block=None)>"
      ]
     },
     "execution_count": 29,
     "metadata": {},
     "output_type": "execute_result"
    },
    {
     "data": {
      "image/png": "[encoded data removed]",
      "text/plain": [
       "<Figure size 640x480 with 1 Axes>"
      ]
     },
     "metadata": {},
     "output_type": "display_data"
    },
    {
     "data": {
      "image/png": "[encoded data removed]",
      "text/plain": [
       "<Figure size 640x480 with 1 Axes>"
      ]
     },
     "metadata": {},
     "output_type": "display_data"
    }
   ],
   "source": [
    "sm.qqplot(covidtotalsonly[['total_cases']].sort_values(['total_cases']), line = 's')\n",
    "plt.title('QQ Plot of Total Cases')\n",
    "\n",
    "sm.qqplot(covidtotalsonly[['total_cases_pm']].sort_values(['total_cases_pm']), line = 's')\n",
    "plt.title('QQ Plot of Total Cases Per Million')\n",
    "plt.show"
   ]
  },
  {
   "cell_type": "markdown",
   "id": "b2345dd7-c827-4c11-a8e0-169eedd84b35",
   "metadata": {
    "tags": []
   },
   "source": [
    "- 결과 해석 : 두 변수 모두 정규분포와 크게 다르게 나타남"
   ]
  },
  {
   "cell_type": "markdown",
   "id": "85ad4b56-4f02-4e73-b364-979a88c192a0",
   "metadata": {},
   "source": [
    "### 이상값 범위(IQR)"
   ]
  },
  {
   "cell_type": "code",
   "execution_count": 30,
   "id": "bf638fdd-4754-4bb7-be98-3df301ddd59a",
   "metadata": {},
   "outputs": [
    {
     "name": "stdout",
     "output_type": "stream",
     "text": [
      "14911.875\n",
      "-14736.125 <--> 25028.875\n"
     ]
    }
   ],
   "source": [
    "thirdq, firstq = covidtotalsonly.total_cases.quantile(0.75), covidtotalsonly.total_cases.quantile(0.25)\n",
    "interquantilerange = 1.5 * (thirdq - firstq)\n",
    "print(interquantilerange)\n",
    "\n",
    "outlierhigh, outlierlow = interquantilerange + thirdq, firstq - interquantilerange\n",
    "print(outlierlow, outlierhigh, sep = ' <--> ')"
   ]
  },
  {
   "cell_type": "markdown",
   "id": "d7947bd5-1e8a-49a5-bafd-a3f1376b30d3",
   "metadata": {},
   "source": [
    "### 이상값 데이터만 추출, assign 함수로 컬럼과 상한/하한 확인\n",
    "- 이상값 데이터프레임을 생성하여, 엑셀에 기록"
   ]
  },
  {
   "cell_type": "code",
   "execution_count": 31,
   "id": "1fc00d59-6cbd-457f-b579-beab85447e18",
   "metadata": {},
   "outputs": [],
   "source": [
    "def getoutliers():\n",
    "    dfout = pd.DataFrame(columns = covidtotals.columns, data = None)\n",
    "    for col in covidtotalsonly.columns[1:]:\n",
    "        thirdq, firstq = covidtotalsonly[col].quantile(0.75), covidtotalsonly[col].quantile(0.25)\n",
    "        interquantilerange = 1.5 * (thirdq - firstq)\n",
    "        outlierhigh, outlierlow = interquantilerange + thirdq, firstq - interquantilerange\n",
    "        \n",
    "        df = covidtotals.loc[(covidtotals[col] > outlierhigh) | (covidtotals[col] < outlierlow)]\n",
    "        df = df.assign(varname = col, threshlow = outlierlow, threshhigh = outlierhigh)\n",
    "        dfout = pd.concat([dfout, df])\n",
    "    return dfout"
   ]
  },
  {
   "cell_type": "code",
   "execution_count": 32,
   "id": "f280ff24-549a-49e5-80bc-8b704d9eec48",
   "metadata": {},
   "outputs": [],
   "source": [
    "outliers = getoutliers()"
   ]
  },
  {
   "cell_type": "code",
   "execution_count": 33,
   "id": "0a6204e7-59b4-4fd1-a616-eb7cfb5cb4c2",
   "metadata": {},
   "outputs": [
    {
     "data": {
      "text/plain": [
       "total_deaths       36\n",
       "total_cases        33\n",
       "total_deaths_pm    28\n",
       "total_cases_pm     17\n",
       "Name: varname, dtype: int64"
      ]
     },
     "execution_count": 33,
     "metadata": {},
     "output_type": "execute_result"
    }
   ],
   "source": [
    "outliers.varname.value_counts()"
   ]
  },
  {
   "cell_type": "markdown",
   "id": "6d6816f2-0c57-492e-b060-c37f0cbd6af5",
   "metadata": {},
   "source": [
    "- 백만 명당 확진자 수 이상값 살펴보기\n",
    "    - 인구밀도가 75번째 백분위수에 근접하거나 더 낮음\n",
    "    - 대부분 국가의 1인당 국민소득이 75번째 백분위보다 높음\n",
    "        - 해당 사항들은 추후 탐구할 가치가 있음"
   ]
  },
  {
   "cell_type": "code",
   "execution_count": 35,
   "id": "f0aa11bb-a144-46d3-a949-fba4cf52dbd1",
   "metadata": {},
   "outputs": [
    {
     "data": {
      "text/html": [
       "<div>\n",
       "<style scoped>\n",
       "    .dataframe tbody tr th:only-of-type {\n",
       "        vertical-align: middle;\n",
       "    }\n",
       "\n",
       "    .dataframe tbody tr th {\n",
       "        vertical-align: top;\n",
       "    }\n",
       "\n",
       "    .dataframe thead th {\n",
       "        text-align: right;\n",
       "    }\n",
       "</style>\n",
       "<table border=\"1\" class=\"dataframe\">\n",
       "  <thead>\n",
       "    <tr style=\"text-align: right;\">\n",
       "      <th></th>\n",
       "      <th>location</th>\n",
       "      <th>total_cases_pm</th>\n",
       "      <th>pop_density</th>\n",
       "      <th>gdp_per_capita</th>\n",
       "    </tr>\n",
       "  </thead>\n",
       "  <tbody>\n",
       "    <tr>\n",
       "      <th>SMR</th>\n",
       "      <td>San Marino</td>\n",
       "      <td>19771.348</td>\n",
       "      <td>556.667</td>\n",
       "      <td>56861.470</td>\n",
       "    </tr>\n",
       "    <tr>\n",
       "      <th>QAT</th>\n",
       "      <td>Qatar</td>\n",
       "      <td>19753.146</td>\n",
       "      <td>227.322</td>\n",
       "      <td>116935.600</td>\n",
       "    </tr>\n",
       "    <tr>\n",
       "      <th>VAT</th>\n",
       "      <td>Vatican</td>\n",
       "      <td>14833.127</td>\n",
       "      <td>NaN</td>\n",
       "      <td>NaN</td>\n",
       "    </tr>\n",
       "    <tr>\n",
       "      <th>AND</th>\n",
       "      <td>Andorra</td>\n",
       "      <td>9888.048</td>\n",
       "      <td>163.755</td>\n",
       "      <td>NaN</td>\n",
       "    </tr>\n",
       "    <tr>\n",
       "      <th>BHR</th>\n",
       "      <td>Bahrain</td>\n",
       "      <td>6698.468</td>\n",
       "      <td>1935.907</td>\n",
       "      <td>43290.705</td>\n",
       "    </tr>\n",
       "    <tr>\n",
       "      <th>LUX</th>\n",
       "      <td>Luxembourg</td>\n",
       "      <td>6418.776</td>\n",
       "      <td>231.447</td>\n",
       "      <td>94277.965</td>\n",
       "    </tr>\n",
       "    <tr>\n",
       "      <th>KWT</th>\n",
       "      <td>Kuwait</td>\n",
       "      <td>6332.420</td>\n",
       "      <td>232.128</td>\n",
       "      <td>65530.537</td>\n",
       "    </tr>\n",
       "    <tr>\n",
       "      <th>SGP</th>\n",
       "      <td>Singapore</td>\n",
       "      <td>5962.727</td>\n",
       "      <td>7915.731</td>\n",
       "      <td>85535.383</td>\n",
       "    </tr>\n",
       "    <tr>\n",
       "      <th>USA</th>\n",
       "      <td>United States</td>\n",
       "      <td>5408.389</td>\n",
       "      <td>35.608</td>\n",
       "      <td>54225.446</td>\n",
       "    </tr>\n",
       "    <tr>\n",
       "      <th>ISL</th>\n",
       "      <td>Iceland</td>\n",
       "      <td>5292.308</td>\n",
       "      <td>3.404</td>\n",
       "      <td>46482.958</td>\n",
       "    </tr>\n",
       "    <tr>\n",
       "      <th>CHL</th>\n",
       "      <td>Chile</td>\n",
       "      <td>5214.841</td>\n",
       "      <td>24.282</td>\n",
       "      <td>22767.037</td>\n",
       "    </tr>\n",
       "    <tr>\n",
       "      <th>ESP</th>\n",
       "      <td>Spain</td>\n",
       "      <td>5120.952</td>\n",
       "      <td>93.105</td>\n",
       "      <td>34272.360</td>\n",
       "    </tr>\n",
       "    <tr>\n",
       "      <th>IRL</th>\n",
       "      <td>Ireland</td>\n",
       "      <td>5060.962</td>\n",
       "      <td>69.874</td>\n",
       "      <td>67335.293</td>\n",
       "    </tr>\n",
       "    <tr>\n",
       "      <th>BEL</th>\n",
       "      <td>Belgium</td>\n",
       "      <td>5037.354</td>\n",
       "      <td>375.564</td>\n",
       "      <td>42658.576</td>\n",
       "    </tr>\n",
       "    <tr>\n",
       "      <th>GIB</th>\n",
       "      <td>Gibraltar</td>\n",
       "      <td>5016.176</td>\n",
       "      <td>3457.100</td>\n",
       "      <td>NaN</td>\n",
       "    </tr>\n",
       "    <tr>\n",
       "      <th>PER</th>\n",
       "      <td>Peru</td>\n",
       "      <td>4988.377</td>\n",
       "      <td>25.129</td>\n",
       "      <td>12236.706</td>\n",
       "    </tr>\n",
       "    <tr>\n",
       "      <th>BLR</th>\n",
       "      <td>Belarus</td>\n",
       "      <td>4503.604</td>\n",
       "      <td>46.858</td>\n",
       "      <td>17167.967</td>\n",
       "    </tr>\n",
       "  </tbody>\n",
       "</table>\n",
       "</div>"
      ],
      "text/plain": [
       "          location  total_cases_pm  pop_density  gdp_per_capita\n",
       "SMR     San Marino       19771.348      556.667       56861.470\n",
       "QAT          Qatar       19753.146      227.322      116935.600\n",
       "VAT        Vatican       14833.127          NaN             NaN\n",
       "AND        Andorra        9888.048      163.755             NaN\n",
       "BHR        Bahrain        6698.468     1935.907       43290.705\n",
       "LUX     Luxembourg        6418.776      231.447       94277.965\n",
       "KWT         Kuwait        6332.420      232.128       65530.537\n",
       "SGP      Singapore        5962.727     7915.731       85535.383\n",
       "USA  United States        5408.389       35.608       54225.446\n",
       "ISL        Iceland        5292.308        3.404       46482.958\n",
       "CHL          Chile        5214.841       24.282       22767.037\n",
       "ESP          Spain        5120.952       93.105       34272.360\n",
       "IRL        Ireland        5060.962       69.874       67335.293\n",
       "BEL        Belgium        5037.354      375.564       42658.576\n",
       "GIB      Gibraltar        5016.176     3457.100             NaN\n",
       "PER           Peru        4988.377       25.129       12236.706\n",
       "BLR        Belarus        4503.604       46.858       17167.967"
      ]
     },
     "execution_count": 35,
     "metadata": {},
     "output_type": "execute_result"
    }
   ],
   "source": [
    "outliers.loc[outliers.varname == 'total_cases_pm', ['location', 'total_cases_pm', 'pop_density', 'gdp_per_capita']].sort_values(['total_cases_pm'], ascending = False)"
   ]
  },
  {
   "cell_type": "code",
   "execution_count": 36,
   "id": "69dd52da-1c8d-4609-b2bd-fe1271613f50",
   "metadata": {},
   "outputs": [
    {
     "data": {
      "text/html": [
       "<div>\n",
       "<style scoped>\n",
       "    .dataframe tbody tr th:only-of-type {\n",
       "        vertical-align: middle;\n",
       "    }\n",
       "\n",
       "    .dataframe tbody tr th {\n",
       "        vertical-align: top;\n",
       "    }\n",
       "\n",
       "    .dataframe thead th {\n",
       "        text-align: right;\n",
       "    }\n",
       "</style>\n",
       "<table border=\"1\" class=\"dataframe\">\n",
       "  <thead>\n",
       "    <tr style=\"text-align: right;\">\n",
       "      <th></th>\n",
       "      <th>pop_density</th>\n",
       "      <th>gdp_per_capita</th>\n",
       "    </tr>\n",
       "  </thead>\n",
       "  <tbody>\n",
       "    <tr>\n",
       "      <th>0.25</th>\n",
       "      <td>37.416</td>\n",
       "      <td>4485.32900</td>\n",
       "    </tr>\n",
       "    <tr>\n",
       "      <th>0.50</th>\n",
       "      <td>87.250</td>\n",
       "      <td>13183.08150</td>\n",
       "    </tr>\n",
       "    <tr>\n",
       "      <th>0.75</th>\n",
       "      <td>214.122</td>\n",
       "      <td>28556.52725</td>\n",
       "    </tr>\n",
       "  </tbody>\n",
       "</table>\n",
       "</div>"
      ],
      "text/plain": [
       "      pop_density  gdp_per_capita\n",
       "0.25       37.416      4485.32900\n",
       "0.50       87.250     13183.08150\n",
       "0.75      214.122     28556.52725"
      ]
     },
     "execution_count": 36,
     "metadata": {},
     "output_type": "execute_result"
    }
   ],
   "source": [
    "covidtotals[['pop_density', 'gdp_per_capita']].quantile([0.25, 0.5, 0.75])"
   ]
  },
  {
   "cell_type": "markdown",
   "id": "bab16c46-684c-4534-b74a-3291a9d1bb91",
   "metadata": {},
   "source": [
    "- 총 확진자 수에 따른 국가 수 히스토그램"
   ]
  },
  {
   "cell_type": "code",
   "execution_count": 39,
   "id": "c06b5f16-b97e-4b59-9d5c-e282b0b1824a",
   "metadata": {},
   "outputs": [
    {
     "data": {
      "image/png": "[encoded data removed]",
      "text/plain": [
       "<Figure size 640x480 with 1 Axes>"
      ]
     },
     "metadata": {},
     "output_type": "display_data"
    }
   ],
   "source": [
    "plt.hist(covidtotalsonly['total_cases']/1000, bins = 7)\n",
    "plt.title('Total Covid Cases(thousands)')\n",
    "plt.xlabel('Cases')\n",
    "plt.ylabel('Number of Countries')\n",
    "plt.show()"
   ]
  },
  {
   "cell_type": "markdown",
   "id": "63c708c6-dd9b-4405-bb7c-6965af084211",
   "metadata": {},
   "source": [
    "- 코로나 19 데이터에 로그 변환 수행 >> 총 사례의 로그 변환 히스토그램 확인"
   ]
  },
  {
   "cell_type": "code",
   "execution_count": 40,
   "id": "176cd74b-e7f7-493b-bd5c-48dd6493eed1",
   "metadata": {},
   "outputs": [
    {
     "data": {
      "image/png": "[encoded data removed]",
      "text/plain": [
       "<Figure size 640x480 with 1 Axes>"
      ]
     },
     "metadata": {},
     "output_type": "display_data"
    }
   ],
   "source": [
    "covidlogs =covidtotalsonly.copy()\n",
    "for col in covidtotalsonly.columns[1:]:\n",
    "    covidlogs[col] = np.log1p(covidlogs[col])\n",
    "plt.hist(covidlogs['total_cases'], bins = 7)\n",
    "plt.title('Total Covid Cases(log)')\n",
    "plt.xlabel('Cases')\n",
    "plt.ylabel('Number of Countries')\n",
    "plt.show()"
   ]
  },
  {
   "cell_type": "code",
   "execution_count": null,
   "id": "7864bf71-c9dd-4538-97bc-bb8793e9751c",
   "metadata": {},
   "outputs": [],
   "source": []
  }
 ],
 "metadata": {
  "kernelspec": {
   "display_name": "Python 3 (ipykernel)",
   "language": "python",
   "name": "python3"
  },
  "language_info": {
   "codemirror_mode": {
    "name": "ipython",
    "version": 3
   },
   "file_extension": ".py",
   "mimetype": "text/x-python",
   "name": "python",
   "nbconvert_exporter": "python",
   "pygments_lexer": "ipython3",
   "version": "3.9.13"
  }
 },
 "nbformat": 4,
 "nbformat_minor": 5
}
