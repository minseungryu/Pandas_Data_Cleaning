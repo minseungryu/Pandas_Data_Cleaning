{
 "cells": [
  {
   "cell_type": "markdown",
   "id": "22c92fe9-9e4c-40df-a5d2-f2732d832d7b",
   "metadata": {},
   "source": [
    "# unstack과 pivot을 사용해 데이터를 넓은 포맷으로 리셰이핑\n",
    "- 타이디한 데이터를 그렇지 않은 구조로 변환해야할 때도 있음\n",
    "- unstack과 pivot은 긴 포맷에서 넓은 포맷으로 데이터를 리셰이핑하는데 유용함\n",
    "- unstack과 stack이 정반대 / pivot과 melt가 반대의 일을 함"
   ]
  },
  {
   "cell_type": "markdown",
   "id": "0db9c557-70b5-4ec4-890c-f82349389a8a",
   "metadata": {},
   "source": [
    "### 데이터 NLS\n",
    "- 근무주 수와 대학등록 데이터 사용\n",
    "- 쌓기/녹이기를 수행한 후 unstack과 pivot으로 원상복구하기"
   ]
  },
  {
   "cell_type": "code",
   "execution_count": 9,
   "id": "740a7c9a-e1dd-4571-ba67-7c50c34e27d2",
   "metadata": {
    "tags": []
   },
   "outputs": [],
   "source": [
    "import pandas as pd\n",
    "\n",
    "nls97= pd.read_csv('data/nls97f.csv')\n",
    "nls97.set_index('originalid', inplace=True)"
   ]
  },
  {
   "cell_type": "markdown",
   "id": "4bc47450-536d-42ab-9ea5-6f0059f82a57",
   "metadata": {},
   "source": [
    "### stack 연산으로 데이터 쌓기"
   ]
  },
  {
   "cell_type": "code",
   "execution_count": 10,
   "id": "db99089c-afd9-47d4-817e-1395b5236e81",
   "metadata": {},
   "outputs": [],
   "source": [
    "weeksworkedcols = ['weeksworked00', 'weeksworked01', 'weeksworked02', 'weeksworked03', 'weeksworked04']"
   ]
  },
  {
   "cell_type": "code",
   "execution_count": 11,
   "id": "57cf6549-5b11-47e2-9bfa-6e71e471beff",
   "metadata": {},
   "outputs": [],
   "source": [
    "weeksworkedstacked = nls97[weeksworkedcols].stack(dropna=False)"
   ]
  },
  {
   "cell_type": "code",
   "execution_count": 13,
   "id": "5ed3d150-afc6-4b99-b2cc-bcbb60dd1d90",
   "metadata": {},
   "outputs": [
    {
     "data": {
      "text/plain": [
       "originalid               \n",
       "1           weeksworked00    53.0\n",
       "            weeksworked01    52.0\n",
       "            weeksworked02     NaN\n",
       "            weeksworked03    42.0\n",
       "            weeksworked04    52.0\n",
       "2           weeksworked00    51.0\n",
       "            weeksworked01    52.0\n",
       "            weeksworked02    44.0\n",
       "            weeksworked03    45.0\n",
       "            weeksworked04    52.0\n",
       "dtype: float64"
      ]
     },
     "execution_count": 13,
     "metadata": {},
     "output_type": "execute_result"
    }
   ],
   "source": [
    "weeksworkedstacked.loc[[1, 2]]"
   ]
  },
  {
   "cell_type": "markdown",
   "id": "dd352ff8-8aa1-48c3-86c9-201a6be70bbc",
   "metadata": {},
   "source": [
    "### melt로 데이터 녹이기"
   ]
  },
  {
   "cell_type": "code",
   "execution_count": 17,
   "id": "99d1680a-0dfc-4ebb-90c9-6b184784961c",
   "metadata": {},
   "outputs": [],
   "source": [
    "weeksworkedmelted = nls97.reset_index().loc[:, ['originalid']+weeksworkedcols].melt(id_vars=['originalid'],\n",
    "                                                               value_vars=weeksworkedcols,\n",
    "                                                               var_name='year',\n",
    "                                                               value_name='weeksworked')"
   ]
  },
  {
   "cell_type": "code",
   "execution_count": 19,
   "id": "9ef1d85b-ba03-44a1-9e85-c945ee6b8139",
   "metadata": {},
   "outputs": [
    {
     "data": {
      "text/html": [
       "<div>\n",
       "<style scoped>\n",
       "    .dataframe tbody tr th:only-of-type {\n",
       "        vertical-align: middle;\n",
       "    }\n",
       "\n",
       "    .dataframe tbody tr th {\n",
       "        vertical-align: top;\n",
       "    }\n",
       "\n",
       "    .dataframe thead th {\n",
       "        text-align: right;\n",
       "    }\n",
       "</style>\n",
       "<table border=\"1\" class=\"dataframe\">\n",
       "  <thead>\n",
       "    <tr style=\"text-align: right;\">\n",
       "      <th></th>\n",
       "      <th>originalid</th>\n",
       "      <th>year</th>\n",
       "      <th>weeksworked</th>\n",
       "    </tr>\n",
       "  </thead>\n",
       "  <tbody>\n",
       "    <tr>\n",
       "      <th>377</th>\n",
       "      <td>1</td>\n",
       "      <td>weeksworked00</td>\n",
       "      <td>53.0</td>\n",
       "    </tr>\n",
       "    <tr>\n",
       "      <th>9361</th>\n",
       "      <td>1</td>\n",
       "      <td>weeksworked01</td>\n",
       "      <td>52.0</td>\n",
       "    </tr>\n",
       "    <tr>\n",
       "      <th>18345</th>\n",
       "      <td>1</td>\n",
       "      <td>weeksworked02</td>\n",
       "      <td>NaN</td>\n",
       "    </tr>\n",
       "    <tr>\n",
       "      <th>27329</th>\n",
       "      <td>1</td>\n",
       "      <td>weeksworked03</td>\n",
       "      <td>42.0</td>\n",
       "    </tr>\n",
       "    <tr>\n",
       "      <th>36313</th>\n",
       "      <td>1</td>\n",
       "      <td>weeksworked04</td>\n",
       "      <td>52.0</td>\n",
       "    </tr>\n",
       "    <tr>\n",
       "      <th>8980</th>\n",
       "      <td>2</td>\n",
       "      <td>weeksworked00</td>\n",
       "      <td>51.0</td>\n",
       "    </tr>\n",
       "    <tr>\n",
       "      <th>17964</th>\n",
       "      <td>2</td>\n",
       "      <td>weeksworked01</td>\n",
       "      <td>52.0</td>\n",
       "    </tr>\n",
       "    <tr>\n",
       "      <th>26948</th>\n",
       "      <td>2</td>\n",
       "      <td>weeksworked02</td>\n",
       "      <td>44.0</td>\n",
       "    </tr>\n",
       "    <tr>\n",
       "      <th>35932</th>\n",
       "      <td>2</td>\n",
       "      <td>weeksworked03</td>\n",
       "      <td>45.0</td>\n",
       "    </tr>\n",
       "    <tr>\n",
       "      <th>44916</th>\n",
       "      <td>2</td>\n",
       "      <td>weeksworked04</td>\n",
       "      <td>52.0</td>\n",
       "    </tr>\n",
       "  </tbody>\n",
       "</table>\n",
       "</div>"
      ],
      "text/plain": [
       "       originalid           year  weeksworked\n",
       "377             1  weeksworked00         53.0\n",
       "9361            1  weeksworked01         52.0\n",
       "18345           1  weeksworked02          NaN\n",
       "27329           1  weeksworked03         42.0\n",
       "36313           1  weeksworked04         52.0\n",
       "8980            2  weeksworked00         51.0\n",
       "17964           2  weeksworked01         52.0\n",
       "26948           2  weeksworked02         44.0\n",
       "35932           2  weeksworked03         45.0\n",
       "44916           2  weeksworked04         52.0"
      ]
     },
     "execution_count": 19,
     "metadata": {},
     "output_type": "execute_result"
    }
   ],
   "source": [
    "weeksworkedmelted.loc[weeksworkedmelted.originalid.isin([1, 2])].sort_values(['originalid', 'year'])"
   ]
  },
  {
   "cell_type": "markdown",
   "id": "526957ba-b33b-4272-9bff-fef2a014fcc9",
   "metadata": {},
   "source": [
    "### 길게 쌓은 데이터를 unstack 사용하여, 넓은 포맷으로 변환"
   ]
  },
  {
   "cell_type": "code",
   "execution_count": 20,
   "id": "a0de40b6-2414-40b3-8b77-5474e7a691bd",
   "metadata": {},
   "outputs": [],
   "source": [
    "weeksworked = weeksworkedstacked.unstack()"
   ]
  },
  {
   "cell_type": "code",
   "execution_count": 22,
   "id": "137b7927-f238-43ff-865f-da71bcef04ce",
   "metadata": {},
   "outputs": [
    {
     "data": {
      "text/html": [
       "<div>\n",
       "<style scoped>\n",
       "    .dataframe tbody tr th:only-of-type {\n",
       "        vertical-align: middle;\n",
       "    }\n",
       "\n",
       "    .dataframe tbody tr th {\n",
       "        vertical-align: top;\n",
       "    }\n",
       "\n",
       "    .dataframe thead th {\n",
       "        text-align: right;\n",
       "    }\n",
       "</style>\n",
       "<table border=\"1\" class=\"dataframe\">\n",
       "  <thead>\n",
       "    <tr style=\"text-align: right;\">\n",
       "      <th></th>\n",
       "      <th>weeksworked00</th>\n",
       "      <th>weeksworked01</th>\n",
       "      <th>weeksworked02</th>\n",
       "      <th>weeksworked03</th>\n",
       "      <th>weeksworked04</th>\n",
       "    </tr>\n",
       "    <tr>\n",
       "      <th>originalid</th>\n",
       "      <th></th>\n",
       "      <th></th>\n",
       "      <th></th>\n",
       "      <th></th>\n",
       "      <th></th>\n",
       "    </tr>\n",
       "  </thead>\n",
       "  <tbody>\n",
       "    <tr>\n",
       "      <th>1</th>\n",
       "      <td>53.0</td>\n",
       "      <td>52.0</td>\n",
       "      <td>NaN</td>\n",
       "      <td>42.0</td>\n",
       "      <td>52.0</td>\n",
       "    </tr>\n",
       "    <tr>\n",
       "      <th>2</th>\n",
       "      <td>51.0</td>\n",
       "      <td>52.0</td>\n",
       "      <td>44.0</td>\n",
       "      <td>45.0</td>\n",
       "      <td>52.0</td>\n",
       "    </tr>\n",
       "  </tbody>\n",
       "</table>\n",
       "</div>"
      ],
      "text/plain": [
       "            weeksworked00  weeksworked01  weeksworked02  weeksworked03  \\\n",
       "originalid                                                               \n",
       "1                    53.0           52.0            NaN           42.0   \n",
       "2                    51.0           52.0           44.0           45.0   \n",
       "\n",
       "            weeksworked04  \n",
       "originalid                 \n",
       "1                    52.0  \n",
       "2                    52.0  "
      ]
     },
     "execution_count": 22,
     "metadata": {},
     "output_type": "execute_result"
    }
   ],
   "source": [
    "weeksworked.loc[[1,2]]"
   ]
  },
  {
   "cell_type": "markdown",
   "id": "36fc2645-4f54-44d2-a400-5903269d971b",
   "metadata": {},
   "source": [
    "### 길게 녹인 데이터를 pivot을 사용해 넓은 포맷으로 변환\n",
    "- 열 이름의 뒷부분으로 사용할 열(year)과 되돌릴 열(여기서는 weeksworked)을 pivot 인자로 전달해야함\n",
    "- 다중 수준의 열 이름이 반환되므로, 두번째 수준에서 이를 끄집어내어 수정한다 : [col[1] for col in weeksworked.columns[1:]]"
   ]
  },
  {
   "cell_type": "code",
   "execution_count": 26,
   "id": "2f42645d-963a-42df-a221-a2a0bd03c807",
   "metadata": {},
   "outputs": [],
   "source": [
    "weeksworked = weeksworkedmelted.pivot(index='originalid', columns='year', values=['weeksworked']).reset_index()"
   ]
  },
  {
   "cell_type": "code",
   "execution_count": 31,
   "id": "766a834c-1c57-4e24-a11d-0e9d9149bb02",
   "metadata": {},
   "outputs": [],
   "source": [
    "weeksworked.columns = ['originalid'] + [col[1] for col in weeksworked.columns[1:]]"
   ]
  },
  {
   "cell_type": "code",
   "execution_count": 33,
   "id": "04a7446c-9bca-4e6a-bc07-df3da2be357d",
   "metadata": {},
   "outputs": [
    {
     "data": {
      "text/html": [
       "<div>\n",
       "<style scoped>\n",
       "    .dataframe tbody tr th:only-of-type {\n",
       "        vertical-align: middle;\n",
       "    }\n",
       "\n",
       "    .dataframe tbody tr th {\n",
       "        vertical-align: top;\n",
       "    }\n",
       "\n",
       "    .dataframe thead th {\n",
       "        text-align: right;\n",
       "    }\n",
       "</style>\n",
       "<table border=\"1\" class=\"dataframe\">\n",
       "  <thead>\n",
       "    <tr style=\"text-align: right;\">\n",
       "      <th></th>\n",
       "      <th>0</th>\n",
       "      <th>1</th>\n",
       "    </tr>\n",
       "  </thead>\n",
       "  <tbody>\n",
       "    <tr>\n",
       "      <th>originalid</th>\n",
       "      <td>1.0</td>\n",
       "      <td>2.0</td>\n",
       "    </tr>\n",
       "    <tr>\n",
       "      <th>weeksworked00</th>\n",
       "      <td>53.0</td>\n",
       "      <td>51.0</td>\n",
       "    </tr>\n",
       "    <tr>\n",
       "      <th>weeksworked01</th>\n",
       "      <td>52.0</td>\n",
       "      <td>52.0</td>\n",
       "    </tr>\n",
       "    <tr>\n",
       "      <th>weeksworked02</th>\n",
       "      <td>NaN</td>\n",
       "      <td>44.0</td>\n",
       "    </tr>\n",
       "    <tr>\n",
       "      <th>weeksworked03</th>\n",
       "      <td>42.0</td>\n",
       "      <td>45.0</td>\n",
       "    </tr>\n",
       "    <tr>\n",
       "      <th>weeksworked04</th>\n",
       "      <td>52.0</td>\n",
       "      <td>52.0</td>\n",
       "    </tr>\n",
       "  </tbody>\n",
       "</table>\n",
       "</div>"
      ],
      "text/plain": [
       "                  0     1\n",
       "originalid      1.0   2.0\n",
       "weeksworked00  53.0  51.0\n",
       "weeksworked01  52.0  52.0\n",
       "weeksworked02   NaN  44.0\n",
       "weeksworked03  42.0  45.0\n",
       "weeksworked04  52.0  52.0"
      ]
     },
     "execution_count": 33,
     "metadata": {},
     "output_type": "execute_result"
    }
   ],
   "source": [
    "weeksworked.loc[weeksworked.originalid.isin([1,2])].T"
   ]
  }
 ],
 "metadata": {
  "kernelspec": {
   "display_name": "Python 3 (ipykernel)",
   "language": "python",
   "name": "python3"
  },
  "language_info": {
   "codemirror_mode": {
    "name": "ipython",
    "version": 3
   },
   "file_extension": ".py",
   "mimetype": "text/x-python",
   "name": "python",
   "nbconvert_exporter": "python",
   "pygments_lexer": "ipython3",
   "version": "3.9.13"
  }
 },
 "nbformat": 4,
 "nbformat_minor": 5
}
