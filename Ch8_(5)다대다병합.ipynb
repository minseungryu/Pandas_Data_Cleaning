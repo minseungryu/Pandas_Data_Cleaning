{
 "cells": [
  {
   "cell_type": "markdown",
   "id": "084f3f49-de4c-4b1c-a57b-b03ec5bf695b",
   "metadata": {},
   "source": [
    "# 다대다 병합"
   ]
  },
  {
   "cell_type": "markdown",
   "id": "7652e130-4626-4f56-aab4-ca4d1da0a8ff",
   "metadata": {},
   "source": [
    "### 클리브랜드 미술관 소장품 데이터 사용\n",
    "- 소장품 매체 인용\n",
    "- 소장품별 작가 정보"
   ]
  },
  {
   "cell_type": "code",
   "execution_count": 1,
   "id": "72a9f57c-2fa6-4194-8f30-8fc4d960d5db",
   "metadata": {},
   "outputs": [],
   "source": [
    "import pandas as pd\n",
    "cmacitations = pd.read_csv('data/cmacitations.csv')\n",
    "cmacreators = pd.read_csv('data/cmacreators.csv')"
   ]
  },
  {
   "cell_type": "code",
   "execution_count": 2,
   "id": "99051cb4-9a9b-4392-9d83-dc747cb59136",
   "metadata": {},
   "outputs": [
    {
     "data": {
      "text/html": [
       "<div>\n",
       "<style scoped>\n",
       "    .dataframe tbody tr th:only-of-type {\n",
       "        vertical-align: middle;\n",
       "    }\n",
       "\n",
       "    .dataframe tbody tr th {\n",
       "        vertical-align: top;\n",
       "    }\n",
       "\n",
       "    .dataframe thead th {\n",
       "        text-align: right;\n",
       "    }\n",
       "</style>\n",
       "<table border=\"1\" class=\"dataframe\">\n",
       "  <thead>\n",
       "    <tr style=\"text-align: right;\">\n",
       "      <th></th>\n",
       "      <th>id</th>\n",
       "      <th>citation</th>\n",
       "    </tr>\n",
       "  </thead>\n",
       "  <tbody>\n",
       "    <tr>\n",
       "      <th>0</th>\n",
       "      <td>92937</td>\n",
       "      <td>Milliken, William M. \"The Second Exhibition of...</td>\n",
       "    </tr>\n",
       "    <tr>\n",
       "      <th>1</th>\n",
       "      <td>92937</td>\n",
       "      <td>Glasier, Jessie C. \"Museum Gets Prize-Winning ...</td>\n",
       "    </tr>\n",
       "    <tr>\n",
       "      <th>2</th>\n",
       "      <td>92937</td>\n",
       "      <td>\"Cleveland Museum Acquires Typical Pictures by...</td>\n",
       "    </tr>\n",
       "    <tr>\n",
       "      <th>3</th>\n",
       "      <td>92937</td>\n",
       "      <td>Milliken, William M. \"Two Examples of Modern P...</td>\n",
       "    </tr>\n",
       "    <tr>\n",
       "      <th>4</th>\n",
       "      <td>92937</td>\n",
       "      <td>&lt;em&gt;Memorial Exhibition of the Work of George ...</td>\n",
       "    </tr>\n",
       "  </tbody>\n",
       "</table>\n",
       "</div>"
      ],
      "text/plain": [
       "      id                                           citation\n",
       "0  92937  Milliken, William M. \"The Second Exhibition of...\n",
       "1  92937  Glasier, Jessie C. \"Museum Gets Prize-Winning ...\n",
       "2  92937  \"Cleveland Museum Acquires Typical Pictures by...\n",
       "3  92937  Milliken, William M. \"Two Examples of Modern P...\n",
       "4  92937  <em>Memorial Exhibition of the Work of George ..."
      ]
     },
     "execution_count": 2,
     "metadata": {},
     "output_type": "execute_result"
    }
   ],
   "source": [
    "cmacitations.head()"
   ]
  },
  {
   "cell_type": "code",
   "execution_count": 3,
   "id": "3b480c9a-30e3-4095-9d21-e0995427f24c",
   "metadata": {},
   "outputs": [
    {
     "data": {
      "text/plain": [
       "(11642, 2)"
      ]
     },
     "execution_count": 3,
     "metadata": {},
     "output_type": "execute_result"
    }
   ],
   "source": [
    "cmacitations.shape"
   ]
  },
  {
   "cell_type": "code",
   "execution_count": 5,
   "id": "d825f70d-4dd1-49f5-9b11-6bf85039a369",
   "metadata": {},
   "outputs": [
    {
     "data": {
      "text/plain": [
       "935"
      ]
     },
     "execution_count": 5,
     "metadata": {},
     "output_type": "execute_result"
    }
   ],
   "source": [
    "cmacitations.id.nunique()"
   ]
  },
  {
   "cell_type": "code",
   "execution_count": 6,
   "id": "a6debcf6-e7f6-43ae-a75d-0d40f6e36de5",
   "metadata": {},
   "outputs": [
    {
     "data": {
      "text/html": [
       "<div>\n",
       "<style scoped>\n",
       "    .dataframe tbody tr th:only-of-type {\n",
       "        vertical-align: middle;\n",
       "    }\n",
       "\n",
       "    .dataframe tbody tr th {\n",
       "        vertical-align: top;\n",
       "    }\n",
       "\n",
       "    .dataframe thead th {\n",
       "        text-align: right;\n",
       "    }\n",
       "</style>\n",
       "<table border=\"1\" class=\"dataframe\">\n",
       "  <thead>\n",
       "    <tr style=\"text-align: right;\">\n",
       "      <th></th>\n",
       "      <th>id</th>\n",
       "      <th>creator</th>\n",
       "      <th>birth_year</th>\n",
       "    </tr>\n",
       "  </thead>\n",
       "  <tbody>\n",
       "    <tr>\n",
       "      <th>0</th>\n",
       "      <td>92937</td>\n",
       "      <td>George Bellows (American, 1882-1925)</td>\n",
       "      <td>1882</td>\n",
       "    </tr>\n",
       "    <tr>\n",
       "      <th>1</th>\n",
       "      <td>94979</td>\n",
       "      <td>John Singleton Copley (American, 1738-1815)</td>\n",
       "      <td>1738</td>\n",
       "    </tr>\n",
       "    <tr>\n",
       "      <th>2</th>\n",
       "      <td>137259</td>\n",
       "      <td>Gustave Courbet (French, 1819-1877)</td>\n",
       "      <td>1819</td>\n",
       "    </tr>\n",
       "    <tr>\n",
       "      <th>3</th>\n",
       "      <td>141639</td>\n",
       "      <td>Frederic Edwin Church (American, 1826-1900)</td>\n",
       "      <td>1826</td>\n",
       "    </tr>\n",
       "    <tr>\n",
       "      <th>4</th>\n",
       "      <td>93014</td>\n",
       "      <td>Thomas Cole (American, 1801-1848)</td>\n",
       "      <td>1801</td>\n",
       "    </tr>\n",
       "    <tr>\n",
       "      <th>5</th>\n",
       "      <td>110180</td>\n",
       "      <td>Albert Pinkham Ryder (American, 1847-1917)</td>\n",
       "      <td>1847</td>\n",
       "    </tr>\n",
       "    <tr>\n",
       "      <th>6</th>\n",
       "      <td>135299</td>\n",
       "      <td>Vincent van Gogh (Dutch, 1853-1890)</td>\n",
       "      <td>1853</td>\n",
       "    </tr>\n",
       "    <tr>\n",
       "      <th>7</th>\n",
       "      <td>125249</td>\n",
       "      <td>Vincent van Gogh (Dutch, 1853-1890)</td>\n",
       "      <td>1853</td>\n",
       "    </tr>\n",
       "    <tr>\n",
       "      <th>8</th>\n",
       "      <td>126769</td>\n",
       "      <td>Henri Rousseau (French, 1844-1910)</td>\n",
       "      <td>1844</td>\n",
       "    </tr>\n",
       "    <tr>\n",
       "      <th>9</th>\n",
       "      <td>135382</td>\n",
       "      <td>Claude Monet (French, 1840-1926)</td>\n",
       "      <td>1840</td>\n",
       "    </tr>\n",
       "  </tbody>\n",
       "</table>\n",
       "</div>"
      ],
      "text/plain": [
       "       id                                      creator birth_year\n",
       "0   92937         George Bellows (American, 1882-1925)       1882\n",
       "1   94979  John Singleton Copley (American, 1738-1815)       1738\n",
       "2  137259          Gustave Courbet (French, 1819-1877)       1819\n",
       "3  141639  Frederic Edwin Church (American, 1826-1900)       1826\n",
       "4   93014            Thomas Cole (American, 1801-1848)       1801\n",
       "5  110180   Albert Pinkham Ryder (American, 1847-1917)       1847\n",
       "6  135299          Vincent van Gogh (Dutch, 1853-1890)       1853\n",
       "7  125249          Vincent van Gogh (Dutch, 1853-1890)       1853\n",
       "8  126769           Henri Rousseau (French, 1844-1910)       1844\n",
       "9  135382             Claude Monet (French, 1840-1926)       1840"
      ]
     },
     "execution_count": 6,
     "metadata": {},
     "output_type": "execute_result"
    }
   ],
   "source": [
    "cmacreators.loc[:, ['id', 'creator', 'birth_year']].head(10)"
   ]
  },
  {
   "cell_type": "code",
   "execution_count": 7,
   "id": "3d0a4fe0-2347-4f0a-9f94-fbbba483af09",
   "metadata": {},
   "outputs": [
    {
     "data": {
      "text/plain": [
       "(737, 8)"
      ]
     },
     "execution_count": 7,
     "metadata": {},
     "output_type": "execute_result"
    }
   ],
   "source": [
    "cmacreators.shape"
   ]
  },
  {
   "cell_type": "code",
   "execution_count": 8,
   "id": "ad6a8088-8dfd-49ef-b527-33aba85f7aa9",
   "metadata": {},
   "outputs": [
    {
     "data": {
      "text/plain": [
       "654"
      ]
     },
     "execution_count": 8,
     "metadata": {},
     "output_type": "execute_result"
    }
   ],
   "source": [
    "cmacreators.id.nunique()"
   ]
  },
  {
   "cell_type": "markdown",
   "id": "2d3d94a3-9de1-4094-8b87-84e6fd49c764",
   "metadata": {},
   "source": [
    "### citations 데이터에서 병합 기준 값의 중복 있음\n",
    "- 예를 들어, 소장품 148758에 대해 174회의 매체 인용이 있었음"
   ]
  },
  {
   "cell_type": "code",
   "execution_count": 10,
   "id": "5ff07385-65c0-407a-b5e8-0f7ee02110b7",
   "metadata": {},
   "outputs": [
    {
     "data": {
      "text/plain": [
       "148758    174\n",
       "122351    116\n",
       "92937      98\n",
       "123168     94\n",
       "94979      93\n",
       "149112     93\n",
       "124245     87\n",
       "128842     86\n",
       "102578     84\n",
       "93014      79\n",
       "Name: id, dtype: int64"
      ]
     },
     "execution_count": 10,
     "metadata": {},
     "output_type": "execute_result"
    }
   ],
   "source": [
    "cmacitations.id.value_counts().head(10)"
   ]
  },
  {
   "cell_type": "markdown",
   "id": "653476d9-210d-42ea-8f67-a62d27509300",
   "metadata": {},
   "source": [
    "### creators 데이터에 병합 기준 값의 중복 있음"
   ]
  },
  {
   "cell_type": "code",
   "execution_count": 12,
   "id": "c61f9fbd-61bd-46c3-9c8b-ade18454f491",
   "metadata": {},
   "outputs": [
    {
     "data": {
      "text/plain": [
       "149386    4\n",
       "140001    4\n",
       "114537    3\n",
       "146797    3\n",
       "149041    3\n",
       "142753    3\n",
       "114538    3\n",
       "140427    3\n",
       "93173     3\n",
       "142752    3\n",
       "Name: id, dtype: int64"
      ]
     },
     "execution_count": 12,
     "metadata": {},
     "output_type": "execute_result"
    }
   ],
   "source": [
    "cmacreators.id.value_counts().head(10)"
   ]
  },
  {
   "cell_type": "markdown",
   "id": "cbb8d706-97d7-4e0d-98f5-15c0cf483acb",
   "metadata": {},
   "source": [
    "### 병합을 확인\n",
    "- checkmerge 함수 사용"
   ]
  },
  {
   "cell_type": "code",
   "execution_count": 13,
   "id": "2d33fbfb-cb54-48a5-9856-ef5ca9a70360",
   "metadata": {},
   "outputs": [],
   "source": [
    "def checkmerge(dfleft, dfright, idvar):\n",
    "    dfleft['inleft'] = \"Y\"\n",
    "    dfright['inright'] = \"Y\"\n",
    "    dfboth = pd.merge(dfleft[[idvar, 'inleft']], dfright[[idvar, 'inright']],\n",
    "                     on=[idvar], how='outer')\n",
    "    dfboth.fillna('N', inplace=True)\n",
    "    print(pd.crosstab(dfboth.inleft, dfboth.inright))"
   ]
  },
  {
   "cell_type": "code",
   "execution_count": 14,
   "id": "5d756d9f-6f3f-47c8-b036-9e069e715fbe",
   "metadata": {},
   "outputs": [
    {
     "name": "stdout",
     "output_type": "stream",
     "text": [
      "inright     N     Y\n",
      "inleft             \n",
      "N           0    46\n",
      "Y        2579  9701\n"
     ]
    }
   ],
   "source": [
    "checkmerge(cmacitations.copy(), cmacreators.copy(), 'id')"
   ]
  },
  {
   "cell_type": "markdown",
   "id": "48a534c6-e4a7-446c-9e04-3602c27e6f39",
   "metadata": {},
   "source": [
    "### 양쪽 데이터프레임에 중복된 병합 기준 값 확인"
   ]
  },
  {
   "cell_type": "code",
   "execution_count": 15,
   "id": "6c551a4c-8ad2-4362-95bc-145b2e2532b6",
   "metadata": {},
   "outputs": [
    {
     "data": {
      "text/html": [
       "<div>\n",
       "<style scoped>\n",
       "    .dataframe tbody tr th:only-of-type {\n",
       "        vertical-align: middle;\n",
       "    }\n",
       "\n",
       "    .dataframe tbody tr th {\n",
       "        vertical-align: top;\n",
       "    }\n",
       "\n",
       "    .dataframe thead th {\n",
       "        text-align: right;\n",
       "    }\n",
       "</style>\n",
       "<table border=\"1\" class=\"dataframe\">\n",
       "  <thead>\n",
       "    <tr style=\"text-align: right;\">\n",
       "      <th></th>\n",
       "      <th>id</th>\n",
       "      <th>citation</th>\n",
       "    </tr>\n",
       "  </thead>\n",
       "  <tbody>\n",
       "    <tr>\n",
       "      <th>8963</th>\n",
       "      <td>124733</td>\n",
       "      <td>Weigel, J. A. G. &lt;em&gt;Catalog einer Sammlung vo...</td>\n",
       "    </tr>\n",
       "    <tr>\n",
       "      <th>8964</th>\n",
       "      <td>124733</td>\n",
       "      <td>Winkler, Friedrich. &lt;em&gt;Die Zeichnungen Albrec...</td>\n",
       "    </tr>\n",
       "    <tr>\n",
       "      <th>8965</th>\n",
       "      <td>124733</td>\n",
       "      <td>Francis, Henry S. \"Drawing of a Dead Blue Jay ...</td>\n",
       "    </tr>\n",
       "    <tr>\n",
       "      <th>8966</th>\n",
       "      <td>124733</td>\n",
       "      <td>Kurz, Otto. &lt;em&gt;Fakes: A Handbook for Collecto...</td>\n",
       "    </tr>\n",
       "    <tr>\n",
       "      <th>8967</th>\n",
       "      <td>124733</td>\n",
       "      <td>Minneapolis Institute of Arts. &lt;em&gt;Watercolors...</td>\n",
       "    </tr>\n",
       "    <tr>\n",
       "      <th>8968</th>\n",
       "      <td>124733</td>\n",
       "      <td>Pilz, Kurt. \"Hans Hoffmann: Ein Nürnberger Dür...</td>\n",
       "    </tr>\n",
       "    <tr>\n",
       "      <th>8969</th>\n",
       "      <td>124733</td>\n",
       "      <td>Koschatzky, Walter and Alice Strobl. &lt;em&gt;Düre...</td>\n",
       "    </tr>\n",
       "    <tr>\n",
       "      <th>8970</th>\n",
       "      <td>124733</td>\n",
       "      <td>Johnson, Mark M&lt;em&gt;. Idea to Image: Preparator...</td>\n",
       "    </tr>\n",
       "    <tr>\n",
       "      <th>8971</th>\n",
       "      <td>124733</td>\n",
       "      <td>Kaufmann, Thomas DaCosta. &lt;em&gt;Drawings from th...</td>\n",
       "    </tr>\n",
       "    <tr>\n",
       "      <th>8972</th>\n",
       "      <td>124733</td>\n",
       "      <td>Koreny, Fritz. &lt;em&gt;Albrecht Dürer and the ani...</td>\n",
       "    </tr>\n",
       "    <tr>\n",
       "      <th>8973</th>\n",
       "      <td>124733</td>\n",
       "      <td>Achilles-Syndram, Katrin. &lt;em&gt;Die Kunstsammlun...</td>\n",
       "    </tr>\n",
       "    <tr>\n",
       "      <th>8974</th>\n",
       "      <td>124733</td>\n",
       "      <td>Schoch, Rainer, Katrin Achilles-Syndram, and B...</td>\n",
       "    </tr>\n",
       "    <tr>\n",
       "      <th>8975</th>\n",
       "      <td>124733</td>\n",
       "      <td>DeGrazia, Diane and Carter E. Foster. &lt;em&gt;Mast...</td>\n",
       "    </tr>\n",
       "    <tr>\n",
       "      <th>8976</th>\n",
       "      <td>124733</td>\n",
       "      <td>Dunbar, Burton L., et al. &lt;em&gt;A Corpus of Draw...</td>\n",
       "    </tr>\n",
       "  </tbody>\n",
       "</table>\n",
       "</div>"
      ],
      "text/plain": [
       "          id                                           citation\n",
       "8963  124733  Weigel, J. A. G. <em>Catalog einer Sammlung vo...\n",
       "8964  124733  Winkler, Friedrich. <em>Die Zeichnungen Albrec...\n",
       "8965  124733  Francis, Henry S. \"Drawing of a Dead Blue Jay ...\n",
       "8966  124733  Kurz, Otto. <em>Fakes: A Handbook for Collecto...\n",
       "8967  124733  Minneapolis Institute of Arts. <em>Watercolors...\n",
       "8968  124733  Pilz, Kurt. \"Hans Hoffmann: Ein Nürnberger Dür...\n",
       "8969  124733  Koschatzky, Walter and Alice Strobl. <em>Düre...\n",
       "8970  124733  Johnson, Mark M<em>. Idea to Image: Preparator...\n",
       "8971  124733  Kaufmann, Thomas DaCosta. <em>Drawings from th...\n",
       "8972  124733  Koreny, Fritz. <em>Albrecht Dürer and the ani...\n",
       "8973  124733  Achilles-Syndram, Katrin. <em>Die Kunstsammlun...\n",
       "8974  124733  Schoch, Rainer, Katrin Achilles-Syndram, and B...\n",
       "8975  124733  DeGrazia, Diane and Carter E. Foster. <em>Mast...\n",
       "8976  124733  Dunbar, Burton L., et al. <em>A Corpus of Draw..."
      ]
     },
     "execution_count": 15,
     "metadata": {},
     "output_type": "execute_result"
    }
   ],
   "source": [
    "cmacitations.loc[cmacitations.id==124733]"
   ]
  },
  {
   "cell_type": "code",
   "execution_count": 16,
   "id": "bc1836f4-ea93-4197-a7ac-3e25056d4ce5",
   "metadata": {},
   "outputs": [
    {
     "data": {
      "text/html": [
       "<div>\n",
       "<style scoped>\n",
       "    .dataframe tbody tr th:only-of-type {\n",
       "        vertical-align: middle;\n",
       "    }\n",
       "\n",
       "    .dataframe tbody tr th {\n",
       "        vertical-align: top;\n",
       "    }\n",
       "\n",
       "    .dataframe thead th {\n",
       "        text-align: right;\n",
       "    }\n",
       "</style>\n",
       "<table border=\"1\" class=\"dataframe\">\n",
       "  <thead>\n",
       "    <tr style=\"text-align: right;\">\n",
       "      <th></th>\n",
       "      <th>id</th>\n",
       "      <th>creator</th>\n",
       "      <th>birth_year</th>\n",
       "      <th>title</th>\n",
       "    </tr>\n",
       "  </thead>\n",
       "  <tbody>\n",
       "    <tr>\n",
       "      <th>449</th>\n",
       "      <td>124733</td>\n",
       "      <td>Albrecht Dürer (German, 1471-1528)</td>\n",
       "      <td>1471</td>\n",
       "      <td>Dead Blue Roller</td>\n",
       "    </tr>\n",
       "    <tr>\n",
       "      <th>450</th>\n",
       "      <td>124733</td>\n",
       "      <td>Hans Hoffmann (German, 1545/50-1591/92)</td>\n",
       "      <td>1545/50</td>\n",
       "      <td>Dead Blue Roller</td>\n",
       "    </tr>\n",
       "  </tbody>\n",
       "</table>\n",
       "</div>"
      ],
      "text/plain": [
       "         id                                  creator birth_year  \\\n",
       "449  124733       Albrecht Dürer (German, 1471-1528)       1471   \n",
       "450  124733  Hans Hoffmann (German, 1545/50-1591/92)    1545/50   \n",
       "\n",
       "                title  \n",
       "449  Dead Blue Roller  \n",
       "450  Dead Blue Roller  "
      ]
     },
     "execution_count": 16,
     "metadata": {},
     "output_type": "execute_result"
    }
   ],
   "source": [
    "cmacreators.loc[cmacreators.id==124733, ['id', 'creator', 'birth_year', 'title']]"
   ]
  },
  {
   "cell_type": "markdown",
   "id": "2a0ba695-069f-4868-ac31-ddcacfe63e80",
   "metadata": {},
   "source": [
    "### 다대다 병합"
   ]
  },
  {
   "cell_type": "code",
   "execution_count": 17,
   "id": "5e2abfd8-8c3c-4fb0-9e4c-92a84e3eaa9f",
   "metadata": {},
   "outputs": [],
   "source": [
    "cma = pd.merge(cmacitations, cmacreators, on=['id'], how='outer')\n",
    "cma['citation'] = cma.citation.str[0:20]\n",
    "cma['creator'] = cma.creator.str[0:20]"
   ]
  },
  {
   "cell_type": "code",
   "execution_count": 18,
   "id": "38982499-7769-42de-a0e9-55958844e1af",
   "metadata": {},
   "outputs": [
    {
     "data": {
      "text/html": [
       "<div>\n",
       "<style scoped>\n",
       "    .dataframe tbody tr th:only-of-type {\n",
       "        vertical-align: middle;\n",
       "    }\n",
       "\n",
       "    .dataframe tbody tr th {\n",
       "        vertical-align: top;\n",
       "    }\n",
       "\n",
       "    .dataframe thead th {\n",
       "        text-align: right;\n",
       "    }\n",
       "</style>\n",
       "<table border=\"1\" class=\"dataframe\">\n",
       "  <thead>\n",
       "    <tr style=\"text-align: right;\">\n",
       "      <th></th>\n",
       "      <th>citation</th>\n",
       "      <th>creator</th>\n",
       "      <th>birth_year</th>\n",
       "    </tr>\n",
       "  </thead>\n",
       "  <tbody>\n",
       "    <tr>\n",
       "      <th>9457</th>\n",
       "      <td>Weigel, J. A. G. &lt;em</td>\n",
       "      <td>Albrecht Dürer (Germ</td>\n",
       "      <td>1471</td>\n",
       "    </tr>\n",
       "    <tr>\n",
       "      <th>9458</th>\n",
       "      <td>Weigel, J. A. G. &lt;em</td>\n",
       "      <td>Hans Hoffmann (Germa</td>\n",
       "      <td>1545/50</td>\n",
       "    </tr>\n",
       "    <tr>\n",
       "      <th>9459</th>\n",
       "      <td>Winkler, Friedrich.</td>\n",
       "      <td>Albrecht Dürer (Germ</td>\n",
       "      <td>1471</td>\n",
       "    </tr>\n",
       "    <tr>\n",
       "      <th>9460</th>\n",
       "      <td>Winkler, Friedrich.</td>\n",
       "      <td>Hans Hoffmann (Germa</td>\n",
       "      <td>1545/50</td>\n",
       "    </tr>\n",
       "    <tr>\n",
       "      <th>9461</th>\n",
       "      <td>Francis, Henry S. \"D</td>\n",
       "      <td>Albrecht Dürer (Germ</td>\n",
       "      <td>1471</td>\n",
       "    </tr>\n",
       "    <tr>\n",
       "      <th>9462</th>\n",
       "      <td>Francis, Henry S. \"D</td>\n",
       "      <td>Hans Hoffmann (Germa</td>\n",
       "      <td>1545/50</td>\n",
       "    </tr>\n",
       "    <tr>\n",
       "      <th>9463</th>\n",
       "      <td>Kurz, Otto. &lt;em&gt;Fake</td>\n",
       "      <td>Albrecht Dürer (Germ</td>\n",
       "      <td>1471</td>\n",
       "    </tr>\n",
       "    <tr>\n",
       "      <th>9464</th>\n",
       "      <td>Kurz, Otto. &lt;em&gt;Fake</td>\n",
       "      <td>Hans Hoffmann (Germa</td>\n",
       "      <td>1545/50</td>\n",
       "    </tr>\n",
       "    <tr>\n",
       "      <th>9465</th>\n",
       "      <td>Minneapolis Institut</td>\n",
       "      <td>Albrecht Dürer (Germ</td>\n",
       "      <td>1471</td>\n",
       "    </tr>\n",
       "    <tr>\n",
       "      <th>9466</th>\n",
       "      <td>Minneapolis Institut</td>\n",
       "      <td>Hans Hoffmann (Germa</td>\n",
       "      <td>1545/50</td>\n",
       "    </tr>\n",
       "    <tr>\n",
       "      <th>9467</th>\n",
       "      <td>Pilz, Kurt. \"Hans Ho</td>\n",
       "      <td>Albrecht Dürer (Germ</td>\n",
       "      <td>1471</td>\n",
       "    </tr>\n",
       "    <tr>\n",
       "      <th>9468</th>\n",
       "      <td>Pilz, Kurt. \"Hans Ho</td>\n",
       "      <td>Hans Hoffmann (Germa</td>\n",
       "      <td>1545/50</td>\n",
       "    </tr>\n",
       "    <tr>\n",
       "      <th>9469</th>\n",
       "      <td>Koschatzky, Walter a</td>\n",
       "      <td>Albrecht Dürer (Germ</td>\n",
       "      <td>1471</td>\n",
       "    </tr>\n",
       "    <tr>\n",
       "      <th>9470</th>\n",
       "      <td>Koschatzky, Walter a</td>\n",
       "      <td>Hans Hoffmann (Germa</td>\n",
       "      <td>1545/50</td>\n",
       "    </tr>\n",
       "    <tr>\n",
       "      <th>9471</th>\n",
       "      <td>Johnson, Mark M&lt;em&gt;.</td>\n",
       "      <td>Albrecht Dürer (Germ</td>\n",
       "      <td>1471</td>\n",
       "    </tr>\n",
       "    <tr>\n",
       "      <th>9472</th>\n",
       "      <td>Johnson, Mark M&lt;em&gt;.</td>\n",
       "      <td>Hans Hoffmann (Germa</td>\n",
       "      <td>1545/50</td>\n",
       "    </tr>\n",
       "    <tr>\n",
       "      <th>9473</th>\n",
       "      <td>Kaufmann, Thomas DaC</td>\n",
       "      <td>Albrecht Dürer (Germ</td>\n",
       "      <td>1471</td>\n",
       "    </tr>\n",
       "    <tr>\n",
       "      <th>9474</th>\n",
       "      <td>Kaufmann, Thomas DaC</td>\n",
       "      <td>Hans Hoffmann (Germa</td>\n",
       "      <td>1545/50</td>\n",
       "    </tr>\n",
       "    <tr>\n",
       "      <th>9475</th>\n",
       "      <td>Koreny, Fritz. &lt;em&gt;A</td>\n",
       "      <td>Albrecht Dürer (Germ</td>\n",
       "      <td>1471</td>\n",
       "    </tr>\n",
       "    <tr>\n",
       "      <th>9476</th>\n",
       "      <td>Koreny, Fritz. &lt;em&gt;A</td>\n",
       "      <td>Hans Hoffmann (Germa</td>\n",
       "      <td>1545/50</td>\n",
       "    </tr>\n",
       "    <tr>\n",
       "      <th>9477</th>\n",
       "      <td>Achilles-Syndram, Ka</td>\n",
       "      <td>Albrecht Dürer (Germ</td>\n",
       "      <td>1471</td>\n",
       "    </tr>\n",
       "    <tr>\n",
       "      <th>9478</th>\n",
       "      <td>Achilles-Syndram, Ka</td>\n",
       "      <td>Hans Hoffmann (Germa</td>\n",
       "      <td>1545/50</td>\n",
       "    </tr>\n",
       "    <tr>\n",
       "      <th>9479</th>\n",
       "      <td>Schoch, Rainer, Katr</td>\n",
       "      <td>Albrecht Dürer (Germ</td>\n",
       "      <td>1471</td>\n",
       "    </tr>\n",
       "    <tr>\n",
       "      <th>9480</th>\n",
       "      <td>Schoch, Rainer, Katr</td>\n",
       "      <td>Hans Hoffmann (Germa</td>\n",
       "      <td>1545/50</td>\n",
       "    </tr>\n",
       "    <tr>\n",
       "      <th>9481</th>\n",
       "      <td>DeGrazia, Diane and</td>\n",
       "      <td>Albrecht Dürer (Germ</td>\n",
       "      <td>1471</td>\n",
       "    </tr>\n",
       "    <tr>\n",
       "      <th>9482</th>\n",
       "      <td>DeGrazia, Diane and</td>\n",
       "      <td>Hans Hoffmann (Germa</td>\n",
       "      <td>1545/50</td>\n",
       "    </tr>\n",
       "    <tr>\n",
       "      <th>9483</th>\n",
       "      <td>Dunbar, Burton L., e</td>\n",
       "      <td>Albrecht Dürer (Germ</td>\n",
       "      <td>1471</td>\n",
       "    </tr>\n",
       "    <tr>\n",
       "      <th>9484</th>\n",
       "      <td>Dunbar, Burton L., e</td>\n",
       "      <td>Hans Hoffmann (Germa</td>\n",
       "      <td>1545/50</td>\n",
       "    </tr>\n",
       "  </tbody>\n",
       "</table>\n",
       "</div>"
      ],
      "text/plain": [
       "                  citation               creator birth_year\n",
       "9457  Weigel, J. A. G. <em  Albrecht Dürer (Germ       1471\n",
       "9458  Weigel, J. A. G. <em  Hans Hoffmann (Germa    1545/50\n",
       "9459  Winkler, Friedrich.   Albrecht Dürer (Germ       1471\n",
       "9460  Winkler, Friedrich.   Hans Hoffmann (Germa    1545/50\n",
       "9461  Francis, Henry S. \"D  Albrecht Dürer (Germ       1471\n",
       "9462  Francis, Henry S. \"D  Hans Hoffmann (Germa    1545/50\n",
       "9463  Kurz, Otto. <em>Fake  Albrecht Dürer (Germ       1471\n",
       "9464  Kurz, Otto. <em>Fake  Hans Hoffmann (Germa    1545/50\n",
       "9465  Minneapolis Institut  Albrecht Dürer (Germ       1471\n",
       "9466  Minneapolis Institut  Hans Hoffmann (Germa    1545/50\n",
       "9467  Pilz, Kurt. \"Hans Ho  Albrecht Dürer (Germ       1471\n",
       "9468  Pilz, Kurt. \"Hans Ho  Hans Hoffmann (Germa    1545/50\n",
       "9469  Koschatzky, Walter a  Albrecht Dürer (Germ       1471\n",
       "9470  Koschatzky, Walter a  Hans Hoffmann (Germa    1545/50\n",
       "9471  Johnson, Mark M<em>.  Albrecht Dürer (Germ       1471\n",
       "9472  Johnson, Mark M<em>.  Hans Hoffmann (Germa    1545/50\n",
       "9473  Kaufmann, Thomas DaC  Albrecht Dürer (Germ       1471\n",
       "9474  Kaufmann, Thomas DaC  Hans Hoffmann (Germa    1545/50\n",
       "9475  Koreny, Fritz. <em>A  Albrecht Dürer (Germ       1471\n",
       "9476  Koreny, Fritz. <em>A  Hans Hoffmann (Germa    1545/50\n",
       "9477  Achilles-Syndram, Ka  Albrecht Dürer (Germ       1471\n",
       "9478  Achilles-Syndram, Ka  Hans Hoffmann (Germa    1545/50\n",
       "9479  Schoch, Rainer, Katr  Albrecht Dürer (Germ       1471\n",
       "9480  Schoch, Rainer, Katr  Hans Hoffmann (Germa    1545/50\n",
       "9481  DeGrazia, Diane and   Albrecht Dürer (Germ       1471\n",
       "9482  DeGrazia, Diane and   Hans Hoffmann (Germa    1545/50\n",
       "9483  Dunbar, Burton L., e  Albrecht Dürer (Germ       1471\n",
       "9484  Dunbar, Burton L., e  Hans Hoffmann (Germa    1545/50"
      ]
     },
     "execution_count": 18,
     "metadata": {},
     "output_type": "execute_result"
    }
   ],
   "source": [
    "cma.loc[cma.id==124733, ['citation', 'creator','birth_year']]"
   ]
  },
  {
   "cell_type": "code",
   "execution_count": null,
   "id": "9ebf2f0a-99aa-4e7a-a88a-16d3025bc76f",
   "metadata": {},
   "outputs": [],
   "source": []
  }
 ],
 "metadata": {
  "kernelspec": {
   "display_name": "Python 3 (ipykernel)",
   "language": "python",
   "name": "python3"
  },
  "language_info": {
   "codemirror_mode": {
    "name": "ipython",
    "version": 3
   },
   "file_extension": ".py",
   "mimetype": "text/x-python",
   "name": "python",
   "nbconvert_exporter": "python",
   "pygments_lexer": "ipython3",
   "version": "3.9.13"
  }
 },
 "nbformat": 4,
 "nbformat_minor": 5
}
