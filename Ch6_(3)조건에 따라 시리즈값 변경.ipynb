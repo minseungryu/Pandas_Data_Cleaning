{
 "cells": [
  {
   "cell_type": "markdown",
   "id": "ac9ae8f7-8189-41f2-8fd3-453dbaa9b342",
   "metadata": {},
   "source": [
    "## (3)조건에 따라 시리즈 값을 변경\n",
    "### 데이터 : 지표온도와 미국 종단조사"
   ]
  },
  {
   "cell_type": "code",
   "execution_count": 5,
   "id": "68480d26-2b0d-4489-b1f5-db78282fa10d",
   "metadata": {},
   "outputs": [],
   "source": [
    "import pandas as pd\n",
    "import numpy as np\n",
    "nls97 = pd.read_csv('data/nls97b.csv')\n",
    "nls97.set_index('personid', inplace=True)\n",
    "landtemps = pd.read_csv('data/landtemps2019avgs.csv')"
   ]
  },
  {
   "cell_type": "code",
   "execution_count": 7,
   "id": "a9c851ca-3dd3-46d9-92d2-84a6fe20cd50",
   "metadata": {},
   "outputs": [
    {
     "data": {
      "text/plain": [
       "0.2      48.0\n",
       "0.4     190.5\n",
       "0.6     393.2\n",
       "0.8    1066.8\n",
       "1.0    9999.0\n",
       "Name: elevation, dtype: float64"
      ]
     },
     "execution_count": 7,
     "metadata": {},
     "output_type": "execute_result"
    }
   ],
   "source": [
    "# Elevation 값의 분포 빠르게 확인\n",
    "landtemps.elevation.quantile(np.arange(0.2, 1.1, 0.2))"
   ]
  },
  {
   "cell_type": "markdown",
   "id": "263d9762-ea97-4a7a-b0bb-8641f13f5cac",
   "metadata": {},
   "source": [
    "### 넘파이 where 함수로 두 값을 포함하는 범주 시리즈를 생성\n",
    "- where(검사조건, 참일 경우 수행할 문장, 거짓일 경우 수행할 문장)"
   ]
  },
  {
   "cell_type": "code",
   "execution_count": 8,
   "id": "f349e7d1-55d0-4164-8b97-3d248f7dcfab",
   "metadata": {},
   "outputs": [],
   "source": [
    "landtemps['elevation_group'] = np.where(landtemps.elevation > landtemps.elevation.quantile(0.8), 'High', 'Low')"
   ]
  },
  {
   "cell_type": "code",
   "execution_count": 10,
   "id": "febe78d6-f0ed-4520-bc0a-3aaff50f6a60",
   "metadata": {},
   "outputs": [],
   "source": [
    "landtemps.elevation_group = landtemps.elevation_group.astype('category')"
   ]
  },
  {
   "cell_type": "code",
   "execution_count": 11,
   "id": "77fde9a4-811e-4360-837a-32644332311d",
   "metadata": {},
   "outputs": [
    {
     "data": {
      "text/html": [
       "<div>\n",
       "<style scoped>\n",
       "    .dataframe tbody tr th:only-of-type {\n",
       "        vertical-align: middle;\n",
       "    }\n",
       "\n",
       "    .dataframe tbody tr th {\n",
       "        vertical-align: top;\n",
       "    }\n",
       "\n",
       "    .dataframe thead th {\n",
       "        text-align: right;\n",
       "    }\n",
       "</style>\n",
       "<table border=\"1\" class=\"dataframe\">\n",
       "  <thead>\n",
       "    <tr style=\"text-align: right;\">\n",
       "      <th></th>\n",
       "      <th>count</th>\n",
       "      <th>min</th>\n",
       "      <th>max</th>\n",
       "    </tr>\n",
       "    <tr>\n",
       "      <th>elevation_group</th>\n",
       "      <th></th>\n",
       "      <th></th>\n",
       "      <th></th>\n",
       "    </tr>\n",
       "  </thead>\n",
       "  <tbody>\n",
       "    <tr>\n",
       "      <th>High</th>\n",
       "      <td>2409</td>\n",
       "      <td>1067.0</td>\n",
       "      <td>9999.0</td>\n",
       "    </tr>\n",
       "    <tr>\n",
       "      <th>Low</th>\n",
       "      <td>9686</td>\n",
       "      <td>-350.0</td>\n",
       "      <td>1066.8</td>\n",
       "    </tr>\n",
       "  </tbody>\n",
       "</table>\n",
       "</div>"
      ],
      "text/plain": [
       "                 count     min     max\n",
       "elevation_group                       \n",
       "High              2409  1067.0  9999.0\n",
       "Low               9686  -350.0  1066.8"
      ]
     },
     "execution_count": 11,
     "metadata": {},
     "output_type": "execute_result"
    }
   ],
   "source": [
    "landtemps.groupby(['elevation_group'])['elevation'].agg(['count', 'min', 'max'])"
   ]
  },
  {
   "cell_type": "markdown",
   "id": "17ecdc0d-ffdf-4e0a-8218-9f6b27f1db15",
   "metadata": {
    "tags": []
   },
   "source": [
    "### 📍where 메서드로 세 값을 포함하는 범주형 시리즈 생성\n",
    "- 80번쨰 백분위수보다 높은 값을 high, 중앙값을 초과하고 80번째 백분위수 이하인 값 Median, 그 외의 값을 low로\n",
    "> - 검사 안에 검사를 중첩하는 경우로, False 대신에 또 다른 where문을 넣는다 <br>\n",
    "> - where(검사조건, 참일 경우 수행할 문장, where(검사조건, 참일경우 수행할 문장, 거짓일 경우 수행할 문장))"
   ]
  },
  {
   "cell_type": "code",
   "execution_count": 27,
   "id": "e7eff880-af72-44a5-824b-97b23c6ed213",
   "metadata": {},
   "outputs": [
    {
     "data": {
      "text/plain": [
       "271.3"
      ]
     },
     "execution_count": 27,
     "metadata": {},
     "output_type": "execute_result"
    }
   ],
   "source": [
    "landtemps.elevation.median()"
   ]
  },
  {
   "cell_type": "code",
   "execution_count": 31,
   "id": "0b054ae6-5cbb-47db-877d-3dfdbc0cd6d3",
   "metadata": {},
   "outputs": [],
   "source": [
    "landtemps['elevation_group'] = np.where(landtemps.elevation > landtemps.elevation.quantile(0.8),'High',\n",
    "                                        np.where(landtemps.elevation > landtemps.elevation.median(), 'Medium', 'Low'))"
   ]
  },
  {
   "cell_type": "code",
   "execution_count": 32,
   "id": "fbe0986f-a432-4c1b-8570-dd3ca070efd0",
   "metadata": {},
   "outputs": [],
   "source": [
    "landtemps.elevation_group = landtemps.elevation_group.astype('category')"
   ]
  },
  {
   "cell_type": "code",
   "execution_count": 34,
   "id": "42b5ae45-9639-4a22-8acc-3fc5f2964cca",
   "metadata": {},
   "outputs": [
    {
     "data": {
      "text/html": [
       "<div>\n",
       "<style scoped>\n",
       "    .dataframe tbody tr th:only-of-type {\n",
       "        vertical-align: middle;\n",
       "    }\n",
       "\n",
       "    .dataframe tbody tr th {\n",
       "        vertical-align: top;\n",
       "    }\n",
       "\n",
       "    .dataframe thead th {\n",
       "        text-align: right;\n",
       "    }\n",
       "</style>\n",
       "<table border=\"1\" class=\"dataframe\">\n",
       "  <thead>\n",
       "    <tr style=\"text-align: right;\">\n",
       "      <th></th>\n",
       "      <th>count</th>\n",
       "      <th>min</th>\n",
       "      <th>max</th>\n",
       "    </tr>\n",
       "    <tr>\n",
       "      <th>elevation_group</th>\n",
       "      <th></th>\n",
       "      <th></th>\n",
       "      <th></th>\n",
       "    </tr>\n",
       "  </thead>\n",
       "  <tbody>\n",
       "    <tr>\n",
       "      <th>High</th>\n",
       "      <td>2409</td>\n",
       "      <td>1067.0</td>\n",
       "      <td>9999.0</td>\n",
       "    </tr>\n",
       "    <tr>\n",
       "      <th>Low</th>\n",
       "      <td>6056</td>\n",
       "      <td>-350.0</td>\n",
       "      <td>271.3</td>\n",
       "    </tr>\n",
       "    <tr>\n",
       "      <th>Medium</th>\n",
       "      <td>3630</td>\n",
       "      <td>271.4</td>\n",
       "      <td>1066.8</td>\n",
       "    </tr>\n",
       "  </tbody>\n",
       "</table>\n",
       "</div>"
      ],
      "text/plain": [
       "                 count     min     max\n",
       "elevation_group                       \n",
       "High              2409  1067.0  9999.0\n",
       "Low               6056  -350.0   271.3\n",
       "Medium            3630   271.4  1066.8"
      ]
     },
     "execution_count": 34,
     "metadata": {},
     "output_type": "execute_result"
    }
   ],
   "source": [
    "landtemps.groupby(['elevation_group'])['elevation'].agg(['count', 'min', 'max'])"
   ]
  },
  {
   "cell_type": "markdown",
   "id": "440aa038-77a4-4d9f-ae81-b0fc50e0afe6",
   "metadata": {},
   "source": [
    "### 📍넘파이 select 메서드를 사용해 조건의 리스트를 평가\n",
    "> where문을 복잡하게 만드는 것보다, 이 방법을 추천\n",
    "- 검사 조건 리스트와 결과를 담을 리스트를 각각 준비\n",
    "- 여러 검사를 만족하더라도 첫 번째 참인 것만 사용됨!\n",
    "    - GPA가 2미만인 개인과 학위가 없는 개인을 첫번째 범주에 넣기\n",
    "    - 학위는 없지만 GPA가 높은 개인을 두 번째 범주에 넣기\n",
    "    - 학위는 있지만 GPA가 낮은 개인을 세 번째 범주에 넣기\n",
    "    - 나머지를 네번째 범주에 넣기"
   ]
  },
  {
   "cell_type": "code",
   "execution_count": 13,
   "id": "405e7904-009a-4f7f-96cf-f631d7fc18d7",
   "metadata": {},
   "outputs": [],
   "source": [
    "test = [(nls97.gpaoverall < 2) & (nls97.highestdegree == '0. None'),\n",
    "        nls97.highestdegree == '0. None', nls97.gpaoverall < 2]\n",
    "\n",
    "result = ['1. Low GPA and No Diploma', '2. No Diploma', '3. Low GPA']"
   ]
  },
  {
   "cell_type": "code",
   "execution_count": 14,
   "id": "2fa40bc3-2aaf-4f0b-a4ee-a4a43ccb4235",
   "metadata": {},
   "outputs": [],
   "source": [
    "nls97['hsachieve'] = np.select(test, result, '4.Did Okay')"
   ]
  },
  {
   "cell_type": "code",
   "execution_count": 15,
   "id": "474a1327-2059-438f-aca7-39287387324b",
   "metadata": {},
   "outputs": [
    {
     "data": {
      "text/html": [
       "<div>\n",
       "<style scoped>\n",
       "    .dataframe tbody tr th:only-of-type {\n",
       "        vertical-align: middle;\n",
       "    }\n",
       "\n",
       "    .dataframe tbody tr th {\n",
       "        vertical-align: top;\n",
       "    }\n",
       "\n",
       "    .dataframe thead th {\n",
       "        text-align: right;\n",
       "    }\n",
       "</style>\n",
       "<table border=\"1\" class=\"dataframe\">\n",
       "  <thead>\n",
       "    <tr style=\"text-align: right;\">\n",
       "      <th></th>\n",
       "      <th>hsachieve</th>\n",
       "      <th>gpaoverall</th>\n",
       "      <th>highestdegree</th>\n",
       "    </tr>\n",
       "    <tr>\n",
       "      <th>personid</th>\n",
       "      <th></th>\n",
       "      <th></th>\n",
       "      <th></th>\n",
       "    </tr>\n",
       "  </thead>\n",
       "  <tbody>\n",
       "    <tr>\n",
       "      <th>100061</th>\n",
       "      <td>4.Did Okay</td>\n",
       "      <td>3.06</td>\n",
       "      <td>2. High School</td>\n",
       "    </tr>\n",
       "    <tr>\n",
       "      <th>100139</th>\n",
       "      <td>4.Did Okay</td>\n",
       "      <td>NaN</td>\n",
       "      <td>2. High School</td>\n",
       "    </tr>\n",
       "    <tr>\n",
       "      <th>100284</th>\n",
       "      <td>2. No Diploma</td>\n",
       "      <td>NaN</td>\n",
       "      <td>0. None</td>\n",
       "    </tr>\n",
       "    <tr>\n",
       "      <th>100292</th>\n",
       "      <td>4.Did Okay</td>\n",
       "      <td>3.45</td>\n",
       "      <td>4. Bachelors</td>\n",
       "    </tr>\n",
       "    <tr>\n",
       "      <th>100583</th>\n",
       "      <td>4.Did Okay</td>\n",
       "      <td>2.91</td>\n",
       "      <td>2. High School</td>\n",
       "    </tr>\n",
       "  </tbody>\n",
       "</table>\n",
       "</div>"
      ],
      "text/plain": [
       "              hsachieve  gpaoverall   highestdegree\n",
       "personid                                           \n",
       "100061       4.Did Okay        3.06  2. High School\n",
       "100139       4.Did Okay         NaN  2. High School\n",
       "100284    2. No Diploma         NaN         0. None\n",
       "100292       4.Did Okay        3.45    4. Bachelors\n",
       "100583       4.Did Okay        2.91  2. High School"
      ]
     },
     "execution_count": 15,
     "metadata": {},
     "output_type": "execute_result"
    }
   ],
   "source": [
    "nls97[['hsachieve', 'gpaoverall', 'highestdegree']].head()"
   ]
  },
  {
   "cell_type": "code",
   "execution_count": 17,
   "id": "b0064764-1094-4020-a3a5-458629ee85f9",
   "metadata": {},
   "outputs": [
    {
     "data": {
      "text/plain": [
       "1. Low GPA and No Diploma      95\n",
       "2. No Diploma                 858\n",
       "3. Low GPA                    459\n",
       "4.Did Okay                   7572\n",
       "Name: hsachieve, dtype: int64"
      ]
     },
     "execution_count": 17,
     "metadata": {},
     "output_type": "execute_result"
    }
   ],
   "source": [
    "nls97.hsachieve.value_counts().sort_index()"
   ]
  },
  {
   "cell_type": "markdown",
   "id": "5b980b7d-0697-4753-811c-fb90d79284a7",
   "metadata": {},
   "source": [
    "### 📍lambda를 사용해 여러 개의 열을 한 문장으로 테스트\n",
    "> 로직이 더 복잡해지면 apply를 사용한다. <br>\n",
    "> axis=1을 지정하면 데이터프레임의 각 행을 함수에 보냄\n",
    "- colenr열에는 2월과 10월의 개인별 학적 상태가 있다 ->> 이 열에 3. 4-year college값이 있는지 검사하려고 한다.\n",
    "    - filter를 사용해 colenr열의 데이터프레임을 생성\n",
    "    - apply를 사용해 lambda 함수를 호출\n",
    "    - colenr열의 첫번째 문자를 검사한다(3인지만 확인)->> 결과는 any에 전달되어 3이 첫 글자인 열이 존재하는지 평가"
   ]
  },
  {
   "cell_type": "code",
   "execution_count": 18,
   "id": "98eac753-8d2e-4bde-81ea-ef7a2f6eb6f4",
   "metadata": {},
   "outputs": [
    {
     "data": {
      "text/html": [
       "<div>\n",
       "<style scoped>\n",
       "    .dataframe tbody tr th:only-of-type {\n",
       "        vertical-align: middle;\n",
       "    }\n",
       "\n",
       "    .dataframe tbody tr th {\n",
       "        vertical-align: top;\n",
       "    }\n",
       "\n",
       "    .dataframe thead th {\n",
       "        text-align: right;\n",
       "    }\n",
       "</style>\n",
       "<table border=\"1\" class=\"dataframe\">\n",
       "  <thead>\n",
       "    <tr style=\"text-align: right;\">\n",
       "      <th>personid</th>\n",
       "      <th>100292</th>\n",
       "      <th>100583</th>\n",
       "      <th>100139</th>\n",
       "    </tr>\n",
       "  </thead>\n",
       "  <tbody>\n",
       "    <tr>\n",
       "      <th>colenrfeb00</th>\n",
       "      <td>1. Not enrolled</td>\n",
       "      <td>1. Not enrolled</td>\n",
       "      <td>1. Not enrolled</td>\n",
       "    </tr>\n",
       "    <tr>\n",
       "      <th>colenroct00</th>\n",
       "      <td>3. 4-year college</td>\n",
       "      <td>1. Not enrolled</td>\n",
       "      <td>1. Not enrolled</td>\n",
       "    </tr>\n",
       "    <tr>\n",
       "      <th>colenrfeb01</th>\n",
       "      <td>3. 4-year college</td>\n",
       "      <td>1. Not enrolled</td>\n",
       "      <td>1. Not enrolled</td>\n",
       "    </tr>\n",
       "    <tr>\n",
       "      <th>colenroct01</th>\n",
       "      <td>3. 4-year college</td>\n",
       "      <td>3. 4-year college</td>\n",
       "      <td>1. Not enrolled</td>\n",
       "    </tr>\n",
       "    <tr>\n",
       "      <th>colenrfeb02</th>\n",
       "      <td>3. 4-year college</td>\n",
       "      <td>3. 4-year college</td>\n",
       "      <td>1. Not enrolled</td>\n",
       "    </tr>\n",
       "    <tr>\n",
       "      <th>colenroct02</th>\n",
       "      <td>3. 4-year college</td>\n",
       "      <td>1. Not enrolled</td>\n",
       "      <td>1. Not enrolled</td>\n",
       "    </tr>\n",
       "    <tr>\n",
       "      <th>colenrfeb03</th>\n",
       "      <td>3. 4-year college</td>\n",
       "      <td>1. Not enrolled</td>\n",
       "      <td>1. Not enrolled</td>\n",
       "    </tr>\n",
       "    <tr>\n",
       "      <th>colenroct03</th>\n",
       "      <td>3. 4-year college</td>\n",
       "      <td>1. Not enrolled</td>\n",
       "      <td>1. Not enrolled</td>\n",
       "    </tr>\n",
       "    <tr>\n",
       "      <th>colenrfeb04</th>\n",
       "      <td>3. 4-year college</td>\n",
       "      <td>1. Not enrolled</td>\n",
       "      <td>1. Not enrolled</td>\n",
       "    </tr>\n",
       "    <tr>\n",
       "      <th>colenroct04</th>\n",
       "      <td>1. Not enrolled</td>\n",
       "      <td>1. Not enrolled</td>\n",
       "      <td>1. Not enrolled</td>\n",
       "    </tr>\n",
       "  </tbody>\n",
       "</table>\n",
       "</div>"
      ],
      "text/plain": [
       "personid                100292             100583           100139\n",
       "colenrfeb00    1. Not enrolled    1. Not enrolled  1. Not enrolled\n",
       "colenroct00  3. 4-year college    1. Not enrolled  1. Not enrolled\n",
       "colenrfeb01  3. 4-year college    1. Not enrolled  1. Not enrolled\n",
       "colenroct01  3. 4-year college  3. 4-year college  1. Not enrolled\n",
       "colenrfeb02  3. 4-year college  3. 4-year college  1. Not enrolled\n",
       "colenroct02  3. 4-year college    1. Not enrolled  1. Not enrolled\n",
       "colenrfeb03  3. 4-year college    1. Not enrolled  1. Not enrolled\n",
       "colenroct03  3. 4-year college    1. Not enrolled  1. Not enrolled\n",
       "colenrfeb04  3. 4-year college    1. Not enrolled  1. Not enrolled\n",
       "colenroct04    1. Not enrolled    1. Not enrolled  1. Not enrolled"
      ]
     },
     "execution_count": 18,
     "metadata": {},
     "output_type": "execute_result"
    }
   ],
   "source": [
    "nls97.loc[[100292, 100583, 100139], 'colenrfeb00':'colenroct04'].T"
   ]
  },
  {
   "cell_type": "code",
   "execution_count": 19,
   "id": "e321dd98-898b-4709-ae17-85e5218cb5c2",
   "metadata": {},
   "outputs": [],
   "source": [
    "nls97['baenrollment'] = nls97.filter(like='colenr').apply(lambda x: x.str[0:1]=='3').any(axis=1)"
   ]
  },
  {
   "cell_type": "code",
   "execution_count": 21,
   "id": "33123402-2c9d-4c27-bdbf-e113caa18d86",
   "metadata": {},
   "outputs": [
    {
     "data": {
      "text/html": [
       "<div>\n",
       "<style scoped>\n",
       "    .dataframe tbody tr th:only-of-type {\n",
       "        vertical-align: middle;\n",
       "    }\n",
       "\n",
       "    .dataframe tbody tr th {\n",
       "        vertical-align: top;\n",
       "    }\n",
       "\n",
       "    .dataframe thead th {\n",
       "        text-align: right;\n",
       "    }\n",
       "</style>\n",
       "<table border=\"1\" class=\"dataframe\">\n",
       "  <thead>\n",
       "    <tr style=\"text-align: right;\">\n",
       "      <th>personid</th>\n",
       "      <th>100292</th>\n",
       "      <th>100583</th>\n",
       "      <th>100139</th>\n",
       "    </tr>\n",
       "  </thead>\n",
       "  <tbody>\n",
       "    <tr>\n",
       "      <th>baenrollment</th>\n",
       "      <td>True</td>\n",
       "      <td>True</td>\n",
       "      <td>False</td>\n",
       "    </tr>\n",
       "  </tbody>\n",
       "</table>\n",
       "</div>"
      ],
      "text/plain": [
       "personid      100292  100583  100139\n",
       "baenrollment    True    True   False"
      ]
     },
     "execution_count": 21,
     "metadata": {},
     "output_type": "execute_result"
    }
   ],
   "source": [
    "nls97.loc[[100292, 100583, 100139], ['baenrollment']].T"
   ]
  },
  {
   "cell_type": "code",
   "execution_count": 22,
   "id": "14200fb1-771c-47b4-a27f-eca65c74243a",
   "metadata": {},
   "outputs": [
    {
     "data": {
      "text/plain": [
       "False    5085\n",
       "True     3899\n",
       "Name: baenrollment, dtype: int64"
      ]
     },
     "execution_count": 22,
     "metadata": {},
     "output_type": "execute_result"
    }
   ],
   "source": [
    "nls97.baenrollment.value_counts()"
   ]
  },
  {
   "cell_type": "markdown",
   "id": "a1eb4e22-3274-44a5-9f0d-e54d59312740",
   "metadata": {},
   "source": [
    "### 📍여러 시리즈의 값을 바탕으로 값을 할당하는 함수 생성\n",
    "- 야간에 수면을 6시간 미만으로 취하는 이유에 따라 조사 응답자를 범주화하는 함수 생성\n",
    "    - 취업 상태, 함께 거주하는 자녀 수, 임금소득, 최고 성적에 대한 응답을 바탕으로 구분"
   ]
  },
  {
   "cell_type": "code",
   "execution_count": 23,
   "id": "1fc48f82-0352-4a95-888d-9d7499cc2e99",
   "metadata": {},
   "outputs": [],
   "source": [
    "def getsleepdeprivedreason(row):\n",
    "    sleepdeprivedreason = 'Unknown'\n",
    "    if (row.nightlyhrssleep >= 6):\n",
    "        sleepdeprivedreason = 'Not Sleep Deprived'\n",
    "    elif (row.nightlyhrssleep > 0):\n",
    "        if (row.weeksworked16 + row.weeksworked17 < 80): #거의 일을 하지 않고\n",
    "            if (row.childathome > 2): # 3명 이상의 자녀와 함께 거주한 경우\n",
    "                sleepdeprivedreason = 'Child Rearing' # 자녀 양육\n",
    "            else:\n",
    "                sleepdeprivedreason = 'Other Reasons' # 기타\n",
    "        else: # 대부분 일을 한 경우\n",
    "            if (row.wageincome >= 62000 or row.highestgradecompleted >= 16): #급여가 높거나 4년제 졸업\n",
    "                sleepdeprivedreason = 'Work Pressure' # 직장 스트레스\n",
    "            else:\n",
    "                sleepdeprivedreason = 'Income Pressure' # 금전적 스트레스\n",
    "    else:\n",
    "        sleepdeprivedreason = 'Unknown'\n",
    "    return sleepdeprivedreason"
   ]
  },
  {
   "cell_type": "code",
   "execution_count": 24,
   "id": "62f8446d-6319-49be-b749-493401e7d214",
   "metadata": {},
   "outputs": [],
   "source": [
    "nls97['sleepdeprivedreason'] = nls97.apply(getsleepdeprivedreason, axis = 1)"
   ]
  },
  {
   "cell_type": "code",
   "execution_count": 25,
   "id": "04cc8782-134b-49af-9bb3-9d5d87a6c901",
   "metadata": {},
   "outputs": [],
   "source": [
    "nls97.sleepdeprivedreason = nls97.sleepdeprivedreason.astype('category')"
   ]
  },
  {
   "cell_type": "code",
   "execution_count": 26,
   "id": "f08323c5-2dab-46c4-84dd-baa4278d9d7e",
   "metadata": {},
   "outputs": [
    {
     "data": {
      "text/plain": [
       "Not Sleep Deprived    5595\n",
       "Unknown               2286\n",
       "Income Pressure        462\n",
       "Work Pressure          281\n",
       "Other Reasons          272\n",
       "Child Rearing           88\n",
       "Name: sleepdeprivedreason, dtype: int64"
      ]
     },
     "execution_count": 26,
     "metadata": {},
     "output_type": "execute_result"
    }
   ],
   "source": [
    "nls97.sleepdeprivedreason.value_counts()"
   ]
  }
 ],
 "metadata": {
  "kernelspec": {
   "display_name": "Python 3 (ipykernel)",
   "language": "python",
   "name": "python3"
  },
  "language_info": {
   "codemirror_mode": {
    "name": "ipython",
    "version": 3
   },
   "file_extension": ".py",
   "mimetype": "text/x-python",
   "name": "python",
   "nbconvert_exporter": "python",
   "pygments_lexer": "ipython3",
   "version": "3.9.13"
  }
 },
 "nbformat": 4,
 "nbformat_minor": 5
}
