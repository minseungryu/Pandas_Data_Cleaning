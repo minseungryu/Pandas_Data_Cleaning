{
 "cells": [
  {
   "cell_type": "markdown",
   "id": "e175bf09-84b8-4fef-b20b-53c6bbbe9996",
   "metadata": {},
   "source": [
    "## (3)시리즈 값 변경\n",
    "- 시리즈의 모든 값을 바꾸거나 데이터의 부분집합 값만 바꾸기"
   ]
  },
  {
   "cell_type": "code",
   "execution_count": 1,
   "id": "4171e22b-96cb-4fa4-80ce-3798ee58e151",
   "metadata": {},
   "outputs": [],
   "source": [
    "import pandas as pd\n",
    "nls97 = pd.read_csv('data/nls97b.csv')\n",
    "nls97.set_index('personid', inplace=True)"
   ]
  },
  {
   "cell_type": "markdown",
   "id": "9aee4921-7bbd-42f4-88cc-178a6517c0cd",
   "metadata": {},
   "source": [
    "- 스칼라를 기반으로 전체 값을 편집"
   ]
  },
  {
   "cell_type": "code",
   "execution_count": 2,
   "id": "5c9065ed-c933-4db1-84e6-b858d474516d",
   "metadata": {},
   "outputs": [
    {
     "data": {
      "text/plain": [
       "personid\n",
       "100061    3.06\n",
       "100139     NaN\n",
       "100284     NaN\n",
       "100292    3.45\n",
       "100583    2.91\n",
       "Name: gpaoverall, dtype: float64"
      ]
     },
     "execution_count": 2,
     "metadata": {},
     "output_type": "execute_result"
    }
   ],
   "source": [
    "nls97.gpaoverall.head()"
   ]
  },
  {
   "cell_type": "markdown",
   "id": "fa5e81ed-aa31-4460-a5bf-3b96c89e65aa",
   "metadata": {},
   "source": [
    "### 스칼라를 기반으로 전체 값을 편집"
   ]
  },
  {
   "cell_type": "code",
   "execution_count": 3,
   "id": "2cdcfc55-5f9c-497e-aab9-7200f43f5d12",
   "metadata": {},
   "outputs": [
    {
     "data": {
      "text/plain": [
       "personid\n",
       "100061    3.06\n",
       "100139     NaN\n",
       "100284     NaN\n",
       "100292    3.45\n",
       "100583    2.91\n",
       "Name: gpaoverall, dtype: float64"
      ]
     },
     "execution_count": 3,
     "metadata": {},
     "output_type": "execute_result"
    }
   ],
   "source": [
    "nls97.gpaoverall.head()"
   ]
  },
  {
   "cell_type": "code",
   "execution_count": 4,
   "id": "a6d37a96-8d09-4c96-8e60-0cea8aa245a6",
   "metadata": {},
   "outputs": [],
   "source": [
    "gpaoverall100 = nls97['gpaoverall'] * 100"
   ]
  },
  {
   "cell_type": "code",
   "execution_count": 5,
   "id": "deb0436b-68a7-461b-b611-6e998cb56fca",
   "metadata": {},
   "outputs": [
    {
     "data": {
      "text/plain": [
       "personid\n",
       "100061    306.0\n",
       "100139      NaN\n",
       "100284      NaN\n",
       "100292    345.0\n",
       "100583    291.0\n",
       "Name: gpaoverall, dtype: float64"
      ]
     },
     "execution_count": 5,
     "metadata": {},
     "output_type": "execute_result"
    }
   ],
   "source": [
    "gpaoverall100.head()"
   ]
  },
  {
   "cell_type": "markdown",
   "id": "bd2d4b75-8ba5-4cc6-a548-e6abee47dc18",
   "metadata": {},
   "source": [
    "### 인덱스 레이블로 값을 설정"
   ]
  },
  {
   "cell_type": "code",
   "execution_count": 7,
   "id": "c6ab9687-8893-4a82-a4c9-4d03bf4a54e5",
   "metadata": {},
   "outputs": [],
   "source": [
    "nls97.loc[[100061], 'gpaoverall'] = 3"
   ]
  },
  {
   "cell_type": "code",
   "execution_count": 22,
   "id": "5386240b-2dbe-40af-ab72-011370b3ca18",
   "metadata": {},
   "outputs": [
    {
     "name": "stdout",
     "output_type": "stream",
     "text": [
      "<class 'pandas.core.series.Series'>\n",
      "<class 'pandas.core.frame.DataFrame'>\n"
     ]
    }
   ],
   "source": [
    "print(type(nls97.loc[[100061], 'gpaoverall']))\n",
    "print(type(nls97.loc[[100061], ['gpaoverall']]))"
   ]
  },
  {
   "cell_type": "code",
   "execution_count": 8,
   "id": "5044ddf8-e06b-4c5d-8331-215d26fec299",
   "metadata": {},
   "outputs": [],
   "source": [
    "nls97.loc[[100139, 100284, 100292], 'gpaoverall'] = 0"
   ]
  },
  {
   "cell_type": "code",
   "execution_count": 9,
   "id": "291941a3-5fb7-4c05-9b28-20b28745231c",
   "metadata": {},
   "outputs": [
    {
     "data": {
      "text/plain": [
       "personid\n",
       "100061    3.00\n",
       "100139    0.00\n",
       "100284    0.00\n",
       "100292    0.00\n",
       "100583    2.91\n",
       "Name: gpaoverall, dtype: float64"
      ]
     },
     "execution_count": 9,
     "metadata": {},
     "output_type": "execute_result"
    }
   ],
   "source": [
    "nls97.gpaoverall.head()"
   ]
  },
  {
   "cell_type": "markdown",
   "id": "91edff4f-44ef-4115-83f8-fc39bbd9cc96",
   "metadata": {},
   "source": [
    "### 하나 이상의 시리즈에 대해 연산자를 사용해 값을 설정"
   ]
  },
  {
   "cell_type": "code",
   "execution_count": 10,
   "id": "ad011c05-7499-4b2d-8ed7-8d6e3b6d77b3",
   "metadata": {},
   "outputs": [],
   "source": [
    "nls97['childnum'] = nls97.childathome + nls97.childnotathome"
   ]
  },
  {
   "cell_type": "code",
   "execution_count": 12,
   "id": "c8c9a42f-cd98-438b-b9bb-af48f8067665",
   "metadata": {},
   "outputs": [
    {
     "data": {
      "text/plain": [
       "0.0       23\n",
       "1.0     1364\n",
       "2.0     1729\n",
       "3.0     1020\n",
       "4.0      420\n",
       "5.0      149\n",
       "6.0       55\n",
       "7.0       21\n",
       "8.0        7\n",
       "9.0        1\n",
       "12.0       2\n",
       "Name: childnum, dtype: int64"
      ]
     },
     "execution_count": 12,
     "metadata": {},
     "output_type": "execute_result"
    }
   ],
   "source": [
    "nls97.childnum.value_counts().sort_index()"
   ]
  },
  {
   "cell_type": "markdown",
   "id": "4d8382ec-884f-4c1c-8a69-2fa76669f8c8",
   "metadata": {},
   "source": [
    "### 인덱스 레이블을 사용해 요약통계 값을 설정"
   ]
  },
  {
   "cell_type": "code",
   "execution_count": 13,
   "id": "b5a418b8-85d5-4f43-b732-cd66dfa86bfc",
   "metadata": {},
   "outputs": [],
   "source": [
    "nls97.loc[100061:100292, 'gpaoverall'] = nls97.gpaoverall.mean()"
   ]
  },
  {
   "cell_type": "code",
   "execution_count": 14,
   "id": "afe681e5-e564-419b-a039-0d7d17b60377",
   "metadata": {},
   "outputs": [
    {
     "data": {
      "text/plain": [
       "personid\n",
       "100061    2.816885\n",
       "100139    2.816885\n",
       "100284    2.816885\n",
       "100292    2.816885\n",
       "100583    2.910000\n",
       "Name: gpaoverall, dtype: float64"
      ]
     },
     "execution_count": 14,
     "metadata": {},
     "output_type": "execute_result"
    }
   ],
   "source": [
    "nls97.gpaoverall.head()"
   ]
  },
  {
   "cell_type": "markdown",
   "id": "0f105dd8-94fa-4c55-8897-7afdcf607123",
   "metadata": {},
   "source": [
    "### iloc로 위치를 사용해 값을 설정"
   ]
  },
  {
   "cell_type": "code",
   "execution_count": 15,
   "id": "da3ff7d5-2da6-4804-9b42-bbac15afafa6",
   "metadata": {},
   "outputs": [],
   "source": [
    "nls97.iloc[0, 13] = 2\n",
    "nls97.iloc[1:4, 13] = 1"
   ]
  },
  {
   "cell_type": "code",
   "execution_count": 16,
   "id": "fb80633f-a175-4b29-928f-8632a3e8e1f5",
   "metadata": {},
   "outputs": [
    {
     "data": {
      "text/plain": [
       "personid\n",
       "100061    2.00\n",
       "100139    1.00\n",
       "100284    1.00\n",
       "100292    1.00\n",
       "100583    2.91\n",
       "Name: gpaoverall, dtype: float64"
      ]
     },
     "execution_count": 16,
     "metadata": {},
     "output_type": "execute_result"
    }
   ],
   "source": [
    "nls97.gpaoverall.head()"
   ]
  },
  {
   "cell_type": "markdown",
   "id": "5dd257be-ed25-4735-bd19-1da95a29d232",
   "metadata": {},
   "source": [
    "### 값을 필터링 한 뒤 설정"
   ]
  },
  {
   "cell_type": "code",
   "execution_count": 17,
   "id": "1ad74137-f36f-426c-b080-5eebcd6de646",
   "metadata": {},
   "outputs": [
    {
     "data": {
      "text/plain": [
       "personid\n",
       "312410    4.17\n",
       "639701    4.11\n",
       "850001    4.10\n",
       "279096    4.08\n",
       "620216    4.07\n",
       "Name: gpaoverall, dtype: float64"
      ]
     },
     "execution_count": 17,
     "metadata": {},
     "output_type": "execute_result"
    }
   ],
   "source": [
    "nls97.gpaoverall.nlargest()"
   ]
  },
  {
   "cell_type": "code",
   "execution_count": 18,
   "id": "9b398459-c52c-4466-9abc-e16580d839f7",
   "metadata": {},
   "outputs": [],
   "source": [
    "nls97.loc[nls97.gpaoverall > 4, 'gpaoverall'] = 4"
   ]
  },
  {
   "cell_type": "code",
   "execution_count": 19,
   "id": "2adb3227-dfe7-4436-914b-8a2583aef870",
   "metadata": {},
   "outputs": [
    {
     "data": {
      "text/plain": [
       "personid\n",
       "112756    4.0\n",
       "119784    4.0\n",
       "160193    4.0\n",
       "250666    4.0\n",
       "271961    4.0\n",
       "Name: gpaoverall, dtype: float64"
      ]
     },
     "execution_count": 19,
     "metadata": {},
     "output_type": "execute_result"
    }
   ],
   "source": [
    "nls97.gpaoverall.nlargest()"
   ]
  }
 ],
 "metadata": {
  "kernelspec": {
   "display_name": "Python 3 (ipykernel)",
   "language": "python",
   "name": "python3"
  },
  "language_info": {
   "codemirror_mode": {
    "name": "ipython",
    "version": 3
   },
   "file_extension": ".py",
   "mimetype": "text/x-python",
   "name": "python",
   "nbconvert_exporter": "python",
   "pygments_lexer": "ipython3",
   "version": "3.9.13"
  }
 },
 "nbformat": 4,
 "nbformat_minor": 5
}
