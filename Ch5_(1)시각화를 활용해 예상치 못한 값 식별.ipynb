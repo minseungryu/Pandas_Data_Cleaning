{
 "cells": [
  {
   "cell_type": "markdown",
   "id": "c4b9971f-dc05-4984-8218-05c68df67501",
   "metadata": {
    "tags": []
   },
   "source": [
    "# 시각화 도구로 기술통계만으로 알기 힘들었던 패턴과 이상한 점 찾아내기\n",
    "## 히스토그램 : 연속변수의 분포 조사\n",
    "- 단일 변수가 어떻게 분포하는지 이해\n",
    "- 연속변수(x축), 출현빈도(y축)\n",
    "- 중심경향, 왜도(대칭성), 과잉첨도(상대적으로 두꺼운 꼬리), 확산(spread) 등 분포 형태에 대한 그림을 제공\n",
    "    - 통계적 검정에서 분포에 대한 가정을 하는 경우가 많으므로 중요함!"
   ]
  },
  {
   "cell_type": "markdown",
   "id": "d32234e3-238b-4642-a531-02d0da53b27d",
   "metadata": {},
   "source": [
    "## 데이터 : 기상관측소별 지표온도(2019년)"
   ]
  },
  {
   "cell_type": "code",
   "execution_count": 3,
   "id": "a99e3eba-c74c-4ced-b9b2-7d6a31c103b8",
   "metadata": {},
   "outputs": [],
   "source": [
    "import pandas as pd\n",
    "import matplotlib.pyplot as plt\n",
    "import statsmodels.api as sm"
   ]
  },
  {
   "cell_type": "code",
   "execution_count": 5,
   "id": "c0306cb3-99ea-4f26-94fa-810c8bdfe09a",
   "metadata": {},
   "outputs": [],
   "source": [
    "landtemps = pd.read_csv('data/landtemps2019avgs.csv')\n",
    "covidtotals = pd.read_csv('data/covidtotals.csv', parse_dates = ['lastdate'])\n",
    "covidtotals.set_index('iso_code', inplace = True)"
   ]
  },
  {
   "cell_type": "code",
   "execution_count": 6,
   "id": "4270bf65-8c4b-407b-87d8-6ecf69f1925c",
   "metadata": {},
   "outputs": [
    {
     "data": {
      "text/plain": [
       "Index(['locationid', 'station', 'countryid', 'country', 'latabs', 'elevation',\n",
       "       'avgtemp'],\n",
       "      dtype='object')"
      ]
     },
     "execution_count": 6,
     "metadata": {},
     "output_type": "execute_result"
    }
   ],
   "source": [
    "landtemps.columns"
   ]
  },
  {
   "cell_type": "code",
   "execution_count": 7,
   "id": "3ced94c0-52c1-49b3-b6d8-d06b6c81c974",
   "metadata": {},
   "outputs": [
    {
     "data": {
      "text/html": [
       "<div>\n",
       "<style scoped>\n",
       "    .dataframe tbody tr th:only-of-type {\n",
       "        vertical-align: middle;\n",
       "    }\n",
       "\n",
       "    .dataframe tbody tr th {\n",
       "        vertical-align: top;\n",
       "    }\n",
       "\n",
       "    .dataframe thead th {\n",
       "        text-align: right;\n",
       "    }\n",
       "</style>\n",
       "<table border=\"1\" class=\"dataframe\">\n",
       "  <thead>\n",
       "    <tr style=\"text-align: right;\">\n",
       "      <th></th>\n",
       "      <th>station</th>\n",
       "      <th>country</th>\n",
       "      <th>latabs</th>\n",
       "      <th>elevation</th>\n",
       "      <th>avgtemp</th>\n",
       "    </tr>\n",
       "  </thead>\n",
       "  <tbody>\n",
       "    <tr>\n",
       "      <th>10526</th>\n",
       "      <td>NEW_FORK_LAKE</td>\n",
       "      <td>United States</td>\n",
       "      <td>43.1167</td>\n",
       "      <td>2542.0</td>\n",
       "      <td>1.864167</td>\n",
       "    </tr>\n",
       "    <tr>\n",
       "      <th>1416</th>\n",
       "      <td>NEIR_AGDM</td>\n",
       "      <td>Canada</td>\n",
       "      <td>51.3667</td>\n",
       "      <td>1145.0</td>\n",
       "      <td>2.185000</td>\n",
       "    </tr>\n",
       "    <tr>\n",
       "      <th>2230</th>\n",
       "      <td>CURICO</td>\n",
       "      <td>Chile</td>\n",
       "      <td>34.9670</td>\n",
       "      <td>225.0</td>\n",
       "      <td>15.504167</td>\n",
       "    </tr>\n",
       "    <tr>\n",
       "      <th>6002</th>\n",
       "      <td>LIFTON_PUMPING_STN</td>\n",
       "      <td>United States</td>\n",
       "      <td>42.1231</td>\n",
       "      <td>1809.0</td>\n",
       "      <td>4.385833</td>\n",
       "    </tr>\n",
       "    <tr>\n",
       "      <th>2106</th>\n",
       "      <td>HUAILAI</td>\n",
       "      <td>China</td>\n",
       "      <td>40.4170</td>\n",
       "      <td>538.0</td>\n",
       "      <td>11.020833</td>\n",
       "    </tr>\n",
       "    <tr>\n",
       "      <th>2090</th>\n",
       "      <td>MUDANJIANG</td>\n",
       "      <td>China</td>\n",
       "      <td>44.5670</td>\n",
       "      <td>242.0</td>\n",
       "      <td>5.816667</td>\n",
       "    </tr>\n",
       "    <tr>\n",
       "      <th>7781</th>\n",
       "      <td>CHEYENNE_6SW_MESONET</td>\n",
       "      <td>United States</td>\n",
       "      <td>35.5461</td>\n",
       "      <td>694.0</td>\n",
       "      <td>14.875833</td>\n",
       "    </tr>\n",
       "    <tr>\n",
       "      <th>10502</th>\n",
       "      <td>SHARKSTOOTH</td>\n",
       "      <td>United States</td>\n",
       "      <td>37.5000</td>\n",
       "      <td>3267.5</td>\n",
       "      <td>4.105833</td>\n",
       "    </tr>\n",
       "    <tr>\n",
       "      <th>11049</th>\n",
       "      <td>CHALLIS_AP</td>\n",
       "      <td>United States</td>\n",
       "      <td>44.5228</td>\n",
       "      <td>1534.1</td>\n",
       "      <td>6.510000</td>\n",
       "    </tr>\n",
       "    <tr>\n",
       "      <th>2820</th>\n",
       "      <td>METHONI</td>\n",
       "      <td>Greece</td>\n",
       "      <td>36.8331</td>\n",
       "      <td>52.0</td>\n",
       "      <td>18.200000</td>\n",
       "    </tr>\n",
       "  </tbody>\n",
       "</table>\n",
       "</div>"
      ],
      "text/plain": [
       "                    station        country   latabs  elevation    avgtemp\n",
       "10526         NEW_FORK_LAKE  United States  43.1167     2542.0   1.864167\n",
       "1416              NEIR_AGDM         Canada  51.3667     1145.0   2.185000\n",
       "2230                 CURICO          Chile  34.9670      225.0  15.504167\n",
       "6002     LIFTON_PUMPING_STN  United States  42.1231     1809.0   4.385833\n",
       "2106                HUAILAI          China  40.4170      538.0  11.020833\n",
       "2090             MUDANJIANG          China  44.5670      242.0   5.816667\n",
       "7781   CHEYENNE_6SW_MESONET  United States  35.5461      694.0  14.875833\n",
       "10502           SHARKSTOOTH  United States  37.5000     3267.5   4.105833\n",
       "11049            CHALLIS_AP  United States  44.5228     1534.1   6.510000\n",
       "2820                METHONI         Greece  36.8331       52.0  18.200000"
      ]
     },
     "execution_count": 7,
     "metadata": {},
     "output_type": "execute_result"
    }
   ],
   "source": [
    "landtemps[['station', 'country', 'latabs', 'elevation','avgtemp']].sample(10, random_state = 1)"
   ]
  },
  {
   "cell_type": "code",
   "execution_count": 8,
   "id": "e7fee16b-32c8-477d-851e-324c521af4a4",
   "metadata": {},
   "outputs": [
    {
     "data": {
      "text/html": [
       "<div>\n",
       "<style scoped>\n",
       "    .dataframe tbody tr th:only-of-type {\n",
       "        vertical-align: middle;\n",
       "    }\n",
       "\n",
       "    .dataframe tbody tr th {\n",
       "        vertical-align: top;\n",
       "    }\n",
       "\n",
       "    .dataframe thead th {\n",
       "        text-align: right;\n",
       "    }\n",
       "</style>\n",
       "<table border=\"1\" class=\"dataframe\">\n",
       "  <thead>\n",
       "    <tr style=\"text-align: right;\">\n",
       "      <th></th>\n",
       "      <th>latabs</th>\n",
       "      <th>elevation</th>\n",
       "      <th>avgtemp</th>\n",
       "    </tr>\n",
       "  </thead>\n",
       "  <tbody>\n",
       "    <tr>\n",
       "      <th>count</th>\n",
       "      <td>12095.000000</td>\n",
       "      <td>12095.000000</td>\n",
       "      <td>12095.000000</td>\n",
       "    </tr>\n",
       "    <tr>\n",
       "      <th>mean</th>\n",
       "      <td>40.466791</td>\n",
       "      <td>589.330211</td>\n",
       "      <td>11.193542</td>\n",
       "    </tr>\n",
       "    <tr>\n",
       "      <th>std</th>\n",
       "      <td>12.611377</td>\n",
       "      <td>761.973468</td>\n",
       "      <td>8.563443</td>\n",
       "    </tr>\n",
       "    <tr>\n",
       "      <th>min</th>\n",
       "      <td>0.017000</td>\n",
       "      <td>-350.000000</td>\n",
       "      <td>-60.821000</td>\n",
       "    </tr>\n",
       "    <tr>\n",
       "      <th>25%</th>\n",
       "      <td>34.510300</td>\n",
       "      <td>78.000000</td>\n",
       "      <td>5.417917</td>\n",
       "    </tr>\n",
       "    <tr>\n",
       "      <th>50%</th>\n",
       "      <td>40.670300</td>\n",
       "      <td>271.300000</td>\n",
       "      <td>10.450000</td>\n",
       "    </tr>\n",
       "    <tr>\n",
       "      <th>75%</th>\n",
       "      <td>46.750550</td>\n",
       "      <td>817.500000</td>\n",
       "      <td>16.919583</td>\n",
       "    </tr>\n",
       "    <tr>\n",
       "      <th>max</th>\n",
       "      <td>90.000000</td>\n",
       "      <td>9999.000000</td>\n",
       "      <td>33.930000</td>\n",
       "    </tr>\n",
       "  </tbody>\n",
       "</table>\n",
       "</div>"
      ],
      "text/plain": [
       "             latabs     elevation       avgtemp\n",
       "count  12095.000000  12095.000000  12095.000000\n",
       "mean      40.466791    589.330211     11.193542\n",
       "std       12.611377    761.973468      8.563443\n",
       "min        0.017000   -350.000000    -60.821000\n",
       "25%       34.510300     78.000000      5.417917\n",
       "50%       40.670300    271.300000     10.450000\n",
       "75%       46.750550    817.500000     16.919583\n",
       "max       90.000000   9999.000000     33.930000"
      ]
     },
     "execution_count": 8,
     "metadata": {},
     "output_type": "execute_result"
    }
   ],
   "source": [
    "#기술통계\n",
    "landtemps.describe()"
   ]
  },
  {
   "cell_type": "code",
   "execution_count": 9,
   "id": "9794759b-77fa-41bc-937f-986733110f76",
   "metadata": {},
   "outputs": [
    {
     "data": {
      "text/plain": [
       "-0.26783825834817704"
      ]
     },
     "execution_count": 9,
     "metadata": {},
     "output_type": "execute_result"
    }
   ],
   "source": [
    "#왜도\n",
    "landtemps.avgtemp.skew()"
   ]
  },
  {
   "cell_type": "code",
   "execution_count": 12,
   "id": "48f37bde-c1c0-4e21-b8e4-ae97adc7dd8e",
   "metadata": {},
   "outputs": [
    {
     "data": {
      "text/plain": [
       "2.1698313707061074"
      ]
     },
     "execution_count": 12,
     "metadata": {},
     "output_type": "execute_result"
    }
   ],
   "source": [
    "#첨도\n",
    "landtemps.avgtemp.kurtosis()"
   ]
  },
  {
   "cell_type": "markdown",
   "id": "71921d71-048c-41b0-a2a6-22817b691808",
   "metadata": {},
   "source": [
    "### 1. 평균 기온의 히스토그램"
   ]
  },
  {
   "cell_type": "code",
   "execution_count": 17,
   "id": "0d477d05-c259-4328-9d34-129e78ac3c79",
   "metadata": {},
   "outputs": [
    {
     "data": {
      "image/png": "[encoded data removed]",
      "text/plain": [
       "<Figure size 640x480 with 1 Axes>"
      ]
     },
     "metadata": {},
     "output_type": "display_data"
    }
   ],
   "source": [
    "plt.hist(landtemps.avgtemp)\n",
    "plt.axvline(landtemps.avgtemp.mean(), color = 'red', linestyle = 'dashed', linewidth = 1)\n",
    "plt.title('Histogram of Average Temperatures (Celsius)')\n",
    "plt.xlabel('Average Temperature')\n",
    "plt.ylabel('Frequency')\n",
    "plt.show()"
   ]
  },
  {
   "cell_type": "markdown",
   "id": "a1626b62-4b6f-46a7-9755-8f44a8d1e350",
   "metadata": {},
   "source": [
    "### 2. 분위수-분위수 그림(QQ Plot)\n",
    "- 어디에서 정규분포를 벗어나는지 확인\n",
    "- 기온이 대체로 빨간 선을 따라 분포(완벽한 정규분포라면 모든 점이 빨간 선에 가까울 것, 하지만 여기서는 꼬리쪽으로 갈수록 멀어짐)"
   ]
  },
  {
   "cell_type": "code",
   "execution_count": 19,
   "id": "b7bb0761-b581-40ba-a8b0-e3aaa4bede72",
   "metadata": {},
   "outputs": [
    {
     "data": {
      "image/png": "[encoded data removed]",
      "text/plain": [
       "<Figure size 640x480 with 1 Axes>"
      ]
     },
     "metadata": {},
     "output_type": "display_data"
    }
   ],
   "source": [
    "sm.qqplot(landtemps[['avgtemp']].sort_values(['avgtemp']), line = 's')\n",
    "plt.title('QQ Plot of Average Temperatures')\n",
    "plt.show()"
   ]
  },
  {
   "cell_type": "markdown",
   "id": "212ecc3c-4638-4a6f-8e99-f08e09c004d3",
   "metadata": {},
   "source": [
    "## 데이터 : 국가별 백만 명당 코로나19 확진자 수"
   ]
  },
  {
   "cell_type": "markdown",
   "id": "e197de63-a8a6-4a9d-ba31-6d0259960fbc",
   "metadata": {},
   "source": [
    "### 1. 왜도와 첨도\n",
    "- 정규 분포의 왜도는 0이며, 데이터가 정규 분포에 가까울수록 왜도는 0에 가까워짐\n",
    "- 보통 왜도가 -1에서 1 사이의 값이면 비교적 정상적인 데이터 분포로 간주\n",
    "---\n",
    "- 첨도는 데이터 분포의 뾰족함을 나타내는 지표로, 정규 분포의 첨도는 3\n",
    "- 첨도가 3보다 작으면 (음수일수록) 데이터 분포는 정규 분포보다 더 납작하고 플랫\n",
    "- 첨도가 3보다 크면 데이터 분포는 뾰족하며 꼬리가 두꺼운 분포로 간주"
   ]
  },
  {
   "cell_type": "code",
   "execution_count": 20,
   "id": "c49444bd-0b46-40b9-9936-d1aeb88c5d2a",
   "metadata": {},
   "outputs": [
    {
     "data": {
      "text/plain": [
       "4.3874024086663495"
      ]
     },
     "execution_count": 20,
     "metadata": {},
     "output_type": "execute_result"
    }
   ],
   "source": [
    "covidtotals.total_cases_pm.skew()"
   ]
  },
  {
   "cell_type": "code",
   "execution_count": 21,
   "id": "4468ea14-ffa5-47a3-8964-09d08371bdcc",
   "metadata": {},
   "outputs": [
    {
     "data": {
      "text/plain": [
       "25.138915098691854"
      ]
     },
     "execution_count": 21,
     "metadata": {},
     "output_type": "execute_result"
    }
   ],
   "source": [
    "covidtotals.total_cases_pm.kurtosis()"
   ]
  },
  {
   "cell_type": "markdown",
   "id": "1b580d91-c78a-4fba-b840-9227a8f185e0",
   "metadata": {},
   "source": [
    "### 2. 히스토그램"
   ]
  },
  {
   "cell_type": "code",
   "execution_count": null,
   "id": "1e88841e-e6a6-42bf-bb01-5d6f32df1a8d",
   "metadata": {},
   "outputs": [],
   "source": [
    "showregions = ['Oceania / Aus', 'East Aisa']"
   ]
  }
 ],
 "metadata": {
  "kernelspec": {
   "display_name": "Python 3 (ipykernel)",
   "language": "python",
   "name": "python3"
  },
  "language_info": {
   "codemirror_mode": {
    "name": "ipython",
    "version": 3
   },
   "file_extension": ".py",
   "mimetype": "text/x-python",
   "name": "python",
   "nbconvert_exporter": "python",
   "pygments_lexer": "ipython3",
   "version": "3.9.13"
  }
 },
 "nbformat": 4,
 "nbformat_minor": 5
}
