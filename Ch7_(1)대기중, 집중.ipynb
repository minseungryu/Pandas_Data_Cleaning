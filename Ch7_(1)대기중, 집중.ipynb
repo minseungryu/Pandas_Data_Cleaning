{
 "cells": [
  {
   "cell_type": "markdown",
   "id": "edbc3675-5540-42fa-a1b8-48aa6423124e",
   "metadata": {},
   "source": [
    "# 7. 집계(aggregation) 시 지저분한 데이터 다루기\n",
    "- 데이터 정제 초기 단계 이후, 분석가들은 '분할-적용-결합'에 소비한다\n",
    "    - 데이터를 몇 개의 부분집합으로 분할하고, 부분집합에 연산을 적용하고, 데이터셋 전체에 대한 결론을 도출한다.\n",
    "- 집계 시 어떤 도구가 가장 중요한지는 데이터의 성격에 따라 결정된다"
   ]
  },
  {
   "cell_type": "markdown",
   "id": "7eb19fa4-fc76-4c38-bd74-19fd666e6f3e",
   "metadata": {},
   "source": [
    "## (1) itertuples를 활용한 데이터 순회(안티패턴)\n",
    "- 데이터프레임의 행들에 대해 반복문을 수행 ->> 변수 합을 계산\n",
    "- 10,000행 이하의 데이터프레임은 판다스만의 방식으로 처리하는 것이 루핑보다 효율적이다\n",
    "---\n",
    "### 데이터 : 코로나19 일일 데이터 / 지표온도 데이터\n",
    "- 국가별로 하루 한 행, 각 행에는 신규 확진자와 신규 사망자 수 있음\n",
    "- 2019년 브라질 87개 기상관측소에서 얻은 지표온도 데이터(매월 하나의 값)"
   ]
  },
  {
   "cell_type": "code",
   "execution_count": 1,
   "id": "f6651784-0465-4f92-be7f-01c54fe9e135",
   "metadata": {},
   "outputs": [],
   "source": [
    "import pandas as pd\n",
    "import numpy as np\n",
    "coviddaily = pd.read_csv('data/coviddaily720.csv', parse_dates=['casedate'])\n",
    "ltbrazil = pd.read_csv('data/ltbrazil.csv')"
   ]
  },
  {
   "cell_type": "code",
   "execution_count": 4,
   "id": "d81f8970-36e7-4c99-9a16-d1191eae0e02",
   "metadata": {},
   "outputs": [],
   "source": [
    "# 데이터를 위치와 날짜별로 정렬\n",
    "coviddaily = coviddaily.sort_values(['location', 'casedate'])"
   ]
  },
  {
   "cell_type": "markdown",
   "id": "5c7ee593-5327-42fd-b64e-2e69bafc8b1e",
   "metadata": {},
   "source": [
    "### itertuple로 행 순회"
   ]
  },
  {
   "cell_type": "code",
   "execution_count": null,
   "id": "db300059-c04a-4ac8-9d3d-bc51d461d8b8",
   "metadata": {},
   "outputs": [],
   "source": []
  }
 ],
 "metadata": {
  "kernelspec": {
   "display_name": "Python 3 (ipykernel)",
   "language": "python",
   "name": "python3"
  },
  "language_info": {
   "codemirror_mode": {
    "name": "ipython",
    "version": 3
   },
   "file_extension": ".py",
   "mimetype": "text/x-python",
   "name": "python",
   "nbconvert_exporter": "python",
   "pygments_lexer": "ipython3",
   "version": "3.9.13"
  }
 },
 "nbformat": 4,
 "nbformat_minor": 5
}
