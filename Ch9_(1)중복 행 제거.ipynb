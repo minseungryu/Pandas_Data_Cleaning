{
 "cells": [
  {
   "cell_type": "markdown",
   "id": "b9850a29-28e5-48b2-8770-5b49bba04c5b",
   "metadata": {},
   "source": [
    "# 9. 데이터 타이딩과 리셰이핑\n",
    "---\n",
    "### 타이디하지 못한 데이터의 특징\n",
    "- 병합 기준 열 관계에 대한 명확성이 부족함\n",
    "- 일대다 관계의 '일'에 해당하는 쪽에 중복이 있음\n",
    "- 다대다 관계로 인해 데이터 중복됨\n",
    "- 열 이름에 값이 저장됨\n",
    "- 하나의 변숫값에 여러 값이 저장됨\n",
    "- 데이터가 분석 단위에 맞게 구조화되지 않았음\n",
    "---\n",
    "### Key Methods\n",
    "- 중복 행 제거\n",
    "- 다대다 관계 수정\n",
    "- stack & melt를 사용해 넓은 포맷을 긴 포맷으로 리셰이핑\n",
    "- 열 그룹 녹이기\n",
    "- unstack & pivot을 사용해 긴 포맷을 넓은 포맷으로 리셰이핑"
   ]
  },
  {
   "cell_type": "markdown",
   "id": "c2ca5399-0207-485d-81ed-b4e0b3cd60b1",
   "metadata": {},
   "source": [
    "## (1)중복 행 제거하기\n",
    "- 데이터는 코로나19 데이터 "
   ]
  },
  {
   "cell_type": "code",
   "execution_count": 1,
   "id": "155b9928-085c-4ebb-9cdc-2cf1aa96babd",
   "metadata": {},
   "outputs": [],
   "source": [
    "import pandas as pd\n",
    "covidcases = pd.read_csv('data/covidcases720.csv')"
   ]
  },
  {
   "cell_type": "code",
   "execution_count": 2,
   "id": "ab0e2119-9fcc-4c8b-a783-9864d05444aa",
   "metadata": {},
   "outputs": [],
   "source": [
    "# 일일 확진자, 사망자, 총 확진자, 인구통계 열 리스트 작성\n",
    "dailyvars = ['casedate', 'new_cases', 'new_deaths']\n",
    "totvars = ['location', 'total_cases', 'total_deaths']\n",
    "demovars = ['population', 'population_density', 'median_age', 'gdp_per_capita', 'hospital_beds_per_thousand', 'region']"
   ]
  },
  {
   "cell_type": "code",
   "execution_count": 3,
   "id": "14d6633b-0d43-4394-9db2-1e72b0110bdd",
   "metadata": {},
   "outputs": [
    {
     "data": {
      "text/html": [
       "<div>\n",
       "<style scoped>\n",
       "    .dataframe tbody tr th:only-of-type {\n",
       "        vertical-align: middle;\n",
       "    }\n",
       "\n",
       "    .dataframe tbody tr th {\n",
       "        vertical-align: top;\n",
       "    }\n",
       "\n",
       "    .dataframe thead th {\n",
       "        text-align: right;\n",
       "    }\n",
       "</style>\n",
       "<table border=\"1\" class=\"dataframe\">\n",
       "  <thead>\n",
       "    <tr style=\"text-align: right;\">\n",
       "      <th></th>\n",
       "      <th>0</th>\n",
       "      <th>1</th>\n",
       "      <th>2</th>\n",
       "    </tr>\n",
       "  </thead>\n",
       "  <tbody>\n",
       "    <tr>\n",
       "      <th>casedate</th>\n",
       "      <td>2019-12-31</td>\n",
       "      <td>2020-01-01</td>\n",
       "      <td>2020-01-02</td>\n",
       "    </tr>\n",
       "    <tr>\n",
       "      <th>new_cases</th>\n",
       "      <td>0.0</td>\n",
       "      <td>0.0</td>\n",
       "      <td>0.0</td>\n",
       "    </tr>\n",
       "    <tr>\n",
       "      <th>new_deaths</th>\n",
       "      <td>0.0</td>\n",
       "      <td>0.0</td>\n",
       "      <td>0.0</td>\n",
       "    </tr>\n",
       "    <tr>\n",
       "      <th>location</th>\n",
       "      <td>Afghanistan</td>\n",
       "      <td>Afghanistan</td>\n",
       "      <td>Afghanistan</td>\n",
       "    </tr>\n",
       "    <tr>\n",
       "      <th>total_cases</th>\n",
       "      <td>0.0</td>\n",
       "      <td>0.0</td>\n",
       "      <td>0.0</td>\n",
       "    </tr>\n",
       "    <tr>\n",
       "      <th>total_deaths</th>\n",
       "      <td>0.0</td>\n",
       "      <td>0.0</td>\n",
       "      <td>0.0</td>\n",
       "    </tr>\n",
       "    <tr>\n",
       "      <th>population</th>\n",
       "      <td>38928341.0</td>\n",
       "      <td>38928341.0</td>\n",
       "      <td>38928341.0</td>\n",
       "    </tr>\n",
       "    <tr>\n",
       "      <th>population_density</th>\n",
       "      <td>54.422</td>\n",
       "      <td>54.422</td>\n",
       "      <td>54.422</td>\n",
       "    </tr>\n",
       "    <tr>\n",
       "      <th>median_age</th>\n",
       "      <td>18.6</td>\n",
       "      <td>18.6</td>\n",
       "      <td>18.6</td>\n",
       "    </tr>\n",
       "    <tr>\n",
       "      <th>gdp_per_capita</th>\n",
       "      <td>1803.987</td>\n",
       "      <td>1803.987</td>\n",
       "      <td>1803.987</td>\n",
       "    </tr>\n",
       "    <tr>\n",
       "      <th>hospital_beds_per_thousand</th>\n",
       "      <td>0.5</td>\n",
       "      <td>0.5</td>\n",
       "      <td>0.5</td>\n",
       "    </tr>\n",
       "    <tr>\n",
       "      <th>region</th>\n",
       "      <td>South Asia</td>\n",
       "      <td>South Asia</td>\n",
       "      <td>South Asia</td>\n",
       "    </tr>\n",
       "  </tbody>\n",
       "</table>\n",
       "</div>"
      ],
      "text/plain": [
       "                                      0            1            2\n",
       "casedate                     2019-12-31   2020-01-01   2020-01-02\n",
       "new_cases                           0.0          0.0          0.0\n",
       "new_deaths                          0.0          0.0          0.0\n",
       "location                    Afghanistan  Afghanistan  Afghanistan\n",
       "total_cases                         0.0          0.0          0.0\n",
       "total_deaths                        0.0          0.0          0.0\n",
       "population                   38928341.0   38928341.0   38928341.0\n",
       "population_density               54.422       54.422       54.422\n",
       "median_age                         18.6         18.6         18.6\n",
       "gdp_per_capita                 1803.987     1803.987     1803.987\n",
       "hospital_beds_per_thousand          0.5          0.5          0.5\n",
       "region                       South Asia   South Asia   South Asia"
      ]
     },
     "execution_count": 3,
     "metadata": {},
     "output_type": "execute_result"
    }
   ],
   "source": [
    "covidcases[dailyvars + totvars + demovars].head(3).T"
   ]
  },
  {
   "cell_type": "markdown",
   "id": "ccaa0b6f-6366-41af-ad6b-f53f8b4a6455",
   "metadata": {},
   "source": [
    "### 일일 데이터만 있는 데이터프레임 생"
   ]
  },
  {
   "cell_type": "code",
   "execution_count": 4,
   "id": "2b8fd59d-4770-43f3-acd5-86078eaee6b9",
   "metadata": {},
   "outputs": [],
   "source": [
    "coviddaily = covidcases[['location'] + dailyvars]"
   ]
  },
  {
   "cell_type": "code",
   "execution_count": 5,
   "id": "68d62837-c8b5-4bae-b649-0ecd234684d0",
   "metadata": {},
   "outputs": [
    {
     "data": {
      "text/plain": [
       "(29529, 4)"
      ]
     },
     "execution_count": 5,
     "metadata": {},
     "output_type": "execute_result"
    }
   ],
   "source": [
    "coviddaily.shape"
   ]
  },
  {
   "cell_type": "code",
   "execution_count": 6,
   "id": "e8c14228-efb9-4877-aebb-2b7623c3756e",
   "metadata": {},
   "outputs": [
    {
     "data": {
      "text/html": [
       "<div>\n",
       "<style scoped>\n",
       "    .dataframe tbody tr th:only-of-type {\n",
       "        vertical-align: middle;\n",
       "    }\n",
       "\n",
       "    .dataframe tbody tr th {\n",
       "        vertical-align: top;\n",
       "    }\n",
       "\n",
       "    .dataframe thead th {\n",
       "        text-align: right;\n",
       "    }\n",
       "</style>\n",
       "<table border=\"1\" class=\"dataframe\">\n",
       "  <thead>\n",
       "    <tr style=\"text-align: right;\">\n",
       "      <th></th>\n",
       "      <th>location</th>\n",
       "      <th>casedate</th>\n",
       "      <th>new_cases</th>\n",
       "      <th>new_deaths</th>\n",
       "    </tr>\n",
       "  </thead>\n",
       "  <tbody>\n",
       "    <tr>\n",
       "      <th>0</th>\n",
       "      <td>Afghanistan</td>\n",
       "      <td>2019-12-31</td>\n",
       "      <td>0.0</td>\n",
       "      <td>0.0</td>\n",
       "    </tr>\n",
       "    <tr>\n",
       "      <th>1</th>\n",
       "      <td>Afghanistan</td>\n",
       "      <td>2020-01-01</td>\n",
       "      <td>0.0</td>\n",
       "      <td>0.0</td>\n",
       "    </tr>\n",
       "    <tr>\n",
       "      <th>2</th>\n",
       "      <td>Afghanistan</td>\n",
       "      <td>2020-01-02</td>\n",
       "      <td>0.0</td>\n",
       "      <td>0.0</td>\n",
       "    </tr>\n",
       "    <tr>\n",
       "      <th>3</th>\n",
       "      <td>Afghanistan</td>\n",
       "      <td>2020-01-03</td>\n",
       "      <td>0.0</td>\n",
       "      <td>0.0</td>\n",
       "    </tr>\n",
       "    <tr>\n",
       "      <th>4</th>\n",
       "      <td>Afghanistan</td>\n",
       "      <td>2020-01-04</td>\n",
       "      <td>0.0</td>\n",
       "      <td>0.0</td>\n",
       "    </tr>\n",
       "  </tbody>\n",
       "</table>\n",
       "</div>"
      ],
      "text/plain": [
       "      location    casedate  new_cases  new_deaths\n",
       "0  Afghanistan  2019-12-31        0.0         0.0\n",
       "1  Afghanistan  2020-01-01        0.0         0.0\n",
       "2  Afghanistan  2020-01-02        0.0         0.0\n",
       "3  Afghanistan  2020-01-03        0.0         0.0\n",
       "4  Afghanistan  2020-01-04        0.0         0.0"
      ]
     },
     "execution_count": 6,
     "metadata": {},
     "output_type": "execute_result"
    }
   ],
   "source": [
    "coviddaily.head()"
   ]
  },
  {
   "cell_type": "markdown",
   "id": "820f13ec-5475-44de-8969-1fd6779a7072",
   "metadata": {},
   "source": [
    "### 국가별로 한 행을 선택\n",
    "- 고유한 위치의 개수를 구하기 -> 얼마나 많은 Location(국가)이 있는지 예상\n",
    "- location과 casedate를 기준으로 정렬\n",
    "- drop_duplicates() 사용해, location별로 한 행씩 선택, keep매개변수로 마지막 행을 살림"
   ]
  },
  {
   "cell_type": "code",
   "execution_count": 7,
   "id": "dcdf417f-6cb7-46be-af92-fdcfd7d520eb",
   "metadata": {},
   "outputs": [
    {
     "data": {
      "text/plain": [
       "209"
      ]
     },
     "execution_count": 7,
     "metadata": {},
     "output_type": "execute_result"
    }
   ],
   "source": [
    "covidcases.location.nunique()"
   ]
  },
  {
   "cell_type": "code",
   "execution_count": 11,
   "id": "361fb097-d176-41cb-a2a8-2a2ee4a61c40",
   "metadata": {},
   "outputs": [],
   "source": [
    "coviddemo = covidcases[['casedate'] + totvars + demovars].sort_values(['location', 'casedate']).drop_duplicates(['location'], keep='last').\\\n",
    "rename(columns={'casedate':'lastdate'})"
   ]
  },
  {
   "cell_type": "code",
   "execution_count": 12,
   "id": "74e21b97-0c3d-480e-9937-6a2d359efcc6",
   "metadata": {},
   "outputs": [
    {
     "data": {
      "text/html": [
       "<div>\n",
       "<style scoped>\n",
       "    .dataframe tbody tr th:only-of-type {\n",
       "        vertical-align: middle;\n",
       "    }\n",
       "\n",
       "    .dataframe tbody tr th {\n",
       "        vertical-align: top;\n",
       "    }\n",
       "\n",
       "    .dataframe thead th {\n",
       "        text-align: right;\n",
       "    }\n",
       "</style>\n",
       "<table border=\"1\" class=\"dataframe\">\n",
       "  <thead>\n",
       "    <tr style=\"text-align: right;\">\n",
       "      <th></th>\n",
       "      <th>lastdate</th>\n",
       "      <th>location</th>\n",
       "      <th>total_cases</th>\n",
       "      <th>total_deaths</th>\n",
       "      <th>population</th>\n",
       "      <th>population_density</th>\n",
       "      <th>median_age</th>\n",
       "      <th>gdp_per_capita</th>\n",
       "      <th>hospital_beds_per_thousand</th>\n",
       "      <th>region</th>\n",
       "    </tr>\n",
       "  </thead>\n",
       "  <tbody>\n",
       "    <tr>\n",
       "      <th>184</th>\n",
       "      <td>2020-07-12</td>\n",
       "      <td>Afghanistan</td>\n",
       "      <td>34451.0</td>\n",
       "      <td>1010.0</td>\n",
       "      <td>38928341.0</td>\n",
       "      <td>54.422</td>\n",
       "      <td>18.6</td>\n",
       "      <td>1803.987</td>\n",
       "      <td>0.50</td>\n",
       "      <td>South Asia</td>\n",
       "    </tr>\n",
       "    <tr>\n",
       "      <th>310</th>\n",
       "      <td>2020-07-12</td>\n",
       "      <td>Albania</td>\n",
       "      <td>3371.0</td>\n",
       "      <td>89.0</td>\n",
       "      <td>2877800.0</td>\n",
       "      <td>104.871</td>\n",
       "      <td>38.0</td>\n",
       "      <td>11803.431</td>\n",
       "      <td>2.89</td>\n",
       "      <td>Eastern Europe</td>\n",
       "    </tr>\n",
       "    <tr>\n",
       "      <th>500</th>\n",
       "      <td>2020-07-12</td>\n",
       "      <td>Algeria</td>\n",
       "      <td>18712.0</td>\n",
       "      <td>1004.0</td>\n",
       "      <td>43851043.0</td>\n",
       "      <td>17.348</td>\n",
       "      <td>29.1</td>\n",
       "      <td>13913.839</td>\n",
       "      <td>1.90</td>\n",
       "      <td>North Africa</td>\n",
       "    </tr>\n",
       "    <tr>\n",
       "      <th>621</th>\n",
       "      <td>2020-07-12</td>\n",
       "      <td>Andorra</td>\n",
       "      <td>855.0</td>\n",
       "      <td>52.0</td>\n",
       "      <td>77265.0</td>\n",
       "      <td>163.755</td>\n",
       "      <td>NaN</td>\n",
       "      <td>NaN</td>\n",
       "      <td>NaN</td>\n",
       "      <td>Western Europe</td>\n",
       "    </tr>\n",
       "    <tr>\n",
       "      <th>734</th>\n",
       "      <td>2020-07-12</td>\n",
       "      <td>Angola</td>\n",
       "      <td>483.0</td>\n",
       "      <td>25.0</td>\n",
       "      <td>32866268.0</td>\n",
       "      <td>23.890</td>\n",
       "      <td>16.8</td>\n",
       "      <td>5819.495</td>\n",
       "      <td>NaN</td>\n",
       "      <td>Central Africa</td>\n",
       "    </tr>\n",
       "  </tbody>\n",
       "</table>\n",
       "</div>"
      ],
      "text/plain": [
       "       lastdate     location  total_cases  total_deaths  population  \\\n",
       "184  2020-07-12  Afghanistan      34451.0        1010.0  38928341.0   \n",
       "310  2020-07-12      Albania       3371.0          89.0   2877800.0   \n",
       "500  2020-07-12      Algeria      18712.0        1004.0  43851043.0   \n",
       "621  2020-07-12      Andorra        855.0          52.0     77265.0   \n",
       "734  2020-07-12       Angola        483.0          25.0  32866268.0   \n",
       "\n",
       "     population_density  median_age  gdp_per_capita  \\\n",
       "184              54.422        18.6        1803.987   \n",
       "310             104.871        38.0       11803.431   \n",
       "500              17.348        29.1       13913.839   \n",
       "621             163.755         NaN             NaN   \n",
       "734              23.890        16.8        5819.495   \n",
       "\n",
       "     hospital_beds_per_thousand          region  \n",
       "184                        0.50      South Asia  \n",
       "310                        2.89  Eastern Europe  \n",
       "500                        1.90    North Africa  \n",
       "621                         NaN  Western Europe  \n",
       "734                         NaN  Central Africa  "
      ]
     },
     "execution_count": 12,
     "metadata": {},
     "output_type": "execute_result"
    }
   ],
   "source": [
    "coviddemo.head()"
   ]
  },
  {
   "cell_type": "code",
   "execution_count": 13,
   "id": "7e1854b4-a48e-42fc-a226-a5a6d829f79b",
   "metadata": {},
   "outputs": [
    {
     "data": {
      "text/plain": [
       "(209, 10)"
      ]
     },
     "execution_count": 13,
     "metadata": {},
     "output_type": "execute_result"
    }
   ],
   "source": [
    "coviddemo.shape"
   ]
  },
  {
   "cell_type": "code",
   "execution_count": 14,
   "id": "448063cb-ad6b-4cf9-9051-57c7a3d70a14",
   "metadata": {},
   "outputs": [
    {
     "data": {
      "text/html": [
       "<div>\n",
       "<style scoped>\n",
       "    .dataframe tbody tr th:only-of-type {\n",
       "        vertical-align: middle;\n",
       "    }\n",
       "\n",
       "    .dataframe tbody tr th {\n",
       "        vertical-align: top;\n",
       "    }\n",
       "\n",
       "    .dataframe thead th {\n",
       "        text-align: right;\n",
       "    }\n",
       "</style>\n",
       "<table border=\"1\" class=\"dataframe\">\n",
       "  <thead>\n",
       "    <tr style=\"text-align: right;\">\n",
       "      <th></th>\n",
       "      <th>184</th>\n",
       "      <th>310</th>\n",
       "      <th>500</th>\n",
       "    </tr>\n",
       "  </thead>\n",
       "  <tbody>\n",
       "    <tr>\n",
       "      <th>lastdate</th>\n",
       "      <td>2020-07-12</td>\n",
       "      <td>2020-07-12</td>\n",
       "      <td>2020-07-12</td>\n",
       "    </tr>\n",
       "    <tr>\n",
       "      <th>location</th>\n",
       "      <td>Afghanistan</td>\n",
       "      <td>Albania</td>\n",
       "      <td>Algeria</td>\n",
       "    </tr>\n",
       "    <tr>\n",
       "      <th>total_cases</th>\n",
       "      <td>34451.0</td>\n",
       "      <td>3371.0</td>\n",
       "      <td>18712.0</td>\n",
       "    </tr>\n",
       "    <tr>\n",
       "      <th>total_deaths</th>\n",
       "      <td>1010.0</td>\n",
       "      <td>89.0</td>\n",
       "      <td>1004.0</td>\n",
       "    </tr>\n",
       "    <tr>\n",
       "      <th>population</th>\n",
       "      <td>38928341.0</td>\n",
       "      <td>2877800.0</td>\n",
       "      <td>43851043.0</td>\n",
       "    </tr>\n",
       "    <tr>\n",
       "      <th>population_density</th>\n",
       "      <td>54.422</td>\n",
       "      <td>104.871</td>\n",
       "      <td>17.348</td>\n",
       "    </tr>\n",
       "    <tr>\n",
       "      <th>median_age</th>\n",
       "      <td>18.6</td>\n",
       "      <td>38.0</td>\n",
       "      <td>29.1</td>\n",
       "    </tr>\n",
       "    <tr>\n",
       "      <th>gdp_per_capita</th>\n",
       "      <td>1803.987</td>\n",
       "      <td>11803.431</td>\n",
       "      <td>13913.839</td>\n",
       "    </tr>\n",
       "    <tr>\n",
       "      <th>hospital_beds_per_thousand</th>\n",
       "      <td>0.5</td>\n",
       "      <td>2.89</td>\n",
       "      <td>1.9</td>\n",
       "    </tr>\n",
       "    <tr>\n",
       "      <th>region</th>\n",
       "      <td>South Asia</td>\n",
       "      <td>Eastern Europe</td>\n",
       "      <td>North Africa</td>\n",
       "    </tr>\n",
       "  </tbody>\n",
       "</table>\n",
       "</div>"
      ],
      "text/plain": [
       "                                    184             310           500\n",
       "lastdate                     2020-07-12      2020-07-12    2020-07-12\n",
       "location                    Afghanistan         Albania       Algeria\n",
       "total_cases                     34451.0          3371.0       18712.0\n",
       "total_deaths                     1010.0            89.0        1004.0\n",
       "population                   38928341.0       2877800.0    43851043.0\n",
       "population_density               54.422         104.871        17.348\n",
       "median_age                         18.6            38.0          29.1\n",
       "gdp_per_capita                 1803.987       11803.431     13913.839\n",
       "hospital_beds_per_thousand          0.5            2.89           1.9\n",
       "region                       South Asia  Eastern Europe  North Africa"
      ]
     },
     "execution_count": 14,
     "metadata": {},
     "output_type": "execute_result"
    }
   ],
   "source": [
    "coviddemo.head(3).T"
   ]
  },
  {
   "cell_type": "markdown",
   "id": "09c728a1-3ab0-478d-8d15-416146b8ef7f",
   "metadata": {},
   "source": [
    "### 그룹별로 값을 합산\n",
    "- groupby 메서드로 국가별 총 확진자 수 및 사망자 수 합산"
   ]
  },
  {
   "cell_type": "code",
   "execution_count": 15,
   "id": "085b6980-1cf9-466f-8e09-35a4d4516c0b",
   "metadata": {},
   "outputs": [],
   "source": [
    "covidtotals = covidcases.groupby(['location'], as_index=False).\\\n",
    "                        agg({'new_cases':'sum', 'new_deaths':'sum', 'median_age':'last',\n",
    "                            'gdp_per_capita':'last', 'region':'last', 'casedate':'last',\n",
    "                            'population':'last'}).rename(columns={'new_cases':'total_cases', 'new_deaths':'total_deaths', 'casedate':'lastdate'})"
   ]
  },
  {
   "cell_type": "code",
   "execution_count": 17,
   "id": "cc135a1b-1124-4343-b773-393b8d53302e",
   "metadata": {
    "tags": []
   },
   "outputs": [
    {
     "data": {
      "text/html": [
       "<div>\n",
       "<style scoped>\n",
       "    .dataframe tbody tr th:only-of-type {\n",
       "        vertical-align: middle;\n",
       "    }\n",
       "\n",
       "    .dataframe tbody tr th {\n",
       "        vertical-align: top;\n",
       "    }\n",
       "\n",
       "    .dataframe thead th {\n",
       "        text-align: right;\n",
       "    }\n",
       "</style>\n",
       "<table border=\"1\" class=\"dataframe\">\n",
       "  <thead>\n",
       "    <tr style=\"text-align: right;\">\n",
       "      <th></th>\n",
       "      <th>0</th>\n",
       "      <th>1</th>\n",
       "      <th>2</th>\n",
       "    </tr>\n",
       "  </thead>\n",
       "  <tbody>\n",
       "    <tr>\n",
       "      <th>location</th>\n",
       "      <td>Afghanistan</td>\n",
       "      <td>Albania</td>\n",
       "      <td>Algeria</td>\n",
       "    </tr>\n",
       "    <tr>\n",
       "      <th>total_cases</th>\n",
       "      <td>34451.0</td>\n",
       "      <td>3371.0</td>\n",
       "      <td>18712.0</td>\n",
       "    </tr>\n",
       "    <tr>\n",
       "      <th>total_deaths</th>\n",
       "      <td>1010.0</td>\n",
       "      <td>89.0</td>\n",
       "      <td>1004.0</td>\n",
       "    </tr>\n",
       "    <tr>\n",
       "      <th>median_age</th>\n",
       "      <td>18.6</td>\n",
       "      <td>38.0</td>\n",
       "      <td>29.1</td>\n",
       "    </tr>\n",
       "    <tr>\n",
       "      <th>gdp_per_capita</th>\n",
       "      <td>1803.987</td>\n",
       "      <td>11803.431</td>\n",
       "      <td>13913.839</td>\n",
       "    </tr>\n",
       "    <tr>\n",
       "      <th>region</th>\n",
       "      <td>South Asia</td>\n",
       "      <td>Eastern Europe</td>\n",
       "      <td>North Africa</td>\n",
       "    </tr>\n",
       "    <tr>\n",
       "      <th>lastdate</th>\n",
       "      <td>2020-07-12</td>\n",
       "      <td>2020-07-12</td>\n",
       "      <td>2020-07-12</td>\n",
       "    </tr>\n",
       "    <tr>\n",
       "      <th>population</th>\n",
       "      <td>38928341.0</td>\n",
       "      <td>2877800.0</td>\n",
       "      <td>43851043.0</td>\n",
       "    </tr>\n",
       "  </tbody>\n",
       "</table>\n",
       "</div>"
      ],
      "text/plain": [
       "                          0               1             2\n",
       "location        Afghanistan         Albania       Algeria\n",
       "total_cases         34451.0          3371.0       18712.0\n",
       "total_deaths         1010.0            89.0        1004.0\n",
       "median_age             18.6            38.0          29.1\n",
       "gdp_per_capita     1803.987       11803.431     13913.839\n",
       "region           South Asia  Eastern Europe  North Africa\n",
       "lastdate         2020-07-12      2020-07-12    2020-07-12\n",
       "population       38928341.0       2877800.0    43851043.0"
      ]
     },
     "execution_count": 17,
     "metadata": {},
     "output_type": "execute_result"
    }
   ],
   "source": [
    "covidtotals.head(3).T"
   ]
  },
  {
   "cell_type": "markdown",
   "id": "33b70d24-e783-4979-83d6-b8c8d831060a",
   "metadata": {
    "tags": []
   },
   "source": [
    "> 👉 drop_duplicates를 선택할지, groupby를 선택할지는 '다'에 해당하는 쪽을 축소하기에 앞서, 집계할 필요가 있는지에 따라 결정한다!"
   ]
  }
 ],
 "metadata": {
  "kernelspec": {
   "display_name": "Python 3 (ipykernel)",
   "language": "python",
   "name": "python3"
  },
  "language_info": {
   "codemirror_mode": {
    "name": "ipython",
    "version": 3
   },
   "file_extension": ".py",
   "mimetype": "text/x-python",
   "name": "python",
   "nbconvert_exporter": "python",
   "pygments_lexer": "ipython3",
   "version": "3.9.13"
  }
 },
 "nbformat": 4,
 "nbformat_minor": 5
}
