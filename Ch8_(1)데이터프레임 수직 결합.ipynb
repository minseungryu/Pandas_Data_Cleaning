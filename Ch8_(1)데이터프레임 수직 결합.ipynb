{
 "cells": [
  {
   "cell_type": "markdown",
   "id": "12a87c0f-05a2-4460-bafe-dbc85e176888",
   "metadata": {},
   "source": [
    "# 8. 데이터프레임 수직 결합\n",
    "- 두 테이블의 구조가 비슷하고, 동일한 열과 자료형이 있는 경우가 거의 대부분 >> 취합용도\n",
    "- 단, 특정 시점을 전후로 업무 방식이 바뀌기도 하므로 유의\n",
    "- 데이터의 수직적 결합을 이어붙이기(concatenating) 또는 추가(appending)이라고 함"
   ]
  },
  {
   "cell_type": "code",
   "execution_count": 21,
   "id": "27b74bc0-52b0-451b-a5a6-985ac63ae8d6",
   "metadata": {},
   "outputs": [],
   "source": [
    "import pandas as pd\n",
    "import numpy as np\n",
    "import os"
   ]
  },
  {
   "cell_type": "code",
   "execution_count": 22,
   "id": "a7cae0f3-5e94-455f-b400-e7613c5dc62c",
   "metadata": {},
   "outputs": [],
   "source": [
    "ltcameroon = pd.read_csv('data/ltcountry/ltcameroon.csv')\n",
    "ltpoland = pd.read_csv('data/ltcountry/ltpoland.csv')"
   ]
  },
  {
   "cell_type": "markdown",
   "id": "a6ef5314-057c-48b1-8f52-63a3503dcf97",
   "metadata": {},
   "source": [
    "### 카메룬과 폴란드 데이터 이어붙이기"
   ]
  },
  {
   "cell_type": "code",
   "execution_count": 23,
   "id": "52c820fa-9861-4c8b-ba82-990c3d8646aa",
   "metadata": {},
   "outputs": [
    {
     "data": {
      "text/plain": [
       "(48, 11)"
      ]
     },
     "execution_count": 23,
     "metadata": {},
     "output_type": "execute_result"
    }
   ],
   "source": [
    "ltcameroon.shape"
   ]
  },
  {
   "cell_type": "code",
   "execution_count": 24,
   "id": "0c8c95c0-c0d8-47df-8968-07c026ba06bb",
   "metadata": {},
   "outputs": [
    {
     "data": {
      "text/plain": [
       "(120, 11)"
      ]
     },
     "execution_count": 24,
     "metadata": {},
     "output_type": "execute_result"
    }
   ],
   "source": [
    "ltpoland.shape"
   ]
  },
  {
   "cell_type": "code",
   "execution_count": 25,
   "id": "bd71f141-2d8f-4f24-894c-3c1d7c27efc7",
   "metadata": {},
   "outputs": [],
   "source": [
    "ltall = pd.concat([ltcameroon, ltpoland])"
   ]
  },
  {
   "cell_type": "code",
   "execution_count": 26,
   "id": "46b47b3a-220d-4bdb-a739-59a98c2b6b78",
   "metadata": {},
   "outputs": [
    {
     "data": {
      "text/plain": [
       "Poland      120\n",
       "Cameroon     48\n",
       "Name: country, dtype: int64"
      ]
     },
     "execution_count": 26,
     "metadata": {},
     "output_type": "execute_result"
    }
   ],
   "source": [
    "ltall.country.value_counts()"
   ]
  },
  {
   "cell_type": "markdown",
   "id": "27b3813c-09e7-4b9d-9c64-154a0555f81a",
   "metadata": {},
   "source": [
    "### 국가별 파일을 모두 이어붙이기\n",
    "- 폴더 내의 국가별 csv파일 전체에 대해 파일명으로 루핑\n",
    "- 각 파일의 확장자가 csv인지 endswith 메서드로 확인\n",
    "- 새로운 데이터프레임 행을 concat으로 기존 데이터프레임에 추가\n",
    "- 마지막으로, 최근의 데이터프레임에 누락값이 있었던 열 또는 기존에 없던 새로운 열이 있으면 출력\n",
    "- ltoman 데이터프레임에는 latabs열이 없음 유의!"
   ]
  },
  {
   "cell_type": "code",
   "execution_count": 27,
   "id": "8b4bf835-ee27-4b27-b83d-218a0783288a",
   "metadata": {},
   "outputs": [],
   "source": [
    "directory = 'data/ltcountry'"
   ]
  },
  {
   "cell_type": "code",
   "execution_count": 28,
   "id": "3503e900-2baa-41c0-98dd-7a1523989511",
   "metadata": {},
   "outputs": [],
   "source": [
    "ltall = pd.DataFrame()"
   ]
  },
  {
   "cell_type": "code",
   "execution_count": 29,
   "id": "ef093fd2-2577-490b-8f93-e577d7e1ae63",
   "metadata": {},
   "outputs": [
    {
     "name": "stdout",
     "output_type": "stream",
     "text": [
      "ltbrazil.csv has 1104 rows.\n",
      "ltcameroon.csv has 48 rows.\n",
      "ltindia.csv has 1056 rows.\n",
      "ltpoland.csv has 120 rows.\n",
      "ltjapan.csv has 1800 rows.\n",
      "ltmexico.csv has 852 rows.\n",
      "ltoman.csv has 288 rows.\n",
      "\n",
      "Differenct column names for:\n",
      "ltoman.csv\n",
      "Index(['latabs'], dtype='object')\n",
      "\n"
     ]
    }
   ],
   "source": [
    "for filename in os.listdir(directory):  #지정된 디렉토리에서 파일 목록을 가져옴\n",
    "    if filename.endswith(\".csv\"):\n",
    "        fileloc = os.path.join(directory, filename)   #디렉토리 경로와 파일 이름을 연결\n",
    "    \n",
    "    # 파일을 열기 위해 with문을 사용\n",
    "    with open(fileloc) as f:\n",
    "        ltnew = pd.read_csv(fileloc)\n",
    "        print(filename + ' has ' + str(ltnew.shape[0]) + ' rows.')\n",
    "        ltall = pd.concat([ltall, ltnew])\n",
    "    \n",
    "    # 열에 차이가 있는지 확인\n",
    "    # symmetric_difference : 두 집합(또는 열 이름의 집합) 간의 대칭 차집합을 계산. 즉, 한 데이터 프레임에만 있는 열 이름들을 찾음.\n",
    "    columndiff = ltall.columns.symmetric_difference(ltnew.columns)\n",
    "    if (not columndiff.empty):\n",
    "        print(\"\", \"Differenct column names for:\", filename, columndiff, \"\", sep=\"\\n\")"
   ]
  },
  {
   "cell_type": "markdown",
   "id": "82197986-daf9-4797-92e2-e7c558d16338",
   "metadata": {},
   "source": [
    "### 결합된 데이터 일부를 표시"
   ]
  },
  {
   "cell_type": "code",
   "execution_count": 30,
   "id": "7f85858a-0030-4877-bcc1-57a89145e1e1",
   "metadata": {},
   "outputs": [
    {
     "data": {
      "text/html": [
       "<div>\n",
       "<style scoped>\n",
       "    .dataframe tbody tr th:only-of-type {\n",
       "        vertical-align: middle;\n",
       "    }\n",
       "\n",
       "    .dataframe tbody tr th {\n",
       "        vertical-align: top;\n",
       "    }\n",
       "\n",
       "    .dataframe thead th {\n",
       "        text-align: right;\n",
       "    }\n",
       "</style>\n",
       "<table border=\"1\" class=\"dataframe\">\n",
       "  <thead>\n",
       "    <tr style=\"text-align: right;\">\n",
       "      <th></th>\n",
       "      <th>country</th>\n",
       "      <th>station</th>\n",
       "      <th>month</th>\n",
       "      <th>temperature</th>\n",
       "      <th>latitude</th>\n",
       "    </tr>\n",
       "  </thead>\n",
       "  <tbody>\n",
       "    <tr>\n",
       "      <th>717</th>\n",
       "      <td>Brazil</td>\n",
       "      <td>TAGUATINGA</td>\n",
       "      <td>8</td>\n",
       "      <td>27.75</td>\n",
       "      <td>-12.400</td>\n",
       "    </tr>\n",
       "    <tr>\n",
       "      <th>529</th>\n",
       "      <td>Japan</td>\n",
       "      <td>HACHIJOJIMA</td>\n",
       "      <td>4</td>\n",
       "      <td>15.30</td>\n",
       "      <td>33.117</td>\n",
       "    </tr>\n",
       "    <tr>\n",
       "      <th>52</th>\n",
       "      <td>Oman</td>\n",
       "      <td>BURAIMI_AUT</td>\n",
       "      <td>3</td>\n",
       "      <td>22.40</td>\n",
       "      <td>24.233</td>\n",
       "    </tr>\n",
       "    <tr>\n",
       "      <th>1029</th>\n",
       "      <td>India</td>\n",
       "      <td>JAIPUR_SANGANER</td>\n",
       "      <td>12</td>\n",
       "      <td>14.92</td>\n",
       "      <td>26.817</td>\n",
       "    </tr>\n",
       "    <tr>\n",
       "      <th>231</th>\n",
       "      <td>Mexico</td>\n",
       "      <td>MANZANILLO</td>\n",
       "      <td>4</td>\n",
       "      <td>24.85</td>\n",
       "      <td>19.050</td>\n",
       "    </tr>\n",
       "  </tbody>\n",
       "</table>\n",
       "</div>"
      ],
      "text/plain": [
       "     country          station  month  temperature  latitude\n",
       "717   Brazil       TAGUATINGA      8        27.75   -12.400\n",
       "529    Japan      HACHIJOJIMA      4        15.30    33.117\n",
       "52      Oman      BURAIMI_AUT      3        22.40    24.233\n",
       "1029   India  JAIPUR_SANGANER     12        14.92    26.817\n",
       "231   Mexico       MANZANILLO      4        24.85    19.050"
      ]
     },
     "execution_count": 30,
     "metadata": {},
     "output_type": "execute_result"
    }
   ],
   "source": [
    "ltall[['country', 'station', 'month', 'temperature', 'latitude']].sample(5, random_state=1)"
   ]
  },
  {
   "cell_type": "markdown",
   "id": "d13ed93d-a70d-4e24-bfaf-c0ccf64bbe33",
   "metadata": {},
   "source": [
    "### 이어붙인 데이터 값 검사\n",
    "- 오만의 latabs 값들이 모두 누락됨 (위도의 절댓값)"
   ]
  },
  {
   "cell_type": "code",
   "execution_count": 31,
   "id": "0d406b60-075f-4ff1-9747-aa2bc0679021",
   "metadata": {},
   "outputs": [
    {
     "data": {
      "text/plain": [
       "Brazil      1104\n",
       "Cameroon      48\n",
       "India       1056\n",
       "Japan       1800\n",
       "Mexico       852\n",
       "Oman         288\n",
       "Poland       120\n",
       "Name: country, dtype: int64"
      ]
     },
     "execution_count": 31,
     "metadata": {},
     "output_type": "execute_result"
    }
   ],
   "source": [
    "ltall.country.value_counts().sort_index()"
   ]
  },
  {
   "cell_type": "code",
   "execution_count": 32,
   "id": "2ca30c08-74a5-48cf-8c02-596006363f62",
   "metadata": {},
   "outputs": [
    {
     "data": {
      "text/html": [
       "<div>\n",
       "<style scoped>\n",
       "    .dataframe tbody tr th:only-of-type {\n",
       "        vertical-align: middle;\n",
       "    }\n",
       "\n",
       "    .dataframe tbody tr th {\n",
       "        vertical-align: top;\n",
       "    }\n",
       "\n",
       "    .dataframe thead tr th {\n",
       "        text-align: left;\n",
       "    }\n",
       "\n",
       "    .dataframe thead tr:last-of-type th {\n",
       "        text-align: right;\n",
       "    }\n",
       "</style>\n",
       "<table border=\"1\" class=\"dataframe\">\n",
       "  <thead>\n",
       "    <tr>\n",
       "      <th></th>\n",
       "      <th colspan=\"4\" halign=\"left\">temperature</th>\n",
       "      <th colspan=\"4\" halign=\"left\">latabs</th>\n",
       "    </tr>\n",
       "    <tr>\n",
       "      <th></th>\n",
       "      <th>min</th>\n",
       "      <th>mean</th>\n",
       "      <th>max</th>\n",
       "      <th>count</th>\n",
       "      <th>min</th>\n",
       "      <th>mean</th>\n",
       "      <th>max</th>\n",
       "      <th>count</th>\n",
       "    </tr>\n",
       "    <tr>\n",
       "      <th>country</th>\n",
       "      <th></th>\n",
       "      <th></th>\n",
       "      <th></th>\n",
       "      <th></th>\n",
       "      <th></th>\n",
       "      <th></th>\n",
       "      <th></th>\n",
       "      <th></th>\n",
       "    </tr>\n",
       "  </thead>\n",
       "  <tbody>\n",
       "    <tr>\n",
       "      <th>Brazil</th>\n",
       "      <td>12.20</td>\n",
       "      <td>25.470196</td>\n",
       "      <td>33.93</td>\n",
       "      <td>969</td>\n",
       "      <td>0.051</td>\n",
       "      <td>13.859272</td>\n",
       "      <td>33.517</td>\n",
       "      <td>1104</td>\n",
       "    </tr>\n",
       "    <tr>\n",
       "      <th>Cameroon</th>\n",
       "      <td>21.87</td>\n",
       "      <td>27.227941</td>\n",
       "      <td>36.00</td>\n",
       "      <td>34</td>\n",
       "      <td>4.020</td>\n",
       "      <td>7.789250</td>\n",
       "      <td>10.451</td>\n",
       "      <td>48</td>\n",
       "    </tr>\n",
       "    <tr>\n",
       "      <th>India</th>\n",
       "      <td>1.95</td>\n",
       "      <td>26.113477</td>\n",
       "      <td>37.40</td>\n",
       "      <td>1044</td>\n",
       "      <td>8.300</td>\n",
       "      <td>21.104516</td>\n",
       "      <td>34.083</td>\n",
       "      <td>1056</td>\n",
       "    </tr>\n",
       "    <tr>\n",
       "      <th>Japan</th>\n",
       "      <td>-7.15</td>\n",
       "      <td>15.495854</td>\n",
       "      <td>30.14</td>\n",
       "      <td>1797</td>\n",
       "      <td>24.300</td>\n",
       "      <td>35.664822</td>\n",
       "      <td>45.417</td>\n",
       "      <td>1800</td>\n",
       "    </tr>\n",
       "    <tr>\n",
       "      <th>Mexico</th>\n",
       "      <td>7.00</td>\n",
       "      <td>23.230397</td>\n",
       "      <td>34.45</td>\n",
       "      <td>806</td>\n",
       "      <td>14.917</td>\n",
       "      <td>22.114901</td>\n",
       "      <td>32.400</td>\n",
       "      <td>852</td>\n",
       "    </tr>\n",
       "    <tr>\n",
       "      <th>Oman</th>\n",
       "      <td>12.10</td>\n",
       "      <td>27.753463</td>\n",
       "      <td>38.39</td>\n",
       "      <td>205</td>\n",
       "      <td>NaN</td>\n",
       "      <td>NaN</td>\n",
       "      <td>NaN</td>\n",
       "      <td>0</td>\n",
       "    </tr>\n",
       "    <tr>\n",
       "      <th>Poland</th>\n",
       "      <td>-3.85</td>\n",
       "      <td>10.462750</td>\n",
       "      <td>23.25</td>\n",
       "      <td>120</td>\n",
       "      <td>50.078</td>\n",
       "      <td>52.498500</td>\n",
       "      <td>54.750</td>\n",
       "      <td>120</td>\n",
       "    </tr>\n",
       "  </tbody>\n",
       "</table>\n",
       "</div>"
      ],
      "text/plain": [
       "         temperature                          latabs                         \n",
       "                 min       mean    max count     min       mean     max count\n",
       "country                                                                      \n",
       "Brazil         12.20  25.470196  33.93   969   0.051  13.859272  33.517  1104\n",
       "Cameroon       21.87  27.227941  36.00    34   4.020   7.789250  10.451    48\n",
       "India           1.95  26.113477  37.40  1044   8.300  21.104516  34.083  1056\n",
       "Japan          -7.15  15.495854  30.14  1797  24.300  35.664822  45.417  1800\n",
       "Mexico          7.00  23.230397  34.45   806  14.917  22.114901  32.400   852\n",
       "Oman           12.10  27.753463  38.39   205     NaN        NaN     NaN     0\n",
       "Poland         -3.85  10.462750  23.25   120  50.078  52.498500  54.750   120"
      ]
     },
     "execution_count": 32,
     "metadata": {},
     "output_type": "execute_result"
    }
   ],
   "source": [
    "ltall.groupby(['country']).agg({'temperature':['min', 'mean', 'max', 'count'],\n",
    "                               'latabs':['min', 'mean', 'max', 'count']})"
   ]
  },
  {
   "cell_type": "markdown",
   "id": "e016dbcc-8cb0-49b3-854b-30950d6dbc56",
   "metadata": {},
   "source": [
    "### 누락값 수정\n",
    "- 오만의 위도값을 설정"
   ]
  },
  {
   "cell_type": "code",
   "execution_count": 33,
   "id": "444d1b03-c458-4b52-b515-6509d9c0aa61",
   "metadata": {},
   "outputs": [],
   "source": [
    "ltall['latabs'] = np.where(ltall.country=='Oman', ltall.latitude, ltall.latabs)"
   ]
  },
  {
   "cell_type": "code",
   "execution_count": 34,
   "id": "cb226cd2-8b07-411b-920b-e3133fd8b463",
   "metadata": {},
   "outputs": [
    {
     "data": {
      "text/html": [
       "<div>\n",
       "<style scoped>\n",
       "    .dataframe tbody tr th:only-of-type {\n",
       "        vertical-align: middle;\n",
       "    }\n",
       "\n",
       "    .dataframe tbody tr th {\n",
       "        vertical-align: top;\n",
       "    }\n",
       "\n",
       "    .dataframe thead tr th {\n",
       "        text-align: left;\n",
       "    }\n",
       "\n",
       "    .dataframe thead tr:last-of-type th {\n",
       "        text-align: right;\n",
       "    }\n",
       "</style>\n",
       "<table border=\"1\" class=\"dataframe\">\n",
       "  <thead>\n",
       "    <tr>\n",
       "      <th></th>\n",
       "      <th colspan=\"4\" halign=\"left\">temperature</th>\n",
       "      <th colspan=\"4\" halign=\"left\">latabs</th>\n",
       "    </tr>\n",
       "    <tr>\n",
       "      <th></th>\n",
       "      <th>min</th>\n",
       "      <th>mean</th>\n",
       "      <th>max</th>\n",
       "      <th>count</th>\n",
       "      <th>min</th>\n",
       "      <th>mean</th>\n",
       "      <th>max</th>\n",
       "      <th>count</th>\n",
       "    </tr>\n",
       "    <tr>\n",
       "      <th>country</th>\n",
       "      <th></th>\n",
       "      <th></th>\n",
       "      <th></th>\n",
       "      <th></th>\n",
       "      <th></th>\n",
       "      <th></th>\n",
       "      <th></th>\n",
       "      <th></th>\n",
       "    </tr>\n",
       "  </thead>\n",
       "  <tbody>\n",
       "    <tr>\n",
       "      <th>Brazil</th>\n",
       "      <td>12.20</td>\n",
       "      <td>25.470196</td>\n",
       "      <td>33.93</td>\n",
       "      <td>969</td>\n",
       "      <td>0.051</td>\n",
       "      <td>13.859272</td>\n",
       "      <td>33.517</td>\n",
       "      <td>1104</td>\n",
       "    </tr>\n",
       "    <tr>\n",
       "      <th>Cameroon</th>\n",
       "      <td>21.87</td>\n",
       "      <td>27.227941</td>\n",
       "      <td>36.00</td>\n",
       "      <td>34</td>\n",
       "      <td>4.020</td>\n",
       "      <td>7.789250</td>\n",
       "      <td>10.451</td>\n",
       "      <td>48</td>\n",
       "    </tr>\n",
       "    <tr>\n",
       "      <th>India</th>\n",
       "      <td>1.95</td>\n",
       "      <td>26.113477</td>\n",
       "      <td>37.40</td>\n",
       "      <td>1044</td>\n",
       "      <td>8.300</td>\n",
       "      <td>21.104516</td>\n",
       "      <td>34.083</td>\n",
       "      <td>1056</td>\n",
       "    </tr>\n",
       "    <tr>\n",
       "      <th>Japan</th>\n",
       "      <td>-7.15</td>\n",
       "      <td>15.495854</td>\n",
       "      <td>30.14</td>\n",
       "      <td>1797</td>\n",
       "      <td>24.300</td>\n",
       "      <td>35.664822</td>\n",
       "      <td>45.417</td>\n",
       "      <td>1800</td>\n",
       "    </tr>\n",
       "    <tr>\n",
       "      <th>Mexico</th>\n",
       "      <td>7.00</td>\n",
       "      <td>23.230397</td>\n",
       "      <td>34.45</td>\n",
       "      <td>806</td>\n",
       "      <td>14.917</td>\n",
       "      <td>22.114901</td>\n",
       "      <td>32.400</td>\n",
       "      <td>852</td>\n",
       "    </tr>\n",
       "    <tr>\n",
       "      <th>Oman</th>\n",
       "      <td>12.10</td>\n",
       "      <td>27.753463</td>\n",
       "      <td>38.39</td>\n",
       "      <td>205</td>\n",
       "      <td>16.933</td>\n",
       "      <td>21.997875</td>\n",
       "      <td>26.167</td>\n",
       "      <td>288</td>\n",
       "    </tr>\n",
       "    <tr>\n",
       "      <th>Poland</th>\n",
       "      <td>-3.85</td>\n",
       "      <td>10.462750</td>\n",
       "      <td>23.25</td>\n",
       "      <td>120</td>\n",
       "      <td>50.078</td>\n",
       "      <td>52.498500</td>\n",
       "      <td>54.750</td>\n",
       "      <td>120</td>\n",
       "    </tr>\n",
       "  </tbody>\n",
       "</table>\n",
       "</div>"
      ],
      "text/plain": [
       "         temperature                          latabs                         \n",
       "                 min       mean    max count     min       mean     max count\n",
       "country                                                                      \n",
       "Brazil         12.20  25.470196  33.93   969   0.051  13.859272  33.517  1104\n",
       "Cameroon       21.87  27.227941  36.00    34   4.020   7.789250  10.451    48\n",
       "India           1.95  26.113477  37.40  1044   8.300  21.104516  34.083  1056\n",
       "Japan          -7.15  15.495854  30.14  1797  24.300  35.664822  45.417  1800\n",
       "Mexico          7.00  23.230397  34.45   806  14.917  22.114901  32.400   852\n",
       "Oman           12.10  27.753463  38.39   205  16.933  21.997875  26.167   288\n",
       "Poland         -3.85  10.462750  23.25   120  50.078  52.498500  54.750   120"
      ]
     },
     "execution_count": 34,
     "metadata": {},
     "output_type": "execute_result"
    }
   ],
   "source": [
    "ltall.groupby(['country']).agg({'temperature':['min', 'mean', 'max', 'count'],\n",
    "                               'latabs':['min', 'mean', 'max', 'count']})"
   ]
  }
 ],
 "metadata": {
  "kernelspec": {
   "display_name": "Python 3 (ipykernel)",
   "language": "python",
   "name": "python3"
  },
  "language_info": {
   "codemirror_mode": {
    "name": "ipython",
    "version": 3
   },
   "file_extension": ".py",
   "mimetype": "text/x-python",
   "name": "python",
   "nbconvert_exporter": "python",
   "pygments_lexer": "ipython3",
   "version": "3.9.13"
  }
 },
 "nbformat": 4,
 "nbformat_minor": 5
}
