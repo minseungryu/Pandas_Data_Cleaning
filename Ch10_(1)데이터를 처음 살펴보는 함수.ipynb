{
 "cells": [
  {
   "cell_type": "markdown",
   "id": "b123d6a1-08c4-4041-b4d7-d2af115f7af0",
   "metadata": {},
   "source": [
    "# 10. 사용자 정의 함수와 클래스로 데이터 정제 자동화\n",
    "- 데이터를 처음 살펴보는 함수\n",
    "- 요약통계와 빈도를 표시하는 함수\n",
    "- 이상치와 예상치 못한 값을 식별하는 함수\n",
    "- 데이터 집계와 결합을 위한 함수\n",
    "- 시리즈 값을 업데이트하는 로직을 담은 클래스\n",
    "- 표 형태가 아닌 데이터 구조를 다루는 클래스\n",
    "\n",
    "> 함수를 별도 모듈에 넣어서, 모듈이 저장된 폴더에 접근하여 어느 파일에서든 함수를 호출한다!"
   ]
  },
  {
   "cell_type": "markdown",
   "id": "4d32527f-5f30-4a36-8342-18f9be20625f",
   "metadata": {},
   "source": [
    "## (1) 데이터를 처음 살펴보는 함수\n",
    "- 함수를 basicdescriptives.py 에 작성\n",
    "- 해당 파일을 helperfunctions 라는 하위 폴더에 둘 것"
   ]
  },
  {
   "cell_type": "code",
   "execution_count": 1,
   "id": "458b931b-b729-4221-8d0d-457b35c9d570",
   "metadata": {},
   "outputs": [],
   "source": [
    "# 데이터는 NLS\n",
    "import pandas as pd\n",
    "\n",
    "# 데이터프레임에 대한 요약 정보를 딕셔너리로 반환\n",
    "def getfirstlook(df, nrows=5, uniqueids=None):\n",
    "    out = {}\n",
    "    out['head'] = df.head(nrows)\n",
    "    out['dtypes'] = df.dtypes\n",
    "    out['nrows'] = df.shape[0]\n",
    "    out['ncols'] = df.shape[1]\n",
    "    out['index'] = df.index\n",
    "    \n",
    "    if (uniqueids is not None):\n",
    "        out['uniqueids'] = df[uniqueids].nunique()\n",
    "    return out\n",
    "\n",
    "# 딕셔너리를 보기 좋게 출력하는 함수\n",
    "def displaydict(dicttodisplay):\n",
    "    print(*(': '.join(map(str, x)) for x in dicttodisplay.items()), sep='\\n\\n')"
   ]
  },
  {
   "cell_type": "markdown",
   "id": "96664774-2009-4c8b-81c6-1110117ad61e",
   "metadata": {},
   "source": [
    "- getfirstlook 함수를 호출하는 firstlook.py 파일을 작성"
   ]
  },
  {
   "cell_type": "code",
   "execution_count": 2,
   "id": "1cea9f94-321c-46ee-b245-2ab7ffa05c27",
   "metadata": {},
   "outputs": [],
   "source": [
    "import pandas as pd\n",
    "import os\n",
    "import sys\n",
    "nls97 = pd.read_csv('data/nls97f.csv')\n",
    "nls97.set_index('personid', inplace=True)"
   ]
  },
  {
   "cell_type": "markdown",
   "id": "dac73996-6231-4c35-aeb3-3c8e5b81c67c",
   "metadata": {},
   "source": [
    "- basicdescriptive 모듈 임포트"
   ]
  },
  {
   "cell_type": "code",
   "execution_count": 3,
   "id": "0a62c0ee-cd6b-4654-94af-b9eebe828c28",
   "metadata": {},
   "outputs": [
    {
     "data": {
      "text/plain": [
       "<module 'basicdescriptives' from '/Users/angela/Pandas_Data_Cleaning/helperfunctions/basicdescriptives.py'>"
      ]
     },
     "execution_count": 3,
     "metadata": {},
     "output_type": "execute_result"
    }
   ],
   "source": [
    "sys.path.append(os.getcwd()+'/helperfunctions')\n",
    "import basicdescriptives as bd\n",
    "import importlib #(모듈 수정시)\n",
    "importlib.reload(bd)"
   ]
  },
  {
   "cell_type": "code",
   "execution_count": 4,
   "id": "1a3a1fab-338a-4c60-94af-cc77b822ff0d",
   "metadata": {},
   "outputs": [
    {
     "name": "stdout",
     "output_type": "stream",
     "text": [
      "head:           gender  birthmonth  birthyear  highestgradecompleted  maritalstatus  \\\n",
      "personid                                                                        \n",
      "100061    Female           5       1980                   13.0        Married   \n",
      "100139      Male           9       1983                   12.0        Married   \n",
      "100284      Male          11       1984                    7.0  Never-married   \n",
      "100292      Male           4       1982                    NaN            NaN   \n",
      "100583      Male           1       1980                   13.0        Married   \n",
      "\n",
      "          childathome  childnotathome  wageincome        weeklyhrscomputer  \\\n",
      "personid                                                                     \n",
      "100061            4.0             0.0     12500.0  10 hours or more a week   \n",
      "100139            2.0             0.0    120000.0      1 to 3 hours a week   \n",
      "100284            1.0             0.0     58000.0                     None   \n",
      "100292            NaN             NaN         NaN                      NaN   \n",
      "100583            4.0             0.0     30000.0  Less than 1 hour a week   \n",
      "\n",
      "                    weeklyhrstv  ...      colenroct13      colenrfeb14  \\\n",
      "personid                         ...                                     \n",
      "100061    11 to 20 hours a week  ...  1. Not enrolled  1. Not enrolled   \n",
      "100139     3 to 10 hours a week  ...  1. Not enrolled  1. Not enrolled   \n",
      "100284    11 to 20 hours a week  ...  1. Not enrolled  1. Not enrolled   \n",
      "100292                      NaN  ...  1. Not enrolled  1. Not enrolled   \n",
      "100583     3 to 10 hours a week  ...  1. Not enrolled  1. Not enrolled   \n",
      "\n",
      "              colenroct14      colenrfeb15      colenroct15      colenrfeb16  \\\n",
      "personid                                                                       \n",
      "100061    1. Not enrolled  1. Not enrolled  1. Not enrolled  1. Not enrolled   \n",
      "100139    1. Not enrolled  1. Not enrolled  1. Not enrolled  1. Not enrolled   \n",
      "100284    1. Not enrolled  1. Not enrolled  1. Not enrolled  1. Not enrolled   \n",
      "100292    1. Not enrolled  1. Not enrolled  1. Not enrolled              NaN   \n",
      "100583    1. Not enrolled  1. Not enrolled  1. Not enrolled  1. Not enrolled   \n",
      "\n",
      "              colenroct16      colenrfeb17      colenroct17 originalid  \n",
      "personid                                                                \n",
      "100061    1. Not enrolled  1. Not enrolled  1. Not enrolled       8245  \n",
      "100139    1. Not enrolled  1. Not enrolled  1. Not enrolled       3962  \n",
      "100284    1. Not enrolled  1. Not enrolled  1. Not enrolled       3571  \n",
      "100292                NaN              NaN              NaN       2979  \n",
      "100583    1. Not enrolled  1. Not enrolled  1. Not enrolled       8511  \n",
      "\n",
      "[5 rows x 89 columns]\n",
      "\n",
      "dtypes: gender                    object\n",
      "birthmonth                 int64\n",
      "birthyear                  int64\n",
      "highestgradecompleted    float64\n",
      "maritalstatus             object\n",
      "                          ...   \n",
      "colenrfeb16               object\n",
      "colenroct16               object\n",
      "colenrfeb17               object\n",
      "colenroct17               object\n",
      "originalid                 int64\n",
      "Length: 89, dtype: object\n",
      "\n",
      "nrows: 8984\n",
      "\n",
      "ncols: 89\n",
      "\n",
      "index: Int64Index([100061, 100139, 100284, 100292, 100583, 100833, 100931, 101089,\n",
      "            101122, 101132,\n",
      "            ...\n",
      "            998997, 999031, 999053, 999087, 999103, 999291, 999406, 999543,\n",
      "            999698, 999963],\n",
      "           dtype='int64', name='personid', length=8984)\n"
     ]
    }
   ],
   "source": [
    "# 함수 적용\n",
    "dfinfo = bd.getfirstlook(nls97)\n",
    "bd.displaydict(dfinfo)"
   ]
  },
  {
   "cell_type": "code",
   "execution_count": 8,
   "id": "e36991cc-d510-44f2-918e-df4c221768cf",
   "metadata": {},
   "outputs": [],
   "source": [
    "# bd.getfirstlook(nls97, 2, 'personid')"
   ]
  },
  {
   "cell_type": "code",
   "execution_count": 9,
   "id": "87f52b88-c914-46bf-ae32-f5078aa83628",
   "metadata": {},
   "outputs": [
    {
     "data": {
      "text/plain": [
       "8984"
      ]
     },
     "execution_count": 9,
     "metadata": {},
     "output_type": "execute_result"
    }
   ],
   "source": [
    "dfinfo['nrows']"
   ]
  },
  {
   "cell_type": "code",
   "execution_count": 10,
   "id": "2b9236ce-4c1b-4959-a49c-d0a1a5102b78",
   "metadata": {},
   "outputs": [
    {
     "data": {
      "text/plain": [
       "gender                    object\n",
       "birthmonth                 int64\n",
       "birthyear                  int64\n",
       "highestgradecompleted    float64\n",
       "maritalstatus             object\n",
       "                          ...   \n",
       "colenrfeb16               object\n",
       "colenroct16               object\n",
       "colenrfeb17               object\n",
       "colenroct17               object\n",
       "originalid                 int64\n",
       "Length: 89, dtype: object"
      ]
     },
     "execution_count": 10,
     "metadata": {},
     "output_type": "execute_result"
    }
   ],
   "source": [
    "dfinfo['dtypes']"
   ]
  },
  {
   "cell_type": "code",
   "execution_count": 11,
   "id": "ca487838-a30a-4311-90c3-f8b132ae822e",
   "metadata": {},
   "outputs": [],
   "source": [
    "# dfinfo['nrows'] == dfinfo['uniqueids']"
   ]
  },
  {
   "cell_type": "code",
   "execution_count": null,
   "id": "787c11ff-464d-488b-beef-eda45838767d",
   "metadata": {},
   "outputs": [],
   "source": []
  }
 ],
 "metadata": {
  "kernelspec": {
   "display_name": "Python 3 (ipykernel)",
   "language": "python",
   "name": "python3"
  },
  "language_info": {
   "codemirror_mode": {
    "name": "ipython",
    "version": 3
   },
   "file_extension": ".py",
   "mimetype": "text/x-python",
   "name": "python",
   "nbconvert_exporter": "python",
   "pygments_lexer": "ipython3",
   "version": "3.9.13"
  }
 },
 "nbformat": 4,
 "nbformat_minor": 5
}
