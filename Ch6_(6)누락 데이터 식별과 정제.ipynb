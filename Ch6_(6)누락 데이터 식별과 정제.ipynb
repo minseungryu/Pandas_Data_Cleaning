{
 "cells": [
  {
   "cell_type": "markdown",
   "id": "1beaafad-0033-4aa5-912a-61eac955551b",
   "metadata": {},
   "source": [
    "# 누락 데이터 식별과 정제\n",
    "---\n",
    "- 데이터 : NLS, 주요 인구통계 열과 학교 성적 열의 누락값\n",
    "- 누락값 채우기 전략 : 열 전체 평균 / 그룹 평균 / 가장 가까운 비누락값 할당"
   ]
  },
  {
   "cell_type": "code",
   "execution_count": 1,
   "id": "386871d2-3ddd-4ebf-8a15-4ee25a1f824a",
   "metadata": {},
   "outputs": [],
   "source": [
    "import pandas as pd\n",
    "nls97 = pd.read_csv('data/nls97c.csv')\n",
    "nls97.set_index('personid', inplace=True)"
   ]
  },
  {
   "cell_type": "code",
   "execution_count": 3,
   "id": "b4d596ea-458b-4086-9016-c01a4c8de876",
   "metadata": {},
   "outputs": [
    {
     "data": {
      "text/plain": [
       "Index(['gender', 'birthmonth', 'birthyear', 'highestgradecompleted',\n",
       "       'maritalstatus', 'childathome', 'childnotathome', 'wageincome',\n",
       "       'weeklyhrscomputer', 'weeklyhrstv', 'nightlyhrssleep', 'satverbal',\n",
       "       'satmath', 'gpaoverall', 'gpaenglish', 'gpamath', 'gpascience',\n",
       "       'highestdegree', 'govprovidejobs', 'govpricecontrols', 'govhealthcare',\n",
       "       'govelderliving', 'govindhelp', 'govunemp', 'govincomediff',\n",
       "       'govcollegefinance', 'govdecenthousing', 'govprotectenvironment',\n",
       "       'weeksworked00', 'weeksworked01', 'weeksworked02', 'weeksworked03',\n",
       "       'weeksworked04', 'weeksworked05', 'weeksworked06', 'weeksworked07',\n",
       "       'weeksworked08', 'weeksworked09', 'weeksworked10', 'weeksworked11',\n",
       "       'weeksworked12', 'weeksworked13', 'weeksworked14', 'weeksworked15',\n",
       "       'weeksworked16', 'weeksworked17', 'colenrfeb97', 'colenroct97',\n",
       "       'colenrfeb98', 'colenroct98', 'colenrfeb99', 'colenroct99',\n",
       "       'colenrfeb00', 'colenroct00', 'colenrfeb01', 'colenroct01',\n",
       "       'colenrfeb02', 'colenroct02', 'colenrfeb03', 'colenroct03',\n",
       "       'colenrfeb04', 'colenroct04', 'colenrfeb05', 'colenroct05',\n",
       "       'colenrfeb06', 'colenroct06', 'colenrfeb07', 'colenroct07',\n",
       "       'colenrfeb08', 'colenroct08', 'colenrfeb09', 'colenroct09',\n",
       "       'colenrfeb10', 'colenroct10', 'colenrfeb11', 'colenroct11',\n",
       "       'colenrfeb12', 'colenroct12', 'colenrfeb13', 'colenroct13',\n",
       "       'colenrfeb14', 'colenroct14', 'colenrfeb15', 'colenroct15',\n",
       "       'colenrfeb16', 'colenroct16', 'colenrfeb17', 'colenroct17'],\n",
       "      dtype='object')"
      ]
     },
     "execution_count": 3,
     "metadata": {},
     "output_type": "execute_result"
    }
   ],
   "source": [
    "nls97.columns"
   ]
  },
  {
   "cell_type": "code",
   "execution_count": 6,
   "id": "55147b51-4518-43ed-be56-289f49b000ac",
   "metadata": {},
   "outputs": [],
   "source": [
    "# 학교 레코드와 인구통계 데이터프레임 추출\n",
    "schoolrecordlist = ['satverbal', 'satmath', 'gpaoverall', 'gpaenglish', 'gpamath',\n",
    "                   'gpascience', 'highestdegree', 'highestgradecompleted']"
   ]
  },
  {
   "cell_type": "code",
   "execution_count": 7,
   "id": "f3639f62-8a72-472e-95b8-4391191a5024",
   "metadata": {},
   "outputs": [],
   "source": [
    "demolist = ['maritalstatus', 'childathome', 'childnotathome', 'wageincome', 'weeklyhrscomputer',\n",
    "           'weeklyhrstv', 'nightlyhrssleep']"
   ]
  },
  {
   "cell_type": "code",
   "execution_count": 9,
   "id": "faa80cb9-35e4-47ef-9dc3-9769faf7fc12",
   "metadata": {},
   "outputs": [],
   "source": [
    "schoolrecord = nls97[schoolrecordlist]\n",
    "demo = nls97[demolist]"
   ]
  },
  {
   "cell_type": "code",
   "execution_count": 10,
   "id": "59d86b9b-2efd-410e-a418-0f6f99f2cbce",
   "metadata": {},
   "outputs": [
    {
     "data": {
      "text/plain": [
       "(8984, 8)"
      ]
     },
     "execution_count": 10,
     "metadata": {},
     "output_type": "execute_result"
    }
   ],
   "source": [
    "schoolrecord.shape"
   ]
  },
  {
   "cell_type": "code",
   "execution_count": 11,
   "id": "c606df3a-36c2-4843-88fb-c1417ee6f96b",
   "metadata": {},
   "outputs": [
    {
     "data": {
      "text/plain": [
       "(8984, 7)"
      ]
     },
     "execution_count": 11,
     "metadata": {},
     "output_type": "execute_result"
    }
   ],
   "source": [
    "demo.shape"
   ]
  },
  {
   "cell_type": "markdown",
   "id": "36e5520a-7fda-4195-bd61-1df4a802d1c2",
   "metadata": {},
   "source": [
    "### 누락값 확인"
   ]
  },
  {
   "cell_type": "code",
   "execution_count": 12,
   "id": "9db2fe19-539e-40f7-a348-ad14ffbdb91e",
   "metadata": {},
   "outputs": [
    {
     "data": {
      "text/plain": [
       "satverbal                7578\n",
       "satmath                  7577\n",
       "gpaoverall               2980\n",
       "gpaenglish               3186\n",
       "gpamath                  3218\n",
       "gpascience               3300\n",
       "highestdegree              31\n",
       "highestgradecompleted    2321\n",
       "dtype: int64"
      ]
     },
     "execution_count": 12,
     "metadata": {},
     "output_type": "execute_result"
    }
   ],
   "source": [
    "schoolrecord.isnull().sum(axis=0)"
   ]
  },
  {
   "cell_type": "code",
   "execution_count": 15,
   "id": "6e33870e-ad7f-40d1-96f4-6d06c576b910",
   "metadata": {},
   "outputs": [
    {
     "data": {
      "text/plain": [
       "personid\n",
       "100061    2\n",
       "100139    6\n",
       "100284    6\n",
       "100292    3\n",
       "100583    2\n",
       "         ..\n",
       "999291    0\n",
       "999406    0\n",
       "999543    6\n",
       "999698    6\n",
       "999963    0\n",
       "Length: 8984, dtype: int64"
      ]
     },
     "execution_count": 15,
     "metadata": {},
     "output_type": "execute_result"
    }
   ],
   "source": [
    "misscnt = schoolrecord.isnull().sum(axis=1)\n",
    "misscnt"
   ]
  },
  {
   "cell_type": "code",
   "execution_count": 17,
   "id": "b5c75788-a443-4e4d-ad7f-2a17663adcef",
   "metadata": {},
   "outputs": [
    {
     "data": {
      "text/plain": [
       "0    1087\n",
       "1     312\n",
       "2    3210\n",
       "3    1102\n",
       "4     176\n",
       "5     101\n",
       "6    2039\n",
       "7     946\n",
       "8      11\n",
       "dtype: int64"
      ]
     },
     "execution_count": 17,
     "metadata": {},
     "output_type": "execute_result"
    }
   ],
   "source": [
    "misscnt.value_counts().sort_index()"
   ]
  },
  {
   "cell_type": "code",
   "execution_count": 19,
   "id": "95517c34-6d48-4e09-b28b-4ab09a8358ad",
   "metadata": {},
   "outputs": [
    {
     "data": {
      "text/html": [
       "<div>\n",
       "<style scoped>\n",
       "    .dataframe tbody tr th:only-of-type {\n",
       "        vertical-align: middle;\n",
       "    }\n",
       "\n",
       "    .dataframe tbody tr th {\n",
       "        vertical-align: top;\n",
       "    }\n",
       "\n",
       "    .dataframe thead th {\n",
       "        text-align: right;\n",
       "    }\n",
       "</style>\n",
       "<table border=\"1\" class=\"dataframe\">\n",
       "  <thead>\n",
       "    <tr style=\"text-align: right;\">\n",
       "      <th>personid</th>\n",
       "      <th>101705</th>\n",
       "      <th>102061</th>\n",
       "      <th>102648</th>\n",
       "      <th>104627</th>\n",
       "    </tr>\n",
       "  </thead>\n",
       "  <tbody>\n",
       "    <tr>\n",
       "      <th>satverbal</th>\n",
       "      <td>NaN</td>\n",
       "      <td>NaN</td>\n",
       "      <td>NaN</td>\n",
       "      <td>NaN</td>\n",
       "    </tr>\n",
       "    <tr>\n",
       "      <th>satmath</th>\n",
       "      <td>NaN</td>\n",
       "      <td>NaN</td>\n",
       "      <td>NaN</td>\n",
       "      <td>NaN</td>\n",
       "    </tr>\n",
       "    <tr>\n",
       "      <th>gpaoverall</th>\n",
       "      <td>NaN</td>\n",
       "      <td>NaN</td>\n",
       "      <td>NaN</td>\n",
       "      <td>NaN</td>\n",
       "    </tr>\n",
       "    <tr>\n",
       "      <th>gpaenglish</th>\n",
       "      <td>NaN</td>\n",
       "      <td>NaN</td>\n",
       "      <td>NaN</td>\n",
       "      <td>NaN</td>\n",
       "    </tr>\n",
       "    <tr>\n",
       "      <th>gpamath</th>\n",
       "      <td>NaN</td>\n",
       "      <td>NaN</td>\n",
       "      <td>NaN</td>\n",
       "      <td>NaN</td>\n",
       "    </tr>\n",
       "    <tr>\n",
       "      <th>gpascience</th>\n",
       "      <td>NaN</td>\n",
       "      <td>NaN</td>\n",
       "      <td>NaN</td>\n",
       "      <td>NaN</td>\n",
       "    </tr>\n",
       "    <tr>\n",
       "      <th>highestdegree</th>\n",
       "      <td>1. GED</td>\n",
       "      <td>0. None</td>\n",
       "      <td>1. GED</td>\n",
       "      <td>0. None</td>\n",
       "    </tr>\n",
       "    <tr>\n",
       "      <th>highestgradecompleted</th>\n",
       "      <td>NaN</td>\n",
       "      <td>NaN</td>\n",
       "      <td>NaN</td>\n",
       "      <td>NaN</td>\n",
       "    </tr>\n",
       "  </tbody>\n",
       "</table>\n",
       "</div>"
      ],
      "text/plain": [
       "personid               101705   102061  102648   104627\n",
       "satverbal                 NaN      NaN     NaN      NaN\n",
       "satmath                   NaN      NaN     NaN      NaN\n",
       "gpaoverall                NaN      NaN     NaN      NaN\n",
       "gpaenglish                NaN      NaN     NaN      NaN\n",
       "gpamath                   NaN      NaN     NaN      NaN\n",
       "gpascience                NaN      NaN     NaN      NaN\n",
       "highestdegree          1. GED  0. None  1. GED  0. None\n",
       "highestgradecompleted     NaN      NaN     NaN      NaN"
      ]
     },
     "execution_count": 19,
     "metadata": {},
     "output_type": "execute_result"
    }
   ],
   "source": [
    "schoolrecord.loc[misscnt >= 7].head(4).T"
   ]
  },
  {
   "cell_type": "markdown",
   "id": "38540502-a3de-4eae-a3b2-8310f95737fb",
   "metadata": {},
   "source": [
    "### 데이터가 거의 없는 행 제거\n",
    "- dropna 메서드, thresh=2는 비누락값이 2개 미만인 행(누락값이 7~8개인 행)이 삭제됨"
   ]
  },
  {
   "cell_type": "code",
   "execution_count": 21,
   "id": "220407cf-86c1-4105-9989-53965b90a066",
   "metadata": {},
   "outputs": [],
   "source": [
    "schoolrecord = schoolrecord.dropna(thresh=2)"
   ]
  },
  {
   "cell_type": "code",
   "execution_count": 22,
   "id": "6aff5f24-bd22-42d7-9067-b82b9bb76137",
   "metadata": {},
   "outputs": [
    {
     "data": {
      "text/plain": [
       "(8027, 8)"
      ]
     },
     "execution_count": 22,
     "metadata": {},
     "output_type": "execute_result"
    }
   ],
   "source": [
    "schoolrecord.shape"
   ]
  },
  {
   "cell_type": "code",
   "execution_count": 23,
   "id": "15c2cbb7-a306-44c3-9b21-fd640b3158eb",
   "metadata": {},
   "outputs": [
    {
     "data": {
      "text/plain": [
       "0    1087\n",
       "1     312\n",
       "2    3210\n",
       "3    1102\n",
       "4     176\n",
       "5     101\n",
       "6    2039\n",
       "dtype: int64"
      ]
     },
     "execution_count": 23,
     "metadata": {},
     "output_type": "execute_result"
    }
   ],
   "source": [
    "schoolrecord.isnull().sum(axis=1).value_counts().sort_index()"
   ]
  },
  {
   "cell_type": "markdown",
   "id": "b7c449c7-d222-46a9-9b7a-da6a37a6c166",
   "metadata": {},
   "source": [
    "### GPA 누락값을 평균으로 채우기"
   ]
  },
  {
   "cell_type": "code",
   "execution_count": 24,
   "id": "b9560506-2e68-4ff6-98cf-2290f0e4d85e",
   "metadata": {},
   "outputs": [
    {
     "data": {
      "text/plain": [
       "2"
      ]
     },
     "execution_count": 24,
     "metadata": {},
     "output_type": "execute_result"
    }
   ],
   "source": [
    "int(schoolrecord.gpaoverall.mean())"
   ]
  },
  {
   "cell_type": "code",
   "execution_count": 25,
   "id": "087b6087-2fae-4d41-92d9-98392b6dbf58",
   "metadata": {},
   "outputs": [
    {
     "data": {
      "text/plain": [
       "2023"
      ]
     },
     "execution_count": 25,
     "metadata": {},
     "output_type": "execute_result"
    }
   ],
   "source": [
    "schoolrecord.gpaoverall.isnull().sum()"
   ]
  },
  {
   "cell_type": "code",
   "execution_count": 26,
   "id": "e6ff9e3f-22b8-403c-90d0-0926ca4cc7f0",
   "metadata": {},
   "outputs": [
    {
     "name": "stderr",
     "output_type": "stream",
     "text": [
      "/var/folders/hj/1c4sv0bn28v5lr5g0s_fr4w80000gn/T/ipykernel_7173/4083548727.py:1: SettingWithCopyWarning: \n",
      "A value is trying to be set on a copy of a slice from a DataFrame\n",
      "\n",
      "See the caveats in the documentation: https://pandas.pydata.org/pandas-docs/stable/user_guide/indexing.html#returning-a-view-versus-a-copy\n",
      "  schoolrecord.gpaoverall.fillna(int(schoolrecord.gpaoverall.mean()), inplace=True)\n"
     ]
    }
   ],
   "source": [
    "schoolrecord.gpaoverall.fillna(int(schoolrecord.gpaoverall.mean()), inplace=True)"
   ]
  },
  {
   "cell_type": "code",
   "execution_count": 27,
   "id": "84a74058-8577-4815-b7e9-4c889ee6751b",
   "metadata": {},
   "outputs": [
    {
     "data": {
      "text/plain": [
       "0"
      ]
     },
     "execution_count": 27,
     "metadata": {},
     "output_type": "execute_result"
    }
   ],
   "source": [
    "schoolrecord.gpaoverall.isnull().sum()"
   ]
  },
  {
   "cell_type": "markdown",
   "id": "5ad0520d-4277-4877-9869-bc329a9a3989",
   "metadata": {},
   "source": [
    "### 정방향 채우기로 누락값을 대체\n",
    "- fillna의 ffill옵션 : 누락값을 이전에 나온 가장 가까운 비누락값으로 대체\n",
    "- 누락값이 거의 없고, 데이터에 무작위로 분포할 때도 정방향 채우기가 적합할 수 있음"
   ]
  },
  {
   "cell_type": "code",
   "execution_count": 28,
   "id": "6d479db4-dc8a-439f-ae08-9bbb0f1b1055",
   "metadata": {},
   "outputs": [
    {
     "data": {
      "text/plain": [
       "personid\n",
       "100061     12500.0\n",
       "100139    120000.0\n",
       "100284     58000.0\n",
       "100292         NaN\n",
       "100583     30000.0\n",
       "Name: wageincome, dtype: float64"
      ]
     },
     "execution_count": 28,
     "metadata": {},
     "output_type": "execute_result"
    }
   ],
   "source": [
    "demo.wageincome.head().T"
   ]
  },
  {
   "cell_type": "code",
   "execution_count": 29,
   "id": "bea84e4e-a9c3-4a17-9552-0293102830f9",
   "metadata": {},
   "outputs": [
    {
     "data": {
      "text/plain": [
       "3893"
      ]
     },
     "execution_count": 29,
     "metadata": {},
     "output_type": "execute_result"
    }
   ],
   "source": [
    "demo.wageincome.isnull().sum()"
   ]
  },
  {
   "cell_type": "code",
   "execution_count": 31,
   "id": "791f3ed6-7d91-4c6b-afa9-099ed7f02b0f",
   "metadata": {},
   "outputs": [],
   "source": [
    "nls97.wageincome.fillna(method='ffill', inplace=True)"
   ]
  },
  {
   "cell_type": "code",
   "execution_count": 32,
   "id": "b2615dee-b3d6-4bb8-b71e-c386febda050",
   "metadata": {},
   "outputs": [],
   "source": [
    "demo = nls97[demolist]"
   ]
  },
  {
   "cell_type": "code",
   "execution_count": 33,
   "id": "4718be22-2659-46b5-afb1-3be49aabfcba",
   "metadata": {},
   "outputs": [
    {
     "data": {
      "text/plain": [
       "personid\n",
       "100061     12500.0\n",
       "100139    120000.0\n",
       "100284     58000.0\n",
       "100292     58000.0\n",
       "100583     30000.0\n",
       "Name: wageincome, dtype: float64"
      ]
     },
     "execution_count": 33,
     "metadata": {},
     "output_type": "execute_result"
    }
   ],
   "source": [
    "demo.wageincome.head().T"
   ]
  },
  {
   "cell_type": "code",
   "execution_count": 34,
   "id": "50806ee3-6bc8-459b-bd92-feddf3c4b727",
   "metadata": {},
   "outputs": [
    {
     "data": {
      "text/plain": [
       "0"
      ]
     },
     "execution_count": 34,
     "metadata": {},
     "output_type": "execute_result"
    }
   ],
   "source": [
    "demo.wageincome.isnull().sum()"
   ]
  },
  {
   "cell_type": "markdown",
   "id": "e8182a45-8363-43d4-9d62-ce5f7ade567a",
   "metadata": {},
   "source": [
    "### 누락값을 그룹별 평균으로 채우기\n",
    "- 학력별 2017년 근무 주 수 평균값을 포함하는 데이터프레임 생성 ->> NLS 데이터와 병합\n",
    "- 근무 주 수의 누락값을 fillna를 사용해 학력별 평균으로 대체"
   ]
  },
  {
   "cell_type": "code",
   "execution_count": 36,
   "id": "e000bbaa-f7ce-4407-8e9a-0f44f4cda703",
   "metadata": {},
   "outputs": [
    {
     "data": {
      "text/html": [
       "<div>\n",
       "<style scoped>\n",
       "    .dataframe tbody tr th:only-of-type {\n",
       "        vertical-align: middle;\n",
       "    }\n",
       "\n",
       "    .dataframe tbody tr th {\n",
       "        vertical-align: top;\n",
       "    }\n",
       "\n",
       "    .dataframe thead th {\n",
       "        text-align: right;\n",
       "    }\n",
       "</style>\n",
       "<table border=\"1\" class=\"dataframe\">\n",
       "  <thead>\n",
       "    <tr style=\"text-align: right;\">\n",
       "      <th></th>\n",
       "      <th>highestdegree</th>\n",
       "      <th>weeksworked17</th>\n",
       "    </tr>\n",
       "    <tr>\n",
       "      <th>personid</th>\n",
       "      <th></th>\n",
       "      <th></th>\n",
       "    </tr>\n",
       "  </thead>\n",
       "  <tbody>\n",
       "    <tr>\n",
       "      <th>100061</th>\n",
       "      <td>2. High School</td>\n",
       "      <td>48.0</td>\n",
       "    </tr>\n",
       "    <tr>\n",
       "      <th>100139</th>\n",
       "      <td>2. High School</td>\n",
       "      <td>52.0</td>\n",
       "    </tr>\n",
       "    <tr>\n",
       "      <th>100284</th>\n",
       "      <td>0. None</td>\n",
       "      <td>0.0</td>\n",
       "    </tr>\n",
       "    <tr>\n",
       "      <th>100292</th>\n",
       "      <td>4. Bachelors</td>\n",
       "      <td>NaN</td>\n",
       "    </tr>\n",
       "    <tr>\n",
       "      <th>100583</th>\n",
       "      <td>2. High School</td>\n",
       "      <td>52.0</td>\n",
       "    </tr>\n",
       "  </tbody>\n",
       "</table>\n",
       "</div>"
      ],
      "text/plain": [
       "           highestdegree  weeksworked17\n",
       "personid                               \n",
       "100061    2. High School           48.0\n",
       "100139    2. High School           52.0\n",
       "100284           0. None            0.0\n",
       "100292      4. Bachelors            NaN\n",
       "100583    2. High School           52.0"
      ]
     },
     "execution_count": 36,
     "metadata": {},
     "output_type": "execute_result"
    }
   ],
   "source": [
    "nls97[['highestdegree', 'weeksworked17']].head()"
   ]
  },
  {
   "cell_type": "code",
   "execution_count": 39,
   "id": "f9a92f90-0fd4-4bf9-bd71-37e1624801df",
   "metadata": {},
   "outputs": [],
   "source": [
    "workbydegree = nls97.groupby(['highestdegree'])['weeksworked17'].mean().reset_index().rename(columns={'weeksworked17':'meanweeksworked17'})"
   ]
  },
  {
   "cell_type": "code",
   "execution_count": 41,
   "id": "ac3c3fb9-6799-4ea5-92b9-0898a857a6e6",
   "metadata": {},
   "outputs": [],
   "source": [
    "nls97 = nls97.reset_index().merge(workbydegree, on = ['highestdegree'], how='left').set_index('personid')"
   ]
  },
  {
   "cell_type": "code",
   "execution_count": 43,
   "id": "fa58bde1-6739-4bb4-9970-803aef211a69",
   "metadata": {},
   "outputs": [],
   "source": [
    "nls97.weeksworked17.fillna(nls97.meanweeksworked17, inplace = True)"
   ]
  },
  {
   "cell_type": "code",
   "execution_count": 44,
   "id": "50e39527-95a2-42ac-9381-e56d2e536ab7",
   "metadata": {},
   "outputs": [
    {
     "data": {
      "text/html": [
       "<div>\n",
       "<style scoped>\n",
       "    .dataframe tbody tr th:only-of-type {\n",
       "        vertical-align: middle;\n",
       "    }\n",
       "\n",
       "    .dataframe tbody tr th {\n",
       "        vertical-align: top;\n",
       "    }\n",
       "\n",
       "    .dataframe thead th {\n",
       "        text-align: right;\n",
       "    }\n",
       "</style>\n",
       "<table border=\"1\" class=\"dataframe\">\n",
       "  <thead>\n",
       "    <tr style=\"text-align: right;\">\n",
       "      <th></th>\n",
       "      <th>highestdegree</th>\n",
       "      <th>weeksworked17</th>\n",
       "      <th>meanweeksworked17</th>\n",
       "    </tr>\n",
       "    <tr>\n",
       "      <th>personid</th>\n",
       "      <th></th>\n",
       "      <th></th>\n",
       "      <th></th>\n",
       "    </tr>\n",
       "  </thead>\n",
       "  <tbody>\n",
       "    <tr>\n",
       "      <th>100061</th>\n",
       "      <td>2. High School</td>\n",
       "      <td>48.000000</td>\n",
       "      <td>38.150469</td>\n",
       "    </tr>\n",
       "    <tr>\n",
       "      <th>100139</th>\n",
       "      <td>2. High School</td>\n",
       "      <td>52.000000</td>\n",
       "      <td>38.150469</td>\n",
       "    </tr>\n",
       "    <tr>\n",
       "      <th>100284</th>\n",
       "      <td>0. None</td>\n",
       "      <td>0.000000</td>\n",
       "      <td>28.719608</td>\n",
       "    </tr>\n",
       "    <tr>\n",
       "      <th>100292</th>\n",
       "      <td>4. Bachelors</td>\n",
       "      <td>43.565574</td>\n",
       "      <td>43.565574</td>\n",
       "    </tr>\n",
       "    <tr>\n",
       "      <th>100583</th>\n",
       "      <td>2. High School</td>\n",
       "      <td>52.000000</td>\n",
       "      <td>38.150469</td>\n",
       "    </tr>\n",
       "  </tbody>\n",
       "</table>\n",
       "</div>"
      ],
      "text/plain": [
       "           highestdegree  weeksworked17  meanweeksworked17\n",
       "personid                                                  \n",
       "100061    2. High School      48.000000          38.150469\n",
       "100139    2. High School      52.000000          38.150469\n",
       "100284           0. None       0.000000          28.719608\n",
       "100292      4. Bachelors      43.565574          43.565574\n",
       "100583    2. High School      52.000000          38.150469"
      ]
     },
     "execution_count": 44,
     "metadata": {},
     "output_type": "execute_result"
    }
   ],
   "source": [
    "nls97[['highestdegree', 'weeksworked17', 'meanweeksworked17']].head()"
   ]
  },
  {
   "cell_type": "code",
   "execution_count": null,
   "id": "c7ac11a8-d017-40bc-b46f-7160c3c9e4ff",
   "metadata": {},
   "outputs": [],
   "source": []
  }
 ],
 "metadata": {
  "kernelspec": {
   "display_name": "Python 3 (ipykernel)",
   "language": "python",
   "name": "python3"
  },
  "language_info": {
   "codemirror_mode": {
    "name": "ipython",
    "version": 3
   },
   "file_extension": ".py",
   "mimetype": "text/x-python",
   "name": "python",
   "nbconvert_exporter": "python",
   "pygments_lexer": "ipython3",
   "version": "3.9.13"
  }
 },
 "nbformat": 4,
 "nbformat_minor": 5
}
