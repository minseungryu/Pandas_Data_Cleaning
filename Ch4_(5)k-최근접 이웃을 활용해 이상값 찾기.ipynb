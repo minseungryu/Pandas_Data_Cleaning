{
 "cells": [
  {
   "cell_type": "markdown",
   "id": "9c4c7030-9dfd-46fd-91e9-df1643f78187",
   "metadata": {},
   "source": [
    "# k-최근접 이웃을 활용해 이상값 찾기\n",
    "## -> k-최근접 이웃을 사용해 속성이 가장 비정상적인 것으로 나타나는 국가를 식별\n",
    "---\n",
    "- 변수간 관계에 대한 어떠한 가정도 없이 이상값을 식별하는 것이 도움이 될 수 있다.\n",
    "- 비지도 머신러닝 도구는 목표(종속)변수가 없는 데이터에서 다른 관측값과 차이가 있는 것을 식별하는 데 도움이 된다.\n",
    "    - 이때, K-최근접 이웃을 활용할 수 있다"
   ]
  },
  {
   "cell_type": "markdown",
   "id": "9e4eb4f5-a059-43f6-83a6-6b1ee5df48d2",
   "metadata": {},
   "source": [
    "### 1. 라이브러리 준비\n",
    "- PyOD(Python Outlier Detection) : 이상값 탐지를 위한 파이썬 패키지\n",
    "    - 이상값을 탐지하는 여러 가지 지도학습/비지도학습 기법을 모은 도구\n",
    "    - https://pyod.readthedocs.io/en/latest/\n",
    "- scikit-learn"
   ]
  },
  {
   "cell_type": "code",
   "execution_count": 5,
   "id": "2eecddee-1772-41db-acda-3fcdeb1ddbc5",
   "metadata": {},
   "outputs": [
    {
     "name": "stdout",
     "output_type": "stream",
     "text": [
      "Collecting pyod\n",
      "  Using cached pyod-1.1.2.tar.gz (160 kB)\n",
      "  Preparing metadata (setup.py) ... \u001b[?25ldone\n",
      "\u001b[?25hRequirement already satisfied: joblib in /Users/angela/opt/anaconda3/lib/python3.9/site-packages (from pyod) (1.1.0)\n",
      "Requirement already satisfied: matplotlib in /Users/angela/opt/anaconda3/lib/python3.9/site-packages (from pyod) (3.5.2)\n",
      "Requirement already satisfied: numpy>=1.19 in /Users/angela/opt/anaconda3/lib/python3.9/site-packages (from pyod) (1.21.5)\n",
      "Requirement already satisfied: numba>=0.51 in /Users/angela/opt/anaconda3/lib/python3.9/site-packages (from pyod) (0.55.1)\n",
      "Requirement already satisfied: scipy>=1.5.1 in /Users/angela/opt/anaconda3/lib/python3.9/site-packages (from pyod) (1.9.1)\n",
      "Requirement already satisfied: scikit_learn>=0.22.0 in /Users/angela/opt/anaconda3/lib/python3.9/site-packages (from pyod) (1.0.2)\n",
      "Requirement already satisfied: six in /Users/angela/opt/anaconda3/lib/python3.9/site-packages (from pyod) (1.16.0)\n",
      "Requirement already satisfied: llvmlite<0.39,>=0.38.0rc1 in /Users/angela/opt/anaconda3/lib/python3.9/site-packages (from numba>=0.51->pyod) (0.38.0)\n",
      "Requirement already satisfied: setuptools in /Users/angela/opt/anaconda3/lib/python3.9/site-packages (from numba>=0.51->pyod) (63.4.1)\n",
      "Requirement already satisfied: threadpoolctl>=2.0.0 in /Users/angela/opt/anaconda3/lib/python3.9/site-packages (from scikit_learn>=0.22.0->pyod) (2.2.0)\n",
      "Requirement already satisfied: pyparsing>=2.2.1 in /Users/angela/opt/anaconda3/lib/python3.9/site-packages (from matplotlib->pyod) (3.0.9)\n",
      "Requirement already satisfied: pillow>=6.2.0 in /Users/angela/opt/anaconda3/lib/python3.9/site-packages (from matplotlib->pyod) (9.2.0)\n",
      "Requirement already satisfied: python-dateutil>=2.7 in /Users/angela/opt/anaconda3/lib/python3.9/site-packages (from matplotlib->pyod) (2.8.2)\n",
      "Requirement already satisfied: cycler>=0.10 in /Users/angela/opt/anaconda3/lib/python3.9/site-packages (from matplotlib->pyod) (0.11.0)\n",
      "Requirement already satisfied: packaging>=20.0 in /Users/angela/opt/anaconda3/lib/python3.9/site-packages (from matplotlib->pyod) (21.3)\n",
      "Requirement already satisfied: fonttools>=4.22.0 in /Users/angela/opt/anaconda3/lib/python3.9/site-packages (from matplotlib->pyod) (4.25.0)\n",
      "Requirement already satisfied: kiwisolver>=1.0.1 in /Users/angela/opt/anaconda3/lib/python3.9/site-packages (from matplotlib->pyod) (1.4.2)\n",
      "Building wheels for collected packages: pyod\n",
      "  Building wheel for pyod (setup.py) ... \u001b[?25ldone\n",
      "\u001b[?25h  Created wheel for pyod: filename=pyod-1.1.2-py3-none-any.whl size=190294 sha256=4c40a6fd0c0ceb6babd9abd9bc6bd287b7fb04419ac6b56812f8e28083e98a16\n",
      "  Stored in directory: /Users/angela/Library/Caches/pip/wheels/74/67/d3/f296e7520af871929a8c60540465a122bd8cfe9c6670827efb\n",
      "Successfully built pyod\n",
      "Installing collected packages: pyod\n",
      "Successfully installed pyod-1.1.2\n",
      "Note: you may need to restart the kernel to use updated packages.\n"
     ]
    }
   ],
   "source": [
    "pip install pyod"
   ]
  },
  {
   "cell_type": "code",
   "execution_count": 6,
   "id": "13f16898-f17b-4f0c-9ab0-d7354a84efa6",
   "metadata": {},
   "outputs": [],
   "source": [
    "import pandas as pd\n",
    "from pyod.models.knn import KNN\n",
    "from sklearn.preprocessing import StandardScaler\n",
    "covidtotals = pd.read_csv('./data/covidtotals.csv')\n",
    "covidtotals.set_index('iso_code', inplace = True)"
   ]
  },
  {
   "cell_type": "code",
   "execution_count": 8,
   "id": "42da5bcd-36bb-41b6-a3eb-defd63f6760e",
   "metadata": {},
   "outputs": [
    {
     "data": {
      "text/plain": [
       "Index(['lastdate', 'location', 'total_cases', 'total_deaths', 'total_cases_pm',\n",
       "       'total_deaths_pm', 'population', 'pop_density', 'median_age',\n",
       "       'gdp_per_capita', 'hosp_beds'],\n",
       "      dtype='object')"
      ]
     },
     "execution_count": 8,
     "metadata": {},
     "output_type": "execute_result"
    }
   ],
   "source": [
    "covidtotals.columns"
   ]
  },
  {
   "cell_type": "markdown",
   "id": "6cb1dcf3-6758-4df4-b8b1-194310c372fb",
   "metadata": {},
   "source": [
    "- 표준화 실행\n",
    "    - 머신러닝 도구 대부분은 제대로 실행되려면 표준화된 데이터가 필요함"
   ]
  },
  {
   "cell_type": "code",
   "execution_count": 11,
   "id": "23d2a158-d0e5-4dca-96c0-dc1af20345b8",
   "metadata": {},
   "outputs": [],
   "source": [
    "standardizer = StandardScaler()\n",
    "analysisvars = ['location', 'total_cases_pm', 'total_deaths_pm', 'pop_density', 'median_age', 'gdp_per_capita']\n",
    "\n",
    "covidanalysis = covidtotals.loc[:, analysisvars].dropna()\n",
    "covidanalysisstand = standardizer.fit_transform(covidanalysis.iloc[:, 1:])"
   ]
  },
  {
   "cell_type": "markdown",
   "id": "db8bb91e-a3cb-486a-83c6-ed9da0620927",
   "metadata": {},
   "source": [
    "### 2. KNN 모델 실행, 이상점수(anomaly score)를 생성\n",
    "    - contamination 매개변수를 0.1로 설정하여, 임의의 개수의 이상값을 생성"
   ]
  },
  {
   "cell_type": "code",
   "execution_count": 12,
   "id": "5506365d-d25d-4d6e-8d56-d1db95d5de64",
   "metadata": {},
   "outputs": [
    {
     "data": {
      "text/plain": [
       "KNN(algorithm='auto', contamination=0.1, leaf_size=30, method='largest',\n",
       "  metric='minkowski', metric_params=None, n_jobs=1, n_neighbors=5, p=2,\n",
       "  radius=1.0)"
      ]
     },
     "execution_count": 12,
     "metadata": {},
     "output_type": "execute_result"
    }
   ],
   "source": [
    "clf_name = 'KNN'\n",
    "clf = KNN(contamination = 0.1)\n",
    "clf.fit(covidanalysisstand)"
   ]
  },
  {
   "cell_type": "code",
   "execution_count": 13,
   "id": "bc463f3a-8bd7-4b1e-98c0-87ab28ad809f",
   "metadata": {},
   "outputs": [],
   "source": [
    "y_pred = clf.labels_"
   ]
  },
  {
   "cell_type": "code",
   "execution_count": 14,
   "id": "73a53e89-8cbc-4830-b13f-e60adbdb01c9",
   "metadata": {},
   "outputs": [],
   "source": [
    "y_scores = clf.decision_scores_"
   ]
  },
  {
   "cell_type": "markdown",
   "id": "ac6a67d5-1a49-47a0-a0c5-ea84f33f3a36",
   "metadata": {},
   "source": [
    "- 모델 예측 정리 \n",
    "    - 정상값(Outlier = 0), 이상값(outlier = 1)"
   ]
  },
  {
   "cell_type": "code",
   "execution_count": 19,
   "id": "67caebf9-9998-4573-a1ac-c3ae0059ac1a",
   "metadata": {},
   "outputs": [
    {
     "data": {
      "text/html": [
       "<div>\n",
       "<style scoped>\n",
       "    .dataframe tbody tr th:only-of-type {\n",
       "        vertical-align: middle;\n",
       "    }\n",
       "\n",
       "    .dataframe tbody tr th {\n",
       "        vertical-align: top;\n",
       "    }\n",
       "\n",
       "    .dataframe thead th {\n",
       "        text-align: right;\n",
       "    }\n",
       "</style>\n",
       "<table border=\"1\" class=\"dataframe\">\n",
       "  <thead>\n",
       "    <tr style=\"text-align: right;\">\n",
       "      <th></th>\n",
       "      <th>outlier</th>\n",
       "      <th>scores</th>\n",
       "    </tr>\n",
       "    <tr>\n",
       "      <th>iso_code</th>\n",
       "      <th></th>\n",
       "      <th></th>\n",
       "    </tr>\n",
       "  </thead>\n",
       "  <tbody>\n",
       "    <tr>\n",
       "      <th>AFG</th>\n",
       "      <td>0</td>\n",
       "      <td>0.163522</td>\n",
       "    </tr>\n",
       "    <tr>\n",
       "      <th>ALB</th>\n",
       "      <td>0</td>\n",
       "      <td>0.435589</td>\n",
       "    </tr>\n",
       "    <tr>\n",
       "      <th>DZA</th>\n",
       "      <td>0</td>\n",
       "      <td>0.263764</td>\n",
       "    </tr>\n",
       "    <tr>\n",
       "      <th>AGO</th>\n",
       "      <td>0</td>\n",
       "      <td>0.212935</td>\n",
       "    </tr>\n",
       "    <tr>\n",
       "      <th>ATG</th>\n",
       "      <td>0</td>\n",
       "      <td>0.502185</td>\n",
       "    </tr>\n",
       "  </tbody>\n",
       "</table>\n",
       "</div>"
      ],
      "text/plain": [
       "          outlier    scores\n",
       "iso_code                   \n",
       "AFG             0  0.163522\n",
       "ALB             0  0.435589\n",
       "DZA             0  0.263764\n",
       "AGO             0  0.212935\n",
       "ATG             0  0.502185"
      ]
     },
     "execution_count": 19,
     "metadata": {},
     "output_type": "execute_result"
    }
   ],
   "source": [
    "pred = pd.DataFrame(zip(y_pred, y_scores), columns = ['outlier', 'scores'], index = covidanalysis.index)\n",
    "pred.head()"
   ]
  },
  {
   "cell_type": "code",
   "execution_count": 20,
   "id": "8eb8fbe9-58cd-46de-806b-aefe1003262d",
   "metadata": {},
   "outputs": [
    {
     "data": {
      "text/html": [
       "<div>\n",
       "<style scoped>\n",
       "    .dataframe tbody tr th:only-of-type {\n",
       "        vertical-align: middle;\n",
       "    }\n",
       "\n",
       "    .dataframe tbody tr th {\n",
       "        vertical-align: top;\n",
       "    }\n",
       "\n",
       "    .dataframe thead tr th {\n",
       "        text-align: left;\n",
       "    }\n",
       "\n",
       "    .dataframe thead tr:last-of-type th {\n",
       "        text-align: right;\n",
       "    }\n",
       "</style>\n",
       "<table border=\"1\" class=\"dataframe\">\n",
       "  <thead>\n",
       "    <tr>\n",
       "      <th></th>\n",
       "      <th colspan=\"3\" halign=\"left\">scores</th>\n",
       "    </tr>\n",
       "    <tr>\n",
       "      <th></th>\n",
       "      <th>min</th>\n",
       "      <th>median</th>\n",
       "      <th>max</th>\n",
       "    </tr>\n",
       "    <tr>\n",
       "      <th>outlier</th>\n",
       "      <th></th>\n",
       "      <th></th>\n",
       "      <th></th>\n",
       "    </tr>\n",
       "  </thead>\n",
       "  <tbody>\n",
       "    <tr>\n",
       "      <th>0</th>\n",
       "      <td>0.099520</td>\n",
       "      <td>0.375671</td>\n",
       "      <td>1.526514</td>\n",
       "    </tr>\n",
       "    <tr>\n",
       "      <th>1</th>\n",
       "      <td>1.551284</td>\n",
       "      <td>2.100912</td>\n",
       "      <td>11.976713</td>\n",
       "    </tr>\n",
       "  </tbody>\n",
       "</table>\n",
       "</div>"
      ],
      "text/plain": [
       "           scores                     \n",
       "              min    median        max\n",
       "outlier                               \n",
       "0        0.099520  0.375671   1.526514\n",
       "1        1.551284  2.100912  11.976713"
      ]
     },
     "execution_count": 20,
     "metadata": {},
     "output_type": "execute_result"
    }
   ],
   "source": [
    "pred.groupby(['outlier'])[['scores']].agg(['min', 'median', 'max'])"
   ]
  },
  {
   "cell_type": "markdown",
   "id": "d192467b-b86f-4dfd-82ae-27db1bf90b3a",
   "metadata": {},
   "source": [
    "- 이상값에 대한 데이터 표시"
   ]
  },
  {
   "cell_type": "code",
   "execution_count": 23,
   "id": "ad4483c2-1090-4359-94b9-f7c4121e3fd1",
   "metadata": {},
   "outputs": [
    {
     "data": {
      "text/html": [
       "<div>\n",
       "<style scoped>\n",
       "    .dataframe tbody tr th:only-of-type {\n",
       "        vertical-align: middle;\n",
       "    }\n",
       "\n",
       "    .dataframe tbody tr th {\n",
       "        vertical-align: top;\n",
       "    }\n",
       "\n",
       "    .dataframe thead th {\n",
       "        text-align: right;\n",
       "    }\n",
       "</style>\n",
       "<table border=\"1\" class=\"dataframe\">\n",
       "  <thead>\n",
       "    <tr style=\"text-align: right;\">\n",
       "      <th></th>\n",
       "      <th>location</th>\n",
       "      <th>total_cases_pm</th>\n",
       "      <th>total_deaths_pm</th>\n",
       "      <th>scores</th>\n",
       "    </tr>\n",
       "    <tr>\n",
       "      <th>iso_code</th>\n",
       "      <th></th>\n",
       "      <th></th>\n",
       "      <th></th>\n",
       "      <th></th>\n",
       "    </tr>\n",
       "  </thead>\n",
       "  <tbody>\n",
       "    <tr>\n",
       "      <th>SGP</th>\n",
       "      <td>Singapore</td>\n",
       "      <td>5962.727</td>\n",
       "      <td>3.931</td>\n",
       "      <td>11.976713</td>\n",
       "    </tr>\n",
       "    <tr>\n",
       "      <th>QAT</th>\n",
       "      <td>Qatar</td>\n",
       "      <td>19753.146</td>\n",
       "      <td>13.190</td>\n",
       "      <td>7.994635</td>\n",
       "    </tr>\n",
       "    <tr>\n",
       "      <th>BEL</th>\n",
       "      <td>Belgium</td>\n",
       "      <td>5037.354</td>\n",
       "      <td>816.852</td>\n",
       "      <td>3.545274</td>\n",
       "    </tr>\n",
       "    <tr>\n",
       "      <th>BHR</th>\n",
       "      <td>Bahrain</td>\n",
       "      <td>6698.468</td>\n",
       "      <td>11.166</td>\n",
       "      <td>3.284420</td>\n",
       "    </tr>\n",
       "    <tr>\n",
       "      <th>LUX</th>\n",
       "      <td>Luxembourg</td>\n",
       "      <td>6418.776</td>\n",
       "      <td>175.726</td>\n",
       "      <td>2.461565</td>\n",
       "    </tr>\n",
       "    <tr>\n",
       "      <th>ESP</th>\n",
       "      <td>Spain</td>\n",
       "      <td>5120.952</td>\n",
       "      <td>580.197</td>\n",
       "      <td>2.190121</td>\n",
       "    </tr>\n",
       "    <tr>\n",
       "      <th>KWT</th>\n",
       "      <td>Kuwait</td>\n",
       "      <td>6332.420</td>\n",
       "      <td>49.642</td>\n",
       "      <td>2.126949</td>\n",
       "    </tr>\n",
       "    <tr>\n",
       "      <th>GBR</th>\n",
       "      <td>United Kingdom</td>\n",
       "      <td>4047.403</td>\n",
       "      <td>566.965</td>\n",
       "      <td>2.112294</td>\n",
       "    </tr>\n",
       "    <tr>\n",
       "      <th>ITA</th>\n",
       "      <td>Italy</td>\n",
       "      <td>3853.985</td>\n",
       "      <td>552.663</td>\n",
       "      <td>2.107751</td>\n",
       "    </tr>\n",
       "    <tr>\n",
       "      <th>MDV</th>\n",
       "      <td>Maldives</td>\n",
       "      <td>3280.041</td>\n",
       "      <td>9.250</td>\n",
       "      <td>2.094073</td>\n",
       "    </tr>\n",
       "    <tr>\n",
       "      <th>IRL</th>\n",
       "      <td>Ireland</td>\n",
       "      <td>5060.962</td>\n",
       "      <td>334.562</td>\n",
       "      <td>2.079040</td>\n",
       "    </tr>\n",
       "    <tr>\n",
       "      <th>BRN</th>\n",
       "      <td>Brunei</td>\n",
       "      <td>322.298</td>\n",
       "      <td>4.572</td>\n",
       "      <td>1.935614</td>\n",
       "    </tr>\n",
       "    <tr>\n",
       "      <th>USA</th>\n",
       "      <td>United States</td>\n",
       "      <td>5408.389</td>\n",
       "      <td>315.354</td>\n",
       "      <td>1.888101</td>\n",
       "    </tr>\n",
       "    <tr>\n",
       "      <th>FRA</th>\n",
       "      <td>France</td>\n",
       "      <td>2324.879</td>\n",
       "      <td>441.251</td>\n",
       "      <td>1.854416</td>\n",
       "    </tr>\n",
       "    <tr>\n",
       "      <th>MLT</th>\n",
       "      <td>Malta</td>\n",
       "      <td>1395.120</td>\n",
       "      <td>15.854</td>\n",
       "      <td>1.770337</td>\n",
       "    </tr>\n",
       "    <tr>\n",
       "      <th>NLD</th>\n",
       "      <td>Netherlands</td>\n",
       "      <td>2710.379</td>\n",
       "      <td>347.595</td>\n",
       "      <td>1.629833</td>\n",
       "    </tr>\n",
       "    <tr>\n",
       "      <th>ISL</th>\n",
       "      <td>Iceland</td>\n",
       "      <td>5292.308</td>\n",
       "      <td>29.304</td>\n",
       "      <td>1.588658</td>\n",
       "    </tr>\n",
       "    <tr>\n",
       "      <th>ARE</th>\n",
       "      <td>United Arab Emirates</td>\n",
       "      <td>3493.994</td>\n",
       "      <td>26.693</td>\n",
       "      <td>1.551284</td>\n",
       "    </tr>\n",
       "  </tbody>\n",
       "</table>\n",
       "</div>"
      ],
      "text/plain": [
       "                      location  total_cases_pm  total_deaths_pm     scores\n",
       "iso_code                                                                  \n",
       "SGP                  Singapore        5962.727            3.931  11.976713\n",
       "QAT                      Qatar       19753.146           13.190   7.994635\n",
       "BEL                    Belgium        5037.354          816.852   3.545274\n",
       "BHR                    Bahrain        6698.468           11.166   3.284420\n",
       "LUX                 Luxembourg        6418.776          175.726   2.461565\n",
       "ESP                      Spain        5120.952          580.197   2.190121\n",
       "KWT                     Kuwait        6332.420           49.642   2.126949\n",
       "GBR             United Kingdom        4047.403          566.965   2.112294\n",
       "ITA                      Italy        3853.985          552.663   2.107751\n",
       "MDV                   Maldives        3280.041            9.250   2.094073\n",
       "IRL                    Ireland        5060.962          334.562   2.079040\n",
       "BRN                     Brunei         322.298            4.572   1.935614\n",
       "USA              United States        5408.389          315.354   1.888101\n",
       "FRA                     France        2324.879          441.251   1.854416\n",
       "MLT                      Malta        1395.120           15.854   1.770337\n",
       "NLD                Netherlands        2710.379          347.595   1.629833\n",
       "ISL                    Iceland        5292.308           29.304   1.588658\n",
       "ARE       United Arab Emirates        3493.994           26.693   1.551284"
      ]
     },
     "execution_count": 23,
     "metadata": {},
     "output_type": "execute_result"
    }
   ],
   "source": [
    "covidanalysis.join(pred).\\\n",
    "    loc[pred.outlier == 1, ['location', 'total_cases_pm', 'total_deaths_pm', 'scores']].sort_values(['scores'], ascending = False)"
   ]
  },
  {
   "cell_type": "code",
   "execution_count": null,
   "id": "b542010b-1147-4d8b-bd31-d729fc9e827a",
   "metadata": {},
   "outputs": [],
   "source": []
  }
 ],
 "metadata": {
  "kernelspec": {
   "display_name": "Python 3 (ipykernel)",
   "language": "python",
   "name": "python3"
  },
  "language_info": {
   "codemirror_mode": {
    "name": "ipython",
    "version": 3
   },
   "file_extension": ".py",
   "mimetype": "text/x-python",
   "name": "python",
   "nbconvert_exporter": "python",
   "pygments_lexer": "ipython3",
   "version": "3.9.13"
  }
 },
 "nbformat": 4,
 "nbformat_minor": 5
}
