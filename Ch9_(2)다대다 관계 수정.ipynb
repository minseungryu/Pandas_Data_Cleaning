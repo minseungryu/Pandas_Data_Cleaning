{
 "cells": [
  {
   "cell_type": "markdown",
   "id": "ec9377be-4546-4e48-a8dc-4837837024f7",
   "metadata": {},
   "source": [
    "# 다대다 관계 수정하기\n",
    "- 데이터 : 클리블랜드 미술관 소장품(작가 파일과 매체인용 파일)\n",
    "    - 작가 데이터 : 소장품에 대한 작가 정보\n",
    "    - 인용 데이터 : 소장품 별 인용정보 (소장품에 대해 여러 개의 인용행)\n",
    "---\n",
    "- 👉 한 개의 데이터셋으로부터 소장품, 인용, 작가 데이터셋을 만든다. 소장품은 인용과 작가와 일대다 관계를 갖는다."
   ]
  },
  {
   "cell_type": "code",
   "execution_count": 2,
   "id": "4cea20ea-74ae-4d89-bc51-8a55f83ce6b1",
   "metadata": {},
   "outputs": [],
   "source": [
    "import pandas as pd\n",
    "cma = pd.read_csv('data/cmacollections.csv')"
   ]
  },
  {
   "cell_type": "code",
   "execution_count": 3,
   "id": "b8a7ef9f-5c3a-477a-bda4-2745eb5a46a5",
   "metadata": {},
   "outputs": [
    {
     "data": {
      "text/plain": [
       "(12326, 9)"
      ]
     },
     "execution_count": 3,
     "metadata": {},
     "output_type": "execute_result"
    }
   ],
   "source": [
    "cma.shape"
   ]
  },
  {
   "cell_type": "code",
   "execution_count": 5,
   "id": "1d3ed0c5-73f9-4d49-990b-d19c3532fbb3",
   "metadata": {},
   "outputs": [
    {
     "data": {
      "text/html": [
       "<div>\n",
       "<style scoped>\n",
       "    .dataframe tbody tr th:only-of-type {\n",
       "        vertical-align: middle;\n",
       "    }\n",
       "\n",
       "    .dataframe tbody tr th {\n",
       "        vertical-align: top;\n",
       "    }\n",
       "\n",
       "    .dataframe thead th {\n",
       "        text-align: right;\n",
       "    }\n",
       "</style>\n",
       "<table border=\"1\" class=\"dataframe\">\n",
       "  <thead>\n",
       "    <tr style=\"text-align: right;\">\n",
       "      <th></th>\n",
       "      <th>0</th>\n",
       "      <th>1</th>\n",
       "    </tr>\n",
       "  </thead>\n",
       "  <tbody>\n",
       "    <tr>\n",
       "      <th>id</th>\n",
       "      <td>92937</td>\n",
       "      <td>92937</td>\n",
       "    </tr>\n",
       "    <tr>\n",
       "      <th>citation</th>\n",
       "      <td>Milliken, William</td>\n",
       "      <td>Glasier, Jessie C.</td>\n",
       "    </tr>\n",
       "    <tr>\n",
       "      <th>creator</th>\n",
       "      <td>George Bellows (Am</td>\n",
       "      <td>George Bellows (Am</td>\n",
       "    </tr>\n",
       "    <tr>\n",
       "      <th>title</th>\n",
       "      <td>Stag at Sharkey's</td>\n",
       "      <td>Stag at Sharkey's</td>\n",
       "    </tr>\n",
       "    <tr>\n",
       "      <th>birth_year</th>\n",
       "      <td>1882</td>\n",
       "      <td>1882</td>\n",
       "    </tr>\n",
       "    <tr>\n",
       "      <th>death_year</th>\n",
       "      <td>1925</td>\n",
       "      <td>1925</td>\n",
       "    </tr>\n",
       "    <tr>\n",
       "      <th>collection</th>\n",
       "      <td>American - Painting</td>\n",
       "      <td>American - Painting</td>\n",
       "    </tr>\n",
       "    <tr>\n",
       "      <th>type</th>\n",
       "      <td>Painting</td>\n",
       "      <td>Painting</td>\n",
       "    </tr>\n",
       "    <tr>\n",
       "      <th>creation_date</th>\n",
       "      <td>1909</td>\n",
       "      <td>1909</td>\n",
       "    </tr>\n",
       "  </tbody>\n",
       "</table>\n",
       "</div>"
      ],
      "text/plain": [
       "                                 0                    1\n",
       "id                           92937                92937\n",
       "citation        Milliken, William    Glasier, Jessie C.\n",
       "creator         George Bellows (Am   George Bellows (Am\n",
       "title            Stag at Sharkey's    Stag at Sharkey's\n",
       "birth_year                    1882                 1882\n",
       "death_year                    1925                 1925\n",
       "collection     American - Painting  American - Painting\n",
       "type                      Painting             Painting\n",
       "creation_date                 1909                 1909"
      ]
     },
     "execution_count": 5,
     "metadata": {},
     "output_type": "execute_result"
    }
   ],
   "source": [
    "cma.head(2).T"
   ]
  },
  {
   "cell_type": "markdown",
   "id": "c722ae2b-ad4a-4c43-b149-0c56f3bd0861",
   "metadata": {},
   "source": [
    "### 중복된 인용 및 작성자가 있는 소장품 확인"
   ]
  },
  {
   "cell_type": "code",
   "execution_count": 6,
   "id": "eed673c3-1266-41c0-963f-a619b46840da",
   "metadata": {},
   "outputs": [],
   "source": [
    "cma.set_index(['id'], inplace=True)"
   ]
  },
  {
   "cell_type": "code",
   "execution_count": 7,
   "id": "96755a5d-0252-4683-a2ba-74ed4aec0e29",
   "metadata": {},
   "outputs": [
    {
     "data": {
      "text/html": [
       "<div>\n",
       "<style scoped>\n",
       "    .dataframe tbody tr th:only-of-type {\n",
       "        vertical-align: middle;\n",
       "    }\n",
       "\n",
       "    .dataframe tbody tr th {\n",
       "        vertical-align: top;\n",
       "    }\n",
       "\n",
       "    .dataframe thead th {\n",
       "        text-align: right;\n",
       "    }\n",
       "</style>\n",
       "<table border=\"1\" class=\"dataframe\">\n",
       "  <thead>\n",
       "    <tr style=\"text-align: right;\">\n",
       "      <th></th>\n",
       "      <th>title</th>\n",
       "      <th>citation</th>\n",
       "      <th>creator</th>\n",
       "      <th>birth_year</th>\n",
       "    </tr>\n",
       "    <tr>\n",
       "      <th>id</th>\n",
       "      <th></th>\n",
       "      <th></th>\n",
       "      <th></th>\n",
       "      <th></th>\n",
       "    </tr>\n",
       "  </thead>\n",
       "  <tbody>\n",
       "    <tr>\n",
       "      <th>124733</th>\n",
       "      <td>Dead Blue Roller</td>\n",
       "      <td>Weigel, J. A. G. &lt;</td>\n",
       "      <td>Albrecht Dürer (Ge</td>\n",
       "      <td>1471</td>\n",
       "    </tr>\n",
       "    <tr>\n",
       "      <th>124733</th>\n",
       "      <td>Dead Blue Roller</td>\n",
       "      <td>Weigel, J. A. G. &lt;</td>\n",
       "      <td>Hans Hoffmann (Ger</td>\n",
       "      <td>1545/50</td>\n",
       "    </tr>\n",
       "    <tr>\n",
       "      <th>124733</th>\n",
       "      <td>Dead Blue Roller</td>\n",
       "      <td>Winkler, Friedrich</td>\n",
       "      <td>Albrecht Dürer (Ge</td>\n",
       "      <td>1471</td>\n",
       "    </tr>\n",
       "    <tr>\n",
       "      <th>124733</th>\n",
       "      <td>Dead Blue Roller</td>\n",
       "      <td>Winkler, Friedrich</td>\n",
       "      <td>Hans Hoffmann (Ger</td>\n",
       "      <td>1545/50</td>\n",
       "    </tr>\n",
       "    <tr>\n",
       "      <th>124733</th>\n",
       "      <td>Dead Blue Roller</td>\n",
       "      <td>Francis, Henry S.</td>\n",
       "      <td>Albrecht Dürer (Ge</td>\n",
       "      <td>1471</td>\n",
       "    </tr>\n",
       "    <tr>\n",
       "      <th>124733</th>\n",
       "      <td>Dead Blue Roller</td>\n",
       "      <td>Francis, Henry S.</td>\n",
       "      <td>Hans Hoffmann (Ger</td>\n",
       "      <td>1545/50</td>\n",
       "    </tr>\n",
       "    <tr>\n",
       "      <th>124733</th>\n",
       "      <td>Dead Blue Roller</td>\n",
       "      <td>Kurz, Otto. &lt;em&gt;Fa</td>\n",
       "      <td>Albrecht Dürer (Ge</td>\n",
       "      <td>1471</td>\n",
       "    </tr>\n",
       "    <tr>\n",
       "      <th>124733</th>\n",
       "      <td>Dead Blue Roller</td>\n",
       "      <td>Kurz, Otto. &lt;em&gt;Fa</td>\n",
       "      <td>Hans Hoffmann (Ger</td>\n",
       "      <td>1545/50</td>\n",
       "    </tr>\n",
       "    <tr>\n",
       "      <th>124733</th>\n",
       "      <td>Dead Blue Roller</td>\n",
       "      <td>Minneapolis Instit</td>\n",
       "      <td>Albrecht Dürer (Ge</td>\n",
       "      <td>1471</td>\n",
       "    </tr>\n",
       "    <tr>\n",
       "      <th>124733</th>\n",
       "      <td>Dead Blue Roller</td>\n",
       "      <td>Minneapolis Instit</td>\n",
       "      <td>Hans Hoffmann (Ger</td>\n",
       "      <td>1545/50</td>\n",
       "    </tr>\n",
       "    <tr>\n",
       "      <th>124733</th>\n",
       "      <td>Dead Blue Roller</td>\n",
       "      <td>Pilz, Kurt. \"Hans</td>\n",
       "      <td>Albrecht Dürer (Ge</td>\n",
       "      <td>1471</td>\n",
       "    </tr>\n",
       "    <tr>\n",
       "      <th>124733</th>\n",
       "      <td>Dead Blue Roller</td>\n",
       "      <td>Pilz, Kurt. \"Hans</td>\n",
       "      <td>Hans Hoffmann (Ger</td>\n",
       "      <td>1545/50</td>\n",
       "    </tr>\n",
       "    <tr>\n",
       "      <th>124733</th>\n",
       "      <td>Dead Blue Roller</td>\n",
       "      <td>Koschatzky, Walter</td>\n",
       "      <td>Albrecht Dürer (Ge</td>\n",
       "      <td>1471</td>\n",
       "    </tr>\n",
       "    <tr>\n",
       "      <th>124733</th>\n",
       "      <td>Dead Blue Roller</td>\n",
       "      <td>Koschatzky, Walter</td>\n",
       "      <td>Hans Hoffmann (Ger</td>\n",
       "      <td>1545/50</td>\n",
       "    </tr>\n",
       "  </tbody>\n",
       "</table>\n",
       "</div>"
      ],
      "text/plain": [
       "                   title            citation             creator birth_year\n",
       "id                                                                         \n",
       "124733  Dead Blue Roller  Weigel, J. A. G. <  Albrecht Dürer (Ge       1471\n",
       "124733  Dead Blue Roller  Weigel, J. A. G. <  Hans Hoffmann (Ger    1545/50\n",
       "124733  Dead Blue Roller  Winkler, Friedrich  Albrecht Dürer (Ge       1471\n",
       "124733  Dead Blue Roller  Winkler, Friedrich  Hans Hoffmann (Ger    1545/50\n",
       "124733  Dead Blue Roller  Francis, Henry S.   Albrecht Dürer (Ge       1471\n",
       "124733  Dead Blue Roller  Francis, Henry S.   Hans Hoffmann (Ger    1545/50\n",
       "124733  Dead Blue Roller  Kurz, Otto. <em>Fa  Albrecht Dürer (Ge       1471\n",
       "124733  Dead Blue Roller  Kurz, Otto. <em>Fa  Hans Hoffmann (Ger    1545/50\n",
       "124733  Dead Blue Roller  Minneapolis Instit  Albrecht Dürer (Ge       1471\n",
       "124733  Dead Blue Roller  Minneapolis Instit  Hans Hoffmann (Ger    1545/50\n",
       "124733  Dead Blue Roller  Pilz, Kurt. \"Hans   Albrecht Dürer (Ge       1471\n",
       "124733  Dead Blue Roller  Pilz, Kurt. \"Hans   Hans Hoffmann (Ger    1545/50\n",
       "124733  Dead Blue Roller  Koschatzky, Walter  Albrecht Dürer (Ge       1471\n",
       "124733  Dead Blue Roller  Koschatzky, Walter  Hans Hoffmann (Ger    1545/50"
      ]
     },
     "execution_count": 7,
     "metadata": {},
     "output_type": "execute_result"
    }
   ],
   "source": [
    "cma.loc[124733, ['title', 'citation', 'creator', 'birth_year']].head(14)"
   ]
  },
  {
   "cell_type": "markdown",
   "id": "338ea113-1cba-43e0-84ce-4cc5e379fcd7",
   "metadata": {},
   "source": [
    "### 소장품 데이터프레임 생성"
   ]
  },
  {
   "cell_type": "code",
   "execution_count": 8,
   "id": "6b5c75b5-0562-48d5-bed3-9e6d4b0e49a8",
   "metadata": {},
   "outputs": [],
   "source": [
    "collectionsvar = ['title', 'collection', 'type']"
   ]
  },
  {
   "cell_type": "code",
   "execution_count": 13,
   "id": "ac60c22b-c569-4881-b810-cb3a832adb1e",
   "metadata": {},
   "outputs": [],
   "source": [
    "cmacollections = cma[collectionsvar].reset_index().drop_duplicates(['id']).set_index(['id'])"
   ]
  },
  {
   "cell_type": "code",
   "execution_count": 14,
   "id": "2bff9c72-ba1f-449e-ab55-d145894d412d",
   "metadata": {},
   "outputs": [
    {
     "data": {
      "text/plain": [
       "(972, 3)"
      ]
     },
     "execution_count": 14,
     "metadata": {},
     "output_type": "execute_result"
    }
   ],
   "source": [
    "cmacollections.shape"
   ]
  },
  {
   "cell_type": "code",
   "execution_count": 15,
   "id": "92f5c37f-44db-4e8f-9280-b1c16617a1a8",
   "metadata": {},
   "outputs": [
    {
     "data": {
      "text/html": [
       "<div>\n",
       "<style scoped>\n",
       "    .dataframe tbody tr th:only-of-type {\n",
       "        vertical-align: middle;\n",
       "    }\n",
       "\n",
       "    .dataframe tbody tr th {\n",
       "        vertical-align: top;\n",
       "    }\n",
       "\n",
       "    .dataframe thead th {\n",
       "        text-align: right;\n",
       "    }\n",
       "</style>\n",
       "<table border=\"1\" class=\"dataframe\">\n",
       "  <thead>\n",
       "    <tr style=\"text-align: right;\">\n",
       "      <th></th>\n",
       "      <th>title</th>\n",
       "      <th>collection</th>\n",
       "      <th>type</th>\n",
       "    </tr>\n",
       "    <tr>\n",
       "      <th>id</th>\n",
       "      <th></th>\n",
       "      <th></th>\n",
       "      <th></th>\n",
       "    </tr>\n",
       "  </thead>\n",
       "  <tbody>\n",
       "    <tr>\n",
       "      <th>92937</th>\n",
       "      <td>Stag at Sharkey's</td>\n",
       "      <td>American - Painting</td>\n",
       "      <td>Painting</td>\n",
       "    </tr>\n",
       "    <tr>\n",
       "      <th>94979</th>\n",
       "      <td>Nathaniel Hurd</td>\n",
       "      <td>American - Painting</td>\n",
       "      <td>Painting</td>\n",
       "    </tr>\n",
       "    <tr>\n",
       "      <th>137259</th>\n",
       "      <td>Mme L... (Laure Borreau)</td>\n",
       "      <td>Mod Euro - Painting</td>\n",
       "      <td>Painting</td>\n",
       "    </tr>\n",
       "    <tr>\n",
       "      <th>141639</th>\n",
       "      <td>Twilight in the Wilderness</td>\n",
       "      <td>American - Painting</td>\n",
       "      <td>Painting</td>\n",
       "    </tr>\n",
       "    <tr>\n",
       "      <th>93014</th>\n",
       "      <td>View of Schroon Mountain, Esse</td>\n",
       "      <td>American - Painting</td>\n",
       "      <td>Painting</td>\n",
       "    </tr>\n",
       "  </tbody>\n",
       "</table>\n",
       "</div>"
      ],
      "text/plain": [
       "                                 title            collection      type\n",
       "id                                                                    \n",
       "92937                Stag at Sharkey's   American - Painting  Painting\n",
       "94979                   Nathaniel Hurd   American - Painting  Painting\n",
       "137259        Mme L... (Laure Borreau)  Mod Euro - Painting   Painting\n",
       "141639      Twilight in the Wilderness   American - Painting  Painting\n",
       "93014   View of Schroon Mountain, Esse   American - Painting  Painting"
      ]
     },
     "execution_count": 15,
     "metadata": {},
     "output_type": "execute_result"
    }
   ],
   "source": [
    "cmacollections.head()"
   ]
  },
  {
   "cell_type": "markdown",
   "id": "d8e2390f-44e5-4938-9821-000272b0645c",
   "metadata": {},
   "source": [
    "### 인용 데이터프레임 생성\n",
    "- 주의 id가 인덱스이므로 Reset index 후에 중복제거해야함"
   ]
  },
  {
   "cell_type": "code",
   "execution_count": 16,
   "id": "53b66bcf-fab3-442f-8d81-f961e53abdca",
   "metadata": {},
   "outputs": [],
   "source": [
    "cmacitations = cma[['citation']].reset_index().drop_duplicates(['id', 'citation']).set_index(['id'])"
   ]
  },
  {
   "cell_type": "code",
   "execution_count": 42,
   "id": "ccaef738-1a9f-44f4-9ca7-ce758dd13f9d",
   "metadata": {},
   "outputs": [
    {
     "data": {
      "text/plain": [
       "(9758, 1)"
      ]
     },
     "execution_count": 42,
     "metadata": {},
     "output_type": "execute_result"
    }
   ],
   "source": [
    "cmacitations.shape"
   ]
  },
  {
   "cell_type": "code",
   "execution_count": 17,
   "id": "e49aa581-f659-428e-bf98-65ebf8335173",
   "metadata": {},
   "outputs": [
    {
     "data": {
      "text/html": [
       "<div>\n",
       "<style scoped>\n",
       "    .dataframe tbody tr th:only-of-type {\n",
       "        vertical-align: middle;\n",
       "    }\n",
       "\n",
       "    .dataframe tbody tr th {\n",
       "        vertical-align: top;\n",
       "    }\n",
       "\n",
       "    .dataframe thead th {\n",
       "        text-align: right;\n",
       "    }\n",
       "</style>\n",
       "<table border=\"1\" class=\"dataframe\">\n",
       "  <thead>\n",
       "    <tr style=\"text-align: right;\">\n",
       "      <th></th>\n",
       "      <th>citation</th>\n",
       "    </tr>\n",
       "    <tr>\n",
       "      <th>id</th>\n",
       "      <th></th>\n",
       "    </tr>\n",
       "  </thead>\n",
       "  <tbody>\n",
       "    <tr>\n",
       "      <th>124733</th>\n",
       "      <td>Weigel, J. A. G. &lt;</td>\n",
       "    </tr>\n",
       "    <tr>\n",
       "      <th>124733</th>\n",
       "      <td>Winkler, Friedrich</td>\n",
       "    </tr>\n",
       "    <tr>\n",
       "      <th>124733</th>\n",
       "      <td>Francis, Henry S.</td>\n",
       "    </tr>\n",
       "    <tr>\n",
       "      <th>124733</th>\n",
       "      <td>Kurz, Otto. &lt;em&gt;Fa</td>\n",
       "    </tr>\n",
       "    <tr>\n",
       "      <th>124733</th>\n",
       "      <td>Minneapolis Instit</td>\n",
       "    </tr>\n",
       "    <tr>\n",
       "      <th>124733</th>\n",
       "      <td>Pilz, Kurt. \"Hans</td>\n",
       "    </tr>\n",
       "    <tr>\n",
       "      <th>124733</th>\n",
       "      <td>Koschatzky, Walter</td>\n",
       "    </tr>\n",
       "    <tr>\n",
       "      <th>124733</th>\n",
       "      <td>Johnson, Mark M&lt;em</td>\n",
       "    </tr>\n",
       "    <tr>\n",
       "      <th>124733</th>\n",
       "      <td>Kaufmann, Thomas D</td>\n",
       "    </tr>\n",
       "    <tr>\n",
       "      <th>124733</th>\n",
       "      <td>Koreny, Fritz. &lt;em</td>\n",
       "    </tr>\n",
       "    <tr>\n",
       "      <th>124733</th>\n",
       "      <td>Achilles-Syndram,</td>\n",
       "    </tr>\n",
       "    <tr>\n",
       "      <th>124733</th>\n",
       "      <td>Schoch, Rainer, Ka</td>\n",
       "    </tr>\n",
       "    <tr>\n",
       "      <th>124733</th>\n",
       "      <td>DeGrazia, Diane an</td>\n",
       "    </tr>\n",
       "    <tr>\n",
       "      <th>124733</th>\n",
       "      <td>Dunbar, Burton L.,</td>\n",
       "    </tr>\n",
       "  </tbody>\n",
       "</table>\n",
       "</div>"
      ],
      "text/plain": [
       "                  citation\n",
       "id                        \n",
       "124733  Weigel, J. A. G. <\n",
       "124733  Winkler, Friedrich\n",
       "124733  Francis, Henry S. \n",
       "124733  Kurz, Otto. <em>Fa\n",
       "124733  Minneapolis Instit\n",
       "124733  Pilz, Kurt. \"Hans \n",
       "124733  Koschatzky, Walter\n",
       "124733  Johnson, Mark M<em\n",
       "124733  Kaufmann, Thomas D\n",
       "124733  Koreny, Fritz. <em\n",
       "124733  Achilles-Syndram, \n",
       "124733  Schoch, Rainer, Ka\n",
       "124733  DeGrazia, Diane an\n",
       "124733  Dunbar, Burton L.,"
      ]
     },
     "execution_count": 17,
     "metadata": {},
     "output_type": "execute_result"
    }
   ],
   "source": [
    "cmacitations.loc[124733]"
   ]
  },
  {
   "cell_type": "markdown",
   "id": "a0173151-bc9d-47c3-84b0-54d743adb717",
   "metadata": {},
   "source": [
    "### 작가 데이터프레임 생성"
   ]
  },
  {
   "cell_type": "code",
   "execution_count": 18,
   "id": "18ffe5b0-11f7-4603-8fa7-8d07d2355c7e",
   "metadata": {},
   "outputs": [],
   "source": [
    "creatorsvars = ['creator', 'birth_year', 'death_year']"
   ]
  },
  {
   "cell_type": "code",
   "execution_count": 19,
   "id": "ebc66282-ac7d-4a9a-a263-3a1ed1e08a93",
   "metadata": {},
   "outputs": [],
   "source": [
    "cmacreators = cma[creatorsvars].reset_index().drop_duplicates(['id', 'creator']).set_index(['id'])"
   ]
  },
  {
   "cell_type": "code",
   "execution_count": 43,
   "id": "9e486ca4-4cba-48e7-8a47-5bc696c6adc6",
   "metadata": {},
   "outputs": [
    {
     "data": {
      "text/plain": [
       "(1055, 3)"
      ]
     },
     "execution_count": 43,
     "metadata": {},
     "output_type": "execute_result"
    }
   ],
   "source": [
    "cmacreators.shape"
   ]
  },
  {
   "cell_type": "code",
   "execution_count": 20,
   "id": "04c2e7b7-1e89-410b-8d64-3d9878877b4d",
   "metadata": {},
   "outputs": [
    {
     "data": {
      "text/html": [
       "<div>\n",
       "<style scoped>\n",
       "    .dataframe tbody tr th:only-of-type {\n",
       "        vertical-align: middle;\n",
       "    }\n",
       "\n",
       "    .dataframe tbody tr th {\n",
       "        vertical-align: top;\n",
       "    }\n",
       "\n",
       "    .dataframe thead th {\n",
       "        text-align: right;\n",
       "    }\n",
       "</style>\n",
       "<table border=\"1\" class=\"dataframe\">\n",
       "  <thead>\n",
       "    <tr style=\"text-align: right;\">\n",
       "      <th></th>\n",
       "      <th>creator</th>\n",
       "      <th>birth_year</th>\n",
       "      <th>death_year</th>\n",
       "    </tr>\n",
       "    <tr>\n",
       "      <th>id</th>\n",
       "      <th></th>\n",
       "      <th></th>\n",
       "      <th></th>\n",
       "    </tr>\n",
       "  </thead>\n",
       "  <tbody>\n",
       "    <tr>\n",
       "      <th>124733</th>\n",
       "      <td>Albrecht Dürer (Ge</td>\n",
       "      <td>1471</td>\n",
       "      <td>1528</td>\n",
       "    </tr>\n",
       "    <tr>\n",
       "      <th>124733</th>\n",
       "      <td>Hans Hoffmann (Ger</td>\n",
       "      <td>1545/50</td>\n",
       "      <td>1591/92</td>\n",
       "    </tr>\n",
       "  </tbody>\n",
       "</table>\n",
       "</div>"
      ],
      "text/plain": [
       "                   creator birth_year death_year\n",
       "id                                              \n",
       "124733  Albrecht Dürer (Ge       1471       1528\n",
       "124733  Hans Hoffmann (Ger    1545/50    1591/92"
      ]
     },
     "execution_count": 20,
     "metadata": {},
     "output_type": "execute_result"
    }
   ],
   "source": [
    "cmacreators.loc[124733]"
   ]
  },
  {
   "cell_type": "markdown",
   "id": "ea82c212-f177-4071-b7f7-6e807c55b034",
   "metadata": {},
   "source": [
    "### 1950년 이후 출생한 작가의 작품수"
   ]
  },
  {
   "cell_type": "code",
   "execution_count": 22,
   "id": "6657528b-2407-4e7b-94e9-a6522045b3f8",
   "metadata": {},
   "outputs": [
    {
     "data": {
      "text/plain": [
       "dtype('O')"
      ]
     },
     "execution_count": 22,
     "metadata": {},
     "output_type": "execute_result"
    }
   ],
   "source": [
    "cmacreators['birth_year'].dtypes"
   ]
  },
  {
   "cell_type": "code",
   "execution_count": 26,
   "id": "8ed97c36-820b-4340-9262-aa0b16d19baf",
   "metadata": {},
   "outputs": [],
   "source": [
    "# 정규표현식 : 하나 이상의 연속된 숫자 찾기\n",
    "cmacreators['birth_year'] = cmacreators['birth_year'].str.findall('\\d+').str[0].astype(float)"
   ]
  },
  {
   "cell_type": "code",
   "execution_count": 32,
   "id": "5ee6f33b-5b4e-485e-b5d5-19a17d3eda16",
   "metadata": {},
   "outputs": [],
   "source": [
    "youngartists = cmacreators.loc[cmacreators.birth_year > 1950, ['creator']].assign(creatorbornafter1950='Y')"
   ]
  },
  {
   "cell_type": "code",
   "execution_count": 33,
   "id": "3543220f-13c4-4b8c-a37d-00d1a038c4dc",
   "metadata": {},
   "outputs": [
    {
     "data": {
      "text/plain": [
       "True"
      ]
     },
     "execution_count": 33,
     "metadata": {},
     "output_type": "execute_result"
    }
   ],
   "source": [
    "youngartists.shape[0] == youngartists.index.nunique()"
   ]
  },
  {
   "cell_type": "code",
   "execution_count": 34,
   "id": "0016132d-82d1-4b31-9eec-f2fc2ac89673",
   "metadata": {},
   "outputs": [
    {
     "data": {
      "text/html": [
       "<div>\n",
       "<style scoped>\n",
       "    .dataframe tbody tr th:only-of-type {\n",
       "        vertical-align: middle;\n",
       "    }\n",
       "\n",
       "    .dataframe tbody tr th {\n",
       "        vertical-align: top;\n",
       "    }\n",
       "\n",
       "    .dataframe thead th {\n",
       "        text-align: right;\n",
       "    }\n",
       "</style>\n",
       "<table border=\"1\" class=\"dataframe\">\n",
       "  <thead>\n",
       "    <tr style=\"text-align: right;\">\n",
       "      <th></th>\n",
       "      <th>creator</th>\n",
       "      <th>creatorbornafter1950</th>\n",
       "    </tr>\n",
       "    <tr>\n",
       "      <th>id</th>\n",
       "      <th></th>\n",
       "      <th></th>\n",
       "    </tr>\n",
       "  </thead>\n",
       "  <tbody>\n",
       "    <tr>\n",
       "      <th>371392</th>\n",
       "      <td>Belkis Ayón (Cuban</td>\n",
       "      <td>Y</td>\n",
       "    </tr>\n",
       "    <tr>\n",
       "      <th>162624</th>\n",
       "      <td>Robert Gober (Amer</td>\n",
       "      <td>Y</td>\n",
       "    </tr>\n",
       "    <tr>\n",
       "      <th>172588</th>\n",
       "      <td>Rachel Harrison (A</td>\n",
       "      <td>Y</td>\n",
       "    </tr>\n",
       "    <tr>\n",
       "      <th>169335</th>\n",
       "      <td>Pae White (America</td>\n",
       "      <td>Y</td>\n",
       "    </tr>\n",
       "    <tr>\n",
       "      <th>169862</th>\n",
       "      <td>Fred Wilson (Ameri</td>\n",
       "      <td>Y</td>\n",
       "    </tr>\n",
       "    <tr>\n",
       "      <th>312739</th>\n",
       "      <td>Liu Jing (Chinese,</td>\n",
       "      <td>Y</td>\n",
       "    </tr>\n",
       "    <tr>\n",
       "      <th>293323</th>\n",
       "      <td>Zeng Xiaojun (Chin</td>\n",
       "      <td>Y</td>\n",
       "    </tr>\n",
       "    <tr>\n",
       "      <th>172539</th>\n",
       "      <td>Fidencio Fifield-P</td>\n",
       "      <td>Y</td>\n",
       "    </tr>\n",
       "  </tbody>\n",
       "</table>\n",
       "</div>"
      ],
      "text/plain": [
       "                   creator creatorbornafter1950\n",
       "id                                             \n",
       "371392  Belkis Ayón (Cuban                    Y\n",
       "162624  Robert Gober (Amer                    Y\n",
       "172588  Rachel Harrison (A                    Y\n",
       "169335  Pae White (America                    Y\n",
       "169862  Fred Wilson (Ameri                    Y\n",
       "312739  Liu Jing (Chinese,                    Y\n",
       "293323  Zeng Xiaojun (Chin                    Y\n",
       "172539  Fidencio Fifield-P                    Y"
      ]
     },
     "execution_count": 34,
     "metadata": {},
     "output_type": "execute_result"
    }
   ],
   "source": [
    "youngartists"
   ]
  },
  {
   "cell_type": "code",
   "execution_count": 35,
   "id": "ee767299-ac71-4eb6-9357-04f8de6961c1",
   "metadata": {},
   "outputs": [],
   "source": [
    "cmacollections = pd.merge(cmacollections, youngartists, left_on=['id'], right_on=['id'], how='left')"
   ]
  },
  {
   "cell_type": "code",
   "execution_count": 37,
   "id": "df29d623-c558-4178-a0dc-5c2786ea96e5",
   "metadata": {},
   "outputs": [],
   "source": [
    "cmacollections.creatorbornafter1950.fillna('N', inplace=True)"
   ]
  },
  {
   "cell_type": "code",
   "execution_count": 39,
   "id": "7256ef3c-facd-4d05-920e-aad016b67c42",
   "metadata": {},
   "outputs": [
    {
     "data": {
      "text/plain": [
       "(972, 5)"
      ]
     },
     "execution_count": 39,
     "metadata": {},
     "output_type": "execute_result"
    }
   ],
   "source": [
    "cmacollections.shape"
   ]
  },
  {
   "cell_type": "code",
   "execution_count": 41,
   "id": "bbc862f0-95b4-401e-9f6e-d803c21f8c5b",
   "metadata": {},
   "outputs": [
    {
     "data": {
      "text/plain": [
       "N    964\n",
       "Y      8\n",
       "Name: creatorbornafter1950, dtype: int64"
      ]
     },
     "execution_count": 41,
     "metadata": {},
     "output_type": "execute_result"
    }
   ],
   "source": [
    "cmacollections.creatorbornafter1950.value_counts()"
   ]
  }
 ],
 "metadata": {
  "kernelspec": {
   "display_name": "Python 3 (ipykernel)",
   "language": "python",
   "name": "python3"
  },
  "language_info": {
   "codemirror_mode": {
    "name": "ipython",
    "version": 3
   },
   "file_extension": ".py",
   "mimetype": "text/x-python",
   "name": "python",
   "nbconvert_exporter": "python",
   "pygments_lexer": "ipython3",
   "version": "3.9.13"
  }
 },
 "nbformat": 4,
 "nbformat_minor": 5
}
