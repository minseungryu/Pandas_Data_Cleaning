{
 "cells": [
  {
   "cell_type": "markdown",
   "id": "1b170688-a839-4391-8848-6cbd615b8778",
   "metadata": {},
   "source": [
    "# 일대다 병합\n",
    "- 데이터 구조가 너무 많이 바뀔 수 있으므로 유의한다\n",
    "1. 어느 열을 병합 기준 열로 삼는 것이 타당한지 확인(병합 기준 열이 반드시 같은 열일 필요는 없음)\n",
    "2. 어떤 종류의 조인을 사용할지와 그 이유를 알아야한다!\n",
    "3. 양쪽 데이터테이블에 행이 몇개씩 있는지 확인\n",
    "4. 조인 유형, 각 데이터셋의 행 수, 사전 조사한 병합 기준 값의 개수에 따라 몇 개의 행이 유지될 지를 예상해야한다."
   ]
  },
  {
   "cell_type": "markdown",
   "id": "149577b3-fa6d-455c-833b-5ca3577a8d07",
   "metadata": {},
   "source": [
    "### 데이터 : GHCN 기상 관측소 데이터 \n",
    "- 각 국가에 대응하는 행이 있는 데이터프레임과\n",
    "- 기상관측소에 대응하는 행이 있는 데이터프레임 사용(나라마다 여러 기상관측소 있음)\n",
    "    - 국가별 데이터에 대해 일대다 병합을 수행해, 한 행에 하나의 국가가 오게 하고, 국가별로 여러 관측소가 오게 한다."
   ]
  },
  {
   "cell_type": "code",
   "execution_count": 4,
   "id": "8777ad0a-05f0-4d76-963b-18e221c466d5",
   "metadata": {},
   "outputs": [],
   "source": [
    "import pandas as pd\n",
    "countries = pd.read_csv('data/ltcountries.csv')\n",
    "locations = pd.read_csv('data/ltlocations.csv')"
   ]
  },
  {
   "cell_type": "code",
   "execution_count": 5,
   "id": "560b720e-45be-4a68-b415-e3e14666fd1c",
   "metadata": {},
   "outputs": [],
   "source": [
    "countries.set_index('countryid', inplace = True)\n",
    "locations.set_index('countryid', inplace = True)"
   ]
  },
  {
   "cell_type": "code",
   "execution_count": 7,
   "id": "44308805-7cc3-4fa5-84d6-2df5ad739b0e",
   "metadata": {},
   "outputs": [
    {
     "data": {
      "text/html": [
       "<div>\n",
       "<style scoped>\n",
       "    .dataframe tbody tr th:only-of-type {\n",
       "        vertical-align: middle;\n",
       "    }\n",
       "\n",
       "    .dataframe tbody tr th {\n",
       "        vertical-align: top;\n",
       "    }\n",
       "\n",
       "    .dataframe thead th {\n",
       "        text-align: right;\n",
       "    }\n",
       "</style>\n",
       "<table border=\"1\" class=\"dataframe\">\n",
       "  <thead>\n",
       "    <tr style=\"text-align: right;\">\n",
       "      <th></th>\n",
       "      <th>country</th>\n",
       "    </tr>\n",
       "    <tr>\n",
       "      <th>countryid</th>\n",
       "      <th></th>\n",
       "    </tr>\n",
       "  </thead>\n",
       "  <tbody>\n",
       "    <tr>\n",
       "      <th>AC</th>\n",
       "      <td>Antigua and Barbuda</td>\n",
       "    </tr>\n",
       "    <tr>\n",
       "      <th>AE</th>\n",
       "      <td>United Arab Emirates</td>\n",
       "    </tr>\n",
       "    <tr>\n",
       "      <th>AF</th>\n",
       "      <td>Afghanistan</td>\n",
       "    </tr>\n",
       "    <tr>\n",
       "      <th>AG</th>\n",
       "      <td>Algeria</td>\n",
       "    </tr>\n",
       "    <tr>\n",
       "      <th>AJ</th>\n",
       "      <td>Azerbaijan</td>\n",
       "    </tr>\n",
       "  </tbody>\n",
       "</table>\n",
       "</div>"
      ],
      "text/plain": [
       "                        country\n",
       "countryid                      \n",
       "AC          Antigua and Barbuda\n",
       "AE         United Arab Emirates\n",
       "AF                  Afghanistan\n",
       "AG                      Algeria\n",
       "AJ                   Azerbaijan"
      ]
     },
     "execution_count": 7,
     "metadata": {},
     "output_type": "execute_result"
    }
   ],
   "source": [
    "countries.head()"
   ]
  },
  {
   "cell_type": "code",
   "execution_count": 10,
   "id": "0f9c0a31-475d-4493-874f-06e332e7c019",
   "metadata": {},
   "outputs": [
    {
     "data": {
      "text/plain": [
       "True"
      ]
     },
     "execution_count": 10,
     "metadata": {},
     "output_type": "execute_result"
    }
   ],
   "source": [
    "countries.index.nunique() == countries.shape[0]"
   ]
  },
  {
   "cell_type": "code",
   "execution_count": 12,
   "id": "64e735b7-2bc1-4f8a-be5e-d42d353ffe31",
   "metadata": {},
   "outputs": [
    {
     "data": {
      "text/html": [
       "<div>\n",
       "<style scoped>\n",
       "    .dataframe tbody tr th:only-of-type {\n",
       "        vertical-align: middle;\n",
       "    }\n",
       "\n",
       "    .dataframe tbody tr th {\n",
       "        vertical-align: top;\n",
       "    }\n",
       "\n",
       "    .dataframe thead th {\n",
       "        text-align: right;\n",
       "    }\n",
       "</style>\n",
       "<table border=\"1\" class=\"dataframe\">\n",
       "  <thead>\n",
       "    <tr style=\"text-align: right;\">\n",
       "      <th></th>\n",
       "      <th>locationid</th>\n",
       "      <th>latitude</th>\n",
       "      <th>stnelev</th>\n",
       "    </tr>\n",
       "    <tr>\n",
       "      <th>countryid</th>\n",
       "      <th></th>\n",
       "      <th></th>\n",
       "      <th></th>\n",
       "    </tr>\n",
       "  </thead>\n",
       "  <tbody>\n",
       "    <tr>\n",
       "      <th>AC</th>\n",
       "      <td>ACW00011604</td>\n",
       "      <td>57.7667</td>\n",
       "      <td>18.0</td>\n",
       "    </tr>\n",
       "    <tr>\n",
       "      <th>AE</th>\n",
       "      <td>AE000041196</td>\n",
       "      <td>25.3330</td>\n",
       "      <td>34.0</td>\n",
       "    </tr>\n",
       "    <tr>\n",
       "      <th>AE</th>\n",
       "      <td>AEM00041184</td>\n",
       "      <td>25.6170</td>\n",
       "      <td>31.0</td>\n",
       "    </tr>\n",
       "    <tr>\n",
       "      <th>AE</th>\n",
       "      <td>AEM00041194</td>\n",
       "      <td>25.2550</td>\n",
       "      <td>10.4</td>\n",
       "    </tr>\n",
       "    <tr>\n",
       "      <th>AE</th>\n",
       "      <td>AEM00041216</td>\n",
       "      <td>24.4300</td>\n",
       "      <td>3.0</td>\n",
       "    </tr>\n",
       "    <tr>\n",
       "      <th>AE</th>\n",
       "      <td>AEM00041217</td>\n",
       "      <td>24.4330</td>\n",
       "      <td>26.8</td>\n",
       "    </tr>\n",
       "    <tr>\n",
       "      <th>AE</th>\n",
       "      <td>AEM00041218</td>\n",
       "      <td>24.2620</td>\n",
       "      <td>264.9</td>\n",
       "    </tr>\n",
       "    <tr>\n",
       "      <th>AF</th>\n",
       "      <td>AF000040930</td>\n",
       "      <td>35.3170</td>\n",
       "      <td>3366.0</td>\n",
       "    </tr>\n",
       "    <tr>\n",
       "      <th>AF</th>\n",
       "      <td>AFM00040911</td>\n",
       "      <td>36.7000</td>\n",
       "      <td>378.0</td>\n",
       "    </tr>\n",
       "    <tr>\n",
       "      <th>AF</th>\n",
       "      <td>AFM00040938</td>\n",
       "      <td>34.2100</td>\n",
       "      <td>977.2</td>\n",
       "    </tr>\n",
       "  </tbody>\n",
       "</table>\n",
       "</div>"
      ],
      "text/plain": [
       "            locationid  latitude  stnelev\n",
       "countryid                                \n",
       "AC         ACW00011604   57.7667     18.0\n",
       "AE         AE000041196   25.3330     34.0\n",
       "AE         AEM00041184   25.6170     31.0\n",
       "AE         AEM00041194   25.2550     10.4\n",
       "AE         AEM00041216   24.4300      3.0\n",
       "AE         AEM00041217   24.4330     26.8\n",
       "AE         AEM00041218   24.2620    264.9\n",
       "AF         AF000040930   35.3170   3366.0\n",
       "AF         AFM00040911   36.7000    378.0\n",
       "AF         AFM00040938   34.2100    977.2"
      ]
     },
     "execution_count": 12,
     "metadata": {},
     "output_type": "execute_result"
    }
   ],
   "source": [
    "locations[['locationid', 'latitude', 'stnelev']].head(10)"
   ]
  },
  {
   "cell_type": "markdown",
   "id": "d5079195-8948-499d-a93c-ca5d36752e59",
   "metadata": {},
   "source": [
    "### join 으로 국가 및 관측소 위치에 대해 왼쪽 조인 수행"
   ]
  },
  {
   "cell_type": "code",
   "execution_count": 13,
   "id": "8b852e58-5bf7-4344-9325-fac0a06af3b3",
   "metadata": {},
   "outputs": [],
   "source": [
    "stations = countries.join(locations)"
   ]
  },
  {
   "cell_type": "code",
   "execution_count": 14,
   "id": "3c60f4cd-da37-48ce-bc87-629385feaefb",
   "metadata": {},
   "outputs": [
    {
     "data": {
      "text/html": [
       "<div>\n",
       "<style scoped>\n",
       "    .dataframe tbody tr th:only-of-type {\n",
       "        vertical-align: middle;\n",
       "    }\n",
       "\n",
       "    .dataframe tbody tr th {\n",
       "        vertical-align: top;\n",
       "    }\n",
       "\n",
       "    .dataframe thead th {\n",
       "        text-align: right;\n",
       "    }\n",
       "</style>\n",
       "<table border=\"1\" class=\"dataframe\">\n",
       "  <thead>\n",
       "    <tr style=\"text-align: right;\">\n",
       "      <th></th>\n",
       "      <th>locationid</th>\n",
       "      <th>latitude</th>\n",
       "      <th>stnelev</th>\n",
       "      <th>country</th>\n",
       "    </tr>\n",
       "    <tr>\n",
       "      <th>countryid</th>\n",
       "      <th></th>\n",
       "      <th></th>\n",
       "      <th></th>\n",
       "      <th></th>\n",
       "    </tr>\n",
       "  </thead>\n",
       "  <tbody>\n",
       "    <tr>\n",
       "      <th>AC</th>\n",
       "      <td>ACW00011604</td>\n",
       "      <td>57.7667</td>\n",
       "      <td>18.0</td>\n",
       "      <td>Antigua and Barbuda</td>\n",
       "    </tr>\n",
       "    <tr>\n",
       "      <th>AE</th>\n",
       "      <td>AE000041196</td>\n",
       "      <td>25.3330</td>\n",
       "      <td>34.0</td>\n",
       "      <td>United Arab Emirates</td>\n",
       "    </tr>\n",
       "    <tr>\n",
       "      <th>AE</th>\n",
       "      <td>AEM00041184</td>\n",
       "      <td>25.6170</td>\n",
       "      <td>31.0</td>\n",
       "      <td>United Arab Emirates</td>\n",
       "    </tr>\n",
       "    <tr>\n",
       "      <th>AE</th>\n",
       "      <td>AEM00041194</td>\n",
       "      <td>25.2550</td>\n",
       "      <td>10.4</td>\n",
       "      <td>United Arab Emirates</td>\n",
       "    </tr>\n",
       "    <tr>\n",
       "      <th>AE</th>\n",
       "      <td>AEM00041216</td>\n",
       "      <td>24.4300</td>\n",
       "      <td>3.0</td>\n",
       "      <td>United Arab Emirates</td>\n",
       "    </tr>\n",
       "    <tr>\n",
       "      <th>AE</th>\n",
       "      <td>AEM00041217</td>\n",
       "      <td>24.4330</td>\n",
       "      <td>26.8</td>\n",
       "      <td>United Arab Emirates</td>\n",
       "    </tr>\n",
       "    <tr>\n",
       "      <th>AE</th>\n",
       "      <td>AEM00041218</td>\n",
       "      <td>24.2620</td>\n",
       "      <td>264.9</td>\n",
       "      <td>United Arab Emirates</td>\n",
       "    </tr>\n",
       "    <tr>\n",
       "      <th>AF</th>\n",
       "      <td>AF000040930</td>\n",
       "      <td>35.3170</td>\n",
       "      <td>3366.0</td>\n",
       "      <td>Afghanistan</td>\n",
       "    </tr>\n",
       "    <tr>\n",
       "      <th>AF</th>\n",
       "      <td>AFM00040911</td>\n",
       "      <td>36.7000</td>\n",
       "      <td>378.0</td>\n",
       "      <td>Afghanistan</td>\n",
       "    </tr>\n",
       "    <tr>\n",
       "      <th>AF</th>\n",
       "      <td>AFM00040938</td>\n",
       "      <td>34.2100</td>\n",
       "      <td>977.2</td>\n",
       "      <td>Afghanistan</td>\n",
       "    </tr>\n",
       "  </tbody>\n",
       "</table>\n",
       "</div>"
      ],
      "text/plain": [
       "            locationid  latitude  stnelev               country\n",
       "countryid                                                      \n",
       "AC         ACW00011604   57.7667     18.0   Antigua and Barbuda\n",
       "AE         AE000041196   25.3330     34.0  United Arab Emirates\n",
       "AE         AEM00041184   25.6170     31.0  United Arab Emirates\n",
       "AE         AEM00041194   25.2550     10.4  United Arab Emirates\n",
       "AE         AEM00041216   24.4300      3.0  United Arab Emirates\n",
       "AE         AEM00041217   24.4330     26.8  United Arab Emirates\n",
       "AE         AEM00041218   24.2620    264.9  United Arab Emirates\n",
       "AF         AF000040930   35.3170   3366.0           Afghanistan\n",
       "AF         AFM00040911   36.7000    378.0           Afghanistan\n",
       "AF         AFM00040938   34.2100    977.2           Afghanistan"
      ]
     },
     "execution_count": 14,
     "metadata": {},
     "output_type": "execute_result"
    }
   ],
   "source": [
    "stations[['locationid', 'latitude', 'stnelev', 'country']].head(10)"
   ]
  },
  {
   "cell_type": "markdown",
   "id": "f1cc3ecd-f39f-4c73-b7d7-47d53c59e09f",
   "metadata": {},
   "source": [
    "### 병합 기준열의 일치 여부 확인\n",
    "- checkmerge 함수 실행"
   ]
  },
  {
   "cell_type": "code",
   "execution_count": 15,
   "id": "c6f706be-8361-42a1-84ed-cfc9e09ce744",
   "metadata": {},
   "outputs": [],
   "source": [
    "countries = pd.read_csv('data/ltcountries.csv')\n",
    "locations = pd.read_csv('data/ltlocations.csv')"
   ]
  },
  {
   "cell_type": "code",
   "execution_count": 23,
   "id": "1ca36500-df71-4690-b55d-c16e12541de2",
   "metadata": {},
   "outputs": [],
   "source": [
    "def checkmerge(dfleft, dfright, idvar):\n",
    "    dfleft['inleft'] = \"Y\"\n",
    "    dfright['inright'] = \"Y\"\n",
    "    dfboth = pd.merge(dfleft[[idvar, 'inleft']], dfright[[idvar, 'inright']], on=[idvar], how='outer')\n",
    "    dfboth.fillna('N', inplace=True)\n",
    "    print(pd.crosstab(dfboth.inleft, dfboth.inright))\n",
    "    print(dfboth.loc[(dfboth.inleft==\"N\")|(dfboth.inright=='N')])"
   ]
  },
  {
   "cell_type": "code",
   "execution_count": 25,
   "id": "6066997b-0171-4670-9d24-f71c67a77cd5",
   "metadata": {},
   "outputs": [
    {
     "name": "stdout",
     "output_type": "stream",
     "text": [
      "inright  N      Y\n",
      "inleft           \n",
      "N        0      1\n",
      "Y        2  27472\n",
      "      countryid inleft inright\n",
      "9715         LQ      Y       N\n",
      "13103        ST      Y       N\n",
      "27474        FO      N       Y\n"
     ]
    }
   ],
   "source": [
    "checkmerge(countries.copy(), locations.copy(), 'countryid')"
   ]
  },
  {
   "cell_type": "markdown",
   "id": "59983005-dbb1-4dd5-8cf5-e6f7e80ea551",
   "metadata": {},
   "source": [
    "### 한쪽 파일에만 있는 행 표시"
   ]
  },
  {
   "cell_type": "code",
   "execution_count": 26,
   "id": "2caf6cef-970a-481e-8284-f3adf65952e6",
   "metadata": {},
   "outputs": [
    {
     "data": {
      "text/html": [
       "<div>\n",
       "<style scoped>\n",
       "    .dataframe tbody tr th:only-of-type {\n",
       "        vertical-align: middle;\n",
       "    }\n",
       "\n",
       "    .dataframe tbody tr th {\n",
       "        vertical-align: top;\n",
       "    }\n",
       "\n",
       "    .dataframe thead th {\n",
       "        text-align: right;\n",
       "    }\n",
       "</style>\n",
       "<table border=\"1\" class=\"dataframe\">\n",
       "  <thead>\n",
       "    <tr style=\"text-align: right;\">\n",
       "      <th></th>\n",
       "      <th>countryid</th>\n",
       "      <th>country</th>\n",
       "    </tr>\n",
       "  </thead>\n",
       "  <tbody>\n",
       "    <tr>\n",
       "      <th>124</th>\n",
       "      <td>LQ</td>\n",
       "      <td>Palmyra Atoll [United States]</td>\n",
       "    </tr>\n",
       "    <tr>\n",
       "      <th>195</th>\n",
       "      <td>ST</td>\n",
       "      <td>Saint Lucia</td>\n",
       "    </tr>\n",
       "  </tbody>\n",
       "</table>\n",
       "</div>"
      ],
      "text/plain": [
       "    countryid                        country\n",
       "124        LQ  Palmyra Atoll [United States]\n",
       "195        ST                    Saint Lucia"
      ]
     },
     "execution_count": 26,
     "metadata": {},
     "output_type": "execute_result"
    }
   ],
   "source": [
    "countries.loc[(countries.countryid.isin([\"LQ\", \"ST\"]))]"
   ]
  },
  {
   "cell_type": "code",
   "execution_count": 27,
   "id": "930ca029-9d9c-49b3-88c0-28ad25865d46",
   "metadata": {},
   "outputs": [
    {
     "data": {
      "text/html": [
       "<div>\n",
       "<style scoped>\n",
       "    .dataframe tbody tr th:only-of-type {\n",
       "        vertical-align: middle;\n",
       "    }\n",
       "\n",
       "    .dataframe tbody tr th {\n",
       "        vertical-align: top;\n",
       "    }\n",
       "\n",
       "    .dataframe thead th {\n",
       "        text-align: right;\n",
       "    }\n",
       "</style>\n",
       "<table border=\"1\" class=\"dataframe\">\n",
       "  <thead>\n",
       "    <tr style=\"text-align: right;\">\n",
       "      <th></th>\n",
       "      <th>locationid</th>\n",
       "      <th>latitude</th>\n",
       "      <th>longitude</th>\n",
       "      <th>stnelev</th>\n",
       "      <th>station</th>\n",
       "      <th>countryid</th>\n",
       "    </tr>\n",
       "  </thead>\n",
       "  <tbody>\n",
       "    <tr>\n",
       "      <th>7363</th>\n",
       "      <td>FOM00006009</td>\n",
       "      <td>61.4</td>\n",
       "      <td>-6.667</td>\n",
       "      <td>102.0</td>\n",
       "      <td>AKRABERG</td>\n",
       "      <td>FO</td>\n",
       "    </tr>\n",
       "  </tbody>\n",
       "</table>\n",
       "</div>"
      ],
      "text/plain": [
       "       locationid  latitude  longitude  stnelev   station countryid\n",
       "7363  FOM00006009      61.4     -6.667    102.0  AKRABERG        FO"
      ]
     },
     "execution_count": 27,
     "metadata": {},
     "output_type": "execute_result"
    }
   ],
   "source": [
    "locations.loc[(locations.countryid==\"FO\")]"
   ]
  },
  {
   "cell_type": "markdown",
   "id": "a3e98e65-441e-4cfa-9d02-131542de1a16",
   "metadata": {},
   "source": [
    "### locations와 countries 데이터프레임 병합"
   ]
  },
  {
   "cell_type": "code",
   "execution_count": 28,
   "id": "94fca5cc-f197-4ba6-810a-dfc648067678",
   "metadata": {},
   "outputs": [],
   "source": [
    "stations = pd.merge(countries, locations, on=['countryid'], how='left')"
   ]
  },
  {
   "cell_type": "code",
   "execution_count": 29,
   "id": "52ce7996-1686-4555-8da0-f15a74bc8298",
   "metadata": {},
   "outputs": [
    {
     "data": {
      "text/html": [
       "<div>\n",
       "<style scoped>\n",
       "    .dataframe tbody tr th:only-of-type {\n",
       "        vertical-align: middle;\n",
       "    }\n",
       "\n",
       "    .dataframe tbody tr th {\n",
       "        vertical-align: top;\n",
       "    }\n",
       "\n",
       "    .dataframe thead th {\n",
       "        text-align: right;\n",
       "    }\n",
       "</style>\n",
       "<table border=\"1\" class=\"dataframe\">\n",
       "  <thead>\n",
       "    <tr style=\"text-align: right;\">\n",
       "      <th></th>\n",
       "      <th>locationid</th>\n",
       "      <th>latitude</th>\n",
       "      <th>stnelev</th>\n",
       "      <th>country</th>\n",
       "    </tr>\n",
       "  </thead>\n",
       "  <tbody>\n",
       "    <tr>\n",
       "      <th>0</th>\n",
       "      <td>ACW00011604</td>\n",
       "      <td>57.7667</td>\n",
       "      <td>18.0</td>\n",
       "      <td>Antigua and Barbuda</td>\n",
       "    </tr>\n",
       "    <tr>\n",
       "      <th>1</th>\n",
       "      <td>AE000041196</td>\n",
       "      <td>25.3330</td>\n",
       "      <td>34.0</td>\n",
       "      <td>United Arab Emirates</td>\n",
       "    </tr>\n",
       "    <tr>\n",
       "      <th>2</th>\n",
       "      <td>AEM00041184</td>\n",
       "      <td>25.6170</td>\n",
       "      <td>31.0</td>\n",
       "      <td>United Arab Emirates</td>\n",
       "    </tr>\n",
       "    <tr>\n",
       "      <th>3</th>\n",
       "      <td>AEM00041194</td>\n",
       "      <td>25.2550</td>\n",
       "      <td>10.4</td>\n",
       "      <td>United Arab Emirates</td>\n",
       "    </tr>\n",
       "    <tr>\n",
       "      <th>4</th>\n",
       "      <td>AEM00041216</td>\n",
       "      <td>24.4300</td>\n",
       "      <td>3.0</td>\n",
       "      <td>United Arab Emirates</td>\n",
       "    </tr>\n",
       "    <tr>\n",
       "      <th>5</th>\n",
       "      <td>AEM00041217</td>\n",
       "      <td>24.4330</td>\n",
       "      <td>26.8</td>\n",
       "      <td>United Arab Emirates</td>\n",
       "    </tr>\n",
       "    <tr>\n",
       "      <th>6</th>\n",
       "      <td>AEM00041218</td>\n",
       "      <td>24.2620</td>\n",
       "      <td>264.9</td>\n",
       "      <td>United Arab Emirates</td>\n",
       "    </tr>\n",
       "    <tr>\n",
       "      <th>7</th>\n",
       "      <td>AF000040930</td>\n",
       "      <td>35.3170</td>\n",
       "      <td>3366.0</td>\n",
       "      <td>Afghanistan</td>\n",
       "    </tr>\n",
       "    <tr>\n",
       "      <th>8</th>\n",
       "      <td>AFM00040911</td>\n",
       "      <td>36.7000</td>\n",
       "      <td>378.0</td>\n",
       "      <td>Afghanistan</td>\n",
       "    </tr>\n",
       "    <tr>\n",
       "      <th>9</th>\n",
       "      <td>AFM00040938</td>\n",
       "      <td>34.2100</td>\n",
       "      <td>977.2</td>\n",
       "      <td>Afghanistan</td>\n",
       "    </tr>\n",
       "  </tbody>\n",
       "</table>\n",
       "</div>"
      ],
      "text/plain": [
       "    locationid  latitude  stnelev               country\n",
       "0  ACW00011604   57.7667     18.0   Antigua and Barbuda\n",
       "1  AE000041196   25.3330     34.0  United Arab Emirates\n",
       "2  AEM00041184   25.6170     31.0  United Arab Emirates\n",
       "3  AEM00041194   25.2550     10.4  United Arab Emirates\n",
       "4  AEM00041216   24.4300      3.0  United Arab Emirates\n",
       "5  AEM00041217   24.4330     26.8  United Arab Emirates\n",
       "6  AEM00041218   24.2620    264.9  United Arab Emirates\n",
       "7  AF000040930   35.3170   3366.0           Afghanistan\n",
       "8  AFM00040911   36.7000    378.0           Afghanistan\n",
       "9  AFM00040938   34.2100    977.2           Afghanistan"
      ]
     },
     "execution_count": 29,
     "metadata": {},
     "output_type": "execute_result"
    }
   ],
   "source": [
    "stations[['locationid', 'latitude', 'stnelev', 'country']].head(10)"
   ]
  },
  {
   "cell_type": "code",
   "execution_count": 30,
   "id": "e03300cb-5619-4b7f-8282-a494fa0a8ec6",
   "metadata": {},
   "outputs": [
    {
     "data": {
      "text/plain": [
       "(27474, 7)"
      ]
     },
     "execution_count": 30,
     "metadata": {},
     "output_type": "execute_result"
    }
   ],
   "source": [
    "stations.shape"
   ]
  },
  {
   "cell_type": "code",
   "execution_count": 31,
   "id": "44c93ab2-b675-4479-ace8-abcb0e476f68",
   "metadata": {},
   "outputs": [
    {
     "data": {
      "text/plain": [
       "countryid     0\n",
       "country       0\n",
       "locationid    2\n",
       "latitude      2\n",
       "longitude     2\n",
       "stnelev       2\n",
       "station       2\n",
       "dtype: int64"
      ]
     },
     "execution_count": 31,
     "metadata": {},
     "output_type": "execute_result"
    }
   ],
   "source": [
    "stations.loc[stations.countryid.isin([\"LQ\", \"ST\"])].isnull().sum()"
   ]
  },
  {
   "cell_type": "code",
   "execution_count": 32,
   "id": "0fb9e747-8ad9-4e56-bd21-5252aff64e71",
   "metadata": {},
   "outputs": [
    {
     "data": {
      "text/html": [
       "<div>\n",
       "<style scoped>\n",
       "    .dataframe tbody tr th:only-of-type {\n",
       "        vertical-align: middle;\n",
       "    }\n",
       "\n",
       "    .dataframe tbody tr th {\n",
       "        vertical-align: top;\n",
       "    }\n",
       "\n",
       "    .dataframe thead th {\n",
       "        text-align: right;\n",
       "    }\n",
       "</style>\n",
       "<table border=\"1\" class=\"dataframe\">\n",
       "  <thead>\n",
       "    <tr style=\"text-align: right;\">\n",
       "      <th></th>\n",
       "      <th>countryid</th>\n",
       "      <th>country</th>\n",
       "      <th>locationid</th>\n",
       "      <th>latitude</th>\n",
       "      <th>longitude</th>\n",
       "      <th>stnelev</th>\n",
       "      <th>station</th>\n",
       "    </tr>\n",
       "  </thead>\n",
       "  <tbody>\n",
       "    <tr>\n",
       "      <th>9715</th>\n",
       "      <td>LQ</td>\n",
       "      <td>Palmyra Atoll [United States]</td>\n",
       "      <td>NaN</td>\n",
       "      <td>NaN</td>\n",
       "      <td>NaN</td>\n",
       "      <td>NaN</td>\n",
       "      <td>NaN</td>\n",
       "    </tr>\n",
       "    <tr>\n",
       "      <th>13103</th>\n",
       "      <td>ST</td>\n",
       "      <td>Saint Lucia</td>\n",
       "      <td>NaN</td>\n",
       "      <td>NaN</td>\n",
       "      <td>NaN</td>\n",
       "      <td>NaN</td>\n",
       "      <td>NaN</td>\n",
       "    </tr>\n",
       "  </tbody>\n",
       "</table>\n",
       "</div>"
      ],
      "text/plain": [
       "      countryid                        country locationid  latitude  \\\n",
       "9715         LQ  Palmyra Atoll [United States]        NaN       NaN   \n",
       "13103        ST                    Saint Lucia        NaN       NaN   \n",
       "\n",
       "       longitude  stnelev station  \n",
       "9715         NaN      NaN     NaN  \n",
       "13103        NaN      NaN     NaN  "
      ]
     },
     "execution_count": 32,
     "metadata": {},
     "output_type": "execute_result"
    }
   ],
   "source": [
    "stations.loc[stations.countryid.isin([\"LQ\", \"ST\"])]"
   ]
  }
 ],
 "metadata": {
  "kernelspec": {
   "display_name": "Python 3 (ipykernel)",
   "language": "python",
   "name": "python3"
  },
  "language_info": {
   "codemirror_mode": {
    "name": "ipython",
    "version": 3
   },
   "file_extension": ".py",
   "mimetype": "text/x-python",
   "name": "python",
   "nbconvert_exporter": "python",
   "pygments_lexer": "ipython3",
   "version": "3.9.13"
  }
 },
 "nbformat": 4,
 "nbformat_minor": 5
}
