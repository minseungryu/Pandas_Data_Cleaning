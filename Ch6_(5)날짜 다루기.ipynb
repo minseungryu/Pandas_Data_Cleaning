{
 "cells": [
  {
   "cell_type": "markdown",
   "id": "08c2a1de-4ab3-42cb-8e0d-9bc0ac6a8074",
   "metadata": {},
   "source": [
    "# 날짜 다루기"
   ]
  },
  {
   "cell_type": "code",
   "execution_count": 4,
   "id": "4d45b854-3026-4811-9580-0f1bbd7b3006",
   "metadata": {},
   "outputs": [],
   "source": [
    "import numpy as np\n",
    "import pandas as pd\n",
    "from datetime import datetime\n",
    "\n",
    "covidcases = pd.read_csv('data/covidcases720.csv')\n",
    "nls97 = pd.read_csv('data/nls97c.csv')\n",
    "nls97.set_index('personid', inplace=True)"
   ]
  },
  {
   "cell_type": "markdown",
   "id": "170740d7-7eee-4f14-beb2-d4db1b2bafa6",
   "metadata": {},
   "source": [
    "### 생월, 생년값 체크"
   ]
  },
  {
   "cell_type": "code",
   "execution_count": 5,
   "id": "45396c0f-080c-432c-99a8-94a50205ff17",
   "metadata": {},
   "outputs": [
    {
     "data": {
      "text/plain": [
       "birthmonth    1\n",
       "birthyear     0\n",
       "dtype: int64"
      ]
     },
     "execution_count": 5,
     "metadata": {},
     "output_type": "execute_result"
    }
   ],
   "source": [
    "nls97[['birthmonth', 'birthyear']].isnull().sum()"
   ]
  },
  {
   "cell_type": "code",
   "execution_count": 7,
   "id": "e0beaf62-85f1-4f0c-8b7f-f32f2b44bb7f",
   "metadata": {},
   "outputs": [
    {
     "data": {
      "text/plain": [
       "1.0     815\n",
       "2.0     693\n",
       "3.0     760\n",
       "4.0     659\n",
       "5.0     689\n",
       "6.0     720\n",
       "7.0     762\n",
       "8.0     782\n",
       "9.0     839\n",
       "10.0    765\n",
       "11.0    763\n",
       "12.0    736\n",
       "Name: birthmonth, dtype: int64"
      ]
     },
     "execution_count": 7,
     "metadata": {},
     "output_type": "execute_result"
    }
   ],
   "source": [
    "nls97.birthmonth.value_counts().sort_index()"
   ]
  },
  {
   "cell_type": "code",
   "execution_count": 8,
   "id": "94eab795-87f7-49ef-96a5-86d98a9bfe05",
   "metadata": {},
   "outputs": [
    {
     "data": {
      "text/plain": [
       "1980    1691\n",
       "1981    1874\n",
       "1982    1841\n",
       "1983    1807\n",
       "1984    1771\n",
       "Name: birthyear, dtype: int64"
      ]
     },
     "execution_count": 8,
     "metadata": {},
     "output_type": "execute_result"
    }
   ],
   "source": [
    "nls97.birthyear.value_counts().sort_index()"
   ]
  },
  {
   "cell_type": "markdown",
   "id": "2520994d-d378-4f4d-84f2-3d8d4ff7d114",
   "metadata": {},
   "source": [
    "### fillna 메서드로 누락된 생월 채우기(1건)"
   ]
  },
  {
   "cell_type": "code",
   "execution_count": 9,
   "id": "593c421f-a572-4ebe-b47e-e23c1ca3690e",
   "metadata": {},
   "outputs": [],
   "source": [
    "nls97.birthmonth.fillna(int(nls97.birthmonth.mean()), inplace=True)"
   ]
  },
  {
   "cell_type": "code",
   "execution_count": 10,
   "id": "093fa654-5e18-4fe7-b447-b6fa1f275204",
   "metadata": {},
   "outputs": [
    {
     "data": {
      "text/plain": [
       "1.0     815\n",
       "2.0     693\n",
       "3.0     760\n",
       "4.0     659\n",
       "5.0     689\n",
       "6.0     721\n",
       "7.0     762\n",
       "8.0     782\n",
       "9.0     839\n",
       "10.0    765\n",
       "11.0    763\n",
       "12.0    736\n",
       "Name: birthmonth, dtype: int64"
      ]
     },
     "execution_count": 10,
     "metadata": {},
     "output_type": "execute_result"
    }
   ],
   "source": [
    "nls97.birthmonth.value_counts().sort_index()"
   ]
  },
  {
   "cell_type": "markdown",
   "id": "360f33d1-5364-4985-9160-4d7c7f4a364b",
   "metadata": {},
   "source": [
    "### 생년 및 생월 값과 날짜 정숫값을 더해 datetime 열 생성\n",
    "- 📍판다스 to_datetime() 함수에 딕셔너리 전달\n",
    "- 딕셔너리에는 year, month, day 키가 필요함"
   ]
  },
  {
   "cell_type": "code",
   "execution_count": 11,
   "id": "9f31fbfd-89c7-48b1-a27a-a9fe61cd7607",
   "metadata": {},
   "outputs": [],
   "source": [
    "nls97['birthdate'] = pd.to_datetime(dict(year=nls97.birthyear, month=nls97.birthmonth, day=15))"
   ]
  },
  {
   "cell_type": "code",
   "execution_count": 12,
   "id": "5cd032cd-e15c-4e96-aae7-4c3917b63471",
   "metadata": {},
   "outputs": [
    {
     "data": {
      "text/html": [
       "<div>\n",
       "<style scoped>\n",
       "    .dataframe tbody tr th:only-of-type {\n",
       "        vertical-align: middle;\n",
       "    }\n",
       "\n",
       "    .dataframe tbody tr th {\n",
       "        vertical-align: top;\n",
       "    }\n",
       "\n",
       "    .dataframe thead th {\n",
       "        text-align: right;\n",
       "    }\n",
       "</style>\n",
       "<table border=\"1\" class=\"dataframe\">\n",
       "  <thead>\n",
       "    <tr style=\"text-align: right;\">\n",
       "      <th></th>\n",
       "      <th>birthmonth</th>\n",
       "      <th>birthyear</th>\n",
       "      <th>birthdate</th>\n",
       "    </tr>\n",
       "    <tr>\n",
       "      <th>personid</th>\n",
       "      <th></th>\n",
       "      <th></th>\n",
       "      <th></th>\n",
       "    </tr>\n",
       "  </thead>\n",
       "  <tbody>\n",
       "    <tr>\n",
       "      <th>100061</th>\n",
       "      <td>5.0</td>\n",
       "      <td>1980</td>\n",
       "      <td>1980-05-15</td>\n",
       "    </tr>\n",
       "    <tr>\n",
       "      <th>100139</th>\n",
       "      <td>9.0</td>\n",
       "      <td>1983</td>\n",
       "      <td>1983-09-15</td>\n",
       "    </tr>\n",
       "    <tr>\n",
       "      <th>100284</th>\n",
       "      <td>11.0</td>\n",
       "      <td>1984</td>\n",
       "      <td>1984-11-15</td>\n",
       "    </tr>\n",
       "    <tr>\n",
       "      <th>100292</th>\n",
       "      <td>4.0</td>\n",
       "      <td>1982</td>\n",
       "      <td>1982-04-15</td>\n",
       "    </tr>\n",
       "    <tr>\n",
       "      <th>100583</th>\n",
       "      <td>6.0</td>\n",
       "      <td>1980</td>\n",
       "      <td>1980-06-15</td>\n",
       "    </tr>\n",
       "  </tbody>\n",
       "</table>\n",
       "</div>"
      ],
      "text/plain": [
       "          birthmonth  birthyear  birthdate\n",
       "personid                                  \n",
       "100061           5.0       1980 1980-05-15\n",
       "100139           9.0       1983 1983-09-15\n",
       "100284          11.0       1984 1984-11-15\n",
       "100292           4.0       1982 1982-04-15\n",
       "100583           6.0       1980 1980-06-15"
      ]
     },
     "execution_count": 12,
     "metadata": {},
     "output_type": "execute_result"
    }
   ],
   "source": [
    "nls97[['birthmonth', 'birthyear', 'birthdate']].head()"
   ]
  },
  {
   "cell_type": "code",
   "execution_count": 13,
   "id": "9b1e36c4-9aba-497c-b5ce-0fc118234405",
   "metadata": {},
   "outputs": [
    {
     "data": {
      "text/plain": [
       "birthmonth    0\n",
       "birthyear     0\n",
       "birthdate     0\n",
       "dtype: int64"
      ]
     },
     "execution_count": 13,
     "metadata": {},
     "output_type": "execute_result"
    }
   ],
   "source": [
    "nls97[['birthmonth', 'birthyear', 'birthdate']].isnull().sum()"
   ]
  },
  {
   "cell_type": "markdown",
   "id": "6701d131-4821-40f4-b4cf-0264c8313c0b",
   "metadata": {},
   "source": [
    "### datetime 열을 사용해 연령값을 계산\n",
    "- 시작 날짜와 끝날짜를 받아서 나이를 계산하는 함수 정의"
   ]
  },
  {
   "cell_type": "code",
   "execution_count": 14,
   "id": "b7a386a8-d469-4b7b-a2ea-ae40edc3e0a8",
   "metadata": {},
   "outputs": [],
   "source": [
    "def calcage(startdate, enddate):\n",
    "    age = enddate.year - startdate.year\n",
    "    if (enddate.month < startdate.month or \n",
    "        (enddate.month == startdate.month and enddate.day < startdate.day)):\n",
    "        age = age -1\n",
    "    return age    "
   ]
  },
  {
   "cell_type": "code",
   "execution_count": 17,
   "id": "a1eea837-6ce7-4e99-b4f5-3c890276b2db",
   "metadata": {},
   "outputs": [
    {
     "data": {
      "text/plain": [
       "Timestamp('2020-07-20 00:00:00')"
      ]
     },
     "execution_count": 17,
     "metadata": {},
     "output_type": "execute_result"
    }
   ],
   "source": [
    "rundate = pd.to_datetime('2020-07-20')\n",
    "rundate"
   ]
  },
  {
   "cell_type": "code",
   "execution_count": 39,
   "id": "7a85c769-00a4-48ca-bc60-3add9d04a183",
   "metadata": {},
   "outputs": [],
   "source": [
    "# 함수 적용📍\n",
    "nls97['age'] = nls97.apply(lambda x: calcage(x.birthdate, rundate), axis=1)"
   ]
  },
  {
   "cell_type": "code",
   "execution_count": 19,
   "id": "dd7c58c7-aeed-43bd-9fc8-914486cbd92f",
   "metadata": {},
   "outputs": [
    {
     "data": {
      "text/html": [
       "<div>\n",
       "<style scoped>\n",
       "    .dataframe tbody tr th:only-of-type {\n",
       "        vertical-align: middle;\n",
       "    }\n",
       "\n",
       "    .dataframe tbody tr th {\n",
       "        vertical-align: top;\n",
       "    }\n",
       "\n",
       "    .dataframe thead th {\n",
       "        text-align: right;\n",
       "    }\n",
       "</style>\n",
       "<table border=\"1\" class=\"dataframe\">\n",
       "  <thead>\n",
       "    <tr style=\"text-align: right;\">\n",
       "      <th></th>\n",
       "      <th>age</th>\n",
       "      <th>birthdate</th>\n",
       "    </tr>\n",
       "    <tr>\n",
       "      <th>personid</th>\n",
       "      <th></th>\n",
       "      <th></th>\n",
       "    </tr>\n",
       "  </thead>\n",
       "  <tbody>\n",
       "    <tr>\n",
       "      <th>100061</th>\n",
       "      <td>40</td>\n",
       "      <td>1980-05-15</td>\n",
       "    </tr>\n",
       "    <tr>\n",
       "      <th>100139</th>\n",
       "      <td>36</td>\n",
       "      <td>1983-09-15</td>\n",
       "    </tr>\n",
       "    <tr>\n",
       "      <th>100284</th>\n",
       "      <td>35</td>\n",
       "      <td>1984-11-15</td>\n",
       "    </tr>\n",
       "    <tr>\n",
       "      <th>100292</th>\n",
       "      <td>38</td>\n",
       "      <td>1982-04-15</td>\n",
       "    </tr>\n",
       "    <tr>\n",
       "      <th>100583</th>\n",
       "      <td>40</td>\n",
       "      <td>1980-06-15</td>\n",
       "    </tr>\n",
       "  </tbody>\n",
       "</table>\n",
       "</div>"
      ],
      "text/plain": [
       "          age  birthdate\n",
       "personid                \n",
       "100061     40 1980-05-15\n",
       "100139     36 1983-09-15\n",
       "100284     35 1984-11-15\n",
       "100292     38 1982-04-15\n",
       "100583     40 1980-06-15"
      ]
     },
     "execution_count": 19,
     "metadata": {},
     "output_type": "execute_result"
    }
   ],
   "source": [
    "nls97.loc[100061:100583, ['age', 'birthdate']]"
   ]
  },
  {
   "cell_type": "markdown",
   "id": "a5d35851-06f5-46f2-854a-51b2e6497bc2",
   "metadata": {},
   "source": [
    "### 문자열을 날짜 열로 변환"
   ]
  },
  {
   "cell_type": "code",
   "execution_count": 20,
   "id": "83d2d750-1288-4e88-965c-d8460b17b7db",
   "metadata": {},
   "outputs": [
    {
     "data": {
      "text/plain": [
       "iso_code        object\n",
       "continent       object\n",
       "location        object\n",
       "casedate        object\n",
       "total_cases    float64\n",
       "new_cases      float64\n",
       "dtype: object"
      ]
     },
     "execution_count": 20,
     "metadata": {},
     "output_type": "execute_result"
    }
   ],
   "source": [
    "covidcases.iloc[:, 0:6].dtypes"
   ]
  },
  {
   "cell_type": "code",
   "execution_count": 21,
   "id": "860fd7c5-28ed-40ec-bb0d-5b7fbbeb0dcc",
   "metadata": {},
   "outputs": [
    {
     "data": {
      "text/html": [
       "<div>\n",
       "<style scoped>\n",
       "    .dataframe tbody tr th:only-of-type {\n",
       "        vertical-align: middle;\n",
       "    }\n",
       "\n",
       "    .dataframe tbody tr th {\n",
       "        vertical-align: top;\n",
       "    }\n",
       "\n",
       "    .dataframe thead th {\n",
       "        text-align: right;\n",
       "    }\n",
       "</style>\n",
       "<table border=\"1\" class=\"dataframe\">\n",
       "  <thead>\n",
       "    <tr style=\"text-align: right;\">\n",
       "      <th></th>\n",
       "      <th>13482</th>\n",
       "      <th>2445</th>\n",
       "    </tr>\n",
       "  </thead>\n",
       "  <tbody>\n",
       "    <tr>\n",
       "      <th>iso_code</th>\n",
       "      <td>IMN</td>\n",
       "      <td>BRB</td>\n",
       "    </tr>\n",
       "    <tr>\n",
       "      <th>continent</th>\n",
       "      <td>Europe</td>\n",
       "      <td>North America</td>\n",
       "    </tr>\n",
       "    <tr>\n",
       "      <th>location</th>\n",
       "      <td>Isle of Man</td>\n",
       "      <td>Barbados</td>\n",
       "    </tr>\n",
       "    <tr>\n",
       "      <th>casedate</th>\n",
       "      <td>2020-06-20</td>\n",
       "      <td>2020-04-28</td>\n",
       "    </tr>\n",
       "    <tr>\n",
       "      <th>total_cases</th>\n",
       "      <td>336.0</td>\n",
       "      <td>80.0</td>\n",
       "    </tr>\n",
       "    <tr>\n",
       "      <th>new_cases</th>\n",
       "      <td>0.0</td>\n",
       "      <td>1.0</td>\n",
       "    </tr>\n",
       "  </tbody>\n",
       "</table>\n",
       "</div>"
      ],
      "text/plain": [
       "                   13482          2445 \n",
       "iso_code             IMN            BRB\n",
       "continent         Europe  North America\n",
       "location     Isle of Man       Barbados\n",
       "casedate      2020-06-20     2020-04-28\n",
       "total_cases        336.0           80.0\n",
       "new_cases            0.0            1.0"
      ]
     },
     "execution_count": 21,
     "metadata": {},
     "output_type": "execute_result"
    }
   ],
   "source": [
    "covidcases.iloc[:, 0:6].sample(2, random_state=1).T"
   ]
  },
  {
   "cell_type": "code",
   "execution_count": 22,
   "id": "9c9cf4e1-2056-439d-9ff8-1c6f666ea8aa",
   "metadata": {},
   "outputs": [],
   "source": [
    "covidcases['casedate'] = pd.to_datetime(covidcases.casedate, format='%Y-%m-%d')"
   ]
  },
  {
   "cell_type": "code",
   "execution_count": 23,
   "id": "fbc38c4c-6d37-420d-8178-cfb71220fd4e",
   "metadata": {},
   "outputs": [
    {
     "data": {
      "text/plain": [
       "iso_code               object\n",
       "continent              object\n",
       "location               object\n",
       "casedate       datetime64[ns]\n",
       "total_cases           float64\n",
       "new_cases             float64\n",
       "dtype: object"
      ]
     },
     "execution_count": 23,
     "metadata": {},
     "output_type": "execute_result"
    }
   ],
   "source": [
    "covidcases.iloc[:, 0:6].dtypes"
   ]
  },
  {
   "cell_type": "code",
   "execution_count": 24,
   "id": "e01f536b-8472-4e54-bdf8-b559ade057b1",
   "metadata": {},
   "outputs": [
    {
     "name": "stderr",
     "output_type": "stream",
     "text": [
      "/var/folders/hj/1c4sv0bn28v5lr5g0s_fr4w80000gn/T/ipykernel_6132/2291425454.py:2: FutureWarning: Treating datetime data as categorical rather than numeric in `.describe` is deprecated and will be removed in a future version of pandas. Specify `datetime_is_numeric=True` to silence this warning and adopt the future behavior now.\n",
      "  covidcases.casedate.describe()\n"
     ]
    },
    {
     "data": {
      "text/plain": [
       "count                   29529\n",
       "unique                    195\n",
       "top       2020-05-17 00:00:00\n",
       "freq                      209\n",
       "first     2019-12-31 00:00:00\n",
       "last      2020-07-12 00:00:00\n",
       "Name: casedate, dtype: object"
      ]
     },
     "execution_count": 24,
     "metadata": {},
     "output_type": "execute_result"
    }
   ],
   "source": [
    "# datetime 열의 기술통계\n",
    "covidcases.casedate.describe()"
   ]
  },
  {
   "cell_type": "markdown",
   "id": "2060e474-7ca6-447d-a737-67ddbb31f975",
   "metadata": {},
   "source": [
    "### 날짜 간격을 포착하는 timedelta 객체 생성\n",
    "- 각 날짜에 대해, 각국의 최초 사례로부터 경과한 날짜 수 계산\n",
    "    1. 각국의 최초 사례를 나타내는 데이터프레임 생성 -> covid와 병합\n",
    "    2. 각 날짜에 대해 날짜 수 계싼"
   ]
  },
  {
   "cell_type": "code",
   "execution_count": 31,
   "id": "7e76ea66-305e-4021-9e1a-f06127121136",
   "metadata": {},
   "outputs": [],
   "source": [
    "firstcase = covidcases.loc[covidcases.new_cases > 0, ['location', 'casedate']].sort_values(['location', 'casedate']).\\\n",
    "            drop_duplicates(['location'], keep='first').rename(columns={'casedate':'firstcasedate'})"
   ]
  },
  {
   "cell_type": "code",
   "execution_count": 32,
   "id": "aba712a5-e64e-4e86-bb91-49fcb0946b2c",
   "metadata": {},
   "outputs": [],
   "source": [
    "covidcases = pd.merge(covidcases, firstcase, left_on=['location'], right_on=['location'], how='left')"
   ]
  },
  {
   "cell_type": "code",
   "execution_count": 33,
   "id": "8d9f932f-4e6a-4222-a140-3f2567bbf2c6",
   "metadata": {},
   "outputs": [],
   "source": [
    "covidcases['dayssincefirstcase'] = covidcases.casedate - covidcases.firstcasedate"
   ]
  },
  {
   "cell_type": "code",
   "execution_count": 38,
   "id": "130fc23f-223c-45a0-b655-d2db74f6feae",
   "metadata": {},
   "outputs": [
    {
     "data": {
      "text/plain": [
       "count                         29529\n",
       "mean     56 days 00:15:12.892410850\n",
       "std      47 days 00:35:41.813685246\n",
       "min              -62 days +00:00:00\n",
       "25%                21 days 00:00:00\n",
       "50%                57 days 00:00:00\n",
       "75%                92 days 00:00:00\n",
       "max               194 days 00:00:00\n",
       "Name: dayssincefirstcase, dtype: object"
      ]
     },
     "execution_count": 38,
     "metadata": {},
     "output_type": "execute_result"
    }
   ],
   "source": [
    "covidcases.dayssincefirstcase.describe()"
   ]
  },
  {
   "cell_type": "markdown",
   "id": "7fc0ea22-8876-43c3-95a9-919bc5b850b9",
   "metadata": {},
   "source": [
    "> 최초 확진자가 발생하기 62일 전부터 보고를 시작한 나라가 있음을 볼 수 있다"
   ]
  }
 ],
 "metadata": {
  "kernelspec": {
   "display_name": "Python 3 (ipykernel)",
   "language": "python",
   "name": "python3"
  },
  "language_info": {
   "codemirror_mode": {
    "name": "ipython",
    "version": 3
   },
   "file_extension": ".py",
   "mimetype": "text/x-python",
   "name": "python",
   "nbconvert_exporter": "python",
   "pygments_lexer": "ipython3",
   "version": "3.9.13"
  }
 },
 "nbformat": 4,
 "nbformat_minor": 5
}
