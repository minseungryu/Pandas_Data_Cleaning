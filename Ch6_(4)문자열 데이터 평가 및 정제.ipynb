{
 "cells": [
  {
   "cell_type": "markdown",
   "id": "159525e6-540a-48be-b38c-4b64021c383e",
   "metadata": {},
   "source": [
    "# 문자열 시리즈 데이터 평가와 정제\n",
    "- 문자열 평가와 대치에 활용하는 메서드\n",
    "- contains, endswith, findall : 패턴, 문자열 끝의 공백, 복잡한 패턴 찾기에 쓰임\n",
    "- 대소문자는 upper(), lower()로 구분하여 판단"
   ]
  },
  {
   "cell_type": "code",
   "execution_count": 1,
   "id": "6dff1c32-59ea-4494-8841-adf02608b300",
   "metadata": {},
   "outputs": [],
   "source": [
    "import pandas as pd\n",
    "import numpy as np\n",
    "\n",
    "nls97 = pd.read_csv('data/nls97c.csv')\n",
    "nls97.set_index('personid', inplace = True)"
   ]
  },
  {
   "cell_type": "markdown",
   "id": "cf898791-38b0-4a0d-b835-b73ccf837430",
   "metadata": {},
   "source": [
    "### 문자열에 패턴 존재 여부 확인\n",
    "- govprovidejobs(정부에서 일자리를 제공해야 하는가)에 대한 응답에 'not'이 포함되는지를 조사\n",
    "- contains를 활용"
   ]
  },
  {
   "cell_type": "code",
   "execution_count": 2,
   "id": "6c3143a6-53ce-4811-a0c9-103add8503dc",
   "metadata": {},
   "outputs": [
    {
     "data": {
      "text/plain": [
       "2. Probably          617\n",
       "3. Probably not      462\n",
       "1. Definitely        454\n",
       "4. Definitely not    300\n",
       "Name: govprovidejobs, dtype: int64"
      ]
     },
     "execution_count": 2,
     "metadata": {},
     "output_type": "execute_result"
    }
   ],
   "source": [
    "nls97.govprovidejobs.value_counts()"
   ]
  },
  {
   "cell_type": "code",
   "execution_count": 4,
   "id": "0ecb4967-f214-4c5c-9e37-a4ccf3a16acd",
   "metadata": {},
   "outputs": [],
   "source": [
    "nls97['govprovidejobsdefprob'] = np.where(nls97.govprovidejobs.isnull(), np.nan,\n",
    "                                          np.where(nls97.govprovidejobs.str.contains('not'), 'No', 'Yes'))"
   ]
  },
  {
   "cell_type": "code",
   "execution_count": 5,
   "id": "1ae397ba-fbfc-4f80-ad18-5b15c4a6175c",
   "metadata": {},
   "outputs": [
    {
     "data": {
      "text/html": [
       "<div>\n",
       "<style scoped>\n",
       "    .dataframe tbody tr th:only-of-type {\n",
       "        vertical-align: middle;\n",
       "    }\n",
       "\n",
       "    .dataframe tbody tr th {\n",
       "        vertical-align: top;\n",
       "    }\n",
       "\n",
       "    .dataframe thead th {\n",
       "        text-align: right;\n",
       "    }\n",
       "</style>\n",
       "<table border=\"1\" class=\"dataframe\">\n",
       "  <thead>\n",
       "    <tr style=\"text-align: right;\">\n",
       "      <th>govprovidejobsdefprob</th>\n",
       "      <th>No</th>\n",
       "      <th>Yes</th>\n",
       "    </tr>\n",
       "    <tr>\n",
       "      <th>govprovidejobs</th>\n",
       "      <th></th>\n",
       "      <th></th>\n",
       "    </tr>\n",
       "  </thead>\n",
       "  <tbody>\n",
       "    <tr>\n",
       "      <th>1. Definitely</th>\n",
       "      <td>0</td>\n",
       "      <td>454</td>\n",
       "    </tr>\n",
       "    <tr>\n",
       "      <th>2. Probably</th>\n",
       "      <td>0</td>\n",
       "      <td>617</td>\n",
       "    </tr>\n",
       "    <tr>\n",
       "      <th>3. Probably not</th>\n",
       "      <td>462</td>\n",
       "      <td>0</td>\n",
       "    </tr>\n",
       "    <tr>\n",
       "      <th>4. Definitely not</th>\n",
       "      <td>300</td>\n",
       "      <td>0</td>\n",
       "    </tr>\n",
       "  </tbody>\n",
       "</table>\n",
       "</div>"
      ],
      "text/plain": [
       "govprovidejobsdefprob   No  Yes\n",
       "govprovidejobs                 \n",
       "1. Definitely            0  454\n",
       "2. Probably              0  617\n",
       "3. Probably not        462    0\n",
       "4. Definitely not      300    0"
      ]
     },
     "execution_count": 5,
     "metadata": {},
     "output_type": "execute_result"
    }
   ],
   "source": [
    "pd.crosstab(nls97.govprovidejobs, nls97.govprovidejobsdefprob)"
   ]
  },
  {
   "cell_type": "markdown",
   "id": "8c33c0d6-95e3-41b5-82d8-001c1f592d02",
   "metadata": {},
   "source": [
    "### 문자열의 시작이나 끝에 있는 공백 처리\n",
    "- 결혼한 적이 있는 사람(이혼, 사별, 별거 포함)의 시리즈 생성\n",
    "- married 앞 뒤의 공백에 유의\n",
    "- startswith, endswith 사용\n",
    "- strip : 시작과 끝의 공백을 제거(lstrip, rstrip)\n",
    "---\n",
    "- 📍다른 시리즈의 값을 바탕으로 시리즈를 생성할 시, 누락값에 주의해야한다.\n",
    "    - 누락값이 where 호출의 else 조건을 만족시킬 수 있기 때문!"
   ]
  },
  {
   "cell_type": "code",
   "execution_count": 6,
   "id": "4bf83664-b4e9-4bbd-b49f-34511927f13c",
   "metadata": {},
   "outputs": [
    {
     "data": {
      "text/plain": [
       "Married          3064\n",
       "Never-married    2766\n",
       "Divorced          663\n",
       "Separated         154\n",
       "Widowed            23\n",
       "Married             2\n",
       "Name: maritalstatus, dtype: int64"
      ]
     },
     "execution_count": 6,
     "metadata": {},
     "output_type": "execute_result"
    }
   ],
   "source": [
    "nls97.maritalstatus.value_counts()"
   ]
  },
  {
   "cell_type": "code",
   "execution_count": 8,
   "id": "a78cd968-303d-43aa-8787-b78e1de0e66d",
   "metadata": {},
   "outputs": [
    {
     "data": {
      "text/plain": [
       "False"
      ]
     },
     "execution_count": 8,
     "metadata": {},
     "output_type": "execute_result"
    }
   ],
   "source": [
    "# 공백으로 시작하는 값이 있는지 검사\n",
    "nls97.maritalstatus.str.startswith(' ').any()"
   ]
  },
  {
   "cell_type": "code",
   "execution_count": 9,
   "id": "44cbfbd9-48f3-4558-948a-22086630fd1a",
   "metadata": {},
   "outputs": [
    {
     "data": {
      "text/plain": [
       "True"
      ]
     },
     "execution_count": 9,
     "metadata": {},
     "output_type": "execute_result"
    }
   ],
   "source": [
    "# 공백으로 끝나는 값이 있는지 검사\n",
    "nls97.maritalstatus.str.endswith(' ').any()"
   ]
  },
  {
   "cell_type": "code",
   "execution_count": 13,
   "id": "081c9541-c8ec-4109-9c4e-38a6d692a313",
   "metadata": {},
   "outputs": [],
   "source": [
    "nls97['evermarried'] = np.where(nls97.maritalstatus.isnull(), np.nan,\n",
    "                               np.where(nls97.maritalstatus.str.strip()=='Never-married', 'No', 'Yes'))"
   ]
  },
  {
   "cell_type": "code",
   "execution_count": 14,
   "id": "74489955-8bdb-438f-87ce-064a446fb343",
   "metadata": {},
   "outputs": [
    {
     "data": {
      "text/html": [
       "<div>\n",
       "<style scoped>\n",
       "    .dataframe tbody tr th:only-of-type {\n",
       "        vertical-align: middle;\n",
       "    }\n",
       "\n",
       "    .dataframe tbody tr th {\n",
       "        vertical-align: top;\n",
       "    }\n",
       "\n",
       "    .dataframe thead th {\n",
       "        text-align: right;\n",
       "    }\n",
       "</style>\n",
       "<table border=\"1\" class=\"dataframe\">\n",
       "  <thead>\n",
       "    <tr style=\"text-align: right;\">\n",
       "      <th>evermarried</th>\n",
       "      <th>No</th>\n",
       "      <th>Yes</th>\n",
       "    </tr>\n",
       "    <tr>\n",
       "      <th>maritalstatus</th>\n",
       "      <th></th>\n",
       "      <th></th>\n",
       "    </tr>\n",
       "  </thead>\n",
       "  <tbody>\n",
       "    <tr>\n",
       "      <th>Divorced</th>\n",
       "      <td>0</td>\n",
       "      <td>663</td>\n",
       "    </tr>\n",
       "    <tr>\n",
       "      <th>Married</th>\n",
       "      <td>0</td>\n",
       "      <td>3064</td>\n",
       "    </tr>\n",
       "    <tr>\n",
       "      <th>Married</th>\n",
       "      <td>0</td>\n",
       "      <td>2</td>\n",
       "    </tr>\n",
       "    <tr>\n",
       "      <th>Never-married</th>\n",
       "      <td>2766</td>\n",
       "      <td>0</td>\n",
       "    </tr>\n",
       "    <tr>\n",
       "      <th>Separated</th>\n",
       "      <td>0</td>\n",
       "      <td>154</td>\n",
       "    </tr>\n",
       "    <tr>\n",
       "      <th>Widowed</th>\n",
       "      <td>0</td>\n",
       "      <td>23</td>\n",
       "    </tr>\n",
       "  </tbody>\n",
       "</table>\n",
       "</div>"
      ],
      "text/plain": [
       "evermarried      No   Yes\n",
       "maritalstatus            \n",
       "Divorced          0   663\n",
       "Married           0  3064\n",
       "Married           0     2\n",
       "Never-married  2766     0\n",
       "Separated         0   154\n",
       "Widowed           0    23"
      ]
     },
     "execution_count": 14,
     "metadata": {},
     "output_type": "execute_result"
    }
   ],
   "source": [
    "pd.crosstab(nls97.maritalstatus, nls97.evermarried)"
   ]
  },
  {
   "cell_type": "markdown",
   "id": "10c040a6-974b-409a-b000-2c97081f261a",
   "metadata": {},
   "source": [
    "### isin을 사용해 문자열 값이 리스트에 있는지 검사"
   ]
  },
  {
   "cell_type": "code",
   "execution_count": 15,
   "id": "496e5a8e-88e7-4f51-a66f-ef8552044572",
   "metadata": {},
   "outputs": [],
   "source": [
    "nls97['receivedba'] = np.where(nls97.highestdegree.isnull(), np.nan,\n",
    "                              np.where(nls97.highestdegree.str[0:1].isin(['4', '5', '6', '7']), 'Yes', 'No'))"
   ]
  },
  {
   "cell_type": "code",
   "execution_count": 16,
   "id": "05e6e2c2-94ea-459c-94ab-6297cd1b9c12",
   "metadata": {},
   "outputs": [
    {
     "data": {
      "text/html": [
       "<div>\n",
       "<style scoped>\n",
       "    .dataframe tbody tr th:only-of-type {\n",
       "        vertical-align: middle;\n",
       "    }\n",
       "\n",
       "    .dataframe tbody tr th {\n",
       "        vertical-align: top;\n",
       "    }\n",
       "\n",
       "    .dataframe thead th {\n",
       "        text-align: right;\n",
       "    }\n",
       "</style>\n",
       "<table border=\"1\" class=\"dataframe\">\n",
       "  <thead>\n",
       "    <tr style=\"text-align: right;\">\n",
       "      <th>receivedba</th>\n",
       "      <th>No</th>\n",
       "      <th>Yes</th>\n",
       "    </tr>\n",
       "    <tr>\n",
       "      <th>highestdegree</th>\n",
       "      <th></th>\n",
       "      <th></th>\n",
       "    </tr>\n",
       "  </thead>\n",
       "  <tbody>\n",
       "    <tr>\n",
       "      <th>0. None</th>\n",
       "      <td>953</td>\n",
       "      <td>0</td>\n",
       "    </tr>\n",
       "    <tr>\n",
       "      <th>1. GED</th>\n",
       "      <td>1146</td>\n",
       "      <td>0</td>\n",
       "    </tr>\n",
       "    <tr>\n",
       "      <th>2. High School</th>\n",
       "      <td>3667</td>\n",
       "      <td>0</td>\n",
       "    </tr>\n",
       "    <tr>\n",
       "      <th>3. Associates</th>\n",
       "      <td>737</td>\n",
       "      <td>0</td>\n",
       "    </tr>\n",
       "    <tr>\n",
       "      <th>4. Bachelors</th>\n",
       "      <td>0</td>\n",
       "      <td>1673</td>\n",
       "    </tr>\n",
       "    <tr>\n",
       "      <th>5. Masters</th>\n",
       "      <td>0</td>\n",
       "      <td>603</td>\n",
       "    </tr>\n",
       "    <tr>\n",
       "      <th>6. PhD</th>\n",
       "      <td>0</td>\n",
       "      <td>54</td>\n",
       "    </tr>\n",
       "    <tr>\n",
       "      <th>7. Professional</th>\n",
       "      <td>0</td>\n",
       "      <td>120</td>\n",
       "    </tr>\n",
       "  </tbody>\n",
       "</table>\n",
       "</div>"
      ],
      "text/plain": [
       "receivedba         No   Yes\n",
       "highestdegree              \n",
       "0. None           953     0\n",
       "1. GED           1146     0\n",
       "2. High School   3667     0\n",
       "3. Associates     737     0\n",
       "4. Bachelors        0  1673\n",
       "5. Masters          0   603\n",
       "6. PhD              0    54\n",
       "7. Professional     0   120"
      ]
     },
     "execution_count": 16,
     "metadata": {},
     "output_type": "execute_result"
    }
   ],
   "source": [
    "pd.crosstab(nls97.highestdegree, nls97.receivedba)"
   ]
  },
  {
   "cell_type": "markdown",
   "id": "566b4961-2795-42c9-841f-f4803aa55024",
   "metadata": {},
   "source": [
    "### findall을 사용하여 문자열에서 숫잣값 추출\n",
    "- weeklyhrstv(일주일 동안 tv시청에 보낸 시간) 문자열에 포함된 모든 숫자의 리스트를 생성\n",
    "- 문자열 속에 숫자만 얻어내기 위해 정규표현식 '\\d+'을 전달"
   ]
  },
  {
   "cell_type": "code",
   "execution_count": 18,
   "id": "f2da2da4-99b5-4b07-ba49-44b30cd2d6f7",
   "metadata": {},
   "outputs": [
    {
     "data": {
      "text/html": [
       "<div>\n",
       "<style scoped>\n",
       "    .dataframe tbody tr th:only-of-type {\n",
       "        vertical-align: middle;\n",
       "    }\n",
       "\n",
       "    .dataframe tbody tr th {\n",
       "        vertical-align: top;\n",
       "    }\n",
       "\n",
       "    .dataframe thead th {\n",
       "        text-align: right;\n",
       "    }\n",
       "</style>\n",
       "<table border=\"1\" class=\"dataframe\">\n",
       "  <thead>\n",
       "    <tr style=\"text-align: right;\">\n",
       "      <th></th>\n",
       "      <th>weeklyhrstv</th>\n",
       "      <th>weeklyhrstv</th>\n",
       "    </tr>\n",
       "    <tr>\n",
       "      <th>personid</th>\n",
       "      <th></th>\n",
       "      <th></th>\n",
       "    </tr>\n",
       "  </thead>\n",
       "  <tbody>\n",
       "    <tr>\n",
       "      <th>100061</th>\n",
       "      <td>11 to 20 hours a week</td>\n",
       "      <td>[11, 20]</td>\n",
       "    </tr>\n",
       "    <tr>\n",
       "      <th>100139</th>\n",
       "      <td>3 to 10 hours a week</td>\n",
       "      <td>[3, 10]</td>\n",
       "    </tr>\n",
       "    <tr>\n",
       "      <th>100284</th>\n",
       "      <td>11 to 20 hours a week</td>\n",
       "      <td>[11, 20]</td>\n",
       "    </tr>\n",
       "    <tr>\n",
       "      <th>100292</th>\n",
       "      <td>NaN</td>\n",
       "      <td>NaN</td>\n",
       "    </tr>\n",
       "    <tr>\n",
       "      <th>100583</th>\n",
       "      <td>3 to 10 hours a week</td>\n",
       "      <td>[3, 10]</td>\n",
       "    </tr>\n",
       "  </tbody>\n",
       "</table>\n",
       "</div>"
      ],
      "text/plain": [
       "                    weeklyhrstv weeklyhrstv\n",
       "personid                                   \n",
       "100061    11 to 20 hours a week    [11, 20]\n",
       "100139     3 to 10 hours a week     [3, 10]\n",
       "100284    11 to 20 hours a week    [11, 20]\n",
       "100292                      NaN         NaN\n",
       "100583     3 to 10 hours a week     [3, 10]"
      ]
     },
     "execution_count": 18,
     "metadata": {},
     "output_type": "execute_result"
    }
   ],
   "source": [
    "pd.concat([nls97.weeklyhrstv.head(),\n",
    "          nls97.weeklyhrstv.str.findall('\\d+').head()], axis=1)"
   ]
  },
  {
   "cell_type": "code",
   "execution_count": 19,
   "id": "1c807cb7-6297-4f84-9131-7a83af2552f7",
   "metadata": {},
   "outputs": [
    {
     "data": {
      "text/plain": [
       "personid\n",
       "100061    [11, 20]\n",
       "100139     [3, 10]\n",
       "100284    [11, 20]\n",
       "100292         NaN\n",
       "100583     [3, 10]\n",
       "            ...   \n",
       "999291         [2]\n",
       "999406     [3, 10]\n",
       "999543     [3, 10]\n",
       "999698        [40]\n",
       "999963     [3, 10]\n",
       "Name: weeklyhrstv, Length: 8984, dtype: object"
      ]
     },
     "execution_count": 19,
     "metadata": {},
     "output_type": "execute_result"
    }
   ],
   "source": [
    "nls97.weeklyhrstv.str.findall('\\d+')"
   ]
  },
  {
   "cell_type": "markdown",
   "id": "1b4a6dc6-729d-439f-9e4d-4eeef0d67d93",
   "metadata": {},
   "source": [
    "### findall로 만든 리스트를 사용해 weeklyhrstv 텍스트로부터 숫자 시리즈 생성\n",
    "- findall로 만든 리스트에서 마지막 원소를 검색하는 함수 정의\n",
    "- getnum 함수 : 둘 이상의 수가 있는 경우, 두 수의 중간에 가깝도록 숫자 조정"
   ]
  },
  {
   "cell_type": "code",
   "execution_count": 20,
   "id": "ae106d46-71c1-4d90-8929-78d0921efa8f",
   "metadata": {},
   "outputs": [],
   "source": [
    "def getnum(numlist):\n",
    "    highval = 0\n",
    "    \n",
    "    if (type(numlist) is list):\n",
    "        lastval = int(numlist[-1]) #리스트 마지막 값 추출\n",
    "        if (numlist[0]=='40'):\n",
    "            highval = 45\n",
    "        elif (lastval == 2):\n",
    "            highval = 1\n",
    "        else:\n",
    "            highval = lastval - 5\n",
    "    else:\n",
    "        highval = np.nan\n",
    "    return highval"
   ]
  },
  {
   "cell_type": "code",
   "execution_count": 21,
   "id": "5ea1b5b6-58a4-4122-bfc7-53c85291621f",
   "metadata": {},
   "outputs": [],
   "source": [
    "nls97['weeklyhrstvnum'] = nls97.weeklyhrstv.str.findall('\\d+').apply(getnum)"
   ]
  },
  {
   "cell_type": "code",
   "execution_count": 22,
   "id": "1cc19aa6-d72d-4101-b726-d1b59b876fa0",
   "metadata": {},
   "outputs": [
    {
     "data": {
      "text/html": [
       "<div>\n",
       "<style scoped>\n",
       "    .dataframe tbody tr th:only-of-type {\n",
       "        vertical-align: middle;\n",
       "    }\n",
       "\n",
       "    .dataframe tbody tr th {\n",
       "        vertical-align: top;\n",
       "    }\n",
       "\n",
       "    .dataframe thead th {\n",
       "        text-align: right;\n",
       "    }\n",
       "</style>\n",
       "<table border=\"1\" class=\"dataframe\">\n",
       "  <thead>\n",
       "    <tr style=\"text-align: right;\">\n",
       "      <th>weeklyhrstvnum</th>\n",
       "      <th>1.0</th>\n",
       "      <th>5.0</th>\n",
       "      <th>15.0</th>\n",
       "      <th>25.0</th>\n",
       "      <th>35.0</th>\n",
       "      <th>45.0</th>\n",
       "    </tr>\n",
       "    <tr>\n",
       "      <th>weeklyhrstv</th>\n",
       "      <th></th>\n",
       "      <th></th>\n",
       "      <th></th>\n",
       "      <th></th>\n",
       "      <th></th>\n",
       "      <th></th>\n",
       "    </tr>\n",
       "  </thead>\n",
       "  <tbody>\n",
       "    <tr>\n",
       "      <th>11 to 20 hours a week</th>\n",
       "      <td>0</td>\n",
       "      <td>0</td>\n",
       "      <td>1145</td>\n",
       "      <td>0</td>\n",
       "      <td>0</td>\n",
       "      <td>0</td>\n",
       "    </tr>\n",
       "    <tr>\n",
       "      <th>21 to 30 hours a week</th>\n",
       "      <td>0</td>\n",
       "      <td>0</td>\n",
       "      <td>0</td>\n",
       "      <td>299</td>\n",
       "      <td>0</td>\n",
       "      <td>0</td>\n",
       "    </tr>\n",
       "    <tr>\n",
       "      <th>3 to 10 hours a week</th>\n",
       "      <td>0</td>\n",
       "      <td>3625</td>\n",
       "      <td>0</td>\n",
       "      <td>0</td>\n",
       "      <td>0</td>\n",
       "      <td>0</td>\n",
       "    </tr>\n",
       "    <tr>\n",
       "      <th>31 to 40 hours a week</th>\n",
       "      <td>0</td>\n",
       "      <td>0</td>\n",
       "      <td>0</td>\n",
       "      <td>0</td>\n",
       "      <td>116</td>\n",
       "      <td>0</td>\n",
       "    </tr>\n",
       "    <tr>\n",
       "      <th>Less than 2 hours per week</th>\n",
       "      <td>1350</td>\n",
       "      <td>0</td>\n",
       "      <td>0</td>\n",
       "      <td>0</td>\n",
       "      <td>0</td>\n",
       "      <td>0</td>\n",
       "    </tr>\n",
       "    <tr>\n",
       "      <th>More than 40 hours a week</th>\n",
       "      <td>0</td>\n",
       "      <td>0</td>\n",
       "      <td>0</td>\n",
       "      <td>0</td>\n",
       "      <td>0</td>\n",
       "      <td>176</td>\n",
       "    </tr>\n",
       "  </tbody>\n",
       "</table>\n",
       "</div>"
      ],
      "text/plain": [
       "weeklyhrstvnum              1.0   5.0   15.0  25.0  35.0  45.0\n",
       "weeklyhrstv                                                   \n",
       "11 to 20 hours a week          0     0  1145     0     0     0\n",
       "21 to 30 hours a week          0     0     0   299     0     0\n",
       "3 to 10 hours a week           0  3625     0     0     0     0\n",
       "31 to 40 hours a week          0     0     0     0   116     0\n",
       "Less than 2 hours per week  1350     0     0     0     0     0\n",
       "More than 40 hours a week      0     0     0     0     0   176"
      ]
     },
     "execution_count": 22,
     "metadata": {},
     "output_type": "execute_result"
    }
   ],
   "source": [
    "pd.crosstab(nls97.weeklyhrstv, nls97.weeklyhrstvnum)"
   ]
  },
  {
   "cell_type": "markdown",
   "id": "4665711d-0aeb-49c1-9ca6-70ce67e12971",
   "metadata": {},
   "source": [
    "### 시리즈에 있는 값을 다른 값으로 바꾸기\n",
    "- weeklyhrscomputer(일주일간 컴퓨터 사용시간) 시리즈는 현재 값으로 정렬이 잘 안됨(문자열 값을 확인)\n",
    "- 값들을 순서를 나타내는 문자로 변경하여 해결\n",
    "    - 기존의 값 리스트와 새로 지정하고자 하는 값 리스트를 생성\n",
    "    - replace 메서드로 기존 값을 새 값으로 교체"
   ]
  },
  {
   "cell_type": "code",
   "execution_count": 23,
   "id": "31fc580b-4873-44b0-8be3-23743832cb53",
   "metadata": {},
   "outputs": [],
   "source": [
    "comphrsold = ['None', 'Less than 1 hour a week', '1 to 3 hours a week',\n",
    "             '4 to 6 hours a week', '7 to 9 hours a week', '10 hours or more a week']\n",
    "\n",
    "comphrsnew = ['A. None', 'B. Less than 1 hour a week', 'C. 1 to 3 hours a week',\n",
    "             'D. 4 to 6 hours a week', 'E. 7 to 9 hours a week', 'F. 10 hours or more a week']"
   ]
  },
  {
   "cell_type": "code",
   "execution_count": 25,
   "id": "9cc5b02e-98f7-4cf6-b480-cd3419cd7917",
   "metadata": {},
   "outputs": [
    {
     "data": {
      "text/plain": [
       "1 to 3 hours a week         733\n",
       "10 hours or more a week    3669\n",
       "4 to 6 hours a week         726\n",
       "7 to 9 hours a week         368\n",
       "Less than 1 hour a week     296\n",
       "None                        918\n",
       "Name: weeklyhrscomputer, dtype: int64"
      ]
     },
     "execution_count": 25,
     "metadata": {},
     "output_type": "execute_result"
    }
   ],
   "source": [
    "nls97.weeklyhrscomputer.value_counts().sort_index()"
   ]
  },
  {
   "cell_type": "code",
   "execution_count": 26,
   "id": "6e2175ab-f764-460e-ad19-6d813ae79c60",
   "metadata": {},
   "outputs": [],
   "source": [
    "nls97.weeklyhrscomputer.replace(comphrsold, comphrsnew, inplace=True)"
   ]
  },
  {
   "cell_type": "code",
   "execution_count": 28,
   "id": "2b32e0dd-0c2d-4ecc-8bf0-f47e25b19c06",
   "metadata": {},
   "outputs": [
    {
     "data": {
      "text/plain": [
       "A. None                        918\n",
       "B. Less than 1 hour a week     296\n",
       "C. 1 to 3 hours a week         733\n",
       "D. 4 to 6 hours a week         726\n",
       "E. 7 to 9 hours a week         368\n",
       "F. 10 hours or more a week    3669\n",
       "Name: weeklyhrscomputer, dtype: int64"
      ]
     },
     "execution_count": 28,
     "metadata": {},
     "output_type": "execute_result"
    }
   ],
   "source": [
    "nls97.weeklyhrscomputer.value_counts().sort_index()"
   ]
  }
 ],
 "metadata": {
  "kernelspec": {
   "display_name": "Python 3 (ipykernel)",
   "language": "python",
   "name": "python3"
  },
  "language_info": {
   "codemirror_mode": {
    "name": "ipython",
    "version": 3
   },
   "file_extension": ".py",
   "mimetype": "text/x-python",
   "name": "python",
   "nbconvert_exporter": "python",
   "pygments_lexer": "ipython3",
   "version": "3.9.13"
  }
 },
 "nbformat": 4,
 "nbformat_minor": 5
}
