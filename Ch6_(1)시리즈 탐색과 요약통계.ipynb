{
 "cells": [
  {
   "cell_type": "markdown",
   "id": "ec3b19d7-6269-49ed-8bcc-ee1a6e290442",
   "metadata": {},
   "source": [
    "# 6. 데이터 정제, 탐색 및 시리즈 연산\n",
    "## (1) 판다스 시리즈에서 값을 얻기\n",
    "- 데이터 : 미국 종단 조사(NLS)의 고등학교 내신성적(GPA) 사용"
   ]
  },
  {
   "cell_type": "code",
   "execution_count": 2,
   "id": "5583e290-8e8c-4bf7-ad29-629fd874c320",
   "metadata": {},
   "outputs": [],
   "source": [
    "import pandas as pd\n",
    "nls97 = pd.read_csv('data/nls97b.csv')\n",
    "nls97.set_index('personid', inplace=True)"
   ]
  },
  {
   "cell_type": "code",
   "execution_count": 6,
   "id": "d1841018-cf6a-4bc2-b86e-fcf1d5fe7e84",
   "metadata": {},
   "outputs": [
    {
     "data": {
      "text/plain": [
       "pandas.core.series.Series"
      ]
     },
     "execution_count": 6,
     "metadata": {},
     "output_type": "execute_result"
    }
   ],
   "source": [
    "gpaoverall = nls97.gpaoverall\n",
    "type(gpaoverall)"
   ]
  },
  {
   "cell_type": "code",
   "execution_count": 7,
   "id": "89dab968-9266-4d3d-9474-127d099dd0ba",
   "metadata": {},
   "outputs": [
    {
     "data": {
      "text/plain": [
       "personid\n",
       "100061    3.06\n",
       "100139     NaN\n",
       "100284     NaN\n",
       "100292    3.45\n",
       "100583    2.91\n",
       "Name: gpaoverall, dtype: float64"
      ]
     },
     "execution_count": 7,
     "metadata": {},
     "output_type": "execute_result"
    }
   ],
   "source": [
    "gpaoverall.head()"
   ]
  },
  {
   "cell_type": "code",
   "execution_count": 8,
   "id": "592e4e18-1f76-4ef4-85fc-14768bfc9191",
   "metadata": {},
   "outputs": [
    {
     "data": {
      "text/plain": [
       "Int64Index([100061, 100139, 100284, 100292, 100583, 100833, 100931, 101089,\n",
       "            101122, 101132,\n",
       "            ...\n",
       "            998997, 999031, 999053, 999087, 999103, 999291, 999406, 999543,\n",
       "            999698, 999963],\n",
       "           dtype='int64', name='personid', length=8984)"
      ]
     },
     "execution_count": 8,
     "metadata": {},
     "output_type": "execute_result"
    }
   ],
   "source": [
    "gpaoverall.index"
   ]
  },
  {
   "cell_type": "code",
   "execution_count": 10,
   "id": "b5f2e24a-9fa5-4cd1-9e51-6d0a52a1e39b",
   "metadata": {},
   "outputs": [
    {
     "data": {
      "text/plain": [
       "personid\n",
       "100061    3.06\n",
       "100139     NaN\n",
       "100284     NaN\n",
       "100292    3.45\n",
       "100583    2.91\n",
       "Name: gpaoverall, dtype: float64"
      ]
     },
     "execution_count": 10,
     "metadata": {},
     "output_type": "execute_result"
    }
   ],
   "source": [
    "# 시리즈 슬라이싱 : 5개 값\n",
    "gpaoverall[:5]"
   ]
  },
  {
   "cell_type": "code",
   "execution_count": 11,
   "id": "f12073e7-c3dc-4a11-9aa7-99c99f9f85e6",
   "metadata": {},
   "outputs": [
    {
     "data": {
      "text/plain": [
       "personid\n",
       "999291    3.11\n",
       "999406    2.17\n",
       "999543     NaN\n",
       "999698     NaN\n",
       "999963    3.78\n",
       "Name: gpaoverall, dtype: float64"
      ]
     },
     "execution_count": 11,
     "metadata": {},
     "output_type": "execute_result"
    }
   ],
   "source": [
    "gpaoverall.tail()"
   ]
  },
  {
   "cell_type": "code",
   "execution_count": 12,
   "id": "4c419b46-0848-4c3a-bdf7-1a647b755a78",
   "metadata": {},
   "outputs": [
    {
     "data": {
      "text/plain": [
       "personid\n",
       "999291    3.11\n",
       "999406    2.17\n",
       "999543     NaN\n",
       "999698     NaN\n",
       "999963    3.78\n",
       "Name: gpaoverall, dtype: float64"
      ]
     },
     "execution_count": 12,
     "metadata": {},
     "output_type": "execute_result"
    }
   ],
   "source": [
    "gpaoverall[-5:]"
   ]
  },
  {
   "cell_type": "markdown",
   "id": "d2645042-ec45-420d-991c-1a75733c8403",
   "metadata": {},
   "source": [
    "### loc 접근자\n",
    "- loc 접근자에 인덱스 레이블을 전달하면 '스칼라 값'이 반환됨\n",
    "- 인덱스 레이블의 리스트를 전달하면, 값이 하나이든 여러개이든 시리즈를 얻음"
   ]
  },
  {
   "cell_type": "code",
   "execution_count": 14,
   "id": "f19ad7aa-cc98-4fa0-99fd-60616a3f64e2",
   "metadata": {},
   "outputs": [
    {
     "data": {
      "text/plain": [
       "3.06"
      ]
     },
     "execution_count": 14,
     "metadata": {},
     "output_type": "execute_result"
    }
   ],
   "source": [
    "# loc 접근자 사용\n",
    "gpaoverall.loc[100061]"
   ]
  },
  {
   "cell_type": "code",
   "execution_count": 15,
   "id": "6311791b-65a4-4679-9a23-0055e8d60a0e",
   "metadata": {},
   "outputs": [
    {
     "data": {
      "text/plain": [
       "personid\n",
       "100061    3.06\n",
       "Name: gpaoverall, dtype: float64"
      ]
     },
     "execution_count": 15,
     "metadata": {},
     "output_type": "execute_result"
    }
   ],
   "source": [
    "gpaoverall.loc[[100061]]"
   ]
  },
  {
   "cell_type": "code",
   "execution_count": 16,
   "id": "76a556b3-8a6f-48f1-9f02-17b53677551f",
   "metadata": {},
   "outputs": [
    {
     "data": {
      "text/plain": [
       "personid\n",
       "100061    3.06\n",
       "100139     NaN\n",
       "100284     NaN\n",
       "100292    3.45\n",
       "100583    2.91\n",
       "100833    2.46\n",
       "Name: gpaoverall, dtype: float64"
      ]
     },
     "execution_count": 16,
     "metadata": {},
     "output_type": "execute_result"
    }
   ],
   "source": [
    "gpaoverall.loc[100061:100833]"
   ]
  },
  {
   "cell_type": "markdown",
   "id": "be571d7e-c6ae-42b6-8ae8-173c924d1071",
   "metadata": {},
   "source": [
    "### iloc 접근자\n",
    "- loc와 달리 레이블이 아닌 행번호의 리스트를 취함"
   ]
  },
  {
   "cell_type": "code",
   "execution_count": 17,
   "id": "ca6d39d0-6887-4251-8cfd-c12bd4e952e4",
   "metadata": {},
   "outputs": [
    {
     "data": {
      "text/plain": [
       "personid\n",
       "100061    3.06\n",
       "Name: gpaoverall, dtype: float64"
      ]
     },
     "execution_count": 17,
     "metadata": {},
     "output_type": "execute_result"
    }
   ],
   "source": [
    "gpaoverall.iloc[[0]]"
   ]
  },
  {
   "cell_type": "code",
   "execution_count": 18,
   "id": "7716d64f-d28e-4640-8e72-ecaccfb8a407",
   "metadata": {},
   "outputs": [
    {
     "data": {
      "text/plain": [
       "personid\n",
       "100061    3.06\n",
       "100139     NaN\n",
       "100284     NaN\n",
       "100292    3.45\n",
       "100583    2.91\n",
       "Name: gpaoverall, dtype: float64"
      ]
     },
     "execution_count": 18,
     "metadata": {},
     "output_type": "execute_result"
    }
   ],
   "source": [
    "gpaoverall.iloc[[0, 1, 2, 3, 4]]"
   ]
  },
  {
   "cell_type": "code",
   "execution_count": 19,
   "id": "35ddc848-63c0-4ced-abf7-58d9bfe74bf8",
   "metadata": {},
   "outputs": [
    {
     "data": {
      "text/plain": [
       "personid\n",
       "100061    3.06\n",
       "100139     NaN\n",
       "100284     NaN\n",
       "100292    3.45\n",
       "100583    2.91\n",
       "Name: gpaoverall, dtype: float64"
      ]
     },
     "execution_count": 19,
     "metadata": {},
     "output_type": "execute_result"
    }
   ],
   "source": [
    "gpaoverall.iloc[:5]"
   ]
  },
  {
   "cell_type": "markdown",
   "id": "ad4d4a28-ab34-43f1-ad83-f187c820d05a",
   "metadata": {},
   "source": [
    "## (2) 판다스 시리즈에 대한 요약통계 표시"
   ]
  },
  {
   "cell_type": "code",
   "execution_count": 20,
   "id": "753be3fb-414c-4df3-bb52-f46ca8bd3175",
   "metadata": {},
   "outputs": [],
   "source": [
    "import numpy as np"
   ]
  },
  {
   "cell_type": "code",
   "execution_count": 21,
   "id": "f73cd5bf-766b-415b-a6f4-4c61025122c4",
   "metadata": {},
   "outputs": [
    {
     "data": {
      "text/plain": [
       "2.8184077281812145"
      ]
     },
     "execution_count": 21,
     "metadata": {},
     "output_type": "execute_result"
    }
   ],
   "source": [
    "gpaoverall.mean()"
   ]
  },
  {
   "cell_type": "code",
   "execution_count": 22,
   "id": "6d903913-0199-4f5d-8abd-48fc9a25fe88",
   "metadata": {},
   "outputs": [
    {
     "data": {
      "text/plain": [
       "count    6004.000000\n",
       "mean        2.818408\n",
       "std         0.616357\n",
       "min         0.100000\n",
       "25%         2.430000\n",
       "50%         2.860000\n",
       "75%         3.260000\n",
       "max         4.170000\n",
       "Name: gpaoverall, dtype: float64"
      ]
     },
     "execution_count": 22,
     "metadata": {},
     "output_type": "execute_result"
    }
   ],
   "source": [
    "gpaoverall.describe()"
   ]
  },
  {
   "cell_type": "code",
   "execution_count": 23,
   "id": "567237ae-30be-436e-8e6f-a14f6dcee13a",
   "metadata": {},
   "outputs": [
    {
     "data": {
      "text/plain": [
       "0.1    2.02\n",
       "0.2    2.31\n",
       "0.3    2.52\n",
       "0.4    2.70\n",
       "0.5    2.86\n",
       "0.6    3.01\n",
       "0.7    3.17\n",
       "0.8    3.36\n",
       "0.9    3.60\n",
       "1.0    4.17\n",
       "Name: gpaoverall, dtype: float64"
      ]
     },
     "execution_count": 23,
     "metadata": {},
     "output_type": "execute_result"
    }
   ],
   "source": [
    "gpaoverall.quantile(np.arange(0.1, 1.1, 0.1))"
   ]
  },
  {
   "cell_type": "markdown",
   "id": "8be2ae35-4383-4ee1-86ab-d6bd80501569",
   "metadata": {},
   "source": [
    "### 시리즈의 부분집합\n",
    "- between()사용"
   ]
  },
  {
   "cell_type": "code",
   "execution_count": 24,
   "id": "4de1b404-555b-4325-8b1a-213d4e4475c8",
   "metadata": {},
   "outputs": [
    {
     "data": {
      "text/plain": [
       "personid\n",
       "100061    3.06\n",
       "100292    3.45\n",
       "101526    3.37\n",
       "101527    3.26\n",
       "102125    3.14\n",
       "Name: gpaoverall, dtype: float64"
      ]
     },
     "execution_count": 24,
     "metadata": {},
     "output_type": "execute_result"
    }
   ],
   "source": [
    "gpaoverall.loc[gpaoverall.between(3, 3.5)].head()"
   ]
  },
  {
   "cell_type": "code",
   "execution_count": 25,
   "id": "0235abd7-b5ec-423e-a32c-9e02a91dcb29",
   "metadata": {},
   "outputs": [
    {
     "data": {
      "text/plain": [
       "personid\n",
       "932782    1.90\n",
       "561335    1.82\n",
       "850001    4.10\n",
       "292455    1.97\n",
       "644271    1.97\n",
       "Name: gpaoverall, dtype: float64"
      ]
     },
     "execution_count": 25,
     "metadata": {},
     "output_type": "execute_result"
    }
   ],
   "source": [
    "gpaoverall.loc[(gpaoverall<2) | (gpaoverall>4)].sample(5, random_state=2)"
   ]
  },
  {
   "cell_type": "code",
   "execution_count": 27,
   "id": "d870dfbf-f140-4f37-91a4-861365a875a7",
   "metadata": {},
   "outputs": [
    {
     "data": {
      "text/plain": [
       "count    60.00\n",
       "min       3.98\n",
       "max       4.17\n",
       "Name: gpaoverall, dtype: float64"
      ]
     },
     "execution_count": 27,
     "metadata": {},
     "output_type": "execute_result"
    }
   ],
   "source": [
    "gpaoverall.loc[gpaoverall > gpaoverall.quantile(0.99)].agg(['count', 'min', 'max'])"
   ]
  },
  {
   "cell_type": "markdown",
   "id": "6b36944f-f289-4597-81cd-12acdea408a4",
   "metadata": {},
   "source": [
    "### 전체 값에 걸쳐 조건을 테스트(**any, all, sum)\n",
    "- any : 시리즈에 속한 값이 하나라도 조건을 만족할 때 true\n",
    "- all : 시리즈의 모든 값이 조건을 만족할 때 true\n",
    "- sum : true값을 1로 해석해 true값의 개수를 얻음"
   ]
  },
  {
   "cell_type": "code",
   "execution_count": 29,
   "id": "0584a7e9-b8e2-4d65-b855-21f5e119680a",
   "metadata": {},
   "outputs": [
    {
     "data": {
      "text/plain": [
       "True"
      ]
     },
     "execution_count": 29,
     "metadata": {},
     "output_type": "execute_result"
    }
   ],
   "source": [
    "# gpa가 4를 넘는 사람이 있는가?\n",
    "(gpaoverall > 4).any()"
   ]
  },
  {
   "cell_type": "code",
   "execution_count": 30,
   "id": "cb4a75a4-5a89-4e28-822e-13185bee0e7e",
   "metadata": {},
   "outputs": [
    {
     "data": {
      "text/plain": [
       "False"
      ]
     },
     "execution_count": 30,
     "metadata": {},
     "output_type": "execute_result"
    }
   ],
   "source": [
    "# 모든 사람의 gpa가 0이상인가?\n",
    "(gpaoverall >= 0).all()"
   ]
  },
  {
   "cell_type": "code",
   "execution_count": 31,
   "id": "e7d22836-f435-4d66-b296-bcf7fccb626b",
   "metadata": {},
   "outputs": [
    {
     "data": {
      "text/plain": [
       "6004"
      ]
     },
     "execution_count": 31,
     "metadata": {},
     "output_type": "execute_result"
    }
   ],
   "source": [
    "# gpa가 0 이상인 사람 수\n",
    "(gpaoverall >= 0).sum()"
   ]
  },
  {
   "cell_type": "code",
   "execution_count": 32,
   "id": "4fc07b3a-13b1-424b-ac14-03f5b45f3cfc",
   "metadata": {},
   "outputs": [
    {
     "data": {
      "text/plain": [
       "0"
      ]
     },
     "execution_count": 32,
     "metadata": {},
     "output_type": "execute_result"
    }
   ],
   "source": [
    "# gpa가 0인 사람 수\n",
    "(gpaoverall == 0).sum()"
   ]
  },
  {
   "cell_type": "code",
   "execution_count": 33,
   "id": "410d721e-e4e3-48a3-b155-c201f03abb51",
   "metadata": {},
   "outputs": [
    {
     "data": {
      "text/plain": [
       "2980"
      ]
     },
     "execution_count": 33,
     "metadata": {},
     "output_type": "execute_result"
    }
   ],
   "source": [
    "# gpa값이 없는 사람 수\n",
    "gpaoverall.isnull().sum()"
   ]
  },
  {
   "cell_type": "markdown",
   "id": "d94f78df-e564-4d38-b713-9bc9a24c3473",
   "metadata": {},
   "source": [
    "### 시리즈에서 서로 다른 열의 값을 기준으로 한 부분집합들의 기술 통계\n",
    "- 2016년 임금소득이 75백분위수를 넘는 개인과 25백분위수 아래인 개인의 고등학교 GPA평균을 각각 표시"
   ]
  },
  {
   "cell_type": "code",
   "execution_count": 36,
   "id": "976d12ee-c4c5-42ea-bd66-d54535a8b856",
   "metadata": {},
   "outputs": [
    {
     "data": {
      "text/plain": [
       "3.0804171011470256"
      ]
     },
     "execution_count": 36,
     "metadata": {},
     "output_type": "execute_result"
    }
   ],
   "source": [
    "nls97.loc[nls97.wageincome > nls97.wageincome.quantile(0.75), 'gpaoverall'].mean()"
   ]
  },
  {
   "cell_type": "code",
   "execution_count": 37,
   "id": "85bf2235-3441-4bb5-a38b-b1f260b7132f",
   "metadata": {},
   "outputs": [
    {
     "data": {
      "text/plain": [
       "2.720143415906124"
      ]
     },
     "execution_count": 37,
     "metadata": {},
     "output_type": "execute_result"
    }
   ],
   "source": [
    "nls97.loc[nls97.wageincome < nls97.wageincome.quantile(0.25), 'gpaoverall'].mean()"
   ]
  },
  {
   "cell_type": "markdown",
   "id": "1a0d62f5-8ab4-4559-8c57-442927de187f",
   "metadata": {},
   "source": [
    "### 범주형 데이터를 포함하는 시리즈에 대한 기술과 빈도"
   ]
  },
  {
   "cell_type": "code",
   "execution_count": 38,
   "id": "db1c7712-94de-4034-ac0c-7f5ad60c15d9",
   "metadata": {},
   "outputs": [
    {
     "data": {
      "text/plain": [
       "count        6672\n",
       "unique          5\n",
       "top       Married\n",
       "freq         3066\n",
       "Name: maritalstatus, dtype: object"
      ]
     },
     "execution_count": 38,
     "metadata": {},
     "output_type": "execute_result"
    }
   ],
   "source": [
    "nls97.maritalstatus.describe()"
   ]
  },
  {
   "cell_type": "code",
   "execution_count": 39,
   "id": "ceb8b4ba-8244-4787-9aff-85b6571458ca",
   "metadata": {},
   "outputs": [
    {
     "data": {
      "text/plain": [
       "Married          3066\n",
       "Never-married    2766\n",
       "Divorced          663\n",
       "Separated         154\n",
       "Widowed            23\n",
       "Name: maritalstatus, dtype: int64"
      ]
     },
     "execution_count": 39,
     "metadata": {},
     "output_type": "execute_result"
    }
   ],
   "source": [
    "nls97.maritalstatus.value_counts()"
   ]
  }
 ],
 "metadata": {
  "kernelspec": {
   "display_name": "Python 3 (ipykernel)",
   "language": "python",
   "name": "python3"
  },
  "language_info": {
   "codemirror_mode": {
    "name": "ipython",
    "version": 3
   },
   "file_extension": ".py",
   "mimetype": "text/x-python",
   "name": "python",
   "nbconvert_exporter": "python",
   "pygments_lexer": "ipython3",
   "version": "3.9.13"
  }
 },
 "nbformat": 4,
 "nbformat_minor": 5
}
