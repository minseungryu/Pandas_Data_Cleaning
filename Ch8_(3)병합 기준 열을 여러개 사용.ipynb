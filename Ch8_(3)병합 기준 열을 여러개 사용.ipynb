{
 "cells": [
  {
   "cell_type": "markdown",
   "id": "3ea98e05-a1ee-412e-981d-dd2d7d7a124c",
   "metadata": {},
   "source": [
    "# 병합 기준 열을 여러 개 사용하기\n",
    "--- \n",
    "## 데이터\n",
    "- NLS에서 추출한 2000~2004년 근무 주 수 파일과 대학 등록 파일\n",
    "- 한 행에 한 명에 대한 1년간의 정보"
   ]
  },
  {
   "cell_type": "code",
   "execution_count": 4,
   "id": "545654af-c54f-45a9-88a5-a0c000eeb62e",
   "metadata": {},
   "outputs": [],
   "source": [
    "import pandas as pd\n",
    "nls97weeksworked = pd.read_csv('./data/nls97weeksworked.csv')\n",
    "nls97colenr = pd.read_csv('./data/nls97colenr.csv')"
   ]
  },
  {
   "cell_type": "code",
   "execution_count": 5,
   "id": "90447502-237e-4b4f-bf10-c31c4c8d57db",
   "metadata": {},
   "outputs": [
    {
     "data": {
      "text/html": [
       "<div>\n",
       "<style scoped>\n",
       "    .dataframe tbody tr th:only-of-type {\n",
       "        vertical-align: middle;\n",
       "    }\n",
       "\n",
       "    .dataframe tbody tr th {\n",
       "        vertical-align: top;\n",
       "    }\n",
       "\n",
       "    .dataframe thead th {\n",
       "        text-align: right;\n",
       "    }\n",
       "</style>\n",
       "<table border=\"1\" class=\"dataframe\">\n",
       "  <thead>\n",
       "    <tr style=\"text-align: right;\">\n",
       "      <th></th>\n",
       "      <th>originalid</th>\n",
       "      <th>year</th>\n",
       "      <th>weeksworked</th>\n",
       "    </tr>\n",
       "  </thead>\n",
       "  <tbody>\n",
       "    <tr>\n",
       "      <th>32923</th>\n",
       "      <td>7199</td>\n",
       "      <td>2003</td>\n",
       "      <td>0.0</td>\n",
       "    </tr>\n",
       "    <tr>\n",
       "      <th>14214</th>\n",
       "      <td>4930</td>\n",
       "      <td>2001</td>\n",
       "      <td>52.0</td>\n",
       "    </tr>\n",
       "    <tr>\n",
       "      <th>2863</th>\n",
       "      <td>4727</td>\n",
       "      <td>2000</td>\n",
       "      <td>13.0</td>\n",
       "    </tr>\n",
       "    <tr>\n",
       "      <th>9746</th>\n",
       "      <td>6502</td>\n",
       "      <td>2001</td>\n",
       "      <td>0.0</td>\n",
       "    </tr>\n",
       "    <tr>\n",
       "      <th>2479</th>\n",
       "      <td>4036</td>\n",
       "      <td>2000</td>\n",
       "      <td>28.0</td>\n",
       "    </tr>\n",
       "    <tr>\n",
       "      <th>39435</th>\n",
       "      <td>1247</td>\n",
       "      <td>2004</td>\n",
       "      <td>52.0</td>\n",
       "    </tr>\n",
       "    <tr>\n",
       "      <th>36416</th>\n",
       "      <td>3481</td>\n",
       "      <td>2004</td>\n",
       "      <td>52.0</td>\n",
       "    </tr>\n",
       "    <tr>\n",
       "      <th>6145</th>\n",
       "      <td>8892</td>\n",
       "      <td>2000</td>\n",
       "      <td>19.0</td>\n",
       "    </tr>\n",
       "    <tr>\n",
       "      <th>5348</th>\n",
       "      <td>8411</td>\n",
       "      <td>2000</td>\n",
       "      <td>0.0</td>\n",
       "    </tr>\n",
       "    <tr>\n",
       "      <th>24193</th>\n",
       "      <td>4371</td>\n",
       "      <td>2002</td>\n",
       "      <td>34.0</td>\n",
       "    </tr>\n",
       "  </tbody>\n",
       "</table>\n",
       "</div>"
      ],
      "text/plain": [
       "       originalid  year  weeksworked\n",
       "32923        7199  2003          0.0\n",
       "14214        4930  2001         52.0\n",
       "2863         4727  2000         13.0\n",
       "9746         6502  2001          0.0\n",
       "2479         4036  2000         28.0\n",
       "39435        1247  2004         52.0\n",
       "36416        3481  2004         52.0\n",
       "6145         8892  2000         19.0\n",
       "5348         8411  2000          0.0\n",
       "24193        4371  2002         34.0"
      ]
     },
     "execution_count": 5,
     "metadata": {},
     "output_type": "execute_result"
    }
   ],
   "source": [
    "# 근무주 수 데이터 살피기\n",
    "nls97weeksworked.sample(10, random_state = 1)"
   ]
  },
  {
   "cell_type": "code",
   "execution_count": 6,
   "id": "765ea141-59fc-4e26-837a-a93f39f169ed",
   "metadata": {},
   "outputs": [
    {
     "data": {
      "text/plain": [
       "(44920, 3)"
      ]
     },
     "execution_count": 6,
     "metadata": {},
     "output_type": "execute_result"
    }
   ],
   "source": [
    "nls97weeksworked.shape"
   ]
  },
  {
   "cell_type": "code",
   "execution_count": 7,
   "id": "15acaaea-1edc-45a7-bc48-2fcb5e81fe0a",
   "metadata": {},
   "outputs": [
    {
     "data": {
      "text/plain": [
       "8984"
      ]
     },
     "execution_count": 7,
     "metadata": {},
     "output_type": "execute_result"
    }
   ],
   "source": [
    "nls97weeksworked.originalid.nunique()"
   ]
  },
  {
   "cell_type": "code",
   "execution_count": 8,
   "id": "b6e4b159-0222-4abc-aca3-fa6294b7fb8c",
   "metadata": {},
   "outputs": [
    {
     "data": {
      "text/html": [
       "<div>\n",
       "<style scoped>\n",
       "    .dataframe tbody tr th:only-of-type {\n",
       "        vertical-align: middle;\n",
       "    }\n",
       "\n",
       "    .dataframe tbody tr th {\n",
       "        vertical-align: top;\n",
       "    }\n",
       "\n",
       "    .dataframe thead th {\n",
       "        text-align: right;\n",
       "    }\n",
       "</style>\n",
       "<table border=\"1\" class=\"dataframe\">\n",
       "  <thead>\n",
       "    <tr style=\"text-align: right;\">\n",
       "      <th></th>\n",
       "      <th>originalid</th>\n",
       "      <th>year</th>\n",
       "      <th>colenr</th>\n",
       "    </tr>\n",
       "  </thead>\n",
       "  <tbody>\n",
       "    <tr>\n",
       "      <th>32923</th>\n",
       "      <td>7199</td>\n",
       "      <td>2003</td>\n",
       "      <td>1. Not enrolled</td>\n",
       "    </tr>\n",
       "    <tr>\n",
       "      <th>14214</th>\n",
       "      <td>4930</td>\n",
       "      <td>2001</td>\n",
       "      <td>1. Not enrolled</td>\n",
       "    </tr>\n",
       "    <tr>\n",
       "      <th>2863</th>\n",
       "      <td>4727</td>\n",
       "      <td>2000</td>\n",
       "      <td>NaN</td>\n",
       "    </tr>\n",
       "    <tr>\n",
       "      <th>9746</th>\n",
       "      <td>6502</td>\n",
       "      <td>2001</td>\n",
       "      <td>1. Not enrolled</td>\n",
       "    </tr>\n",
       "    <tr>\n",
       "      <th>2479</th>\n",
       "      <td>4036</td>\n",
       "      <td>2000</td>\n",
       "      <td>1. Not enrolled</td>\n",
       "    </tr>\n",
       "    <tr>\n",
       "      <th>39435</th>\n",
       "      <td>1247</td>\n",
       "      <td>2004</td>\n",
       "      <td>3. 4-year college</td>\n",
       "    </tr>\n",
       "    <tr>\n",
       "      <th>36416</th>\n",
       "      <td>3481</td>\n",
       "      <td>2004</td>\n",
       "      <td>1. Not enrolled</td>\n",
       "    </tr>\n",
       "    <tr>\n",
       "      <th>6145</th>\n",
       "      <td>8892</td>\n",
       "      <td>2000</td>\n",
       "      <td>1. Not enrolled</td>\n",
       "    </tr>\n",
       "    <tr>\n",
       "      <th>5348</th>\n",
       "      <td>8411</td>\n",
       "      <td>2000</td>\n",
       "      <td>1. Not enrolled</td>\n",
       "    </tr>\n",
       "    <tr>\n",
       "      <th>24193</th>\n",
       "      <td>4371</td>\n",
       "      <td>2002</td>\n",
       "      <td>2. 2-year college</td>\n",
       "    </tr>\n",
       "  </tbody>\n",
       "</table>\n",
       "</div>"
      ],
      "text/plain": [
       "       originalid  year              colenr\n",
       "32923        7199  2003     1. Not enrolled\n",
       "14214        4930  2001     1. Not enrolled\n",
       "2863         4727  2000                 NaN\n",
       "9746         6502  2001     1. Not enrolled\n",
       "2479         4036  2000     1. Not enrolled\n",
       "39435        1247  2004   3. 4-year college\n",
       "36416        3481  2004     1. Not enrolled\n",
       "6145         8892  2000     1. Not enrolled\n",
       "5348         8411  2000     1. Not enrolled\n",
       "24193        4371  2002  2. 2-year college "
      ]
     },
     "execution_count": 8,
     "metadata": {},
     "output_type": "execute_result"
    }
   ],
   "source": [
    "nls97colenr.sample(10, random_state=1)"
   ]
  },
  {
   "cell_type": "code",
   "execution_count": 9,
   "id": "3b4a77c1-db23-4fce-b9c3-781e50011217",
   "metadata": {},
   "outputs": [
    {
     "data": {
      "text/plain": [
       "(44920, 3)"
      ]
     },
     "execution_count": 9,
     "metadata": {},
     "output_type": "execute_result"
    }
   ],
   "source": [
    "nls97colenr.shape"
   ]
  },
  {
   "cell_type": "code",
   "execution_count": 11,
   "id": "557b491d-8837-4fc7-b1da-4243b3f07505",
   "metadata": {},
   "outputs": [
    {
     "data": {
      "text/plain": [
       "8984"
      ]
     },
     "execution_count": 11,
     "metadata": {},
     "output_type": "execute_result"
    }
   ],
   "source": [
    "nls97colenr.originalid.nunique()"
   ]
  },
  {
   "cell_type": "markdown",
   "id": "7a09725f-c5f7-43b7-930a-0ab115c623ae",
   "metadata": {},
   "source": [
    "### 병합 기준 열의 유일값 확인"
   ]
  },
  {
   "cell_type": "code",
   "execution_count": 12,
   "id": "b5d7b5d9-b4f1-4ec9-9351-2393a6dc3123",
   "metadata": {},
   "outputs": [
    {
     "data": {
      "text/plain": [
       "(44920,)"
      ]
     },
     "execution_count": 12,
     "metadata": {},
     "output_type": "execute_result"
    }
   ],
   "source": [
    "nls97weeksworked.groupby(['originalid', 'year'])['originalid'].count().shape"
   ]
  },
  {
   "cell_type": "code",
   "execution_count": 15,
   "id": "52e2a170-2356-4697-ba88-c48add52c1af",
   "metadata": {},
   "outputs": [
    {
     "data": {
      "text/plain": [
       "(44920,)"
      ]
     },
     "execution_count": 15,
     "metadata": {},
     "output_type": "execute_result"
    }
   ],
   "source": [
    "nls97colenr.groupby(['originalid', 'year'])['originalid'].count().shape"
   ]
  },
  {
   "cell_type": "markdown",
   "id": "7b82fea5-551f-485f-8b85-dbace75be33f",
   "metadata": {},
   "source": [
    "### 병합 기준 열에 불일치 있는지 확인"
   ]
  },
  {
   "cell_type": "code",
   "execution_count": 33,
   "id": "b5ad5bb3-7b64-410f-827c-3e7a239acb23",
   "metadata": {},
   "outputs": [],
   "source": [
    "def checkmerge(dfleft, dfright, idvar):\n",
    "    dfleft['inleft'] = \"Y\"\n",
    "    dfright['inright'] = \"Y\"\n",
    "    dfboth = pd.merge(dfleft[idvar + ['inleft']], dfright[idvar, ['inright']], on=idvar, how='outer')\n",
    "    dfboth.fillna('N', inplace = True)\n",
    "    print(pd.crosstab(dfboth.inleft, dfboth.inright))"
   ]
  },
  {
   "cell_type": "code",
   "execution_count": 34,
   "id": "e1d1f8d2-b62a-4810-8ccf-ddae39afb01f",
   "metadata": {},
   "outputs": [
    {
     "ename": "InvalidIndexError",
     "evalue": "(['originalid', 'year'], ['inright'])",
     "output_type": "error",
     "traceback": [
      "\u001b[0;31m---------------------------------------------------------------------------\u001b[0m",
      "\u001b[0;31mTypeError\u001b[0m                                 Traceback (most recent call last)",
      "\u001b[0;32m~/opt/anaconda3/lib/python3.9/site-packages/pandas/core/indexes/base.py\u001b[0m in \u001b[0;36mget_loc\u001b[0;34m(self, key, method, tolerance)\u001b[0m\n\u001b[1;32m   3628\u001b[0m             \u001b[0;32mtry\u001b[0m\u001b[0;34m:\u001b[0m\u001b[0;34m\u001b[0m\u001b[0;34m\u001b[0m\u001b[0m\n\u001b[0;32m-> 3629\u001b[0;31m                 \u001b[0;32mreturn\u001b[0m \u001b[0mself\u001b[0m\u001b[0;34m.\u001b[0m\u001b[0m_engine\u001b[0m\u001b[0;34m.\u001b[0m\u001b[0mget_loc\u001b[0m\u001b[0;34m(\u001b[0m\u001b[0mcasted_key\u001b[0m\u001b[0;34m)\u001b[0m\u001b[0;34m\u001b[0m\u001b[0;34m\u001b[0m\u001b[0m\n\u001b[0m\u001b[1;32m   3630\u001b[0m             \u001b[0;32mexcept\u001b[0m \u001b[0mKeyError\u001b[0m \u001b[0;32mas\u001b[0m \u001b[0merr\u001b[0m\u001b[0;34m:\u001b[0m\u001b[0;34m\u001b[0m\u001b[0;34m\u001b[0m\u001b[0m\n",
      "\u001b[0;32m~/opt/anaconda3/lib/python3.9/site-packages/pandas/_libs/index.pyx\u001b[0m in \u001b[0;36mpandas._libs.index.IndexEngine.get_loc\u001b[0;34m()\u001b[0m\n",
      "\u001b[0;32m~/opt/anaconda3/lib/python3.9/site-packages/pandas/_libs/index.pyx\u001b[0m in \u001b[0;36mpandas._libs.index.IndexEngine.get_loc\u001b[0;34m()\u001b[0m\n",
      "\u001b[0;31mTypeError\u001b[0m: '(['originalid', 'year'], ['inright'])' is an invalid key",
      "\nDuring handling of the above exception, another exception occurred:\n",
      "\u001b[0;31mInvalidIndexError\u001b[0m                         Traceback (most recent call last)",
      "\u001b[0;32m/var/folders/hj/1c4sv0bn28v5lr5g0s_fr4w80000gn/T/ipykernel_11532/4027486573.py\u001b[0m in \u001b[0;36m<module>\u001b[0;34m\u001b[0m\n\u001b[0;32m----> 1\u001b[0;31m \u001b[0mcheckmerge\u001b[0m\u001b[0;34m(\u001b[0m\u001b[0mnls97weeksworked\u001b[0m\u001b[0;34m.\u001b[0m\u001b[0mcopy\u001b[0m\u001b[0;34m(\u001b[0m\u001b[0;34m)\u001b[0m\u001b[0;34m,\u001b[0m \u001b[0mnls97colenr\u001b[0m\u001b[0;34m.\u001b[0m\u001b[0mcopy\u001b[0m\u001b[0;34m(\u001b[0m\u001b[0;34m)\u001b[0m\u001b[0;34m,\u001b[0m \u001b[0;34m[\u001b[0m\u001b[0;34m'originalid'\u001b[0m\u001b[0;34m,\u001b[0m \u001b[0;34m'year'\u001b[0m\u001b[0;34m]\u001b[0m\u001b[0;34m)\u001b[0m\u001b[0;34m\u001b[0m\u001b[0;34m\u001b[0m\u001b[0m\n\u001b[0m",
      "\u001b[0;32m/var/folders/hj/1c4sv0bn28v5lr5g0s_fr4w80000gn/T/ipykernel_11532/2781972295.py\u001b[0m in \u001b[0;36mcheckmerge\u001b[0;34m(dfleft, dfright, idvar)\u001b[0m\n\u001b[1;32m      2\u001b[0m     \u001b[0mdfleft\u001b[0m\u001b[0;34m[\u001b[0m\u001b[0;34m'inleft'\u001b[0m\u001b[0;34m]\u001b[0m \u001b[0;34m=\u001b[0m \u001b[0;34m\"Y\"\u001b[0m\u001b[0;34m\u001b[0m\u001b[0;34m\u001b[0m\u001b[0m\n\u001b[1;32m      3\u001b[0m     \u001b[0mdfright\u001b[0m\u001b[0;34m[\u001b[0m\u001b[0;34m'inright'\u001b[0m\u001b[0;34m]\u001b[0m \u001b[0;34m=\u001b[0m \u001b[0;34m\"Y\"\u001b[0m\u001b[0;34m\u001b[0m\u001b[0;34m\u001b[0m\u001b[0m\n\u001b[0;32m----> 4\u001b[0;31m     \u001b[0mdfboth\u001b[0m \u001b[0;34m=\u001b[0m \u001b[0mpd\u001b[0m\u001b[0;34m.\u001b[0m\u001b[0mmerge\u001b[0m\u001b[0;34m(\u001b[0m\u001b[0mdfleft\u001b[0m\u001b[0;34m[\u001b[0m\u001b[0midvar\u001b[0m \u001b[0;34m+\u001b[0m \u001b[0;34m[\u001b[0m\u001b[0;34m'inleft'\u001b[0m\u001b[0;34m]\u001b[0m\u001b[0;34m]\u001b[0m\u001b[0;34m,\u001b[0m \u001b[0mdfright\u001b[0m\u001b[0;34m[\u001b[0m\u001b[0midvar\u001b[0m\u001b[0;34m,\u001b[0m \u001b[0;34m[\u001b[0m\u001b[0;34m'inright'\u001b[0m\u001b[0;34m]\u001b[0m\u001b[0;34m]\u001b[0m\u001b[0;34m,\u001b[0m \u001b[0mon\u001b[0m\u001b[0;34m=\u001b[0m\u001b[0midvar\u001b[0m\u001b[0;34m,\u001b[0m \u001b[0mhow\u001b[0m\u001b[0;34m=\u001b[0m\u001b[0;34m'outer'\u001b[0m\u001b[0;34m)\u001b[0m\u001b[0;34m\u001b[0m\u001b[0;34m\u001b[0m\u001b[0m\n\u001b[0m\u001b[1;32m      5\u001b[0m     \u001b[0mdfboth\u001b[0m\u001b[0;34m.\u001b[0m\u001b[0mfillna\u001b[0m\u001b[0;34m(\u001b[0m\u001b[0;34m'N'\u001b[0m\u001b[0;34m,\u001b[0m \u001b[0minplace\u001b[0m \u001b[0;34m=\u001b[0m \u001b[0;32mTrue\u001b[0m\u001b[0;34m)\u001b[0m\u001b[0;34m\u001b[0m\u001b[0;34m\u001b[0m\u001b[0m\n\u001b[1;32m      6\u001b[0m     \u001b[0mprint\u001b[0m\u001b[0;34m(\u001b[0m\u001b[0mpd\u001b[0m\u001b[0;34m.\u001b[0m\u001b[0mcrosstab\u001b[0m\u001b[0;34m(\u001b[0m\u001b[0mdfboth\u001b[0m\u001b[0;34m.\u001b[0m\u001b[0minleft\u001b[0m\u001b[0;34m,\u001b[0m \u001b[0mdfboth\u001b[0m\u001b[0;34m.\u001b[0m\u001b[0minright\u001b[0m\u001b[0;34m)\u001b[0m\u001b[0;34m)\u001b[0m\u001b[0;34m\u001b[0m\u001b[0;34m\u001b[0m\u001b[0m\n",
      "\u001b[0;32m~/opt/anaconda3/lib/python3.9/site-packages/pandas/core/frame.py\u001b[0m in \u001b[0;36m__getitem__\u001b[0;34m(self, key)\u001b[0m\n\u001b[1;32m   3503\u001b[0m             \u001b[0;32mif\u001b[0m \u001b[0mself\u001b[0m\u001b[0;34m.\u001b[0m\u001b[0mcolumns\u001b[0m\u001b[0;34m.\u001b[0m\u001b[0mnlevels\u001b[0m \u001b[0;34m>\u001b[0m \u001b[0;36m1\u001b[0m\u001b[0;34m:\u001b[0m\u001b[0;34m\u001b[0m\u001b[0;34m\u001b[0m\u001b[0m\n\u001b[1;32m   3504\u001b[0m                 \u001b[0;32mreturn\u001b[0m \u001b[0mself\u001b[0m\u001b[0;34m.\u001b[0m\u001b[0m_getitem_multilevel\u001b[0m\u001b[0;34m(\u001b[0m\u001b[0mkey\u001b[0m\u001b[0;34m)\u001b[0m\u001b[0;34m\u001b[0m\u001b[0;34m\u001b[0m\u001b[0m\n\u001b[0;32m-> 3505\u001b[0;31m             \u001b[0mindexer\u001b[0m \u001b[0;34m=\u001b[0m \u001b[0mself\u001b[0m\u001b[0;34m.\u001b[0m\u001b[0mcolumns\u001b[0m\u001b[0;34m.\u001b[0m\u001b[0mget_loc\u001b[0m\u001b[0;34m(\u001b[0m\u001b[0mkey\u001b[0m\u001b[0;34m)\u001b[0m\u001b[0;34m\u001b[0m\u001b[0;34m\u001b[0m\u001b[0m\n\u001b[0m\u001b[1;32m   3506\u001b[0m             \u001b[0;32mif\u001b[0m \u001b[0mis_integer\u001b[0m\u001b[0;34m(\u001b[0m\u001b[0mindexer\u001b[0m\u001b[0;34m)\u001b[0m\u001b[0;34m:\u001b[0m\u001b[0;34m\u001b[0m\u001b[0;34m\u001b[0m\u001b[0m\n\u001b[1;32m   3507\u001b[0m                 \u001b[0mindexer\u001b[0m \u001b[0;34m=\u001b[0m \u001b[0;34m[\u001b[0m\u001b[0mindexer\u001b[0m\u001b[0;34m]\u001b[0m\u001b[0;34m\u001b[0m\u001b[0;34m\u001b[0m\u001b[0m\n",
      "\u001b[0;32m~/opt/anaconda3/lib/python3.9/site-packages/pandas/core/indexes/base.py\u001b[0m in \u001b[0;36mget_loc\u001b[0;34m(self, key, method, tolerance)\u001b[0m\n\u001b[1;32m   3634\u001b[0m                 \u001b[0;31m#  InvalidIndexError. Otherwise we fall through and re-raise\u001b[0m\u001b[0;34m\u001b[0m\u001b[0;34m\u001b[0m\u001b[0m\n\u001b[1;32m   3635\u001b[0m                 \u001b[0;31m#  the TypeError.\u001b[0m\u001b[0;34m\u001b[0m\u001b[0;34m\u001b[0m\u001b[0m\n\u001b[0;32m-> 3636\u001b[0;31m                 \u001b[0mself\u001b[0m\u001b[0;34m.\u001b[0m\u001b[0m_check_indexing_error\u001b[0m\u001b[0;34m(\u001b[0m\u001b[0mkey\u001b[0m\u001b[0;34m)\u001b[0m\u001b[0;34m\u001b[0m\u001b[0;34m\u001b[0m\u001b[0m\n\u001b[0m\u001b[1;32m   3637\u001b[0m                 \u001b[0;32mraise\u001b[0m\u001b[0;34m\u001b[0m\u001b[0;34m\u001b[0m\u001b[0m\n\u001b[1;32m   3638\u001b[0m \u001b[0;34m\u001b[0m\u001b[0m\n",
      "\u001b[0;32m~/opt/anaconda3/lib/python3.9/site-packages/pandas/core/indexes/base.py\u001b[0m in \u001b[0;36m_check_indexing_error\u001b[0;34m(self, key)\u001b[0m\n\u001b[1;32m   5649\u001b[0m             \u001b[0;31m# if key is not a scalar, directly raise an error (the code below\u001b[0m\u001b[0;34m\u001b[0m\u001b[0;34m\u001b[0m\u001b[0m\n\u001b[1;32m   5650\u001b[0m             \u001b[0;31m# would convert to numpy arrays and raise later any way) - GH29926\u001b[0m\u001b[0;34m\u001b[0m\u001b[0;34m\u001b[0m\u001b[0m\n\u001b[0;32m-> 5651\u001b[0;31m             \u001b[0;32mraise\u001b[0m \u001b[0mInvalidIndexError\u001b[0m\u001b[0;34m(\u001b[0m\u001b[0mkey\u001b[0m\u001b[0;34m)\u001b[0m\u001b[0;34m\u001b[0m\u001b[0;34m\u001b[0m\u001b[0m\n\u001b[0m\u001b[1;32m   5652\u001b[0m \u001b[0;34m\u001b[0m\u001b[0m\n\u001b[1;32m   5653\u001b[0m     \u001b[0;34m@\u001b[0m\u001b[0mcache_readonly\u001b[0m\u001b[0;34m\u001b[0m\u001b[0;34m\u001b[0m\u001b[0m\n",
      "\u001b[0;31mInvalidIndexError\u001b[0m: (['originalid', 'year'], ['inright'])"
     ]
    }
   ],
   "source": [
    "checkmerge(nls97weeksworked.copy(), nls97colenr.copy(), ['originalid', 'year'])"
   ]
  },
  {
   "cell_type": "markdown",
   "id": "8d59082f-b528-44e4-bf18-5b72df62d2b5",
   "metadata": {},
   "source": [
    "### 복수의 병합 기준 열을 가지고 병합 수행"
   ]
  },
  {
   "cell_type": "code",
   "execution_count": 35,
   "id": "e050893d-c4a1-4284-938f-5d6cf11d3377",
   "metadata": {},
   "outputs": [],
   "source": [
    "nlsworkschool = pd.merge(nls97weeksworked, nls97colenr, on=['originalid', 'year'], how='inner')"
   ]
  },
  {
   "cell_type": "code",
   "execution_count": 36,
   "id": "75155acb-70fe-46df-a1e9-a281666bb578",
   "metadata": {},
   "outputs": [
    {
     "data": {
      "text/html": [
       "<div>\n",
       "<style scoped>\n",
       "    .dataframe tbody tr th:only-of-type {\n",
       "        vertical-align: middle;\n",
       "    }\n",
       "\n",
       "    .dataframe tbody tr th {\n",
       "        vertical-align: top;\n",
       "    }\n",
       "\n",
       "    .dataframe thead th {\n",
       "        text-align: right;\n",
       "    }\n",
       "</style>\n",
       "<table border=\"1\" class=\"dataframe\">\n",
       "  <thead>\n",
       "    <tr style=\"text-align: right;\">\n",
       "      <th></th>\n",
       "      <th>originalid</th>\n",
       "      <th>year</th>\n",
       "      <th>weeksworked</th>\n",
       "      <th>inleft</th>\n",
       "      <th>colenr</th>\n",
       "      <th>inright</th>\n",
       "    </tr>\n",
       "  </thead>\n",
       "  <tbody>\n",
       "    <tr>\n",
       "      <th>32923</th>\n",
       "      <td>7199</td>\n",
       "      <td>2003</td>\n",
       "      <td>0.0</td>\n",
       "      <td>Y</td>\n",
       "      <td>1. Not enrolled</td>\n",
       "      <td>Y</td>\n",
       "    </tr>\n",
       "    <tr>\n",
       "      <th>14214</th>\n",
       "      <td>4930</td>\n",
       "      <td>2001</td>\n",
       "      <td>52.0</td>\n",
       "      <td>Y</td>\n",
       "      <td>1. Not enrolled</td>\n",
       "      <td>Y</td>\n",
       "    </tr>\n",
       "    <tr>\n",
       "      <th>2863</th>\n",
       "      <td>4727</td>\n",
       "      <td>2000</td>\n",
       "      <td>13.0</td>\n",
       "      <td>Y</td>\n",
       "      <td>NaN</td>\n",
       "      <td>Y</td>\n",
       "    </tr>\n",
       "    <tr>\n",
       "      <th>9746</th>\n",
       "      <td>6502</td>\n",
       "      <td>2001</td>\n",
       "      <td>0.0</td>\n",
       "      <td>Y</td>\n",
       "      <td>1. Not enrolled</td>\n",
       "      <td>Y</td>\n",
       "    </tr>\n",
       "    <tr>\n",
       "      <th>2479</th>\n",
       "      <td>4036</td>\n",
       "      <td>2000</td>\n",
       "      <td>28.0</td>\n",
       "      <td>Y</td>\n",
       "      <td>1. Not enrolled</td>\n",
       "      <td>Y</td>\n",
       "    </tr>\n",
       "    <tr>\n",
       "      <th>39435</th>\n",
       "      <td>1247</td>\n",
       "      <td>2004</td>\n",
       "      <td>52.0</td>\n",
       "      <td>Y</td>\n",
       "      <td>3. 4-year college</td>\n",
       "      <td>Y</td>\n",
       "    </tr>\n",
       "    <tr>\n",
       "      <th>36416</th>\n",
       "      <td>3481</td>\n",
       "      <td>2004</td>\n",
       "      <td>52.0</td>\n",
       "      <td>Y</td>\n",
       "      <td>1. Not enrolled</td>\n",
       "      <td>Y</td>\n",
       "    </tr>\n",
       "    <tr>\n",
       "      <th>6145</th>\n",
       "      <td>8892</td>\n",
       "      <td>2000</td>\n",
       "      <td>19.0</td>\n",
       "      <td>Y</td>\n",
       "      <td>1. Not enrolled</td>\n",
       "      <td>Y</td>\n",
       "    </tr>\n",
       "    <tr>\n",
       "      <th>5348</th>\n",
       "      <td>8411</td>\n",
       "      <td>2000</td>\n",
       "      <td>0.0</td>\n",
       "      <td>Y</td>\n",
       "      <td>1. Not enrolled</td>\n",
       "      <td>Y</td>\n",
       "    </tr>\n",
       "    <tr>\n",
       "      <th>24193</th>\n",
       "      <td>4371</td>\n",
       "      <td>2002</td>\n",
       "      <td>34.0</td>\n",
       "      <td>Y</td>\n",
       "      <td>2. 2-year college</td>\n",
       "      <td>Y</td>\n",
       "    </tr>\n",
       "  </tbody>\n",
       "</table>\n",
       "</div>"
      ],
      "text/plain": [
       "       originalid  year  weeksworked inleft              colenr inright\n",
       "32923        7199  2003          0.0      Y     1. Not enrolled       Y\n",
       "14214        4930  2001         52.0      Y     1. Not enrolled       Y\n",
       "2863         4727  2000         13.0      Y                 NaN       Y\n",
       "9746         6502  2001          0.0      Y     1. Not enrolled       Y\n",
       "2479         4036  2000         28.0      Y     1. Not enrolled       Y\n",
       "39435        1247  2004         52.0      Y   3. 4-year college       Y\n",
       "36416        3481  2004         52.0      Y     1. Not enrolled       Y\n",
       "6145         8892  2000         19.0      Y     1. Not enrolled       Y\n",
       "5348         8411  2000          0.0      Y     1. Not enrolled       Y\n",
       "24193        4371  2002         34.0      Y  2. 2-year college        Y"
      ]
     },
     "execution_count": 36,
     "metadata": {},
     "output_type": "execute_result"
    }
   ],
   "source": [
    "nlsworkschool.sample(10, random_state=1)"
   ]
  }
 ],
 "metadata": {
  "kernelspec": {
   "display_name": "Python 3 (ipykernel)",
   "language": "python",
   "name": "python3"
  },
  "language_info": {
   "codemirror_mode": {
    "name": "ipython",
    "version": 3
   },
   "file_extension": ".py",
   "mimetype": "text/x-python",
   "name": "python",
   "nbconvert_exporter": "python",
   "pygments_lexer": "ipython3",
   "version": "3.9.13"
  }
 },
 "nbformat": 4,
 "nbformat_minor": 5
}
