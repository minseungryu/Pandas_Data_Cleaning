{
 "cells": [
  {
   "cell_type": "markdown",
   "id": "93f23270-3730-49a8-b2d2-df21ca975e97",
   "metadata": {},
   "source": [
    "# stack과 melt로 넓은 데이터를 긴 포맷으로 리셰이핑\n",
    "---\n",
    "- 변수명 뒤쪽에 기간(월 또는 연도)을 나타내는 부분이 붙어 있을 수도 있고\n",
    "- 비슷한 이름의 변수들이 여러개 있는 경우도 있음\n",
    "---\n",
    "- stack이나 melt 중 어느 것을 사용해도 되지만, melt가 좀 더 유연함\n",
    "- stack을 사용하면 열 이름이 모두 인덱스로 옮겨짐\n",
    "- melt를 사용하면 인덱스가 아닌 id 변수를 기준으로 열 이름과 값을 회전할 수 있음 → id_var 매개변수를 사용, 어떠 ㄴ변수를 녹일지는 value_vars 매개변수로 지정\n",
    "---\n",
    "### NLS 데이터 사용\n",
    "- 근무 주 수 데이터의 열 이름에서 연도를 추출 -> 넓은 데이터를 긴 데이터로 변환해보자."
   ]
  },
  {
   "cell_type": "code",
   "execution_count": 1,
   "id": "7c0a4ea4-0cf2-43a0-80ab-3456a3e0f60a",
   "metadata": {},
   "outputs": [],
   "source": [
    "import pandas as pd\n",
    "nls97 = pd.read_csv('data/nls97f.csv')"
   ]
  },
  {
   "cell_type": "code",
   "execution_count": 2,
   "id": "49d5f6a0-40ee-413f-a72c-7e3f98c86eb8",
   "metadata": {},
   "outputs": [],
   "source": [
    "nls97.set_index(['originalid'], inplace = True)"
   ]
  },
  {
   "cell_type": "code",
   "execution_count": 3,
   "id": "3e182ab8-3653-4711-836d-384f91055a40",
   "metadata": {},
   "outputs": [],
   "source": [
    "# 근무 주 수 값의 일부를 확인\n",
    "weeksworkedcols = ['weeksworked00', 'weeksworked01', 'weeksworked02', 'weeksworked03', 'weeksworked04']"
   ]
  },
  {
   "cell_type": "code",
   "execution_count": 4,
   "id": "2013ca82-cb29-4e5a-a799-d73b64fd1b7b",
   "metadata": {},
   "outputs": [
    {
     "data": {
      "text/html": [
       "<div>\n",
       "<style scoped>\n",
       "    .dataframe tbody tr th:only-of-type {\n",
       "        vertical-align: middle;\n",
       "    }\n",
       "\n",
       "    .dataframe tbody tr th {\n",
       "        vertical-align: top;\n",
       "    }\n",
       "\n",
       "    .dataframe thead th {\n",
       "        text-align: right;\n",
       "    }\n",
       "</style>\n",
       "<table border=\"1\" class=\"dataframe\">\n",
       "  <thead>\n",
       "    <tr style=\"text-align: right;\">\n",
       "      <th></th>\n",
       "      <th>weeksworked00</th>\n",
       "      <th>weeksworked01</th>\n",
       "      <th>weeksworked02</th>\n",
       "      <th>weeksworked03</th>\n",
       "      <th>weeksworked04</th>\n",
       "    </tr>\n",
       "    <tr>\n",
       "      <th>originalid</th>\n",
       "      <th></th>\n",
       "      <th></th>\n",
       "      <th></th>\n",
       "      <th></th>\n",
       "      <th></th>\n",
       "    </tr>\n",
       "  </thead>\n",
       "  <tbody>\n",
       "    <tr>\n",
       "      <th>8245</th>\n",
       "      <td>46.0</td>\n",
       "      <td>52.0</td>\n",
       "      <td>52.0</td>\n",
       "      <td>48.0</td>\n",
       "      <td>52.0</td>\n",
       "    </tr>\n",
       "    <tr>\n",
       "      <th>3962</th>\n",
       "      <td>5.0</td>\n",
       "      <td>49.0</td>\n",
       "      <td>52.0</td>\n",
       "      <td>52.0</td>\n",
       "      <td>52.0</td>\n",
       "    </tr>\n",
       "  </tbody>\n",
       "</table>\n",
       "</div>"
      ],
      "text/plain": [
       "            weeksworked00  weeksworked01  weeksworked02  weeksworked03  \\\n",
       "originalid                                                               \n",
       "8245                 46.0           52.0           52.0           48.0   \n",
       "3962                  5.0           49.0           52.0           52.0   \n",
       "\n",
       "            weeksworked04  \n",
       "originalid                 \n",
       "8245                 52.0  \n",
       "3962                 52.0  "
      ]
     },
     "execution_count": 4,
     "metadata": {},
     "output_type": "execute_result"
    }
   ],
   "source": [
    "nls97[weeksworkedcols].head(2)"
   ]
  },
  {
   "cell_type": "code",
   "execution_count": 5,
   "id": "d6fe022d-be49-47f5-b031-286f13212b09",
   "metadata": {},
   "outputs": [
    {
     "data": {
      "text/plain": [
       "(8984, 89)"
      ]
     },
     "execution_count": 5,
     "metadata": {},
     "output_type": "execute_result"
    }
   ],
   "source": [
    "nls97.shape"
   ]
  },
  {
   "cell_type": "markdown",
   "id": "bb006de0-281b-4b18-a8ad-209dc66c426b",
   "metadata": {},
   "source": [
    "### stack을 사용해, 넓은 데이터를 긴 데이터로 변환"
   ]
  },
  {
   "cell_type": "code",
   "execution_count": 6,
   "id": "6dfb71bf-7be5-4273-8814-582167e37d02",
   "metadata": {},
   "outputs": [],
   "source": [
    "weeksworked = nls97[weeksworkedcols].stack(dropna=False).reset_index().rename(columns={'level_1':'year', 0:'weeksworked'})"
   ]
  },
  {
   "cell_type": "code",
   "execution_count": 7,
   "id": "a465a2cd-aa94-408a-8528-ef2655631d71",
   "metadata": {},
   "outputs": [
    {
     "data": {
      "text/html": [
       "<div>\n",
       "<style scoped>\n",
       "    .dataframe tbody tr th:only-of-type {\n",
       "        vertical-align: middle;\n",
       "    }\n",
       "\n",
       "    .dataframe tbody tr th {\n",
       "        vertical-align: top;\n",
       "    }\n",
       "\n",
       "    .dataframe thead th {\n",
       "        text-align: right;\n",
       "    }\n",
       "</style>\n",
       "<table border=\"1\" class=\"dataframe\">\n",
       "  <thead>\n",
       "    <tr style=\"text-align: right;\">\n",
       "      <th></th>\n",
       "      <th>originalid</th>\n",
       "      <th>year</th>\n",
       "      <th>weeksworked</th>\n",
       "    </tr>\n",
       "  </thead>\n",
       "  <tbody>\n",
       "    <tr>\n",
       "      <th>0</th>\n",
       "      <td>8245</td>\n",
       "      <td>weeksworked00</td>\n",
       "      <td>46.0</td>\n",
       "    </tr>\n",
       "    <tr>\n",
       "      <th>1</th>\n",
       "      <td>8245</td>\n",
       "      <td>weeksworked01</td>\n",
       "      <td>52.0</td>\n",
       "    </tr>\n",
       "    <tr>\n",
       "      <th>2</th>\n",
       "      <td>8245</td>\n",
       "      <td>weeksworked02</td>\n",
       "      <td>52.0</td>\n",
       "    </tr>\n",
       "    <tr>\n",
       "      <th>3</th>\n",
       "      <td>8245</td>\n",
       "      <td>weeksworked03</td>\n",
       "      <td>48.0</td>\n",
       "    </tr>\n",
       "    <tr>\n",
       "      <th>4</th>\n",
       "      <td>8245</td>\n",
       "      <td>weeksworked04</td>\n",
       "      <td>52.0</td>\n",
       "    </tr>\n",
       "    <tr>\n",
       "      <th>5</th>\n",
       "      <td>3962</td>\n",
       "      <td>weeksworked00</td>\n",
       "      <td>5.0</td>\n",
       "    </tr>\n",
       "    <tr>\n",
       "      <th>6</th>\n",
       "      <td>3962</td>\n",
       "      <td>weeksworked01</td>\n",
       "      <td>49.0</td>\n",
       "    </tr>\n",
       "    <tr>\n",
       "      <th>7</th>\n",
       "      <td>3962</td>\n",
       "      <td>weeksworked02</td>\n",
       "      <td>52.0</td>\n",
       "    </tr>\n",
       "    <tr>\n",
       "      <th>8</th>\n",
       "      <td>3962</td>\n",
       "      <td>weeksworked03</td>\n",
       "      <td>52.0</td>\n",
       "    </tr>\n",
       "    <tr>\n",
       "      <th>9</th>\n",
       "      <td>3962</td>\n",
       "      <td>weeksworked04</td>\n",
       "      <td>52.0</td>\n",
       "    </tr>\n",
       "  </tbody>\n",
       "</table>\n",
       "</div>"
      ],
      "text/plain": [
       "   originalid           year  weeksworked\n",
       "0        8245  weeksworked00         46.0\n",
       "1        8245  weeksworked01         52.0\n",
       "2        8245  weeksworked02         52.0\n",
       "3        8245  weeksworked03         48.0\n",
       "4        8245  weeksworked04         52.0\n",
       "5        3962  weeksworked00          5.0\n",
       "6        3962  weeksworked01         49.0\n",
       "7        3962  weeksworked02         52.0\n",
       "8        3962  weeksworked03         52.0\n",
       "9        3962  weeksworked04         52.0"
      ]
     },
     "execution_count": 7,
     "metadata": {},
     "output_type": "execute_result"
    }
   ],
   "source": [
    "weeksworked.head(10)"
   ]
  },
  {
   "cell_type": "markdown",
   "id": "3ceeb390-9d81-4e1c-9f58-f68ffa73387d",
   "metadata": {},
   "source": [
    "### year 값 수정\n",
    "- 연도 마지막 숫자를 정수로 변환 + 2000하기"
   ]
  },
  {
   "cell_type": "code",
   "execution_count": 8,
   "id": "7f181242-078b-426a-9cb7-be69b7e9ecaa",
   "metadata": {},
   "outputs": [],
   "source": [
    "weeksworked['year'] = weeksworked['year'].str[-2:].astype(int) + 2000"
   ]
  },
  {
   "cell_type": "code",
   "execution_count": 9,
   "id": "7d85db14-305f-4147-a0f2-5f49fb954da9",
   "metadata": {},
   "outputs": [
    {
     "data": {
      "text/html": [
       "<div>\n",
       "<style scoped>\n",
       "    .dataframe tbody tr th:only-of-type {\n",
       "        vertical-align: middle;\n",
       "    }\n",
       "\n",
       "    .dataframe tbody tr th {\n",
       "        vertical-align: top;\n",
       "    }\n",
       "\n",
       "    .dataframe thead th {\n",
       "        text-align: right;\n",
       "    }\n",
       "</style>\n",
       "<table border=\"1\" class=\"dataframe\">\n",
       "  <thead>\n",
       "    <tr style=\"text-align: right;\">\n",
       "      <th></th>\n",
       "      <th>originalid</th>\n",
       "      <th>year</th>\n",
       "      <th>weeksworked</th>\n",
       "    </tr>\n",
       "  </thead>\n",
       "  <tbody>\n",
       "    <tr>\n",
       "      <th>0</th>\n",
       "      <td>8245</td>\n",
       "      <td>2000</td>\n",
       "      <td>46.0</td>\n",
       "    </tr>\n",
       "    <tr>\n",
       "      <th>1</th>\n",
       "      <td>8245</td>\n",
       "      <td>2001</td>\n",
       "      <td>52.0</td>\n",
       "    </tr>\n",
       "    <tr>\n",
       "      <th>2</th>\n",
       "      <td>8245</td>\n",
       "      <td>2002</td>\n",
       "      <td>52.0</td>\n",
       "    </tr>\n",
       "    <tr>\n",
       "      <th>3</th>\n",
       "      <td>8245</td>\n",
       "      <td>2003</td>\n",
       "      <td>48.0</td>\n",
       "    </tr>\n",
       "    <tr>\n",
       "      <th>4</th>\n",
       "      <td>8245</td>\n",
       "      <td>2004</td>\n",
       "      <td>52.0</td>\n",
       "    </tr>\n",
       "    <tr>\n",
       "      <th>5</th>\n",
       "      <td>3962</td>\n",
       "      <td>2000</td>\n",
       "      <td>5.0</td>\n",
       "    </tr>\n",
       "    <tr>\n",
       "      <th>6</th>\n",
       "      <td>3962</td>\n",
       "      <td>2001</td>\n",
       "      <td>49.0</td>\n",
       "    </tr>\n",
       "    <tr>\n",
       "      <th>7</th>\n",
       "      <td>3962</td>\n",
       "      <td>2002</td>\n",
       "      <td>52.0</td>\n",
       "    </tr>\n",
       "    <tr>\n",
       "      <th>8</th>\n",
       "      <td>3962</td>\n",
       "      <td>2003</td>\n",
       "      <td>52.0</td>\n",
       "    </tr>\n",
       "    <tr>\n",
       "      <th>9</th>\n",
       "      <td>3962</td>\n",
       "      <td>2004</td>\n",
       "      <td>52.0</td>\n",
       "    </tr>\n",
       "  </tbody>\n",
       "</table>\n",
       "</div>"
      ],
      "text/plain": [
       "   originalid  year  weeksworked\n",
       "0        8245  2000         46.0\n",
       "1        8245  2001         52.0\n",
       "2        8245  2002         52.0\n",
       "3        8245  2003         48.0\n",
       "4        8245  2004         52.0\n",
       "5        3962  2000          5.0\n",
       "6        3962  2001         49.0\n",
       "7        3962  2002         52.0\n",
       "8        3962  2003         52.0\n",
       "9        3962  2004         52.0"
      ]
     },
     "execution_count": 9,
     "metadata": {},
     "output_type": "execute_result"
    }
   ],
   "source": [
    "weeksworked.head(10)"
   ]
  },
  {
   "cell_type": "code",
   "execution_count": 10,
   "id": "6d144e00-4a7c-488e-892f-ceab9848a8d8",
   "metadata": {},
   "outputs": [
    {
     "data": {
      "text/plain": [
       "(44920, 3)"
      ]
     },
     "execution_count": 10,
     "metadata": {},
     "output_type": "execute_result"
    }
   ],
   "source": [
    "weeksworked.shape"
   ]
  },
  {
   "cell_type": "markdown",
   "id": "284e8ee0-d8ef-4aa4-8c9b-8ac140d206c8",
   "metadata": {},
   "source": [
    "### melt(회전)를 사용해 넓은 데이터를 길게 변환"
   ]
  },
  {
   "cell_type": "code",
   "execution_count": 11,
   "id": "c85a7a70-7249-4256-82cd-a0c6980215cf",
   "metadata": {},
   "outputs": [],
   "source": [
    "weeksworked = nls97.reset_index().loc[:, ['originalid'] + weeksworkedcols].melt(id_vars=['originalid'],\n",
    "                                                                 value_vars=weeksworkedcols,\n",
    "                                                                 var_name='year',\n",
    "                                                                 value_name='weeksworked')"
   ]
  },
  {
   "cell_type": "code",
   "execution_count": 12,
   "id": "362acd2e-ce65-4390-b7fa-5e25189e126c",
   "metadata": {},
   "outputs": [],
   "source": [
    "weeksworked['year'] = weeksworked.year.str[-2:].astype(int) + 2000"
   ]
  },
  {
   "cell_type": "code",
   "execution_count": 13,
   "id": "07dd4f31-a537-46c4-889e-00f7165883f0",
   "metadata": {},
   "outputs": [],
   "source": [
    "weeksworked.set_index(['originalid'], inplace=True)"
   ]
  },
  {
   "cell_type": "code",
   "execution_count": 14,
   "id": "6e77edfd-b1e9-4557-a2a1-2ca4b2f1294a",
   "metadata": {},
   "outputs": [
    {
     "data": {
      "text/html": [
       "<div>\n",
       "<style scoped>\n",
       "    .dataframe tbody tr th:only-of-type {\n",
       "        vertical-align: middle;\n",
       "    }\n",
       "\n",
       "    .dataframe tbody tr th {\n",
       "        vertical-align: top;\n",
       "    }\n",
       "\n",
       "    .dataframe thead th {\n",
       "        text-align: right;\n",
       "    }\n",
       "</style>\n",
       "<table border=\"1\" class=\"dataframe\">\n",
       "  <thead>\n",
       "    <tr style=\"text-align: right;\">\n",
       "      <th></th>\n",
       "      <th>year</th>\n",
       "      <th>weeksworked</th>\n",
       "    </tr>\n",
       "    <tr>\n",
       "      <th>originalid</th>\n",
       "      <th></th>\n",
       "      <th></th>\n",
       "    </tr>\n",
       "  </thead>\n",
       "  <tbody>\n",
       "    <tr>\n",
       "      <th>8245</th>\n",
       "      <td>2000</td>\n",
       "      <td>46.0</td>\n",
       "    </tr>\n",
       "    <tr>\n",
       "      <th>8245</th>\n",
       "      <td>2001</td>\n",
       "      <td>52.0</td>\n",
       "    </tr>\n",
       "    <tr>\n",
       "      <th>8245</th>\n",
       "      <td>2002</td>\n",
       "      <td>52.0</td>\n",
       "    </tr>\n",
       "    <tr>\n",
       "      <th>8245</th>\n",
       "      <td>2003</td>\n",
       "      <td>48.0</td>\n",
       "    </tr>\n",
       "    <tr>\n",
       "      <th>8245</th>\n",
       "      <td>2004</td>\n",
       "      <td>52.0</td>\n",
       "    </tr>\n",
       "    <tr>\n",
       "      <th>3962</th>\n",
       "      <td>2000</td>\n",
       "      <td>5.0</td>\n",
       "    </tr>\n",
       "    <tr>\n",
       "      <th>3962</th>\n",
       "      <td>2001</td>\n",
       "      <td>49.0</td>\n",
       "    </tr>\n",
       "    <tr>\n",
       "      <th>3962</th>\n",
       "      <td>2002</td>\n",
       "      <td>52.0</td>\n",
       "    </tr>\n",
       "    <tr>\n",
       "      <th>3962</th>\n",
       "      <td>2003</td>\n",
       "      <td>52.0</td>\n",
       "    </tr>\n",
       "    <tr>\n",
       "      <th>3962</th>\n",
       "      <td>2004</td>\n",
       "      <td>52.0</td>\n",
       "    </tr>\n",
       "  </tbody>\n",
       "</table>\n",
       "</div>"
      ],
      "text/plain": [
       "            year  weeksworked\n",
       "originalid                   \n",
       "8245        2000         46.0\n",
       "8245        2001         52.0\n",
       "8245        2002         52.0\n",
       "8245        2003         48.0\n",
       "8245        2004         52.0\n",
       "3962        2000          5.0\n",
       "3962        2001         49.0\n",
       "3962        2002         52.0\n",
       "3962        2003         52.0\n",
       "3962        2004         52.0"
      ]
     },
     "execution_count": 14,
     "metadata": {},
     "output_type": "execute_result"
    }
   ],
   "source": [
    "weeksworked.loc[[8245, 3962]]"
   ]
  },
  {
   "cell_type": "markdown",
   "id": "55101aa9-3ab6-4fa9-bc08-1aaa9fed92d4",
   "metadata": {},
   "source": [
    "### 대학 등록 열을 녹여서(melt) 리셰이핑"
   ]
  },
  {
   "cell_type": "code",
   "execution_count": 15,
   "id": "bf56e47b-c7cb-499e-a39c-682d4e141112",
   "metadata": {},
   "outputs": [],
   "source": [
    "colenrcols = ['colenroct00', 'colenroct01', 'colenroct02', 'colenroct03', 'colenroct04']"
   ]
  },
  {
   "cell_type": "code",
   "execution_count": 16,
   "id": "151dda51-e708-4c82-bf61-4967566e56c0",
   "metadata": {},
   "outputs": [],
   "source": [
    "colenr = nls97.reset_index().loc[:, ['originalid'] + colenrcols].melt(id_vars=['originalid'],\n",
    "                                                            value_vars=colenrcols,\n",
    "                                                            var_name='year',\n",
    "                                                            value_name='colenr')"
   ]
  },
  {
   "cell_type": "code",
   "execution_count": 17,
   "id": "e4ea9bd7-50cc-4ad4-9428-134dc5a2518f",
   "metadata": {},
   "outputs": [],
   "source": [
    "colenr['year'] = colenr.year.str[-2:].astype(int) + 2000"
   ]
  },
  {
   "cell_type": "code",
   "execution_count": 18,
   "id": "35358eea-ae88-43cf-8249-ee98bce9037f",
   "metadata": {},
   "outputs": [],
   "source": [
    "colenr.set_index('originalid', inplace=True)"
   ]
  },
  {
   "cell_type": "code",
   "execution_count": 19,
   "id": "7f9cd9ea-4712-4c55-b6ed-544ebd6c77f5",
   "metadata": {},
   "outputs": [
    {
     "data": {
      "text/html": [
       "<div>\n",
       "<style scoped>\n",
       "    .dataframe tbody tr th:only-of-type {\n",
       "        vertical-align: middle;\n",
       "    }\n",
       "\n",
       "    .dataframe tbody tr th {\n",
       "        vertical-align: top;\n",
       "    }\n",
       "\n",
       "    .dataframe thead th {\n",
       "        text-align: right;\n",
       "    }\n",
       "</style>\n",
       "<table border=\"1\" class=\"dataframe\">\n",
       "  <thead>\n",
       "    <tr style=\"text-align: right;\">\n",
       "      <th></th>\n",
       "      <th>year</th>\n",
       "      <th>colenr</th>\n",
       "    </tr>\n",
       "    <tr>\n",
       "      <th>originalid</th>\n",
       "      <th></th>\n",
       "      <th></th>\n",
       "    </tr>\n",
       "  </thead>\n",
       "  <tbody>\n",
       "    <tr>\n",
       "      <th>8542</th>\n",
       "      <td>2000</td>\n",
       "      <td>1. Not enrolled</td>\n",
       "    </tr>\n",
       "    <tr>\n",
       "      <th>8542</th>\n",
       "      <td>2001</td>\n",
       "      <td>1. Not enrolled</td>\n",
       "    </tr>\n",
       "    <tr>\n",
       "      <th>8542</th>\n",
       "      <td>2002</td>\n",
       "      <td>1. Not enrolled</td>\n",
       "    </tr>\n",
       "    <tr>\n",
       "      <th>8542</th>\n",
       "      <td>2003</td>\n",
       "      <td>1. Not enrolled</td>\n",
       "    </tr>\n",
       "    <tr>\n",
       "      <th>8542</th>\n",
       "      <td>2004</td>\n",
       "      <td>1. Not enrolled</td>\n",
       "    </tr>\n",
       "    <tr>\n",
       "      <th>3962</th>\n",
       "      <td>2000</td>\n",
       "      <td>1. Not enrolled</td>\n",
       "    </tr>\n",
       "    <tr>\n",
       "      <th>3962</th>\n",
       "      <td>2001</td>\n",
       "      <td>1. Not enrolled</td>\n",
       "    </tr>\n",
       "    <tr>\n",
       "      <th>3962</th>\n",
       "      <td>2002</td>\n",
       "      <td>1. Not enrolled</td>\n",
       "    </tr>\n",
       "    <tr>\n",
       "      <th>3962</th>\n",
       "      <td>2003</td>\n",
       "      <td>1. Not enrolled</td>\n",
       "    </tr>\n",
       "    <tr>\n",
       "      <th>3962</th>\n",
       "      <td>2004</td>\n",
       "      <td>1. Not enrolled</td>\n",
       "    </tr>\n",
       "  </tbody>\n",
       "</table>\n",
       "</div>"
      ],
      "text/plain": [
       "            year           colenr\n",
       "originalid                       \n",
       "8542        2000  1. Not enrolled\n",
       "8542        2001  1. Not enrolled\n",
       "8542        2002  1. Not enrolled\n",
       "8542        2003  1. Not enrolled\n",
       "8542        2004  1. Not enrolled\n",
       "3962        2000  1. Not enrolled\n",
       "3962        2001  1. Not enrolled\n",
       "3962        2002  1. Not enrolled\n",
       "3962        2003  1. Not enrolled\n",
       "3962        2004  1. Not enrolled"
      ]
     },
     "execution_count": 19,
     "metadata": {},
     "output_type": "execute_result"
    }
   ],
   "source": [
    "colenr.loc[[8542, 3962]]"
   ]
  },
  {
   "cell_type": "markdown",
   "id": "a7d63737-5e45-4538-9ed1-d5737b65a450",
   "metadata": {},
   "source": [
    "### 근무 주 수와 대학 등록 데이터 병합"
   ]
  },
  {
   "cell_type": "code",
   "execution_count": 20,
   "id": "be1f0993-64bb-4552-ab55-d681aafb568c",
   "metadata": {},
   "outputs": [],
   "source": [
    "workschool = pd.merge(weeksworked, colenr, on=['originalid', 'year'], how='inner')"
   ]
  },
  {
   "cell_type": "code",
   "execution_count": 21,
   "id": "0c60cb4f-1e12-4901-b6dd-6352968f39de",
   "metadata": {},
   "outputs": [
    {
     "data": {
      "text/plain": [
       "(44920, 3)"
      ]
     },
     "execution_count": 21,
     "metadata": {},
     "output_type": "execute_result"
    }
   ],
   "source": [
    "workschool.shape"
   ]
  },
  {
   "cell_type": "code",
   "execution_count": 22,
   "id": "3c5204d6-282d-4098-b9df-a7c68f1c00d0",
   "metadata": {},
   "outputs": [
    {
     "data": {
      "text/html": [
       "<div>\n",
       "<style scoped>\n",
       "    .dataframe tbody tr th:only-of-type {\n",
       "        vertical-align: middle;\n",
       "    }\n",
       "\n",
       "    .dataframe tbody tr th {\n",
       "        vertical-align: top;\n",
       "    }\n",
       "\n",
       "    .dataframe thead th {\n",
       "        text-align: right;\n",
       "    }\n",
       "</style>\n",
       "<table border=\"1\" class=\"dataframe\">\n",
       "  <thead>\n",
       "    <tr style=\"text-align: right;\">\n",
       "      <th></th>\n",
       "      <th>year</th>\n",
       "      <th>weeksworked</th>\n",
       "      <th>colenr</th>\n",
       "    </tr>\n",
       "    <tr>\n",
       "      <th>originalid</th>\n",
       "      <th></th>\n",
       "      <th></th>\n",
       "      <th></th>\n",
       "    </tr>\n",
       "  </thead>\n",
       "  <tbody>\n",
       "    <tr>\n",
       "      <th>8245</th>\n",
       "      <td>2000</td>\n",
       "      <td>46.0</td>\n",
       "      <td>1. Not enrolled</td>\n",
       "    </tr>\n",
       "    <tr>\n",
       "      <th>8245</th>\n",
       "      <td>2001</td>\n",
       "      <td>52.0</td>\n",
       "      <td>1. Not enrolled</td>\n",
       "    </tr>\n",
       "    <tr>\n",
       "      <th>8245</th>\n",
       "      <td>2002</td>\n",
       "      <td>52.0</td>\n",
       "      <td>1. Not enrolled</td>\n",
       "    </tr>\n",
       "    <tr>\n",
       "      <th>8245</th>\n",
       "      <td>2003</td>\n",
       "      <td>48.0</td>\n",
       "      <td>1. Not enrolled</td>\n",
       "    </tr>\n",
       "    <tr>\n",
       "      <th>8245</th>\n",
       "      <td>2004</td>\n",
       "      <td>52.0</td>\n",
       "      <td>1. Not enrolled</td>\n",
       "    </tr>\n",
       "    <tr>\n",
       "      <th>3962</th>\n",
       "      <td>2000</td>\n",
       "      <td>5.0</td>\n",
       "      <td>1. Not enrolled</td>\n",
       "    </tr>\n",
       "    <tr>\n",
       "      <th>3962</th>\n",
       "      <td>2001</td>\n",
       "      <td>49.0</td>\n",
       "      <td>1. Not enrolled</td>\n",
       "    </tr>\n",
       "    <tr>\n",
       "      <th>3962</th>\n",
       "      <td>2002</td>\n",
       "      <td>52.0</td>\n",
       "      <td>1. Not enrolled</td>\n",
       "    </tr>\n",
       "    <tr>\n",
       "      <th>3962</th>\n",
       "      <td>2003</td>\n",
       "      <td>52.0</td>\n",
       "      <td>1. Not enrolled</td>\n",
       "    </tr>\n",
       "    <tr>\n",
       "      <th>3962</th>\n",
       "      <td>2004</td>\n",
       "      <td>52.0</td>\n",
       "      <td>1. Not enrolled</td>\n",
       "    </tr>\n",
       "  </tbody>\n",
       "</table>\n",
       "</div>"
      ],
      "text/plain": [
       "            year  weeksworked           colenr\n",
       "originalid                                    \n",
       "8245        2000         46.0  1. Not enrolled\n",
       "8245        2001         52.0  1. Not enrolled\n",
       "8245        2002         52.0  1. Not enrolled\n",
       "8245        2003         48.0  1. Not enrolled\n",
       "8245        2004         52.0  1. Not enrolled\n",
       "3962        2000          5.0  1. Not enrolled\n",
       "3962        2001         49.0  1. Not enrolled\n",
       "3962        2002         52.0  1. Not enrolled\n",
       "3962        2003         52.0  1. Not enrolled\n",
       "3962        2004         52.0  1. Not enrolled"
      ]
     },
     "execution_count": 22,
     "metadata": {},
     "output_type": "execute_result"
    }
   ],
   "source": [
    "workschool.loc[[8245, 3962]]"
   ]
  }
 ],
 "metadata": {
  "kernelspec": {
   "display_name": "Python 3 (ipykernel)",
   "language": "python",
   "name": "python3"
  },
  "language_info": {
   "codemirror_mode": {
    "name": "ipython",
    "version": 3
   },
   "file_extension": ".py",
   "mimetype": "text/x-python",
   "name": "python",
   "nbconvert_exporter": "python",
   "pygments_lexer": "ipython3",
   "version": "3.9.13"
  }
 },
 "nbformat": 4,
 "nbformat_minor": 5
}
