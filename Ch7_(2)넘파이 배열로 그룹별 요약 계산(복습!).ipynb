{
 "cells": [
  {
   "cell_type": "markdown",
   "id": "3e579da8-8042-4e40-a9ec-797581d3f541",
   "metadata": {},
   "source": [
    "# (2)넘파이 배열의 그룹별 요약을 계산\n",
    "- itertuples로 했던 작업을 넘파이 배열을 사용해 수행 가능\n",
    "- 넘파이 배열을 사용해 데이터 부분집합에 대한 요약값을 얻을 수도 \n",
    "---\n",
    "- 표 데이터를 다룰 때 넘파이 배열은 유용하지만, 행 사이의 계산을 필요로 함\n",
    "- 넘파이 배열 탐색이 판다스 데이터프레임 순회보다 빠름\n",
    "- 일반적으로 데이터의 특정 세그먼트에 대해 재빨리 요약 값을 얻고자 할 때는 넘파이 배열을 선택하는 것이 합리적"
   ]
  },
  {
   "cell_type": "code",
   "execution_count": 10,
   "id": "1a0b44e7-0233-4525-96b4-609b759713e7",
   "metadata": {},
   "outputs": [],
   "source": [
    "import pandas as pd\n",
    "import numpy as np\n",
    "coviddaily = pd.read_csv('data/coviddaily720.csv', parse_dates=['casedate'])\n",
    "ltbrazil = pd.read_csv('data/ltbrazil.csv')"
   ]
  },
  {
   "cell_type": "code",
   "execution_count": 11,
   "id": "81365ae2-bf22-48ae-943b-2bce2c724e38",
   "metadata": {},
   "outputs": [],
   "source": [
    "loclist = coviddaily.location.unique().tolist()"
   ]
  },
  {
   "cell_type": "markdown",
   "id": "d45d563b-837a-4504-bcfe-3e24119e9feb",
   "metadata": {},
   "source": [
    "### 넘파이 배열을 사용해 위치별 합계를 계산\n",
    "- 위치와 신규 사례 데이터의 넘파이 배열 생성 : 위치별 전체 신규 사례 값 선택 > 합산"
   ]
  },
  {
   "cell_type": "code",
   "execution_count": 12,
   "id": "002b31af-0b76-45a3-a6c5-67090aad6bba",
   "metadata": {},
   "outputs": [],
   "source": [
    "rowlist = []\n",
    "casevalues = coviddaily[['location', 'new_cases']].to_numpy()"
   ]
  },
  {
   "cell_type": "code",
   "execution_count": 13,
   "id": "2707a9ba-46fe-4d9e-983c-aed2b620ad1f",
   "metadata": {},
   "outputs": [
    {
     "data": {
      "text/plain": [
       "array([['Afghanistan', 0.0],\n",
       "       ['Afghanistan', 0.0],\n",
       "       ['Afghanistan', 0.0],\n",
       "       ...,\n",
       "       ['Zimbabwe', 41.0],\n",
       "       ['Zimbabwe', 16.0],\n",
       "       ['Zimbabwe', 40.0]], dtype=object)"
      ]
     },
     "execution_count": 13,
     "metadata": {},
     "output_type": "execute_result"
    }
   ],
   "source": [
    "casevalues"
   ]
  },
  {
   "cell_type": "code",
   "execution_count": 14,
   "id": "1907e1ea-de52-4287-9370-a2778568af9f",
   "metadata": {},
   "outputs": [],
   "source": [
    "# 📍 반복문 사용하여 각 위치별 신규 사례 합산, 리스트에 저장 \n",
    "for locitem in loclist:\n",
    "    cases = [casevalues[j][1] for j in range(len(casevalues)) \\\n",
    "            if casevalues[j][0] == locitem]\n",
    "    rowlist.append(sum(cases))"
   ]
  },
  {
   "cell_type": "code",
   "execution_count": 15,
   "id": "0725701b-cb73-43f7-944d-0dad9a6c1e1d",
   "metadata": {},
   "outputs": [
    {
     "data": {
      "text/plain": [
       "209"
      ]
     },
     "execution_count": 15,
     "metadata": {},
     "output_type": "execute_result"
    }
   ],
   "source": [
    "len(rowlist)"
   ]
  },
  {
   "cell_type": "code",
   "execution_count": 16,
   "id": "07d3fad0-be0a-4f27-8f2a-757471ec287c",
   "metadata": {},
   "outputs": [
    {
     "data": {
      "text/plain": [
       "209"
      ]
     },
     "execution_count": 16,
     "metadata": {},
     "output_type": "execute_result"
    }
   ],
   "source": [
    "len(loclist)"
   ]
  },
  {
   "cell_type": "code",
   "execution_count": 17,
   "id": "269a2384-fe87-44f6-9654-b429c32081c8",
   "metadata": {},
   "outputs": [
    {
     "data": {
      "text/plain": [
       "[34451.0, 3371.0, 18712.0, 855.0, 483.0]"
      ]
     },
     "execution_count": 17,
     "metadata": {},
     "output_type": "execute_result"
    }
   ],
   "source": [
    "rowlist[0:5]"
   ]
  },
  {
   "cell_type": "code",
   "execution_count": 18,
   "id": "7f7321f8-cf83-4f89-a8d9-d9ed5dae1c8a",
   "metadata": {},
   "outputs": [],
   "source": [
    "casetotals = pd.DataFrame(zip(loclist, rowlist), columns=['location', 'casetotals'])"
   ]
  },
  {
   "cell_type": "code",
   "execution_count": 19,
   "id": "76df0960-6009-49ca-9aa9-ea30ff7cc644",
   "metadata": {},
   "outputs": [
    {
     "data": {
      "text/html": [
       "<div>\n",
       "<style scoped>\n",
       "    .dataframe tbody tr th:only-of-type {\n",
       "        vertical-align: middle;\n",
       "    }\n",
       "\n",
       "    .dataframe tbody tr th {\n",
       "        vertical-align: top;\n",
       "    }\n",
       "\n",
       "    .dataframe thead th {\n",
       "        text-align: right;\n",
       "    }\n",
       "</style>\n",
       "<table border=\"1\" class=\"dataframe\">\n",
       "  <thead>\n",
       "    <tr style=\"text-align: right;\">\n",
       "      <th></th>\n",
       "      <th>location</th>\n",
       "      <th>casetotals</th>\n",
       "    </tr>\n",
       "  </thead>\n",
       "  <tbody>\n",
       "    <tr>\n",
       "      <th>0</th>\n",
       "      <td>Afghanistan</td>\n",
       "      <td>34451.0</td>\n",
       "    </tr>\n",
       "    <tr>\n",
       "      <th>1</th>\n",
       "      <td>Albania</td>\n",
       "      <td>3371.0</td>\n",
       "    </tr>\n",
       "    <tr>\n",
       "      <th>2</th>\n",
       "      <td>Algeria</td>\n",
       "      <td>18712.0</td>\n",
       "    </tr>\n",
       "    <tr>\n",
       "      <th>3</th>\n",
       "      <td>Andorra</td>\n",
       "      <td>855.0</td>\n",
       "    </tr>\n",
       "    <tr>\n",
       "      <th>4</th>\n",
       "      <td>Angola</td>\n",
       "      <td>483.0</td>\n",
       "    </tr>\n",
       "  </tbody>\n",
       "</table>\n",
       "</div>"
      ],
      "text/plain": [
       "      location  casetotals\n",
       "0  Afghanistan     34451.0\n",
       "1      Albania      3371.0\n",
       "2      Algeria     18712.0\n",
       "3      Andorra       855.0\n",
       "4       Angola       483.0"
      ]
     },
     "execution_count": 19,
     "metadata": {},
     "output_type": "execute_result"
    }
   ],
   "source": [
    "casetotals.head()"
   ]
  },
  {
   "cell_type": "markdown",
   "id": "22b30974-d480-41a3-ac98-a0b7b12e8124",
   "metadata": {},
   "source": [
    "### 지표온도 데이터 정렬, 온도에 누락값이 있는 행 드롭"
   ]
  },
  {
   "cell_type": "code",
   "execution_count": 21,
   "id": "298808db-d031-438c-b781-3352ac3f9605",
   "metadata": {},
   "outputs": [
    {
     "data": {
      "text/html": [
       "<div>\n",
       "<style scoped>\n",
       "    .dataframe tbody tr th:only-of-type {\n",
       "        vertical-align: middle;\n",
       "    }\n",
       "\n",
       "    .dataframe tbody tr th {\n",
       "        vertical-align: top;\n",
       "    }\n",
       "\n",
       "    .dataframe thead th {\n",
       "        text-align: right;\n",
       "    }\n",
       "</style>\n",
       "<table border=\"1\" class=\"dataframe\">\n",
       "  <thead>\n",
       "    <tr style=\"text-align: right;\">\n",
       "      <th></th>\n",
       "      <th>locationid</th>\n",
       "      <th>year</th>\n",
       "      <th>month</th>\n",
       "      <th>temperature</th>\n",
       "      <th>latitude</th>\n",
       "      <th>longitude</th>\n",
       "      <th>elevation</th>\n",
       "      <th>station</th>\n",
       "      <th>countryid</th>\n",
       "      <th>country</th>\n",
       "      <th>latabs</th>\n",
       "    </tr>\n",
       "  </thead>\n",
       "  <tbody>\n",
       "    <tr>\n",
       "      <th>4</th>\n",
       "      <td>BR000352000</td>\n",
       "      <td>2019</td>\n",
       "      <td>1</td>\n",
       "      <td>NaN</td>\n",
       "      <td>-3.2</td>\n",
       "      <td>-52.2</td>\n",
       "      <td>112.0</td>\n",
       "      <td>ALTAMIRA</td>\n",
       "      <td>BR</td>\n",
       "      <td>Brazil</td>\n",
       "      <td>3.2</td>\n",
       "    </tr>\n",
       "    <tr>\n",
       "      <th>96</th>\n",
       "      <td>BR000352000</td>\n",
       "      <td>2019</td>\n",
       "      <td>2</td>\n",
       "      <td>NaN</td>\n",
       "      <td>-3.2</td>\n",
       "      <td>-52.2</td>\n",
       "      <td>112.0</td>\n",
       "      <td>ALTAMIRA</td>\n",
       "      <td>BR</td>\n",
       "      <td>Brazil</td>\n",
       "      <td>3.2</td>\n",
       "    </tr>\n",
       "    <tr>\n",
       "      <th>188</th>\n",
       "      <td>BR000352000</td>\n",
       "      <td>2019</td>\n",
       "      <td>3</td>\n",
       "      <td>NaN</td>\n",
       "      <td>-3.2</td>\n",
       "      <td>-52.2</td>\n",
       "      <td>112.0</td>\n",
       "      <td>ALTAMIRA</td>\n",
       "      <td>BR</td>\n",
       "      <td>Brazil</td>\n",
       "      <td>3.2</td>\n",
       "    </tr>\n",
       "    <tr>\n",
       "      <th>280</th>\n",
       "      <td>BR000352000</td>\n",
       "      <td>2019</td>\n",
       "      <td>4</td>\n",
       "      <td>NaN</td>\n",
       "      <td>-3.2</td>\n",
       "      <td>-52.2</td>\n",
       "      <td>112.0</td>\n",
       "      <td>ALTAMIRA</td>\n",
       "      <td>BR</td>\n",
       "      <td>Brazil</td>\n",
       "      <td>3.2</td>\n",
       "    </tr>\n",
       "    <tr>\n",
       "      <th>372</th>\n",
       "      <td>BR000352000</td>\n",
       "      <td>2019</td>\n",
       "      <td>5</td>\n",
       "      <td>NaN</td>\n",
       "      <td>-3.2</td>\n",
       "      <td>-52.2</td>\n",
       "      <td>112.0</td>\n",
       "      <td>ALTAMIRA</td>\n",
       "      <td>BR</td>\n",
       "      <td>Brazil</td>\n",
       "      <td>3.2</td>\n",
       "    </tr>\n",
       "  </tbody>\n",
       "</table>\n",
       "</div>"
      ],
      "text/plain": [
       "      locationid  year  month  temperature  latitude  longitude  elevation  \\\n",
       "4    BR000352000  2019      1          NaN      -3.2      -52.2      112.0   \n",
       "96   BR000352000  2019      2          NaN      -3.2      -52.2      112.0   \n",
       "188  BR000352000  2019      3          NaN      -3.2      -52.2      112.0   \n",
       "280  BR000352000  2019      4          NaN      -3.2      -52.2      112.0   \n",
       "372  BR000352000  2019      5          NaN      -3.2      -52.2      112.0   \n",
       "\n",
       "      station countryid country  latabs  \n",
       "4    ALTAMIRA        BR  Brazil     3.2  \n",
       "96   ALTAMIRA        BR  Brazil     3.2  \n",
       "188  ALTAMIRA        BR  Brazil     3.2  \n",
       "280  ALTAMIRA        BR  Brazil     3.2  \n",
       "372  ALTAMIRA        BR  Brazil     3.2  "
      ]
     },
     "execution_count": 21,
     "metadata": {},
     "output_type": "execute_result"
    }
   ],
   "source": [
    "ltbrazil = ltbrazil.sort_values(['station', 'month'])\n",
    "ltbrazil.head()"
   ]
  },
  {
   "cell_type": "code",
   "execution_count": 23,
   "id": "68616a19-828b-4004-9955-b7197488da6c",
   "metadata": {},
   "outputs": [],
   "source": [
    "ltbrazil = ltbrazil.dropna(subset=['temperature'])"
   ]
  },
  {
   "cell_type": "markdown",
   "id": "3ee0ff71-ea4d-4b95-9791-e5fe4f3d7680",
   "metadata": {},
   "source": [
    "### 넘파이 배열을 사용해 연간 평균 온도 계산\n",
    "- 한 기간과 다음 기간 사이에 큰 변화가 있는 행은 제외"
   ]
  },
  {
   "cell_type": "code",
   "execution_count": 25,
   "id": "1110c392-7edc-4495-acbd-143d5923fc8b",
   "metadata": {},
   "outputs": [
    {
     "data": {
      "text/plain": [
       "array([['ALTAMIRA', 28.55],\n",
       "       ['ALTAMIRA', 28.85],\n",
       "       ['ALTAMIRA', 28.65],\n",
       "       ...,\n",
       "       ['VOTUPORANGA', 27.0],\n",
       "       ['VOTUPORANGA', 25.15],\n",
       "       ['VOTUPORANGA', 24.85]], dtype=object)"
      ]
     },
     "execution_count": 25,
     "metadata": {},
     "output_type": "execute_result"
    }
   ],
   "source": [
    "prevstation = 'ZZZ'\n",
    "prevtemp = 0\n",
    "rowlist = []\n",
    "\n",
    "tempvalues = ltbrazil[['station', 'temperature']].to_numpy()\n",
    "tempvalues"
   ]
  },
  {
   "cell_type": "markdown",
   "id": "133e325c-8ecd-4119-8a47-2bc028b42c5e",
   "metadata": {},
   "source": [
    "## 🎯 복습 필요\n",
    "- 반복문 이해 & 결과값 다른거 확인(본문 246페이지)"
   ]
  },
  {
   "cell_type": "code",
   "execution_count": 30,
   "id": "4391e132-1b67-4020-8d18-074fb600ce0b",
   "metadata": {},
   "outputs": [],
   "source": [
    "for j in range(len(tempvalues)):\n",
    "    station = tempvalues[j][0]\n",
    "    temperature = tempvalues[j][1]\n",
    "    \n",
    "    if (prevstation!=station):    #이전 역과 현재 역이 다를 경우\n",
    "        if (prevstation!='ZZZ'):  #이전 역이 'ZZZ'가 아닌 경우\n",
    "            rowlist.append({'station':prevstation, 'avgtemp':tempcnt/stationcnt,\n",
    "                           'stationcnt':stationcnt})   # 이전 역의 정보를 딕셔너리 형태로 추가\n",
    "        \n",
    "        #새로운 역 정보 초기화\n",
    "        tempcnt = 0\n",
    "        stationcnt = 0\n",
    "        prevstation = station # 현재역으로 업데이트\n",
    "        \n",
    "        if ((0 <= abs(temperature-prevtemp) <= 3) or (stationcnt == 0)):\n",
    "            tempcnt += temperature\n",
    "            stationcnt += 1\n",
    "        \n",
    "    prevtemp = temperature"
   ]
  },
  {
   "cell_type": "code",
   "execution_count": 31,
   "id": "d13b4c64-ff73-4d1e-8546-971cd652c767",
   "metadata": {},
   "outputs": [],
   "source": [
    "rowlist.append({'station':prevstation, 'avgtemp':tempcnt/stationcnt, 'stationcnt':stationcnt})"
   ]
  },
  {
   "cell_type": "code",
   "execution_count": 32,
   "id": "89a885fb-15ee-4835-8c41-21829cb0ff15",
   "metadata": {},
   "outputs": [
    {
     "data": {
      "text/plain": [
       "[{'station': 'ALTAMIRA', 'avgtemp': 28.55, 'stationcnt': 1},\n",
       " {'station': 'ALTA_FLORESTA_AERO', 'avgtemp': 26.95, 'stationcnt': 1},\n",
       " {'station': 'ARAXA', 'avgtemp': 24.1, 'stationcnt': 1},\n",
       " {'station': 'BACABAL', 'avgtemp': 29.7, 'stationcnt': 1},\n",
       " {'station': 'BAGE', 'avgtemp': 25.1, 'stationcnt': 1}]"
      ]
     },
     "execution_count": 32,
     "metadata": {},
     "output_type": "execute_result"
    }
   ],
   "source": [
    "rowlist[0:5]"
   ]
  },
  {
   "cell_type": "code",
   "execution_count": 33,
   "id": "58bd4dee-2d65-4c88-8174-dbcfabed9a83",
   "metadata": {},
   "outputs": [
    {
     "data": {
      "text/html": [
       "<div>\n",
       "<style scoped>\n",
       "    .dataframe tbody tr th:only-of-type {\n",
       "        vertical-align: middle;\n",
       "    }\n",
       "\n",
       "    .dataframe tbody tr th {\n",
       "        vertical-align: top;\n",
       "    }\n",
       "\n",
       "    .dataframe thead th {\n",
       "        text-align: right;\n",
       "    }\n",
       "</style>\n",
       "<table border=\"1\" class=\"dataframe\">\n",
       "  <thead>\n",
       "    <tr style=\"text-align: right;\">\n",
       "      <th></th>\n",
       "      <th>station</th>\n",
       "      <th>avgtemp</th>\n",
       "      <th>stationcnt</th>\n",
       "    </tr>\n",
       "  </thead>\n",
       "  <tbody>\n",
       "    <tr>\n",
       "      <th>0</th>\n",
       "      <td>ALTAMIRA</td>\n",
       "      <td>28.55</td>\n",
       "      <td>1</td>\n",
       "    </tr>\n",
       "    <tr>\n",
       "      <th>1</th>\n",
       "      <td>ALTA_FLORESTA_AERO</td>\n",
       "      <td>26.95</td>\n",
       "      <td>1</td>\n",
       "    </tr>\n",
       "    <tr>\n",
       "      <th>2</th>\n",
       "      <td>ARAXA</td>\n",
       "      <td>24.10</td>\n",
       "      <td>1</td>\n",
       "    </tr>\n",
       "    <tr>\n",
       "      <th>3</th>\n",
       "      <td>BACABAL</td>\n",
       "      <td>29.70</td>\n",
       "      <td>1</td>\n",
       "    </tr>\n",
       "    <tr>\n",
       "      <th>4</th>\n",
       "      <td>BAGE</td>\n",
       "      <td>25.10</td>\n",
       "      <td>1</td>\n",
       "    </tr>\n",
       "  </tbody>\n",
       "</table>\n",
       "</div>"
      ],
      "text/plain": [
       "              station  avgtemp  stationcnt\n",
       "0            ALTAMIRA    28.55           1\n",
       "1  ALTA_FLORESTA_AERO    26.95           1\n",
       "2               ARAXA    24.10           1\n",
       "3             BACABAL    29.70           1\n",
       "4                BAGE    25.10           1"
      ]
     },
     "execution_count": 33,
     "metadata": {},
     "output_type": "execute_result"
    }
   ],
   "source": [
    "ltbrazilavgs = pd.DataFrame(rowlist)\n",
    "ltbrazilavgs.head()"
   ]
  }
 ],
 "metadata": {
  "kernelspec": {
   "display_name": "Python 3 (ipykernel)",
   "language": "python",
   "name": "python3"
  },
  "language_info": {
   "codemirror_mode": {
    "name": "ipython",
    "version": 3
   },
   "file_extension": ".py",
   "mimetype": "text/x-python",
   "name": "python",
   "nbconvert_exporter": "python",
   "pygments_lexer": "ipython3",
   "version": "3.9.13"
  }
 },
 "nbformat": 4,
 "nbformat_minor": 5
}
