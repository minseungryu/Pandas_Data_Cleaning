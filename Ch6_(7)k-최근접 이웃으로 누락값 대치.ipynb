{
 "cells": [
  {
   "cell_type": "markdown",
   "id": "d2f25f15-265e-48dc-aa38-e118f5ae5a1a",
   "metadata": {},
   "source": [
    "# k-최근접 이웃으로 누락값 대치\n",
    "- KNN은 직관적이고 실행하기 쉬우며, 변수와 관측값이 많지 않을 때 좋은 결과를 내어 인기있는 머신러닝 기법이다.\n",
    "- 같은 이유로 누락값 대치에도 많이 쓰임!\n",
    "- 각 관측과 특성이 가장 비슷한 k개의 관측값을 식별하여 대치\n",
    "---\n",
    "- 참고로, knn으로 이상값 식별도 가능하다(4장 참고)"
   ]
  },
  {
   "cell_type": "markdown",
   "id": "5d1c4593-6dd1-4f4c-942c-888fa0cfe8cc",
   "metadata": {},
   "source": [
    "### 사이킷런 KNNImputer 모듈 사용\n",
    "- 데이터는 NLS 학교 레코드 열 누락값 채우기"
   ]
  },
  {
   "cell_type": "code",
   "execution_count": 1,
   "id": "78ddca8c-783b-43c8-a344-e1d2f15409d3",
   "metadata": {},
   "outputs": [],
   "source": [
    "import pandas as pd\n",
    "from sklearn.impute import KNNImputer\n",
    "nls97 = pd.read_csv('data/nls97c.csv')\n",
    "nls97.set_index('personid', inplace=True)"
   ]
  },
  {
   "cell_type": "code",
   "execution_count": 2,
   "id": "66c85ee4-b6c5-43a8-ac56-2c419f0735a0",
   "metadata": {},
   "outputs": [],
   "source": [
    "# 학교 레코드 데이터 선택\n",
    "schoolrecordlist = ['satverbal', 'satmath', 'gpaoverall', 'gpaenglish', 'gpamath',\n",
    "                   'gpascience', 'highestgradecompleted']\n",
    "\n",
    "schoolrecord = nls97[schoolrecordlist]"
   ]
  },
  {
   "cell_type": "markdown",
   "id": "6a4393fc-f790-4650-b60c-80413cb2f326",
   "metadata": {},
   "source": [
    "### KNNImputer 모듈 초기화, 누락값 대치"
   ]
  },
  {
   "cell_type": "code",
   "execution_count": 3,
   "id": "e19d7939-f73f-4d74-99e5-095974107521",
   "metadata": {},
   "outputs": [],
   "source": [
    "impKNN = KNNImputer(n_neighbors=5)"
   ]
  },
  {
   "cell_type": "code",
   "execution_count": 4,
   "id": "7f73f445-7ba7-4a75-8520-d88bc231a03b",
   "metadata": {},
   "outputs": [],
   "source": [
    "newvalues = impKNN.fit_transform(schoolrecord)"
   ]
  },
  {
   "cell_type": "code",
   "execution_count": 6,
   "id": "80278d7f-bb4e-4155-a76b-7fc2140ee3d2",
   "metadata": {},
   "outputs": [],
   "source": [
    "schoolrecordimp = pd.DataFrame(newvalues, columns=schoolrecordlist, index=schoolrecord.index)"
   ]
  },
  {
   "cell_type": "code",
   "execution_count": 10,
   "id": "0e8090dc-bef6-4f52-be54-5a592a9b1f97",
   "metadata": {},
   "outputs": [
    {
     "data": {
      "text/html": [
       "<div>\n",
       "<style scoped>\n",
       "    .dataframe tbody tr th:only-of-type {\n",
       "        vertical-align: middle;\n",
       "    }\n",
       "\n",
       "    .dataframe tbody tr th {\n",
       "        vertical-align: top;\n",
       "    }\n",
       "\n",
       "    .dataframe thead th {\n",
       "        text-align: right;\n",
       "    }\n",
       "</style>\n",
       "<table border=\"1\" class=\"dataframe\">\n",
       "  <thead>\n",
       "    <tr style=\"text-align: right;\">\n",
       "      <th>personid</th>\n",
       "      <th>100061</th>\n",
       "      <th>100139</th>\n",
       "      <th>100284</th>\n",
       "      <th>100292</th>\n",
       "      <th>100583</th>\n",
       "    </tr>\n",
       "  </thead>\n",
       "  <tbody>\n",
       "    <tr>\n",
       "      <th>satverbal</th>\n",
       "      <td>NaN</td>\n",
       "      <td>NaN</td>\n",
       "      <td>NaN</td>\n",
       "      <td>NaN</td>\n",
       "      <td>NaN</td>\n",
       "    </tr>\n",
       "    <tr>\n",
       "      <th>satmath</th>\n",
       "      <td>NaN</td>\n",
       "      <td>NaN</td>\n",
       "      <td>NaN</td>\n",
       "      <td>NaN</td>\n",
       "      <td>NaN</td>\n",
       "    </tr>\n",
       "    <tr>\n",
       "      <th>gpaoverall</th>\n",
       "      <td>3.06</td>\n",
       "      <td>NaN</td>\n",
       "      <td>NaN</td>\n",
       "      <td>3.45</td>\n",
       "      <td>2.91</td>\n",
       "    </tr>\n",
       "    <tr>\n",
       "      <th>gpaenglish</th>\n",
       "      <td>350.00</td>\n",
       "      <td>NaN</td>\n",
       "      <td>NaN</td>\n",
       "      <td>345.00</td>\n",
       "      <td>283.00</td>\n",
       "    </tr>\n",
       "    <tr>\n",
       "      <th>gpamath</th>\n",
       "      <td>280.00</td>\n",
       "      <td>NaN</td>\n",
       "      <td>NaN</td>\n",
       "      <td>370.00</td>\n",
       "      <td>285.00</td>\n",
       "    </tr>\n",
       "    <tr>\n",
       "      <th>gpascience</th>\n",
       "      <td>315.00</td>\n",
       "      <td>NaN</td>\n",
       "      <td>NaN</td>\n",
       "      <td>300.00</td>\n",
       "      <td>240.00</td>\n",
       "    </tr>\n",
       "    <tr>\n",
       "      <th>highestgradecompleted</th>\n",
       "      <td>13.00</td>\n",
       "      <td>12.0</td>\n",
       "      <td>7.0</td>\n",
       "      <td>NaN</td>\n",
       "      <td>13.00</td>\n",
       "    </tr>\n",
       "  </tbody>\n",
       "</table>\n",
       "</div>"
      ],
      "text/plain": [
       "personid               100061  100139  100284  100292  100583\n",
       "satverbal                 NaN     NaN     NaN     NaN     NaN\n",
       "satmath                   NaN     NaN     NaN     NaN     NaN\n",
       "gpaoverall               3.06     NaN     NaN    3.45    2.91\n",
       "gpaenglish             350.00     NaN     NaN  345.00  283.00\n",
       "gpamath                280.00     NaN     NaN  370.00  285.00\n",
       "gpascience             315.00     NaN     NaN  300.00  240.00\n",
       "highestgradecompleted   13.00    12.0     7.0     NaN   13.00"
      ]
     },
     "execution_count": 10,
     "metadata": {},
     "output_type": "execute_result"
    }
   ],
   "source": [
    "schoolrecord.head().T"
   ]
  },
  {
   "cell_type": "code",
   "execution_count": 9,
   "id": "02f87029-e9d5-483b-ac17-17ae06b03c5b",
   "metadata": {},
   "outputs": [
    {
     "data": {
      "text/html": [
       "<div>\n",
       "<style scoped>\n",
       "    .dataframe tbody tr th:only-of-type {\n",
       "        vertical-align: middle;\n",
       "    }\n",
       "\n",
       "    .dataframe tbody tr th {\n",
       "        vertical-align: top;\n",
       "    }\n",
       "\n",
       "    .dataframe thead th {\n",
       "        text-align: right;\n",
       "    }\n",
       "</style>\n",
       "<table border=\"1\" class=\"dataframe\">\n",
       "  <thead>\n",
       "    <tr style=\"text-align: right;\">\n",
       "      <th>personid</th>\n",
       "      <th>100061</th>\n",
       "      <th>100139</th>\n",
       "      <th>100284</th>\n",
       "      <th>100292</th>\n",
       "      <th>100583</th>\n",
       "    </tr>\n",
       "  </thead>\n",
       "  <tbody>\n",
       "    <tr>\n",
       "      <th>satverbal</th>\n",
       "      <td>446.00</td>\n",
       "      <td>412.000</td>\n",
       "      <td>290.800</td>\n",
       "      <td>534.00</td>\n",
       "      <td>414.00</td>\n",
       "    </tr>\n",
       "    <tr>\n",
       "      <th>satmath</th>\n",
       "      <td>460.00</td>\n",
       "      <td>470.000</td>\n",
       "      <td>285.200</td>\n",
       "      <td>560.00</td>\n",
       "      <td>454.00</td>\n",
       "    </tr>\n",
       "    <tr>\n",
       "      <th>gpaoverall</th>\n",
       "      <td>3.06</td>\n",
       "      <td>2.346</td>\n",
       "      <td>2.548</td>\n",
       "      <td>3.45</td>\n",
       "      <td>2.91</td>\n",
       "    </tr>\n",
       "    <tr>\n",
       "      <th>gpaenglish</th>\n",
       "      <td>350.00</td>\n",
       "      <td>232.400</td>\n",
       "      <td>136.000</td>\n",
       "      <td>345.00</td>\n",
       "      <td>283.00</td>\n",
       "    </tr>\n",
       "    <tr>\n",
       "      <th>gpamath</th>\n",
       "      <td>280.00</td>\n",
       "      <td>218.000</td>\n",
       "      <td>244.600</td>\n",
       "      <td>370.00</td>\n",
       "      <td>285.00</td>\n",
       "    </tr>\n",
       "    <tr>\n",
       "      <th>gpascience</th>\n",
       "      <td>315.00</td>\n",
       "      <td>247.800</td>\n",
       "      <td>258.000</td>\n",
       "      <td>300.00</td>\n",
       "      <td>240.00</td>\n",
       "    </tr>\n",
       "    <tr>\n",
       "      <th>highestgradecompleted</th>\n",
       "      <td>13.00</td>\n",
       "      <td>12.000</td>\n",
       "      <td>7.000</td>\n",
       "      <td>9.80</td>\n",
       "      <td>13.00</td>\n",
       "    </tr>\n",
       "  </tbody>\n",
       "</table>\n",
       "</div>"
      ],
      "text/plain": [
       "personid               100061   100139   100284  100292  100583\n",
       "satverbal              446.00  412.000  290.800  534.00  414.00\n",
       "satmath                460.00  470.000  285.200  560.00  454.00\n",
       "gpaoverall               3.06    2.346    2.548    3.45    2.91\n",
       "gpaenglish             350.00  232.400  136.000  345.00  283.00\n",
       "gpamath                280.00  218.000  244.600  370.00  285.00\n",
       "gpascience             315.00  247.800  258.000  300.00  240.00\n",
       "highestgradecompleted   13.00   12.000    7.000    9.80   13.00"
      ]
     },
     "execution_count": 9,
     "metadata": {},
     "output_type": "execute_result"
    }
   ],
   "source": [
    "schoolrecordimp.head().T"
   ]
  },
  {
   "cell_type": "markdown",
   "id": "a9eb1ba5-f900-4251-8ca1-369205856ea1",
   "metadata": {},
   "source": [
    "### 요약통계 비교"
   ]
  },
  {
   "cell_type": "code",
   "execution_count": 12,
   "id": "19cd33e9-60b0-419b-a353-62c20aafb1eb",
   "metadata": {},
   "outputs": [
    {
     "data": {
      "text/html": [
       "<div>\n",
       "<style scoped>\n",
       "    .dataframe tbody tr th:only-of-type {\n",
       "        vertical-align: middle;\n",
       "    }\n",
       "\n",
       "    .dataframe tbody tr th {\n",
       "        vertical-align: top;\n",
       "    }\n",
       "\n",
       "    .dataframe thead th {\n",
       "        text-align: right;\n",
       "    }\n",
       "</style>\n",
       "<table border=\"1\" class=\"dataframe\">\n",
       "  <thead>\n",
       "    <tr style=\"text-align: right;\">\n",
       "      <th></th>\n",
       "      <th>gpaoverall</th>\n",
       "      <th>highestgradecompleted</th>\n",
       "    </tr>\n",
       "  </thead>\n",
       "  <tbody>\n",
       "    <tr>\n",
       "      <th>mean</th>\n",
       "      <td>2.818408</td>\n",
       "      <td>14.059883</td>\n",
       "    </tr>\n",
       "    <tr>\n",
       "      <th>count</th>\n",
       "      <td>6004.000000</td>\n",
       "      <td>6663.000000</td>\n",
       "    </tr>\n",
       "  </tbody>\n",
       "</table>\n",
       "</div>"
      ],
      "text/plain": [
       "        gpaoverall  highestgradecompleted\n",
       "mean      2.818408              14.059883\n",
       "count  6004.000000            6663.000000"
      ]
     },
     "execution_count": 12,
     "metadata": {},
     "output_type": "execute_result"
    }
   ],
   "source": [
    "schoolrecord[['gpaoverall', 'highestgradecompleted']].agg(['mean', 'count'])"
   ]
  },
  {
   "cell_type": "code",
   "execution_count": 13,
   "id": "a120926c-4b92-4e7d-8ad2-3e8ef9aa201d",
   "metadata": {},
   "outputs": [
    {
     "data": {
      "text/html": [
       "<div>\n",
       "<style scoped>\n",
       "    .dataframe tbody tr th:only-of-type {\n",
       "        vertical-align: middle;\n",
       "    }\n",
       "\n",
       "    .dataframe tbody tr th {\n",
       "        vertical-align: top;\n",
       "    }\n",
       "\n",
       "    .dataframe thead th {\n",
       "        text-align: right;\n",
       "    }\n",
       "</style>\n",
       "<table border=\"1\" class=\"dataframe\">\n",
       "  <thead>\n",
       "    <tr style=\"text-align: right;\">\n",
       "      <th></th>\n",
       "      <th>gpaoverall</th>\n",
       "      <th>highestgradecompleted</th>\n",
       "    </tr>\n",
       "  </thead>\n",
       "  <tbody>\n",
       "    <tr>\n",
       "      <th>mean</th>\n",
       "      <td>2.775159</td>\n",
       "      <td>13.505609</td>\n",
       "    </tr>\n",
       "    <tr>\n",
       "      <th>count</th>\n",
       "      <td>8984.000000</td>\n",
       "      <td>8984.000000</td>\n",
       "    </tr>\n",
       "  </tbody>\n",
       "</table>\n",
       "</div>"
      ],
      "text/plain": [
       "        gpaoverall  highestgradecompleted\n",
       "mean      2.775159              13.505609\n",
       "count  8984.000000            8984.000000"
      ]
     },
     "execution_count": 13,
     "metadata": {},
     "output_type": "execute_result"
    }
   ],
   "source": [
    "schoolrecordimp[['gpaoverall', 'highestgradecompleted']].agg(['mean', 'count'])"
   ]
  }
 ],
 "metadata": {
  "kernelspec": {
   "display_name": "Python 3 (ipykernel)",
   "language": "python",
   "name": "python3"
  },
  "language_info": {
   "codemirror_mode": {
    "name": "ipython",
    "version": 3
   },
   "file_extension": ".py",
   "mimetype": "text/x-python",
   "name": "python",
   "nbconvert_exporter": "python",
   "pygments_lexer": "ipython3",
   "version": "3.9.13"
  }
 },
 "nbformat": 4,
 "nbformat_minor": 5
}
