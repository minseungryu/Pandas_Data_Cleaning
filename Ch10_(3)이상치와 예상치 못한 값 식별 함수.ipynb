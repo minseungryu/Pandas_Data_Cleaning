{
 "cells": [
  {
   "cell_type": "markdown",
   "id": "57e6bee1-ee73-49f6-ab1f-ec8078598c2a",
   "metadata": {},
   "source": [
    "# 이상치와 예상치 못한 값을 식별하는 함수\n",
    "- 재사용의 효용이 가장 큰 것 : 사전 가정이 극단보다는 분포의 중심경향성인 경우가 많기 때문"
   ]
  },
  {
   "cell_type": "markdown",
   "id": "a2d4277c-1e7b-4df6-93b0-a6d96bb50129",
   "metadata": {},
   "source": [
    "### 변수 분포 확인, 극단값 나열, 분포 시각화 함수 작성"
   ]
  },
  {
   "cell_type": "code",
   "execution_count": 1,
   "id": "b867ee3e-ed58-4b19-bde1-b9c4ebdbc2c2",
   "metadata": {},
   "outputs": [],
   "source": [
    "import pandas as pd\n",
    "import os\n",
    "import sys\n",
    "import pprint"
   ]
  },
  {
   "cell_type": "code",
   "execution_count": 3,
   "id": "43d82cdd-a0ac-444d-bb1b-8ba178fac3f3",
   "metadata": {},
   "outputs": [],
   "source": [
    "nls97 = pd.read_csv('data/nls97f.csv')\n",
    "nls97.set_index('personid', inplace=True)\n",
    "covidtotals = pd.read_csv('data/covidtotals720.csv')"
   ]
  },
  {
   "cell_type": "markdown",
   "id": "07d127dc-ab75-4eb8-8f8b-378ff401f9e7",
   "metadata": {},
   "source": [
    "### 1. 분포의 몇 가지 중요한 속성을 표시하는 함수\n",
    "- 시리즈를 받음\n",
    "- 중심경향성, 형상, 퍼짐의 측도 생성 ->> 이 측도를 담은 딕셔너리 반환\n",
    "- 정규성에 대한 샤피로 검정이 값을 반환하지 않는 상황 처리 : 이 경우 normstat, normpvalue 키를 추가하지 않음"
   ]
  },
  {
   "cell_type": "code",
   "execution_count": 4,
   "id": "eaa6c312-f241-4735-84d4-1e3d7cd97ac4",
   "metadata": {},
   "outputs": [],
   "source": [
    "import pandas as pd\n",
    "import matplotlib.pyplot as plt\n",
    "import scipy.stats as scistat\n",
    "import math\n",
    "\n",
    "def getdistprops(seriestotest):\n",
    "    out = {}\n",
    "    normstat, normpvalue = scistat.shapiro(seriestotest)\n",
    "    if (not math.isnan(normstat)):\n",
    "        out['normstat'] = normstat\n",
    "        if (normpvalue >= 0.05):\n",
    "            out['normpvalue'] = str(round(normpvalue, 2)) + \": Accept Normal\"\n",
    "        elif (normpvalue < 0.05):\n",
    "            out['normpvalue'] = str(round(normpvalue, 2)) + \": Reject Normal\"\n",
    "    out['mean'] = seriestotest.mean()\n",
    "    out['median'] = seriestotest.median()\n",
    "    out['std'] = seriestotest.std()\n",
    "    out['kurtosis'] = seriestotest.kurtosis()\n",
    "    out['skew'] = seriestotest.skew()\n",
    "    out['count'] = seriestotest.count()\n",
    "    return out"
   ]
  },
  {
   "cell_type": "markdown",
   "id": "b4473536-2d2f-433f-bd2c-da9be3ed92f2",
   "metadata": {},
   "source": [
    "#### 시리즈의 백만명당 확진자 수를 Getdistprops 함수에 전달"
   ]
  },
  {
   "cell_type": "code",
   "execution_count": 8,
   "id": "79019020-56ee-4575-810a-1ca5ec344448",
   "metadata": {},
   "outputs": [
    {
     "name": "stdout",
     "output_type": "stream",
     "text": [
      "{'count': 209,\n",
      " 'kurtosis': 26.137524276840452,\n",
      " 'mean': 2297.0221435406693,\n",
      " 'median': 868.866,\n",
      " 'normpvalue': '0.0: Reject Normal',\n",
      " 'normstat': 0.5617034435272217,\n",
      " 'skew': 4.284484653881833,\n",
      " 'std': 4039.840202653782}\n"
     ]
    }
   ],
   "source": [
    "sys.path.append(os.getcwd() + \"/helperfunctions\")\n",
    "import outliers as ol\n",
    "\n",
    "dist = ol.getdistprops(covidtotals.total_cases_pm)\n",
    "\n",
    "# pprint 함수는 데이터 구조를 더 읽기 쉽고 보기 좋게 출력\n",
    "pprint.pprint(dist)"
   ]
  },
  {
   "cell_type": "markdown",
   "id": "ad4681a5-0b7e-40b9-947a-a68c772bf0b5",
   "metadata": {
    "tags": []
   },
   "source": [
    "> 정규분포에 비해 상당한 양의 치우침과 두꺼운 꼬리가 있음 <br>\n",
    "샤피로 정규성 검정 결과 : 정규성 만족하지 않음"
   ]
  },
  {
   "cell_type": "markdown",
   "id": "1ee523c6-c4ca-4d6e-8182-36f539482bf4",
   "metadata": {},
   "source": [
    "### 데이터프레임의 이상값을 나열하는 함수 작성\n",
    "- sumvars의 전체 열에 대해 이터레이션\n",
    "- IQR로 임계치 설정\n",
    "- varname : 이상값 및 임계치 수준에 대해 검사한 변수를 가리킴\n",
    "- 반환할 데이터프레임에 othervars 리스트에 열 포함 시킴"
   ]
  },
  {
   "cell_type": "code",
   "execution_count": 9,
   "id": "b0bf43a7-dd59-4f22-8a65-9ee3edce1c39",
   "metadata": {},
   "outputs": [],
   "source": [
    "def getouliers(dfin, sumvars, othervars):\n",
    "    dfin = dfin[sumvars + othervars]\n",
    "    dfout = pd.DataFrame(columns=dfin.columns, data = None)\n",
    "    \n",
    "    dfsums = dfin[sumvars]\n",
    "    for col in dfsums.columns:\n",
    "        thirdq, firstq = dfsums[col].quantile(0.75), dfsums[col].quantile(0.25)\n",
    "        interquartilerange = 1.5 * (thirdq - firstq)\n",
    "        outlierhigh, outlierlow = interquartilerange + thirdq, firstq - interquartilerange\n",
    "        df = dfin.loc[(dfin[col]> outlierhigh) | (dfin[col] < outlierlow)]\n",
    "        df = df.assign(varname = col, threshlow = outlierlow, threshhigh = outlierhigh)\n",
    "        dfout = pd.concat([dfout, df])\n",
    "    return dfout"
   ]
  },
  {
   "cell_type": "code",
   "execution_count": 23,
   "id": "733b8293-5f6e-4059-a3d8-312cade89af7",
   "metadata": {},
   "outputs": [
    {
     "data": {
      "text/plain": [
       "<module 'outliers' from '/Users/angela/Pandas_Data_Cleaning/helperfunctions/outliers.py'>"
      ]
     },
     "execution_count": 23,
     "metadata": {},
     "output_type": "execute_result"
    }
   ],
   "source": [
    "import importlib #(모듈 수정시)\n",
    "importlib.reload(ol)"
   ]
  },
  {
   "cell_type": "code",
   "execution_count": 15,
   "id": "2f367005-133d-4c89-ac05-8ad8c7cd746e",
   "metadata": {},
   "outputs": [],
   "source": [
    "sumvars = ['satmath', 'wageincome']\n",
    "othervars = ['originalid', 'highestdegree', 'gender', 'maritalstatus']"
   ]
  },
  {
   "cell_type": "code",
   "execution_count": 16,
   "id": "92cf05aa-4b56-43c2-8202-1907ce866bab",
   "metadata": {},
   "outputs": [],
   "source": [
    "outliers = ol.getouliers(nls97, sumvars, othervars)"
   ]
  },
  {
   "cell_type": "code",
   "execution_count": 18,
   "id": "40c785ce-951d-4f9c-9086-4f2e024108dd",
   "metadata": {},
   "outputs": [
    {
     "data": {
      "text/plain": [
       "satmath        10\n",
       "wageincome    260\n",
       "Name: varname, dtype: int64"
      ]
     },
     "execution_count": 18,
     "metadata": {},
     "output_type": "execute_result"
    }
   ],
   "source": [
    "outliers.varname.value_counts(sort=False)"
   ]
  },
  {
   "cell_type": "code",
   "execution_count": 19,
   "id": "5c282a6e-daaa-4997-9923-3e4fde7e08fa",
   "metadata": {},
   "outputs": [
    {
     "data": {
      "text/html": [
       "<div>\n",
       "<style scoped>\n",
       "    .dataframe tbody tr th:only-of-type {\n",
       "        vertical-align: middle;\n",
       "    }\n",
       "\n",
       "    .dataframe tbody tr th {\n",
       "        vertical-align: top;\n",
       "    }\n",
       "\n",
       "    .dataframe thead th {\n",
       "        text-align: right;\n",
       "    }\n",
       "</style>\n",
       "<table border=\"1\" class=\"dataframe\">\n",
       "  <thead>\n",
       "    <tr style=\"text-align: right;\">\n",
       "      <th></th>\n",
       "      <th>originalid</th>\n",
       "      <th>highestdegree</th>\n",
       "      <th>gender</th>\n",
       "      <th>maritalstatus</th>\n",
       "      <th>satmath</th>\n",
       "      <th>wageincome</th>\n",
       "    </tr>\n",
       "  </thead>\n",
       "  <tbody>\n",
       "    <tr>\n",
       "      <th>223058</th>\n",
       "      <td>6696</td>\n",
       "      <td>0. None</td>\n",
       "      <td>Female</td>\n",
       "      <td>Never-married</td>\n",
       "      <td>46.0</td>\n",
       "      <td>30000.0</td>\n",
       "    </tr>\n",
       "    <tr>\n",
       "      <th>267254</th>\n",
       "      <td>1622</td>\n",
       "      <td>2. High School</td>\n",
       "      <td>Female</td>\n",
       "      <td>Never-married</td>\n",
       "      <td>48.0</td>\n",
       "      <td>100000.0</td>\n",
       "    </tr>\n",
       "    <tr>\n",
       "      <th>291029</th>\n",
       "      <td>7088</td>\n",
       "      <td>2. High School</td>\n",
       "      <td>Female</td>\n",
       "      <td>NaN</td>\n",
       "      <td>51.0</td>\n",
       "      <td>NaN</td>\n",
       "    </tr>\n",
       "    <tr>\n",
       "      <th>337438</th>\n",
       "      <td>159</td>\n",
       "      <td>2. High School</td>\n",
       "      <td>Female</td>\n",
       "      <td>Married</td>\n",
       "      <td>200.0</td>\n",
       "      <td>NaN</td>\n",
       "    </tr>\n",
       "    <tr>\n",
       "      <th>399109</th>\n",
       "      <td>3883</td>\n",
       "      <td>2. High School</td>\n",
       "      <td>Female</td>\n",
       "      <td>NaN</td>\n",
       "      <td>36.0</td>\n",
       "      <td>NaN</td>\n",
       "    </tr>\n",
       "    <tr>\n",
       "      <th>448463</th>\n",
       "      <td>326</td>\n",
       "      <td>4. Bachelors</td>\n",
       "      <td>Female</td>\n",
       "      <td>NaN</td>\n",
       "      <td>47.0</td>\n",
       "      <td>NaN</td>\n",
       "    </tr>\n",
       "    <tr>\n",
       "      <th>738290</th>\n",
       "      <td>7705</td>\n",
       "      <td>0. None</td>\n",
       "      <td>Female</td>\n",
       "      <td>NaN</td>\n",
       "      <td>7.0</td>\n",
       "      <td>NaN</td>\n",
       "    </tr>\n",
       "    <tr>\n",
       "      <th>748274</th>\n",
       "      <td>3394</td>\n",
       "      <td>4. Bachelors</td>\n",
       "      <td>Male</td>\n",
       "      <td>Married</td>\n",
       "      <td>42.0</td>\n",
       "      <td>NaN</td>\n",
       "    </tr>\n",
       "    <tr>\n",
       "      <th>799095</th>\n",
       "      <td>535</td>\n",
       "      <td>5. Masters</td>\n",
       "      <td>Female</td>\n",
       "      <td>Never-married</td>\n",
       "      <td>59.0</td>\n",
       "      <td>120000.0</td>\n",
       "    </tr>\n",
       "    <tr>\n",
       "      <th>955430</th>\n",
       "      <td>2547</td>\n",
       "      <td>2. High School</td>\n",
       "      <td>Female</td>\n",
       "      <td>Married</td>\n",
       "      <td>200.0</td>\n",
       "      <td>NaN</td>\n",
       "    </tr>\n",
       "  </tbody>\n",
       "</table>\n",
       "</div>"
      ],
      "text/plain": [
       "       originalid   highestdegree  gender  maritalstatus  satmath  wageincome\n",
       "223058       6696         0. None  Female  Never-married     46.0     30000.0\n",
       "267254       1622  2. High School  Female  Never-married     48.0    100000.0\n",
       "291029       7088  2. High School  Female            NaN     51.0         NaN\n",
       "337438        159  2. High School  Female        Married    200.0         NaN\n",
       "399109       3883  2. High School  Female            NaN     36.0         NaN\n",
       "448463        326    4. Bachelors  Female            NaN     47.0         NaN\n",
       "738290       7705         0. None  Female            NaN      7.0         NaN\n",
       "748274       3394    4. Bachelors    Male        Married     42.0         NaN\n",
       "799095        535      5. Masters  Female  Never-married     59.0    120000.0\n",
       "955430       2547  2. High School  Female        Married    200.0         NaN"
      ]
     },
     "execution_count": 19,
     "metadata": {},
     "output_type": "execute_result"
    }
   ],
   "source": [
    "outliers.loc[outliers.varname=='satmath', othervars+sumvars]"
   ]
  },
  {
   "cell_type": "code",
   "execution_count": 20,
   "id": "567b4fd6-f692-4f18-841c-eaf50f5fe17b",
   "metadata": {},
   "outputs": [],
   "source": [
    "outliers.to_excel('views/nlsoutliers.xlsx')"
   ]
  },
  {
   "cell_type": "markdown",
   "id": "258fb250-50eb-4552-8cd1-58316752e26d",
   "metadata": {},
   "source": [
    "### 히스토그램과 박스플롯 생성하는 함수"
   ]
  },
  {
   "cell_type": "code",
   "execution_count": 22,
   "id": "88adce49-e150-469a-86fc-6ba9c40e01f1",
   "metadata": {},
   "outputs": [],
   "source": [
    "def makeplot(seriestoplot, title, xlabel, plottype='hist'):\n",
    "    if (plottype=='hist'):\n",
    "        plt.hist(seriestoplot)\n",
    "        plt.axvline(seriestoplot.mean(), color='red', linestyle='dashed', linewidth=1)\n",
    "        plt.xlabel(xlabel)\n",
    "        plt.ylabel('Frequency')\n",
    "    elif (plottype == 'box'):\n",
    "        plt.boxplot(seriestoplot.dropna(), labels=[xlabel])\n",
    "    plt.title(title)\n",
    "    plt.show()"
   ]
  },
  {
   "cell_type": "code",
   "execution_count": 24,
   "id": "ea637663-aec2-4a16-a7bc-c112e564ef5d",
   "metadata": {},
   "outputs": [
    {
     "data": {
      "image/png": "[encoded data removed]",
      "text/plain": [
       "<Figure size 640x480 with 1 Axes>"
      ]
     },
     "metadata": {},
     "output_type": "display_data"
    }
   ],
   "source": [
    "ol.makeplot(nls97.satmath, \"Histogram of SAT Math\", \"SAT Math\")"
   ]
  },
  {
   "cell_type": "code",
   "execution_count": 25,
   "id": "7f6388b8-4781-4fa1-89e8-9b94052ff384",
   "metadata": {},
   "outputs": [
    {
     "data": {
      "image/png": "[encoded data removed]",
      "text/plain": [
       "<Figure size 640x480 with 1 Axes>"
      ]
     },
     "metadata": {},
     "output_type": "display_data"
    }
   ],
   "source": [
    "ol.makeplot(nls97.satmath, \"Boxplot of SAT Math\", \"SAT Math\", \"box\")"
   ]
  },
  {
   "cell_type": "code",
   "execution_count": null,
   "id": "9573086e-1850-49fb-9b42-684b644e19ba",
   "metadata": {},
   "outputs": [],
   "source": []
  }
 ],
 "metadata": {
  "kernelspec": {
   "display_name": "Python 3 (ipykernel)",
   "language": "python",
   "name": "python3"
  },
  "language_info": {
   "codemirror_mode": {
    "name": "ipython",
    "version": 3
   },
   "file_extension": ".py",
   "mimetype": "text/x-python",
   "name": "python",
   "nbconvert_exporter": "python",
   "pygments_lexer": "ipython3",
   "version": "3.9.13"
  }
 },
 "nbformat": 4,
 "nbformat_minor": 5
}
